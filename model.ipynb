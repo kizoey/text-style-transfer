{
  "nbformat": 4,
  "nbformat_minor": 0,
  "metadata": {
    "accelerator": "GPU",
    "colab": {
      "name": "[자연어처리] Dot/General/Concat.ipynb",
      "provenance": [],
      "collapsed_sections": [],
      "toc_visible": true,
      "machine_shape": "hm"
    },
    "kernelspec": {
      "display_name": "Python 3",
      "name": "python3"
    },
    "language_info": {
      "name": "python"
    },
    "widgets": {
      "application/vnd.jupyter.widget-state+json": {
        "27347456588742cb96120b8b62b8865b": {
          "model_module": "@jupyter-widgets/controls",
          "model_name": "HBoxModel",
          "model_module_version": "1.5.0",
          "state": {
            "_view_name": "HBoxView",
            "_dom_classes": [],
            "_model_name": "HBoxModel",
            "_view_module": "@jupyter-widgets/controls",
            "_model_module_version": "1.5.0",
            "_view_count": null,
            "_view_module_version": "1.5.0",
            "box_style": "",
            "layout": "IPY_MODEL_9ca9df4e9519414fa7ab02909125d269",
            "_model_module": "@jupyter-widgets/controls",
            "children": [
              "IPY_MODEL_70c9951cac5e41549aa7472bbff5af17",
              "IPY_MODEL_362c50c9df1e4484be3f5b57fabbc420",
              "IPY_MODEL_c9df99f8fa8644b6ab7de1713c89af32"
            ]
          }
        },
        "9ca9df4e9519414fa7ab02909125d269": {
          "model_module": "@jupyter-widgets/base",
          "model_name": "LayoutModel",
          "model_module_version": "1.2.0",
          "state": {
            "_view_name": "LayoutView",
            "grid_template_rows": null,
            "right": null,
            "justify_content": null,
            "_view_module": "@jupyter-widgets/base",
            "overflow": null,
            "_model_module_version": "1.2.0",
            "_view_count": null,
            "flex_flow": null,
            "width": null,
            "min_width": null,
            "border": null,
            "align_items": null,
            "bottom": null,
            "_model_module": "@jupyter-widgets/base",
            "top": null,
            "grid_column": null,
            "overflow_y": null,
            "overflow_x": null,
            "grid_auto_flow": null,
            "grid_area": null,
            "grid_template_columns": null,
            "flex": null,
            "_model_name": "LayoutModel",
            "justify_items": null,
            "grid_row": null,
            "max_height": null,
            "align_content": null,
            "visibility": null,
            "align_self": null,
            "height": null,
            "min_height": null,
            "padding": null,
            "grid_auto_rows": null,
            "grid_gap": null,
            "max_width": null,
            "order": null,
            "_view_module_version": "1.2.0",
            "grid_template_areas": null,
            "object_position": null,
            "object_fit": null,
            "grid_auto_columns": null,
            "margin": null,
            "display": null,
            "left": null
          }
        },
        "70c9951cac5e41549aa7472bbff5af17": {
          "model_module": "@jupyter-widgets/controls",
          "model_name": "HTMLModel",
          "model_module_version": "1.5.0",
          "state": {
            "_view_name": "HTMLView",
            "style": "IPY_MODEL_c9cf2898c7be46f29cfd63a2589b5b23",
            "_dom_classes": [],
            "description": "",
            "_model_name": "HTMLModel",
            "placeholder": "​",
            "_view_module": "@jupyter-widgets/controls",
            "_model_module_version": "1.5.0",
            "value": "Downloading: 100%",
            "_view_count": null,
            "_view_module_version": "1.5.0",
            "description_tooltip": null,
            "_model_module": "@jupyter-widgets/controls",
            "layout": "IPY_MODEL_72c3cd56483d4f57aaa18b93c3a11a82"
          }
        },
        "362c50c9df1e4484be3f5b57fabbc420": {
          "model_module": "@jupyter-widgets/controls",
          "model_name": "FloatProgressModel",
          "model_module_version": "1.5.0",
          "state": {
            "_view_name": "ProgressView",
            "style": "IPY_MODEL_2d12310028014faca48d1522b1d11391",
            "_dom_classes": [],
            "description": "",
            "_model_name": "FloatProgressModel",
            "bar_style": "success",
            "max": 44,
            "_view_module": "@jupyter-widgets/controls",
            "_model_module_version": "1.5.0",
            "value": 44,
            "_view_count": null,
            "_view_module_version": "1.5.0",
            "orientation": "horizontal",
            "min": 0,
            "description_tooltip": null,
            "_model_module": "@jupyter-widgets/controls",
            "layout": "IPY_MODEL_845852646ff24d51930674b44dd9fbb7"
          }
        },
        "c9df99f8fa8644b6ab7de1713c89af32": {
          "model_module": "@jupyter-widgets/controls",
          "model_name": "HTMLModel",
          "model_module_version": "1.5.0",
          "state": {
            "_view_name": "HTMLView",
            "style": "IPY_MODEL_8fd42aac0c42409c898504ec6c57ae7e",
            "_dom_classes": [],
            "description": "",
            "_model_name": "HTMLModel",
            "placeholder": "​",
            "_view_module": "@jupyter-widgets/controls",
            "_model_module_version": "1.5.0",
            "value": " 44.0/44.0 [00:00&lt;00:00, 1.19kB/s]",
            "_view_count": null,
            "_view_module_version": "1.5.0",
            "description_tooltip": null,
            "_model_module": "@jupyter-widgets/controls",
            "layout": "IPY_MODEL_30389dbd86494e55942f3ac4e69152b1"
          }
        },
        "c9cf2898c7be46f29cfd63a2589b5b23": {
          "model_module": "@jupyter-widgets/controls",
          "model_name": "DescriptionStyleModel",
          "model_module_version": "1.5.0",
          "state": {
            "_view_name": "StyleView",
            "_model_name": "DescriptionStyleModel",
            "description_width": "",
            "_view_module": "@jupyter-widgets/base",
            "_model_module_version": "1.5.0",
            "_view_count": null,
            "_view_module_version": "1.2.0",
            "_model_module": "@jupyter-widgets/controls"
          }
        },
        "72c3cd56483d4f57aaa18b93c3a11a82": {
          "model_module": "@jupyter-widgets/base",
          "model_name": "LayoutModel",
          "model_module_version": "1.2.0",
          "state": {
            "_view_name": "LayoutView",
            "grid_template_rows": null,
            "right": null,
            "justify_content": null,
            "_view_module": "@jupyter-widgets/base",
            "overflow": null,
            "_model_module_version": "1.2.0",
            "_view_count": null,
            "flex_flow": null,
            "width": null,
            "min_width": null,
            "border": null,
            "align_items": null,
            "bottom": null,
            "_model_module": "@jupyter-widgets/base",
            "top": null,
            "grid_column": null,
            "overflow_y": null,
            "overflow_x": null,
            "grid_auto_flow": null,
            "grid_area": null,
            "grid_template_columns": null,
            "flex": null,
            "_model_name": "LayoutModel",
            "justify_items": null,
            "grid_row": null,
            "max_height": null,
            "align_content": null,
            "visibility": null,
            "align_self": null,
            "height": null,
            "min_height": null,
            "padding": null,
            "grid_auto_rows": null,
            "grid_gap": null,
            "max_width": null,
            "order": null,
            "_view_module_version": "1.2.0",
            "grid_template_areas": null,
            "object_position": null,
            "object_fit": null,
            "grid_auto_columns": null,
            "margin": null,
            "display": null,
            "left": null
          }
        },
        "2d12310028014faca48d1522b1d11391": {
          "model_module": "@jupyter-widgets/controls",
          "model_name": "ProgressStyleModel",
          "model_module_version": "1.5.0",
          "state": {
            "_view_name": "StyleView",
            "_model_name": "ProgressStyleModel",
            "description_width": "",
            "_view_module": "@jupyter-widgets/base",
            "_model_module_version": "1.5.0",
            "_view_count": null,
            "_view_module_version": "1.2.0",
            "bar_color": null,
            "_model_module": "@jupyter-widgets/controls"
          }
        },
        "845852646ff24d51930674b44dd9fbb7": {
          "model_module": "@jupyter-widgets/base",
          "model_name": "LayoutModel",
          "model_module_version": "1.2.0",
          "state": {
            "_view_name": "LayoutView",
            "grid_template_rows": null,
            "right": null,
            "justify_content": null,
            "_view_module": "@jupyter-widgets/base",
            "overflow": null,
            "_model_module_version": "1.2.0",
            "_view_count": null,
            "flex_flow": null,
            "width": null,
            "min_width": null,
            "border": null,
            "align_items": null,
            "bottom": null,
            "_model_module": "@jupyter-widgets/base",
            "top": null,
            "grid_column": null,
            "overflow_y": null,
            "overflow_x": null,
            "grid_auto_flow": null,
            "grid_area": null,
            "grid_template_columns": null,
            "flex": null,
            "_model_name": "LayoutModel",
            "justify_items": null,
            "grid_row": null,
            "max_height": null,
            "align_content": null,
            "visibility": null,
            "align_self": null,
            "height": null,
            "min_height": null,
            "padding": null,
            "grid_auto_rows": null,
            "grid_gap": null,
            "max_width": null,
            "order": null,
            "_view_module_version": "1.2.0",
            "grid_template_areas": null,
            "object_position": null,
            "object_fit": null,
            "grid_auto_columns": null,
            "margin": null,
            "display": null,
            "left": null
          }
        },
        "8fd42aac0c42409c898504ec6c57ae7e": {
          "model_module": "@jupyter-widgets/controls",
          "model_name": "DescriptionStyleModel",
          "model_module_version": "1.5.0",
          "state": {
            "_view_name": "StyleView",
            "_model_name": "DescriptionStyleModel",
            "description_width": "",
            "_view_module": "@jupyter-widgets/base",
            "_model_module_version": "1.5.0",
            "_view_count": null,
            "_view_module_version": "1.2.0",
            "_model_module": "@jupyter-widgets/controls"
          }
        },
        "30389dbd86494e55942f3ac4e69152b1": {
          "model_module": "@jupyter-widgets/base",
          "model_name": "LayoutModel",
          "model_module_version": "1.2.0",
          "state": {
            "_view_name": "LayoutView",
            "grid_template_rows": null,
            "right": null,
            "justify_content": null,
            "_view_module": "@jupyter-widgets/base",
            "overflow": null,
            "_model_module_version": "1.2.0",
            "_view_count": null,
            "flex_flow": null,
            "width": null,
            "min_width": null,
            "border": null,
            "align_items": null,
            "bottom": null,
            "_model_module": "@jupyter-widgets/base",
            "top": null,
            "grid_column": null,
            "overflow_y": null,
            "overflow_x": null,
            "grid_auto_flow": null,
            "grid_area": null,
            "grid_template_columns": null,
            "flex": null,
            "_model_name": "LayoutModel",
            "justify_items": null,
            "grid_row": null,
            "max_height": null,
            "align_content": null,
            "visibility": null,
            "align_self": null,
            "height": null,
            "min_height": null,
            "padding": null,
            "grid_auto_rows": null,
            "grid_gap": null,
            "max_width": null,
            "order": null,
            "_view_module_version": "1.2.0",
            "grid_template_areas": null,
            "object_position": null,
            "object_fit": null,
            "grid_auto_columns": null,
            "margin": null,
            "display": null,
            "left": null
          }
        },
        "32792161211f4eb1b96b6c6791df5af9": {
          "model_module": "@jupyter-widgets/controls",
          "model_name": "HBoxModel",
          "model_module_version": "1.5.0",
          "state": {
            "_view_name": "HBoxView",
            "_dom_classes": [],
            "_model_name": "HBoxModel",
            "_view_module": "@jupyter-widgets/controls",
            "_model_module_version": "1.5.0",
            "_view_count": null,
            "_view_module_version": "1.5.0",
            "box_style": "",
            "layout": "IPY_MODEL_b368f6dfb43a4b6aa8c2d19f0a13c4f6",
            "_model_module": "@jupyter-widgets/controls",
            "children": [
              "IPY_MODEL_7de52221b06c4fa29c20dff2ea34fce5",
              "IPY_MODEL_dad3301a4ad34933b88a27bc86a26b7b",
              "IPY_MODEL_b4b854ebbe7548d2b179b60b5ed615aa"
            ]
          }
        },
        "b368f6dfb43a4b6aa8c2d19f0a13c4f6": {
          "model_module": "@jupyter-widgets/base",
          "model_name": "LayoutModel",
          "model_module_version": "1.2.0",
          "state": {
            "_view_name": "LayoutView",
            "grid_template_rows": null,
            "right": null,
            "justify_content": null,
            "_view_module": "@jupyter-widgets/base",
            "overflow": null,
            "_model_module_version": "1.2.0",
            "_view_count": null,
            "flex_flow": null,
            "width": null,
            "min_width": null,
            "border": null,
            "align_items": null,
            "bottom": null,
            "_model_module": "@jupyter-widgets/base",
            "top": null,
            "grid_column": null,
            "overflow_y": null,
            "overflow_x": null,
            "grid_auto_flow": null,
            "grid_area": null,
            "grid_template_columns": null,
            "flex": null,
            "_model_name": "LayoutModel",
            "justify_items": null,
            "grid_row": null,
            "max_height": null,
            "align_content": null,
            "visibility": null,
            "align_self": null,
            "height": null,
            "min_height": null,
            "padding": null,
            "grid_auto_rows": null,
            "grid_gap": null,
            "max_width": null,
            "order": null,
            "_view_module_version": "1.2.0",
            "grid_template_areas": null,
            "object_position": null,
            "object_fit": null,
            "grid_auto_columns": null,
            "margin": null,
            "display": null,
            "left": null
          }
        },
        "7de52221b06c4fa29c20dff2ea34fce5": {
          "model_module": "@jupyter-widgets/controls",
          "model_name": "HTMLModel",
          "model_module_version": "1.5.0",
          "state": {
            "_view_name": "HTMLView",
            "style": "IPY_MODEL_2b7df01fcfa14822b566f10fbd5072c6",
            "_dom_classes": [],
            "description": "",
            "_model_name": "HTMLModel",
            "placeholder": "​",
            "_view_module": "@jupyter-widgets/controls",
            "_model_module_version": "1.5.0",
            "value": "Downloading: 100%",
            "_view_count": null,
            "_view_module_version": "1.5.0",
            "description_tooltip": null,
            "_model_module": "@jupyter-widgets/controls",
            "layout": "IPY_MODEL_160a01d7d0c04443b82fa18dd1970118"
          }
        },
        "dad3301a4ad34933b88a27bc86a26b7b": {
          "model_module": "@jupyter-widgets/controls",
          "model_name": "FloatProgressModel",
          "model_module_version": "1.5.0",
          "state": {
            "_view_name": "ProgressView",
            "style": "IPY_MODEL_13882b9e850c484696fce510a9212e0a",
            "_dom_classes": [],
            "description": "",
            "_model_name": "FloatProgressModel",
            "bar_style": "success",
            "max": 1403,
            "_view_module": "@jupyter-widgets/controls",
            "_model_module_version": "1.5.0",
            "value": 1403,
            "_view_count": null,
            "_view_module_version": "1.5.0",
            "orientation": "horizontal",
            "min": 0,
            "description_tooltip": null,
            "_model_module": "@jupyter-widgets/controls",
            "layout": "IPY_MODEL_e6aac6eebe594fc0836fb753167afa0d"
          }
        },
        "b4b854ebbe7548d2b179b60b5ed615aa": {
          "model_module": "@jupyter-widgets/controls",
          "model_name": "HTMLModel",
          "model_module_version": "1.5.0",
          "state": {
            "_view_name": "HTMLView",
            "style": "IPY_MODEL_069926b08162457eba136de6848b25c2",
            "_dom_classes": [],
            "description": "",
            "_model_name": "HTMLModel",
            "placeholder": "​",
            "_view_module": "@jupyter-widgets/controls",
            "_model_module_version": "1.5.0",
            "value": " 1.37k/1.37k [00:00&lt;00:00, 43.2kB/s]",
            "_view_count": null,
            "_view_module_version": "1.5.0",
            "description_tooltip": null,
            "_model_module": "@jupyter-widgets/controls",
            "layout": "IPY_MODEL_36870708f49b48aabcce6ad376298cfc"
          }
        },
        "2b7df01fcfa14822b566f10fbd5072c6": {
          "model_module": "@jupyter-widgets/controls",
          "model_name": "DescriptionStyleModel",
          "model_module_version": "1.5.0",
          "state": {
            "_view_name": "StyleView",
            "_model_name": "DescriptionStyleModel",
            "description_width": "",
            "_view_module": "@jupyter-widgets/base",
            "_model_module_version": "1.5.0",
            "_view_count": null,
            "_view_module_version": "1.2.0",
            "_model_module": "@jupyter-widgets/controls"
          }
        },
        "160a01d7d0c04443b82fa18dd1970118": {
          "model_module": "@jupyter-widgets/base",
          "model_name": "LayoutModel",
          "model_module_version": "1.2.0",
          "state": {
            "_view_name": "LayoutView",
            "grid_template_rows": null,
            "right": null,
            "justify_content": null,
            "_view_module": "@jupyter-widgets/base",
            "overflow": null,
            "_model_module_version": "1.2.0",
            "_view_count": null,
            "flex_flow": null,
            "width": null,
            "min_width": null,
            "border": null,
            "align_items": null,
            "bottom": null,
            "_model_module": "@jupyter-widgets/base",
            "top": null,
            "grid_column": null,
            "overflow_y": null,
            "overflow_x": null,
            "grid_auto_flow": null,
            "grid_area": null,
            "grid_template_columns": null,
            "flex": null,
            "_model_name": "LayoutModel",
            "justify_items": null,
            "grid_row": null,
            "max_height": null,
            "align_content": null,
            "visibility": null,
            "align_self": null,
            "height": null,
            "min_height": null,
            "padding": null,
            "grid_auto_rows": null,
            "grid_gap": null,
            "max_width": null,
            "order": null,
            "_view_module_version": "1.2.0",
            "grid_template_areas": null,
            "object_position": null,
            "object_fit": null,
            "grid_auto_columns": null,
            "margin": null,
            "display": null,
            "left": null
          }
        },
        "13882b9e850c484696fce510a9212e0a": {
          "model_module": "@jupyter-widgets/controls",
          "model_name": "ProgressStyleModel",
          "model_module_version": "1.5.0",
          "state": {
            "_view_name": "StyleView",
            "_model_name": "ProgressStyleModel",
            "description_width": "",
            "_view_module": "@jupyter-widgets/base",
            "_model_module_version": "1.5.0",
            "_view_count": null,
            "_view_module_version": "1.2.0",
            "bar_color": null,
            "_model_module": "@jupyter-widgets/controls"
          }
        },
        "e6aac6eebe594fc0836fb753167afa0d": {
          "model_module": "@jupyter-widgets/base",
          "model_name": "LayoutModel",
          "model_module_version": "1.2.0",
          "state": {
            "_view_name": "LayoutView",
            "grid_template_rows": null,
            "right": null,
            "justify_content": null,
            "_view_module": "@jupyter-widgets/base",
            "overflow": null,
            "_model_module_version": "1.2.0",
            "_view_count": null,
            "flex_flow": null,
            "width": null,
            "min_width": null,
            "border": null,
            "align_items": null,
            "bottom": null,
            "_model_module": "@jupyter-widgets/base",
            "top": null,
            "grid_column": null,
            "overflow_y": null,
            "overflow_x": null,
            "grid_auto_flow": null,
            "grid_area": null,
            "grid_template_columns": null,
            "flex": null,
            "_model_name": "LayoutModel",
            "justify_items": null,
            "grid_row": null,
            "max_height": null,
            "align_content": null,
            "visibility": null,
            "align_self": null,
            "height": null,
            "min_height": null,
            "padding": null,
            "grid_auto_rows": null,
            "grid_gap": null,
            "max_width": null,
            "order": null,
            "_view_module_version": "1.2.0",
            "grid_template_areas": null,
            "object_position": null,
            "object_fit": null,
            "grid_auto_columns": null,
            "margin": null,
            "display": null,
            "left": null
          }
        },
        "069926b08162457eba136de6848b25c2": {
          "model_module": "@jupyter-widgets/controls",
          "model_name": "DescriptionStyleModel",
          "model_module_version": "1.5.0",
          "state": {
            "_view_name": "StyleView",
            "_model_name": "DescriptionStyleModel",
            "description_width": "",
            "_view_module": "@jupyter-widgets/base",
            "_model_module_version": "1.5.0",
            "_view_count": null,
            "_view_module_version": "1.2.0",
            "_model_module": "@jupyter-widgets/controls"
          }
        },
        "36870708f49b48aabcce6ad376298cfc": {
          "model_module": "@jupyter-widgets/base",
          "model_name": "LayoutModel",
          "model_module_version": "1.2.0",
          "state": {
            "_view_name": "LayoutView",
            "grid_template_rows": null,
            "right": null,
            "justify_content": null,
            "_view_module": "@jupyter-widgets/base",
            "overflow": null,
            "_model_module_version": "1.2.0",
            "_view_count": null,
            "flex_flow": null,
            "width": null,
            "min_width": null,
            "border": null,
            "align_items": null,
            "bottom": null,
            "_model_module": "@jupyter-widgets/base",
            "top": null,
            "grid_column": null,
            "overflow_y": null,
            "overflow_x": null,
            "grid_auto_flow": null,
            "grid_area": null,
            "grid_template_columns": null,
            "flex": null,
            "_model_name": "LayoutModel",
            "justify_items": null,
            "grid_row": null,
            "max_height": null,
            "align_content": null,
            "visibility": null,
            "align_self": null,
            "height": null,
            "min_height": null,
            "padding": null,
            "grid_auto_rows": null,
            "grid_gap": null,
            "max_width": null,
            "order": null,
            "_view_module_version": "1.2.0",
            "grid_template_areas": null,
            "object_position": null,
            "object_fit": null,
            "grid_auto_columns": null,
            "margin": null,
            "display": null,
            "left": null
          }
        },
        "1807a1769a98444eb3dfdd868ec5b150": {
          "model_module": "@jupyter-widgets/controls",
          "model_name": "HBoxModel",
          "model_module_version": "1.5.0",
          "state": {
            "_view_name": "HBoxView",
            "_dom_classes": [],
            "_model_name": "HBoxModel",
            "_view_module": "@jupyter-widgets/controls",
            "_model_module_version": "1.5.0",
            "_view_count": null,
            "_view_module_version": "1.5.0",
            "box_style": "",
            "layout": "IPY_MODEL_4fb32e15159a4ebdbde3e2c501a26df0",
            "_model_module": "@jupyter-widgets/controls",
            "children": [
              "IPY_MODEL_6a2a49637de0499cb239c9cc6b27f7bd",
              "IPY_MODEL_2f259c904856456e94fec17bdd5fc392",
              "IPY_MODEL_25487c8e005845ce9011267f0ffd7437"
            ]
          }
        },
        "4fb32e15159a4ebdbde3e2c501a26df0": {
          "model_module": "@jupyter-widgets/base",
          "model_name": "LayoutModel",
          "model_module_version": "1.2.0",
          "state": {
            "_view_name": "LayoutView",
            "grid_template_rows": null,
            "right": null,
            "justify_content": null,
            "_view_module": "@jupyter-widgets/base",
            "overflow": null,
            "_model_module_version": "1.2.0",
            "_view_count": null,
            "flex_flow": null,
            "width": null,
            "min_width": null,
            "border": null,
            "align_items": null,
            "bottom": null,
            "_model_module": "@jupyter-widgets/base",
            "top": null,
            "grid_column": null,
            "overflow_y": null,
            "overflow_x": null,
            "grid_auto_flow": null,
            "grid_area": null,
            "grid_template_columns": null,
            "flex": null,
            "_model_name": "LayoutModel",
            "justify_items": null,
            "grid_row": null,
            "max_height": null,
            "align_content": null,
            "visibility": null,
            "align_self": null,
            "height": null,
            "min_height": null,
            "padding": null,
            "grid_auto_rows": null,
            "grid_gap": null,
            "max_width": null,
            "order": null,
            "_view_module_version": "1.2.0",
            "grid_template_areas": null,
            "object_position": null,
            "object_fit": null,
            "grid_auto_columns": null,
            "margin": null,
            "display": null,
            "left": null
          }
        },
        "6a2a49637de0499cb239c9cc6b27f7bd": {
          "model_module": "@jupyter-widgets/controls",
          "model_name": "HTMLModel",
          "model_module_version": "1.5.0",
          "state": {
            "_view_name": "HTMLView",
            "style": "IPY_MODEL_d9821931b0f44e3c9baa20ce2b66ef48",
            "_dom_classes": [],
            "description": "",
            "_model_name": "HTMLModel",
            "placeholder": "​",
            "_view_module": "@jupyter-widgets/controls",
            "_model_module_version": "1.5.0",
            "value": "Downloading: 100%",
            "_view_count": null,
            "_view_module_version": "1.5.0",
            "description_tooltip": null,
            "_model_module": "@jupyter-widgets/controls",
            "layout": "IPY_MODEL_52babc9115614390a08d982d1cbf60bd"
          }
        },
        "2f259c904856456e94fec17bdd5fc392": {
          "model_module": "@jupyter-widgets/controls",
          "model_name": "FloatProgressModel",
          "model_module_version": "1.5.0",
          "state": {
            "_view_name": "ProgressView",
            "style": "IPY_MODEL_d6ccce907ad24cf1b2983293719ac5d0",
            "_dom_classes": [],
            "description": "",
            "_model_name": "FloatProgressModel",
            "bar_style": "success",
            "max": 806435,
            "_view_module": "@jupyter-widgets/controls",
            "_model_module_version": "1.5.0",
            "value": 806435,
            "_view_count": null,
            "_view_module_version": "1.5.0",
            "orientation": "horizontal",
            "min": 0,
            "description_tooltip": null,
            "_model_module": "@jupyter-widgets/controls",
            "layout": "IPY_MODEL_f635d2ebf68746c9824c44f0d0645294"
          }
        },
        "25487c8e005845ce9011267f0ffd7437": {
          "model_module": "@jupyter-widgets/controls",
          "model_name": "HTMLModel",
          "model_module_version": "1.5.0",
          "state": {
            "_view_name": "HTMLView",
            "style": "IPY_MODEL_03b6accae3204e4b8917278fe971c6a6",
            "_dom_classes": [],
            "description": "",
            "_model_name": "HTMLModel",
            "placeholder": "​",
            "_view_module": "@jupyter-widgets/controls",
            "_model_module_version": "1.5.0",
            "value": " 788k/788k [00:00&lt;00:00, 909kB/s]",
            "_view_count": null,
            "_view_module_version": "1.5.0",
            "description_tooltip": null,
            "_model_module": "@jupyter-widgets/controls",
            "layout": "IPY_MODEL_63bb70d2190a43dc8788e4134469f489"
          }
        },
        "d9821931b0f44e3c9baa20ce2b66ef48": {
          "model_module": "@jupyter-widgets/controls",
          "model_name": "DescriptionStyleModel",
          "model_module_version": "1.5.0",
          "state": {
            "_view_name": "StyleView",
            "_model_name": "DescriptionStyleModel",
            "description_width": "",
            "_view_module": "@jupyter-widgets/base",
            "_model_module_version": "1.5.0",
            "_view_count": null,
            "_view_module_version": "1.2.0",
            "_model_module": "@jupyter-widgets/controls"
          }
        },
        "52babc9115614390a08d982d1cbf60bd": {
          "model_module": "@jupyter-widgets/base",
          "model_name": "LayoutModel",
          "model_module_version": "1.2.0",
          "state": {
            "_view_name": "LayoutView",
            "grid_template_rows": null,
            "right": null,
            "justify_content": null,
            "_view_module": "@jupyter-widgets/base",
            "overflow": null,
            "_model_module_version": "1.2.0",
            "_view_count": null,
            "flex_flow": null,
            "width": null,
            "min_width": null,
            "border": null,
            "align_items": null,
            "bottom": null,
            "_model_module": "@jupyter-widgets/base",
            "top": null,
            "grid_column": null,
            "overflow_y": null,
            "overflow_x": null,
            "grid_auto_flow": null,
            "grid_area": null,
            "grid_template_columns": null,
            "flex": null,
            "_model_name": "LayoutModel",
            "justify_items": null,
            "grid_row": null,
            "max_height": null,
            "align_content": null,
            "visibility": null,
            "align_self": null,
            "height": null,
            "min_height": null,
            "padding": null,
            "grid_auto_rows": null,
            "grid_gap": null,
            "max_width": null,
            "order": null,
            "_view_module_version": "1.2.0",
            "grid_template_areas": null,
            "object_position": null,
            "object_fit": null,
            "grid_auto_columns": null,
            "margin": null,
            "display": null,
            "left": null
          }
        },
        "d6ccce907ad24cf1b2983293719ac5d0": {
          "model_module": "@jupyter-widgets/controls",
          "model_name": "ProgressStyleModel",
          "model_module_version": "1.5.0",
          "state": {
            "_view_name": "StyleView",
            "_model_name": "ProgressStyleModel",
            "description_width": "",
            "_view_module": "@jupyter-widgets/base",
            "_model_module_version": "1.5.0",
            "_view_count": null,
            "_view_module_version": "1.2.0",
            "bar_color": null,
            "_model_module": "@jupyter-widgets/controls"
          }
        },
        "f635d2ebf68746c9824c44f0d0645294": {
          "model_module": "@jupyter-widgets/base",
          "model_name": "LayoutModel",
          "model_module_version": "1.2.0",
          "state": {
            "_view_name": "LayoutView",
            "grid_template_rows": null,
            "right": null,
            "justify_content": null,
            "_view_module": "@jupyter-widgets/base",
            "overflow": null,
            "_model_module_version": "1.2.0",
            "_view_count": null,
            "flex_flow": null,
            "width": null,
            "min_width": null,
            "border": null,
            "align_items": null,
            "bottom": null,
            "_model_module": "@jupyter-widgets/base",
            "top": null,
            "grid_column": null,
            "overflow_y": null,
            "overflow_x": null,
            "grid_auto_flow": null,
            "grid_area": null,
            "grid_template_columns": null,
            "flex": null,
            "_model_name": "LayoutModel",
            "justify_items": null,
            "grid_row": null,
            "max_height": null,
            "align_content": null,
            "visibility": null,
            "align_self": null,
            "height": null,
            "min_height": null,
            "padding": null,
            "grid_auto_rows": null,
            "grid_gap": null,
            "max_width": null,
            "order": null,
            "_view_module_version": "1.2.0",
            "grid_template_areas": null,
            "object_position": null,
            "object_fit": null,
            "grid_auto_columns": null,
            "margin": null,
            "display": null,
            "left": null
          }
        },
        "03b6accae3204e4b8917278fe971c6a6": {
          "model_module": "@jupyter-widgets/controls",
          "model_name": "DescriptionStyleModel",
          "model_module_version": "1.5.0",
          "state": {
            "_view_name": "StyleView",
            "_model_name": "DescriptionStyleModel",
            "description_width": "",
            "_view_module": "@jupyter-widgets/base",
            "_model_module_version": "1.5.0",
            "_view_count": null,
            "_view_module_version": "1.2.0",
            "_model_module": "@jupyter-widgets/controls"
          }
        },
        "63bb70d2190a43dc8788e4134469f489": {
          "model_module": "@jupyter-widgets/base",
          "model_name": "LayoutModel",
          "model_module_version": "1.2.0",
          "state": {
            "_view_name": "LayoutView",
            "grid_template_rows": null,
            "right": null,
            "justify_content": null,
            "_view_module": "@jupyter-widgets/base",
            "overflow": null,
            "_model_module_version": "1.2.0",
            "_view_count": null,
            "flex_flow": null,
            "width": null,
            "min_width": null,
            "border": null,
            "align_items": null,
            "bottom": null,
            "_model_module": "@jupyter-widgets/base",
            "top": null,
            "grid_column": null,
            "overflow_y": null,
            "overflow_x": null,
            "grid_auto_flow": null,
            "grid_area": null,
            "grid_template_columns": null,
            "flex": null,
            "_model_name": "LayoutModel",
            "justify_items": null,
            "grid_row": null,
            "max_height": null,
            "align_content": null,
            "visibility": null,
            "align_self": null,
            "height": null,
            "min_height": null,
            "padding": null,
            "grid_auto_rows": null,
            "grid_gap": null,
            "max_width": null,
            "order": null,
            "_view_module_version": "1.2.0",
            "grid_template_areas": null,
            "object_position": null,
            "object_fit": null,
            "grid_auto_columns": null,
            "margin": null,
            "display": null,
            "left": null
          }
        },
        "2c3c47ae77854ee7a977a64e7a8fcaad": {
          "model_module": "@jupyter-widgets/controls",
          "model_name": "HBoxModel",
          "model_module_version": "1.5.0",
          "state": {
            "_view_name": "HBoxView",
            "_dom_classes": [],
            "_model_name": "HBoxModel",
            "_view_module": "@jupyter-widgets/controls",
            "_model_module_version": "1.5.0",
            "_view_count": null,
            "_view_module_version": "1.5.0",
            "box_style": "",
            "layout": "IPY_MODEL_68e40a9c430c4072bf820de72e4abeec",
            "_model_module": "@jupyter-widgets/controls",
            "children": [
              "IPY_MODEL_ae8b6630d98b44d6bbf2266bff169b94",
              "IPY_MODEL_ebffdd96abf0400fbec48f0ba6916da6",
              "IPY_MODEL_90dc5e4047fc4ffeb9d1a11b32ad919d"
            ]
          }
        },
        "68e40a9c430c4072bf820de72e4abeec": {
          "model_module": "@jupyter-widgets/base",
          "model_name": "LayoutModel",
          "model_module_version": "1.2.0",
          "state": {
            "_view_name": "LayoutView",
            "grid_template_rows": null,
            "right": null,
            "justify_content": null,
            "_view_module": "@jupyter-widgets/base",
            "overflow": null,
            "_model_module_version": "1.2.0",
            "_view_count": null,
            "flex_flow": null,
            "width": null,
            "min_width": null,
            "border": null,
            "align_items": null,
            "bottom": null,
            "_model_module": "@jupyter-widgets/base",
            "top": null,
            "grid_column": null,
            "overflow_y": null,
            "overflow_x": null,
            "grid_auto_flow": null,
            "grid_area": null,
            "grid_template_columns": null,
            "flex": null,
            "_model_name": "LayoutModel",
            "justify_items": null,
            "grid_row": null,
            "max_height": null,
            "align_content": null,
            "visibility": null,
            "align_self": null,
            "height": null,
            "min_height": null,
            "padding": null,
            "grid_auto_rows": null,
            "grid_gap": null,
            "max_width": null,
            "order": null,
            "_view_module_version": "1.2.0",
            "grid_template_areas": null,
            "object_position": null,
            "object_fit": null,
            "grid_auto_columns": null,
            "margin": null,
            "display": null,
            "left": null
          }
        },
        "ae8b6630d98b44d6bbf2266bff169b94": {
          "model_module": "@jupyter-widgets/controls",
          "model_name": "HTMLModel",
          "model_module_version": "1.5.0",
          "state": {
            "_view_name": "HTMLView",
            "style": "IPY_MODEL_42bd2e15ace848569d912ea7f13f7365",
            "_dom_classes": [],
            "description": "",
            "_model_name": "HTMLModel",
            "placeholder": "​",
            "_view_module": "@jupyter-widgets/controls",
            "_model_module_version": "1.5.0",
            "value": "Downloading: 100%",
            "_view_count": null,
            "_view_module_version": "1.5.0",
            "description_tooltip": null,
            "_model_module": "@jupyter-widgets/controls",
            "layout": "IPY_MODEL_e73cc0438de14f0d95488b185b97ea8f"
          }
        },
        "ebffdd96abf0400fbec48f0ba6916da6": {
          "model_module": "@jupyter-widgets/controls",
          "model_name": "FloatProgressModel",
          "model_module_version": "1.5.0",
          "state": {
            "_view_name": "ProgressView",
            "style": "IPY_MODEL_27a9ad98af19443daa0ced07288bad61",
            "_dom_classes": [],
            "description": "",
            "_model_name": "FloatProgressModel",
            "bar_style": "success",
            "max": 804600,
            "_view_module": "@jupyter-widgets/controls",
            "_model_module_version": "1.5.0",
            "value": 804600,
            "_view_count": null,
            "_view_module_version": "1.5.0",
            "orientation": "horizontal",
            "min": 0,
            "description_tooltip": null,
            "_model_module": "@jupyter-widgets/controls",
            "layout": "IPY_MODEL_9917a546865240a283b5aa4158bc3218"
          }
        },
        "90dc5e4047fc4ffeb9d1a11b32ad919d": {
          "model_module": "@jupyter-widgets/controls",
          "model_name": "HTMLModel",
          "model_module_version": "1.5.0",
          "state": {
            "_view_name": "HTMLView",
            "style": "IPY_MODEL_d51ac841004a450db9344b8562f628ff",
            "_dom_classes": [],
            "description": "",
            "_model_name": "HTMLModel",
            "placeholder": "​",
            "_view_module": "@jupyter-widgets/controls",
            "_model_module_version": "1.5.0",
            "value": " 786k/786k [00:00&lt;00:00, 795kB/s]",
            "_view_count": null,
            "_view_module_version": "1.5.0",
            "description_tooltip": null,
            "_model_module": "@jupyter-widgets/controls",
            "layout": "IPY_MODEL_ac14873d354247bb8631fa72888eb472"
          }
        },
        "42bd2e15ace848569d912ea7f13f7365": {
          "model_module": "@jupyter-widgets/controls",
          "model_name": "DescriptionStyleModel",
          "model_module_version": "1.5.0",
          "state": {
            "_view_name": "StyleView",
            "_model_name": "DescriptionStyleModel",
            "description_width": "",
            "_view_module": "@jupyter-widgets/base",
            "_model_module_version": "1.5.0",
            "_view_count": null,
            "_view_module_version": "1.2.0",
            "_model_module": "@jupyter-widgets/controls"
          }
        },
        "e73cc0438de14f0d95488b185b97ea8f": {
          "model_module": "@jupyter-widgets/base",
          "model_name": "LayoutModel",
          "model_module_version": "1.2.0",
          "state": {
            "_view_name": "LayoutView",
            "grid_template_rows": null,
            "right": null,
            "justify_content": null,
            "_view_module": "@jupyter-widgets/base",
            "overflow": null,
            "_model_module_version": "1.2.0",
            "_view_count": null,
            "flex_flow": null,
            "width": null,
            "min_width": null,
            "border": null,
            "align_items": null,
            "bottom": null,
            "_model_module": "@jupyter-widgets/base",
            "top": null,
            "grid_column": null,
            "overflow_y": null,
            "overflow_x": null,
            "grid_auto_flow": null,
            "grid_area": null,
            "grid_template_columns": null,
            "flex": null,
            "_model_name": "LayoutModel",
            "justify_items": null,
            "grid_row": null,
            "max_height": null,
            "align_content": null,
            "visibility": null,
            "align_self": null,
            "height": null,
            "min_height": null,
            "padding": null,
            "grid_auto_rows": null,
            "grid_gap": null,
            "max_width": null,
            "order": null,
            "_view_module_version": "1.2.0",
            "grid_template_areas": null,
            "object_position": null,
            "object_fit": null,
            "grid_auto_columns": null,
            "margin": null,
            "display": null,
            "left": null
          }
        },
        "27a9ad98af19443daa0ced07288bad61": {
          "model_module": "@jupyter-widgets/controls",
          "model_name": "ProgressStyleModel",
          "model_module_version": "1.5.0",
          "state": {
            "_view_name": "StyleView",
            "_model_name": "ProgressStyleModel",
            "description_width": "",
            "_view_module": "@jupyter-widgets/base",
            "_model_module_version": "1.5.0",
            "_view_count": null,
            "_view_module_version": "1.2.0",
            "bar_color": null,
            "_model_module": "@jupyter-widgets/controls"
          }
        },
        "9917a546865240a283b5aa4158bc3218": {
          "model_module": "@jupyter-widgets/base",
          "model_name": "LayoutModel",
          "model_module_version": "1.2.0",
          "state": {
            "_view_name": "LayoutView",
            "grid_template_rows": null,
            "right": null,
            "justify_content": null,
            "_view_module": "@jupyter-widgets/base",
            "overflow": null,
            "_model_module_version": "1.2.0",
            "_view_count": null,
            "flex_flow": null,
            "width": null,
            "min_width": null,
            "border": null,
            "align_items": null,
            "bottom": null,
            "_model_module": "@jupyter-widgets/base",
            "top": null,
            "grid_column": null,
            "overflow_y": null,
            "overflow_x": null,
            "grid_auto_flow": null,
            "grid_area": null,
            "grid_template_columns": null,
            "flex": null,
            "_model_name": "LayoutModel",
            "justify_items": null,
            "grid_row": null,
            "max_height": null,
            "align_content": null,
            "visibility": null,
            "align_self": null,
            "height": null,
            "min_height": null,
            "padding": null,
            "grid_auto_rows": null,
            "grid_gap": null,
            "max_width": null,
            "order": null,
            "_view_module_version": "1.2.0",
            "grid_template_areas": null,
            "object_position": null,
            "object_fit": null,
            "grid_auto_columns": null,
            "margin": null,
            "display": null,
            "left": null
          }
        },
        "d51ac841004a450db9344b8562f628ff": {
          "model_module": "@jupyter-widgets/controls",
          "model_name": "DescriptionStyleModel",
          "model_module_version": "1.5.0",
          "state": {
            "_view_name": "StyleView",
            "_model_name": "DescriptionStyleModel",
            "description_width": "",
            "_view_module": "@jupyter-widgets/base",
            "_model_module_version": "1.5.0",
            "_view_count": null,
            "_view_module_version": "1.2.0",
            "_model_module": "@jupyter-widgets/controls"
          }
        },
        "ac14873d354247bb8631fa72888eb472": {
          "model_module": "@jupyter-widgets/base",
          "model_name": "LayoutModel",
          "model_module_version": "1.2.0",
          "state": {
            "_view_name": "LayoutView",
            "grid_template_rows": null,
            "right": null,
            "justify_content": null,
            "_view_module": "@jupyter-widgets/base",
            "overflow": null,
            "_model_module_version": "1.2.0",
            "_view_count": null,
            "flex_flow": null,
            "width": null,
            "min_width": null,
            "border": null,
            "align_items": null,
            "bottom": null,
            "_model_module": "@jupyter-widgets/base",
            "top": null,
            "grid_column": null,
            "overflow_y": null,
            "overflow_x": null,
            "grid_auto_flow": null,
            "grid_area": null,
            "grid_template_columns": null,
            "flex": null,
            "_model_name": "LayoutModel",
            "justify_items": null,
            "grid_row": null,
            "max_height": null,
            "align_content": null,
            "visibility": null,
            "align_self": null,
            "height": null,
            "min_height": null,
            "padding": null,
            "grid_auto_rows": null,
            "grid_gap": null,
            "max_width": null,
            "order": null,
            "_view_module_version": "1.2.0",
            "grid_template_areas": null,
            "object_position": null,
            "object_fit": null,
            "grid_auto_columns": null,
            "margin": null,
            "display": null,
            "left": null
          }
        },
        "214b9309d479466d87a012bd28f93e44": {
          "model_module": "@jupyter-widgets/controls",
          "model_name": "HBoxModel",
          "model_module_version": "1.5.0",
          "state": {
            "_view_name": "HBoxView",
            "_dom_classes": [],
            "_model_name": "HBoxModel",
            "_view_module": "@jupyter-widgets/controls",
            "_model_module_version": "1.5.0",
            "_view_count": null,
            "_view_module_version": "1.5.0",
            "box_style": "",
            "layout": "IPY_MODEL_09b56565381f49009ef10f0a8c41160f",
            "_model_module": "@jupyter-widgets/controls",
            "children": [
              "IPY_MODEL_8bc43ba8603146148d458600ef0c3e5e",
              "IPY_MODEL_a17490674911405ca71ecb7f0a618fb2",
              "IPY_MODEL_f787eb16c6f242af8ff5c509de7c40a3"
            ]
          }
        },
        "09b56565381f49009ef10f0a8c41160f": {
          "model_module": "@jupyter-widgets/base",
          "model_name": "LayoutModel",
          "model_module_version": "1.2.0",
          "state": {
            "_view_name": "LayoutView",
            "grid_template_rows": null,
            "right": null,
            "justify_content": null,
            "_view_module": "@jupyter-widgets/base",
            "overflow": null,
            "_model_module_version": "1.2.0",
            "_view_count": null,
            "flex_flow": null,
            "width": null,
            "min_width": null,
            "border": null,
            "align_items": null,
            "bottom": null,
            "_model_module": "@jupyter-widgets/base",
            "top": null,
            "grid_column": null,
            "overflow_y": null,
            "overflow_x": null,
            "grid_auto_flow": null,
            "grid_area": null,
            "grid_template_columns": null,
            "flex": null,
            "_model_name": "LayoutModel",
            "justify_items": null,
            "grid_row": null,
            "max_height": null,
            "align_content": null,
            "visibility": null,
            "align_self": null,
            "height": null,
            "min_height": null,
            "padding": null,
            "grid_auto_rows": null,
            "grid_gap": null,
            "max_width": null,
            "order": null,
            "_view_module_version": "1.2.0",
            "grid_template_areas": null,
            "object_position": null,
            "object_fit": null,
            "grid_auto_columns": null,
            "margin": null,
            "display": null,
            "left": null
          }
        },
        "8bc43ba8603146148d458600ef0c3e5e": {
          "model_module": "@jupyter-widgets/controls",
          "model_name": "HTMLModel",
          "model_module_version": "1.5.0",
          "state": {
            "_view_name": "HTMLView",
            "style": "IPY_MODEL_9631b4b5896b4da29022a81c6b08761a",
            "_dom_classes": [],
            "description": "",
            "_model_name": "HTMLModel",
            "placeholder": "​",
            "_view_module": "@jupyter-widgets/controls",
            "_model_module_version": "1.5.0",
            "value": "Downloading: 100%",
            "_view_count": null,
            "_view_module_version": "1.5.0",
            "description_tooltip": null,
            "_model_module": "@jupyter-widgets/controls",
            "layout": "IPY_MODEL_eb4a2d0b550b42fa9ec5e12c710e09b3"
          }
        },
        "a17490674911405ca71ecb7f0a618fb2": {
          "model_module": "@jupyter-widgets/controls",
          "model_name": "FloatProgressModel",
          "model_module_version": "1.5.0",
          "state": {
            "_view_name": "ProgressView",
            "style": "IPY_MODEL_9874cd51e42f48e880a4eebc8d883597",
            "_dom_classes": [],
            "description": "",
            "_model_name": "FloatProgressModel",
            "bar_style": "success",
            "max": 1617791,
            "_view_module": "@jupyter-widgets/controls",
            "_model_module_version": "1.5.0",
            "value": 1617791,
            "_view_count": null,
            "_view_module_version": "1.5.0",
            "orientation": "horizontal",
            "min": 0,
            "description_tooltip": null,
            "_model_module": "@jupyter-widgets/controls",
            "layout": "IPY_MODEL_9aaf99efc611420e879444feec797ed8"
          }
        },
        "f787eb16c6f242af8ff5c509de7c40a3": {
          "model_module": "@jupyter-widgets/controls",
          "model_name": "HTMLModel",
          "model_module_version": "1.5.0",
          "state": {
            "_view_name": "HTMLView",
            "style": "IPY_MODEL_3a17e409a14642d0b38fd92e3a7a5776",
            "_dom_classes": [],
            "description": "",
            "_model_name": "HTMLModel",
            "placeholder": "​",
            "_view_module": "@jupyter-widgets/controls",
            "_model_module_version": "1.5.0",
            "value": " 1.54M/1.54M [00:00&lt;00:00, 3.00MB/s]",
            "_view_count": null,
            "_view_module_version": "1.5.0",
            "description_tooltip": null,
            "_model_module": "@jupyter-widgets/controls",
            "layout": "IPY_MODEL_f5a6eca9fe524d478c043635f2998612"
          }
        },
        "9631b4b5896b4da29022a81c6b08761a": {
          "model_module": "@jupyter-widgets/controls",
          "model_name": "DescriptionStyleModel",
          "model_module_version": "1.5.0",
          "state": {
            "_view_name": "StyleView",
            "_model_name": "DescriptionStyleModel",
            "description_width": "",
            "_view_module": "@jupyter-widgets/base",
            "_model_module_version": "1.5.0",
            "_view_count": null,
            "_view_module_version": "1.2.0",
            "_model_module": "@jupyter-widgets/controls"
          }
        },
        "eb4a2d0b550b42fa9ec5e12c710e09b3": {
          "model_module": "@jupyter-widgets/base",
          "model_name": "LayoutModel",
          "model_module_version": "1.2.0",
          "state": {
            "_view_name": "LayoutView",
            "grid_template_rows": null,
            "right": null,
            "justify_content": null,
            "_view_module": "@jupyter-widgets/base",
            "overflow": null,
            "_model_module_version": "1.2.0",
            "_view_count": null,
            "flex_flow": null,
            "width": null,
            "min_width": null,
            "border": null,
            "align_items": null,
            "bottom": null,
            "_model_module": "@jupyter-widgets/base",
            "top": null,
            "grid_column": null,
            "overflow_y": null,
            "overflow_x": null,
            "grid_auto_flow": null,
            "grid_area": null,
            "grid_template_columns": null,
            "flex": null,
            "_model_name": "LayoutModel",
            "justify_items": null,
            "grid_row": null,
            "max_height": null,
            "align_content": null,
            "visibility": null,
            "align_self": null,
            "height": null,
            "min_height": null,
            "padding": null,
            "grid_auto_rows": null,
            "grid_gap": null,
            "max_width": null,
            "order": null,
            "_view_module_version": "1.2.0",
            "grid_template_areas": null,
            "object_position": null,
            "object_fit": null,
            "grid_auto_columns": null,
            "margin": null,
            "display": null,
            "left": null
          }
        },
        "9874cd51e42f48e880a4eebc8d883597": {
          "model_module": "@jupyter-widgets/controls",
          "model_name": "ProgressStyleModel",
          "model_module_version": "1.5.0",
          "state": {
            "_view_name": "StyleView",
            "_model_name": "ProgressStyleModel",
            "description_width": "",
            "_view_module": "@jupyter-widgets/base",
            "_model_module_version": "1.5.0",
            "_view_count": null,
            "_view_module_version": "1.2.0",
            "bar_color": null,
            "_model_module": "@jupyter-widgets/controls"
          }
        },
        "9aaf99efc611420e879444feec797ed8": {
          "model_module": "@jupyter-widgets/base",
          "model_name": "LayoutModel",
          "model_module_version": "1.2.0",
          "state": {
            "_view_name": "LayoutView",
            "grid_template_rows": null,
            "right": null,
            "justify_content": null,
            "_view_module": "@jupyter-widgets/base",
            "overflow": null,
            "_model_module_version": "1.2.0",
            "_view_count": null,
            "flex_flow": null,
            "width": null,
            "min_width": null,
            "border": null,
            "align_items": null,
            "bottom": null,
            "_model_module": "@jupyter-widgets/base",
            "top": null,
            "grid_column": null,
            "overflow_y": null,
            "overflow_x": null,
            "grid_auto_flow": null,
            "grid_area": null,
            "grid_template_columns": null,
            "flex": null,
            "_model_name": "LayoutModel",
            "justify_items": null,
            "grid_row": null,
            "max_height": null,
            "align_content": null,
            "visibility": null,
            "align_self": null,
            "height": null,
            "min_height": null,
            "padding": null,
            "grid_auto_rows": null,
            "grid_gap": null,
            "max_width": null,
            "order": null,
            "_view_module_version": "1.2.0",
            "grid_template_areas": null,
            "object_position": null,
            "object_fit": null,
            "grid_auto_columns": null,
            "margin": null,
            "display": null,
            "left": null
          }
        },
        "3a17e409a14642d0b38fd92e3a7a5776": {
          "model_module": "@jupyter-widgets/controls",
          "model_name": "DescriptionStyleModel",
          "model_module_version": "1.5.0",
          "state": {
            "_view_name": "StyleView",
            "_model_name": "DescriptionStyleModel",
            "description_width": "",
            "_view_module": "@jupyter-widgets/base",
            "_model_module_version": "1.5.0",
            "_view_count": null,
            "_view_module_version": "1.2.0",
            "_model_module": "@jupyter-widgets/controls"
          }
        },
        "f5a6eca9fe524d478c043635f2998612": {
          "model_module": "@jupyter-widgets/base",
          "model_name": "LayoutModel",
          "model_module_version": "1.2.0",
          "state": {
            "_view_name": "LayoutView",
            "grid_template_rows": null,
            "right": null,
            "justify_content": null,
            "_view_module": "@jupyter-widgets/base",
            "overflow": null,
            "_model_module_version": "1.2.0",
            "_view_count": null,
            "flex_flow": null,
            "width": null,
            "min_width": null,
            "border": null,
            "align_items": null,
            "bottom": null,
            "_model_module": "@jupyter-widgets/base",
            "top": null,
            "grid_column": null,
            "overflow_y": null,
            "overflow_x": null,
            "grid_auto_flow": null,
            "grid_area": null,
            "grid_template_columns": null,
            "flex": null,
            "_model_name": "LayoutModel",
            "justify_items": null,
            "grid_row": null,
            "max_height": null,
            "align_content": null,
            "visibility": null,
            "align_self": null,
            "height": null,
            "min_height": null,
            "padding": null,
            "grid_auto_rows": null,
            "grid_gap": null,
            "max_width": null,
            "order": null,
            "_view_module_version": "1.2.0",
            "grid_template_areas": null,
            "object_position": null,
            "object_fit": null,
            "grid_auto_columns": null,
            "margin": null,
            "display": null,
            "left": null
          }
        },
        "a10f04834f1e43dc99b82cef4583f2d4": {
          "model_module": "@jupyter-widgets/controls",
          "model_name": "HBoxModel",
          "model_module_version": "1.5.0",
          "state": {
            "_view_name": "HBoxView",
            "_dom_classes": [],
            "_model_name": "HBoxModel",
            "_view_module": "@jupyter-widgets/controls",
            "_model_module_version": "1.5.0",
            "_view_count": null,
            "_view_module_version": "1.5.0",
            "box_style": "",
            "layout": "IPY_MODEL_b5ca6479105f499e8a34d84c1e24dac4",
            "_model_module": "@jupyter-widgets/controls",
            "children": [
              "IPY_MODEL_9f33aadf6c36493c9fe3a0d806b548d6",
              "IPY_MODEL_9c678cdb478a41a3ad8c3d9ac150f92b",
              "IPY_MODEL_2f03cbed51164f778ea66f61adb16056"
            ]
          }
        },
        "b5ca6479105f499e8a34d84c1e24dac4": {
          "model_module": "@jupyter-widgets/base",
          "model_name": "LayoutModel",
          "model_module_version": "1.2.0",
          "state": {
            "_view_name": "LayoutView",
            "grid_template_rows": null,
            "right": null,
            "justify_content": null,
            "_view_module": "@jupyter-widgets/base",
            "overflow": null,
            "_model_module_version": "1.2.0",
            "_view_count": null,
            "flex_flow": null,
            "width": null,
            "min_width": null,
            "border": null,
            "align_items": null,
            "bottom": null,
            "_model_module": "@jupyter-widgets/base",
            "top": null,
            "grid_column": null,
            "overflow_y": null,
            "overflow_x": null,
            "grid_auto_flow": null,
            "grid_area": null,
            "grid_template_columns": null,
            "flex": null,
            "_model_name": "LayoutModel",
            "justify_items": null,
            "grid_row": null,
            "max_height": null,
            "align_content": null,
            "visibility": null,
            "align_self": null,
            "height": null,
            "min_height": null,
            "padding": null,
            "grid_auto_rows": null,
            "grid_gap": null,
            "max_width": null,
            "order": null,
            "_view_module_version": "1.2.0",
            "grid_template_areas": null,
            "object_position": null,
            "object_fit": null,
            "grid_auto_columns": null,
            "margin": null,
            "display": null,
            "left": null
          }
        },
        "9f33aadf6c36493c9fe3a0d806b548d6": {
          "model_module": "@jupyter-widgets/controls",
          "model_name": "HTMLModel",
          "model_module_version": "1.5.0",
          "state": {
            "_view_name": "HTMLView",
            "style": "IPY_MODEL_baae4d1331b64faf9d6cafcc74c0bfc1",
            "_dom_classes": [],
            "description": "",
            "_model_name": "HTMLModel",
            "placeholder": "​",
            "_view_module": "@jupyter-widgets/controls",
            "_model_module_version": "1.5.0",
            "value": "Downloading: 100%",
            "_view_count": null,
            "_view_module_version": "1.5.0",
            "description_tooltip": null,
            "_model_module": "@jupyter-widgets/controls",
            "layout": "IPY_MODEL_b9a2474206ae47caaa8f3aaaaca12101"
          }
        },
        "9c678cdb478a41a3ad8c3d9ac150f92b": {
          "model_module": "@jupyter-widgets/controls",
          "model_name": "FloatProgressModel",
          "model_module_version": "1.5.0",
          "state": {
            "_view_name": "ProgressView",
            "style": "IPY_MODEL_6a9479a416814a73ba5826c57e4bfd4d",
            "_dom_classes": [],
            "description": "",
            "_model_name": "FloatProgressModel",
            "bar_style": "success",
            "max": 312087009,
            "_view_module": "@jupyter-widgets/controls",
            "_model_module_version": "1.5.0",
            "value": 312087009,
            "_view_count": null,
            "_view_module_version": "1.5.0",
            "orientation": "horizontal",
            "min": 0,
            "description_tooltip": null,
            "_model_module": "@jupyter-widgets/controls",
            "layout": "IPY_MODEL_baa48f58ad2d480da4668a92c4bacfdd"
          }
        },
        "2f03cbed51164f778ea66f61adb16056": {
          "model_module": "@jupyter-widgets/controls",
          "model_name": "HTMLModel",
          "model_module_version": "1.5.0",
          "state": {
            "_view_name": "HTMLView",
            "style": "IPY_MODEL_449c34c3d9194eea8a474d80ba18a087",
            "_dom_classes": [],
            "description": "",
            "_model_name": "HTMLModel",
            "placeholder": "​",
            "_view_module": "@jupyter-widgets/controls",
            "_model_module_version": "1.5.0",
            "value": " 298M/298M [00:08&lt;00:00, 34.0MB/s]",
            "_view_count": null,
            "_view_module_version": "1.5.0",
            "description_tooltip": null,
            "_model_module": "@jupyter-widgets/controls",
            "layout": "IPY_MODEL_1a296cf8682d4c4aa4a37c840d5bbf40"
          }
        },
        "baae4d1331b64faf9d6cafcc74c0bfc1": {
          "model_module": "@jupyter-widgets/controls",
          "model_name": "DescriptionStyleModel",
          "model_module_version": "1.5.0",
          "state": {
            "_view_name": "StyleView",
            "_model_name": "DescriptionStyleModel",
            "description_width": "",
            "_view_module": "@jupyter-widgets/base",
            "_model_module_version": "1.5.0",
            "_view_count": null,
            "_view_module_version": "1.2.0",
            "_model_module": "@jupyter-widgets/controls"
          }
        },
        "b9a2474206ae47caaa8f3aaaaca12101": {
          "model_module": "@jupyter-widgets/base",
          "model_name": "LayoutModel",
          "model_module_version": "1.2.0",
          "state": {
            "_view_name": "LayoutView",
            "grid_template_rows": null,
            "right": null,
            "justify_content": null,
            "_view_module": "@jupyter-widgets/base",
            "overflow": null,
            "_model_module_version": "1.2.0",
            "_view_count": null,
            "flex_flow": null,
            "width": null,
            "min_width": null,
            "border": null,
            "align_items": null,
            "bottom": null,
            "_model_module": "@jupyter-widgets/base",
            "top": null,
            "grid_column": null,
            "overflow_y": null,
            "overflow_x": null,
            "grid_auto_flow": null,
            "grid_area": null,
            "grid_template_columns": null,
            "flex": null,
            "_model_name": "LayoutModel",
            "justify_items": null,
            "grid_row": null,
            "max_height": null,
            "align_content": null,
            "visibility": null,
            "align_self": null,
            "height": null,
            "min_height": null,
            "padding": null,
            "grid_auto_rows": null,
            "grid_gap": null,
            "max_width": null,
            "order": null,
            "_view_module_version": "1.2.0",
            "grid_template_areas": null,
            "object_position": null,
            "object_fit": null,
            "grid_auto_columns": null,
            "margin": null,
            "display": null,
            "left": null
          }
        },
        "6a9479a416814a73ba5826c57e4bfd4d": {
          "model_module": "@jupyter-widgets/controls",
          "model_name": "ProgressStyleModel",
          "model_module_version": "1.5.0",
          "state": {
            "_view_name": "StyleView",
            "_model_name": "ProgressStyleModel",
            "description_width": "",
            "_view_module": "@jupyter-widgets/base",
            "_model_module_version": "1.5.0",
            "_view_count": null,
            "_view_module_version": "1.2.0",
            "bar_color": null,
            "_model_module": "@jupyter-widgets/controls"
          }
        },
        "baa48f58ad2d480da4668a92c4bacfdd": {
          "model_module": "@jupyter-widgets/base",
          "model_name": "LayoutModel",
          "model_module_version": "1.2.0",
          "state": {
            "_view_name": "LayoutView",
            "grid_template_rows": null,
            "right": null,
            "justify_content": null,
            "_view_module": "@jupyter-widgets/base",
            "overflow": null,
            "_model_module_version": "1.2.0",
            "_view_count": null,
            "flex_flow": null,
            "width": null,
            "min_width": null,
            "border": null,
            "align_items": null,
            "bottom": null,
            "_model_module": "@jupyter-widgets/base",
            "top": null,
            "grid_column": null,
            "overflow_y": null,
            "overflow_x": null,
            "grid_auto_flow": null,
            "grid_area": null,
            "grid_template_columns": null,
            "flex": null,
            "_model_name": "LayoutModel",
            "justify_items": null,
            "grid_row": null,
            "max_height": null,
            "align_content": null,
            "visibility": null,
            "align_self": null,
            "height": null,
            "min_height": null,
            "padding": null,
            "grid_auto_rows": null,
            "grid_gap": null,
            "max_width": null,
            "order": null,
            "_view_module_version": "1.2.0",
            "grid_template_areas": null,
            "object_position": null,
            "object_fit": null,
            "grid_auto_columns": null,
            "margin": null,
            "display": null,
            "left": null
          }
        },
        "449c34c3d9194eea8a474d80ba18a087": {
          "model_module": "@jupyter-widgets/controls",
          "model_name": "DescriptionStyleModel",
          "model_module_version": "1.5.0",
          "state": {
            "_view_name": "StyleView",
            "_model_name": "DescriptionStyleModel",
            "description_width": "",
            "_view_module": "@jupyter-widgets/base",
            "_model_module_version": "1.5.0",
            "_view_count": null,
            "_view_module_version": "1.2.0",
            "_model_module": "@jupyter-widgets/controls"
          }
        },
        "1a296cf8682d4c4aa4a37c840d5bbf40": {
          "model_module": "@jupyter-widgets/base",
          "model_name": "LayoutModel",
          "model_module_version": "1.2.0",
          "state": {
            "_view_name": "LayoutView",
            "grid_template_rows": null,
            "right": null,
            "justify_content": null,
            "_view_module": "@jupyter-widgets/base",
            "overflow": null,
            "_model_module_version": "1.2.0",
            "_view_count": null,
            "flex_flow": null,
            "width": null,
            "min_width": null,
            "border": null,
            "align_items": null,
            "bottom": null,
            "_model_module": "@jupyter-widgets/base",
            "top": null,
            "grid_column": null,
            "overflow_y": null,
            "overflow_x": null,
            "grid_auto_flow": null,
            "grid_area": null,
            "grid_template_columns": null,
            "flex": null,
            "_model_name": "LayoutModel",
            "justify_items": null,
            "grid_row": null,
            "max_height": null,
            "align_content": null,
            "visibility": null,
            "align_self": null,
            "height": null,
            "min_height": null,
            "padding": null,
            "grid_auto_rows": null,
            "grid_gap": null,
            "max_width": null,
            "order": null,
            "_view_module_version": "1.2.0",
            "grid_template_areas": null,
            "object_position": null,
            "object_fit": null,
            "grid_auto_columns": null,
            "margin": null,
            "display": null,
            "left": null
          }
        },
        "9bf0c9cf86744a22bb484e7d15a759eb": {
          "model_module": "@jupyter-widgets/controls",
          "model_name": "HBoxModel",
          "model_module_version": "1.5.0",
          "state": {
            "_view_name": "HBoxView",
            "_dom_classes": [],
            "_model_name": "HBoxModel",
            "_view_module": "@jupyter-widgets/controls",
            "_model_module_version": "1.5.0",
            "_view_count": null,
            "_view_module_version": "1.5.0",
            "box_style": "",
            "layout": "IPY_MODEL_726835aea16b45ae8d75daa0a6e3463f",
            "_model_module": "@jupyter-widgets/controls",
            "children": [
              "IPY_MODEL_6718c6faceaa405badafc6704a55bc3f",
              "IPY_MODEL_186bbbd833be4a689801b5e375d24153",
              "IPY_MODEL_f32d16ca8c30450a95b54cc0e168ee6f"
            ]
          }
        },
        "726835aea16b45ae8d75daa0a6e3463f": {
          "model_module": "@jupyter-widgets/base",
          "model_name": "LayoutModel",
          "model_module_version": "1.2.0",
          "state": {
            "_view_name": "LayoutView",
            "grid_template_rows": null,
            "right": null,
            "justify_content": null,
            "_view_module": "@jupyter-widgets/base",
            "overflow": null,
            "_model_module_version": "1.2.0",
            "_view_count": null,
            "flex_flow": null,
            "width": null,
            "min_width": null,
            "border": null,
            "align_items": null,
            "bottom": null,
            "_model_module": "@jupyter-widgets/base",
            "top": null,
            "grid_column": null,
            "overflow_y": null,
            "overflow_x": null,
            "grid_auto_flow": null,
            "grid_area": null,
            "grid_template_columns": null,
            "flex": null,
            "_model_name": "LayoutModel",
            "justify_items": null,
            "grid_row": null,
            "max_height": null,
            "align_content": null,
            "visibility": null,
            "align_self": null,
            "height": null,
            "min_height": null,
            "padding": null,
            "grid_auto_rows": null,
            "grid_gap": null,
            "max_width": null,
            "order": null,
            "_view_module_version": "1.2.0",
            "grid_template_areas": null,
            "object_position": null,
            "object_fit": null,
            "grid_auto_columns": null,
            "margin": null,
            "display": null,
            "left": null
          }
        },
        "6718c6faceaa405badafc6704a55bc3f": {
          "model_module": "@jupyter-widgets/controls",
          "model_name": "HTMLModel",
          "model_module_version": "1.5.0",
          "state": {
            "_view_name": "HTMLView",
            "style": "IPY_MODEL_f43f64050a434b71a19782d60558c7b3",
            "_dom_classes": [],
            "description": "",
            "_model_name": "HTMLModel",
            "placeholder": "​",
            "_view_module": "@jupyter-widgets/controls",
            "_model_module_version": "1.5.0",
            "value": "Downloading: 100%",
            "_view_count": null,
            "_view_module_version": "1.5.0",
            "description_tooltip": null,
            "_model_module": "@jupyter-widgets/controls",
            "layout": "IPY_MODEL_42d7cc2a6ee5498b8a499d1ec5d68908"
          }
        },
        "186bbbd833be4a689801b5e375d24153": {
          "model_module": "@jupyter-widgets/controls",
          "model_name": "FloatProgressModel",
          "model_module_version": "1.5.0",
          "state": {
            "_view_name": "ProgressView",
            "style": "IPY_MODEL_1649746230d1478da2706f6e23f332b5",
            "_dom_classes": [],
            "description": "",
            "_model_name": "FloatProgressModel",
            "bar_style": "success",
            "max": 1146,
            "_view_module": "@jupyter-widgets/controls",
            "_model_module_version": "1.5.0",
            "value": 1146,
            "_view_count": null,
            "_view_module_version": "1.5.0",
            "orientation": "horizontal",
            "min": 0,
            "description_tooltip": null,
            "_model_module": "@jupyter-widgets/controls",
            "layout": "IPY_MODEL_06a85a36b27c47ec835fae6c776627fe"
          }
        },
        "f32d16ca8c30450a95b54cc0e168ee6f": {
          "model_module": "@jupyter-widgets/controls",
          "model_name": "HTMLModel",
          "model_module_version": "1.5.0",
          "state": {
            "_view_name": "HTMLView",
            "style": "IPY_MODEL_b17df96f428b4ba1a444d00edb47e286",
            "_dom_classes": [],
            "description": "",
            "_model_name": "HTMLModel",
            "placeholder": "​",
            "_view_module": "@jupyter-widgets/controls",
            "_model_module_version": "1.5.0",
            "value": " 1.12k/1.12k [00:00&lt;00:00, 25.5kB/s]",
            "_view_count": null,
            "_view_module_version": "1.5.0",
            "description_tooltip": null,
            "_model_module": "@jupyter-widgets/controls",
            "layout": "IPY_MODEL_27c58497d778472992a5558733b08332"
          }
        },
        "f43f64050a434b71a19782d60558c7b3": {
          "model_module": "@jupyter-widgets/controls",
          "model_name": "DescriptionStyleModel",
          "model_module_version": "1.5.0",
          "state": {
            "_view_name": "StyleView",
            "_model_name": "DescriptionStyleModel",
            "description_width": "",
            "_view_module": "@jupyter-widgets/base",
            "_model_module_version": "1.5.0",
            "_view_count": null,
            "_view_module_version": "1.2.0",
            "_model_module": "@jupyter-widgets/controls"
          }
        },
        "42d7cc2a6ee5498b8a499d1ec5d68908": {
          "model_module": "@jupyter-widgets/base",
          "model_name": "LayoutModel",
          "model_module_version": "1.2.0",
          "state": {
            "_view_name": "LayoutView",
            "grid_template_rows": null,
            "right": null,
            "justify_content": null,
            "_view_module": "@jupyter-widgets/base",
            "overflow": null,
            "_model_module_version": "1.2.0",
            "_view_count": null,
            "flex_flow": null,
            "width": null,
            "min_width": null,
            "border": null,
            "align_items": null,
            "bottom": null,
            "_model_module": "@jupyter-widgets/base",
            "top": null,
            "grid_column": null,
            "overflow_y": null,
            "overflow_x": null,
            "grid_auto_flow": null,
            "grid_area": null,
            "grid_template_columns": null,
            "flex": null,
            "_model_name": "LayoutModel",
            "justify_items": null,
            "grid_row": null,
            "max_height": null,
            "align_content": null,
            "visibility": null,
            "align_self": null,
            "height": null,
            "min_height": null,
            "padding": null,
            "grid_auto_rows": null,
            "grid_gap": null,
            "max_width": null,
            "order": null,
            "_view_module_version": "1.2.0",
            "grid_template_areas": null,
            "object_position": null,
            "object_fit": null,
            "grid_auto_columns": null,
            "margin": null,
            "display": null,
            "left": null
          }
        },
        "1649746230d1478da2706f6e23f332b5": {
          "model_module": "@jupyter-widgets/controls",
          "model_name": "ProgressStyleModel",
          "model_module_version": "1.5.0",
          "state": {
            "_view_name": "StyleView",
            "_model_name": "ProgressStyleModel",
            "description_width": "",
            "_view_module": "@jupyter-widgets/base",
            "_model_module_version": "1.5.0",
            "_view_count": null,
            "_view_module_version": "1.2.0",
            "bar_color": null,
            "_model_module": "@jupyter-widgets/controls"
          }
        },
        "06a85a36b27c47ec835fae6c776627fe": {
          "model_module": "@jupyter-widgets/base",
          "model_name": "LayoutModel",
          "model_module_version": "1.2.0",
          "state": {
            "_view_name": "LayoutView",
            "grid_template_rows": null,
            "right": null,
            "justify_content": null,
            "_view_module": "@jupyter-widgets/base",
            "overflow": null,
            "_model_module_version": "1.2.0",
            "_view_count": null,
            "flex_flow": null,
            "width": null,
            "min_width": null,
            "border": null,
            "align_items": null,
            "bottom": null,
            "_model_module": "@jupyter-widgets/base",
            "top": null,
            "grid_column": null,
            "overflow_y": null,
            "overflow_x": null,
            "grid_auto_flow": null,
            "grid_area": null,
            "grid_template_columns": null,
            "flex": null,
            "_model_name": "LayoutModel",
            "justify_items": null,
            "grid_row": null,
            "max_height": null,
            "align_content": null,
            "visibility": null,
            "align_self": null,
            "height": null,
            "min_height": null,
            "padding": null,
            "grid_auto_rows": null,
            "grid_gap": null,
            "max_width": null,
            "order": null,
            "_view_module_version": "1.2.0",
            "grid_template_areas": null,
            "object_position": null,
            "object_fit": null,
            "grid_auto_columns": null,
            "margin": null,
            "display": null,
            "left": null
          }
        },
        "b17df96f428b4ba1a444d00edb47e286": {
          "model_module": "@jupyter-widgets/controls",
          "model_name": "DescriptionStyleModel",
          "model_module_version": "1.5.0",
          "state": {
            "_view_name": "StyleView",
            "_model_name": "DescriptionStyleModel",
            "description_width": "",
            "_view_module": "@jupyter-widgets/base",
            "_model_module_version": "1.5.0",
            "_view_count": null,
            "_view_module_version": "1.2.0",
            "_model_module": "@jupyter-widgets/controls"
          }
        },
        "27c58497d778472992a5558733b08332": {
          "model_module": "@jupyter-widgets/base",
          "model_name": "LayoutModel",
          "model_module_version": "1.2.0",
          "state": {
            "_view_name": "LayoutView",
            "grid_template_rows": null,
            "right": null,
            "justify_content": null,
            "_view_module": "@jupyter-widgets/base",
            "overflow": null,
            "_model_module_version": "1.2.0",
            "_view_count": null,
            "flex_flow": null,
            "width": null,
            "min_width": null,
            "border": null,
            "align_items": null,
            "bottom": null,
            "_model_module": "@jupyter-widgets/base",
            "top": null,
            "grid_column": null,
            "overflow_y": null,
            "overflow_x": null,
            "grid_auto_flow": null,
            "grid_area": null,
            "grid_template_columns": null,
            "flex": null,
            "_model_name": "LayoutModel",
            "justify_items": null,
            "grid_row": null,
            "max_height": null,
            "align_content": null,
            "visibility": null,
            "align_self": null,
            "height": null,
            "min_height": null,
            "padding": null,
            "grid_auto_rows": null,
            "grid_gap": null,
            "max_width": null,
            "order": null,
            "_view_module_version": "1.2.0",
            "grid_template_areas": null,
            "object_position": null,
            "object_fit": null,
            "grid_auto_columns": null,
            "margin": null,
            "display": null,
            "left": null
          }
        },
        "d3d56576fd0f446d982b6f3a045f9139": {
          "model_module": "@jupyter-widgets/controls",
          "model_name": "HBoxModel",
          "model_module_version": "1.5.0",
          "state": {
            "_view_name": "HBoxView",
            "_dom_classes": [],
            "_model_name": "HBoxModel",
            "_view_module": "@jupyter-widgets/controls",
            "_model_module_version": "1.5.0",
            "_view_count": null,
            "_view_module_version": "1.5.0",
            "box_style": "",
            "layout": "IPY_MODEL_7cd16df8a67947c2a238cc99c123e151",
            "_model_module": "@jupyter-widgets/controls",
            "children": [
              "IPY_MODEL_d0d12841ccfc4a50bd7131f5771d6bdc",
              "IPY_MODEL_97eb46d219e84ff99dc5cc4f9ba17f45",
              "IPY_MODEL_ae55fec50a5841a89961015d1ad99a6d"
            ]
          }
        },
        "7cd16df8a67947c2a238cc99c123e151": {
          "model_module": "@jupyter-widgets/base",
          "model_name": "LayoutModel",
          "model_module_version": "1.2.0",
          "state": {
            "_view_name": "LayoutView",
            "grid_template_rows": null,
            "right": null,
            "justify_content": null,
            "_view_module": "@jupyter-widgets/base",
            "overflow": null,
            "_model_module_version": "1.2.0",
            "_view_count": null,
            "flex_flow": null,
            "width": null,
            "min_width": null,
            "border": null,
            "align_items": null,
            "bottom": null,
            "_model_module": "@jupyter-widgets/base",
            "top": null,
            "grid_column": null,
            "overflow_y": null,
            "overflow_x": null,
            "grid_auto_flow": null,
            "grid_area": null,
            "grid_template_columns": null,
            "flex": null,
            "_model_name": "LayoutModel",
            "justify_items": null,
            "grid_row": null,
            "max_height": null,
            "align_content": null,
            "visibility": null,
            "align_self": null,
            "height": null,
            "min_height": null,
            "padding": null,
            "grid_auto_rows": null,
            "grid_gap": null,
            "max_width": null,
            "order": null,
            "_view_module_version": "1.2.0",
            "grid_template_areas": null,
            "object_position": null,
            "object_fit": null,
            "grid_auto_columns": null,
            "margin": null,
            "display": null,
            "left": null
          }
        },
        "d0d12841ccfc4a50bd7131f5771d6bdc": {
          "model_module": "@jupyter-widgets/controls",
          "model_name": "HTMLModel",
          "model_module_version": "1.5.0",
          "state": {
            "_view_name": "HTMLView",
            "style": "IPY_MODEL_8b156c007a1f4442af1639cc827c7672",
            "_dom_classes": [],
            "description": "",
            "_model_name": "HTMLModel",
            "placeholder": "​",
            "_view_module": "@jupyter-widgets/controls",
            "_model_module_version": "1.5.0",
            "value": "Downloading: 100%",
            "_view_count": null,
            "_view_module_version": "1.5.0",
            "description_tooltip": null,
            "_model_module": "@jupyter-widgets/controls",
            "layout": "IPY_MODEL_fb77856a52d04031b2b2de01d93ff0cc"
          }
        },
        "97eb46d219e84ff99dc5cc4f9ba17f45": {
          "model_module": "@jupyter-widgets/controls",
          "model_name": "FloatProgressModel",
          "model_module_version": "1.5.0",
          "state": {
            "_view_name": "ProgressView",
            "style": "IPY_MODEL_10f189bc6aa34266a833159768c0ebe5",
            "_dom_classes": [],
            "description": "",
            "_model_name": "FloatProgressModel",
            "bar_style": "success",
            "max": 312087009,
            "_view_module": "@jupyter-widgets/controls",
            "_model_module_version": "1.5.0",
            "value": 312087009,
            "_view_count": null,
            "_view_module_version": "1.5.0",
            "orientation": "horizontal",
            "min": 0,
            "description_tooltip": null,
            "_model_module": "@jupyter-widgets/controls",
            "layout": "IPY_MODEL_ea89fa42b21d4b89a2fa61e058e679c6"
          }
        },
        "ae55fec50a5841a89961015d1ad99a6d": {
          "model_module": "@jupyter-widgets/controls",
          "model_name": "HTMLModel",
          "model_module_version": "1.5.0",
          "state": {
            "_view_name": "HTMLView",
            "style": "IPY_MODEL_7578e19133444520b39ed32e2c805d8e",
            "_dom_classes": [],
            "description": "",
            "_model_name": "HTMLModel",
            "placeholder": "​",
            "_view_module": "@jupyter-widgets/controls",
            "_model_module_version": "1.5.0",
            "value": " 298M/298M [00:08&lt;00:00, 37.6MB/s]",
            "_view_count": null,
            "_view_module_version": "1.5.0",
            "description_tooltip": null,
            "_model_module": "@jupyter-widgets/controls",
            "layout": "IPY_MODEL_e340a22ebda244209cfb8bf07ebcec53"
          }
        },
        "8b156c007a1f4442af1639cc827c7672": {
          "model_module": "@jupyter-widgets/controls",
          "model_name": "DescriptionStyleModel",
          "model_module_version": "1.5.0",
          "state": {
            "_view_name": "StyleView",
            "_model_name": "DescriptionStyleModel",
            "description_width": "",
            "_view_module": "@jupyter-widgets/base",
            "_model_module_version": "1.5.0",
            "_view_count": null,
            "_view_module_version": "1.2.0",
            "_model_module": "@jupyter-widgets/controls"
          }
        },
        "fb77856a52d04031b2b2de01d93ff0cc": {
          "model_module": "@jupyter-widgets/base",
          "model_name": "LayoutModel",
          "model_module_version": "1.2.0",
          "state": {
            "_view_name": "LayoutView",
            "grid_template_rows": null,
            "right": null,
            "justify_content": null,
            "_view_module": "@jupyter-widgets/base",
            "overflow": null,
            "_model_module_version": "1.2.0",
            "_view_count": null,
            "flex_flow": null,
            "width": null,
            "min_width": null,
            "border": null,
            "align_items": null,
            "bottom": null,
            "_model_module": "@jupyter-widgets/base",
            "top": null,
            "grid_column": null,
            "overflow_y": null,
            "overflow_x": null,
            "grid_auto_flow": null,
            "grid_area": null,
            "grid_template_columns": null,
            "flex": null,
            "_model_name": "LayoutModel",
            "justify_items": null,
            "grid_row": null,
            "max_height": null,
            "align_content": null,
            "visibility": null,
            "align_self": null,
            "height": null,
            "min_height": null,
            "padding": null,
            "grid_auto_rows": null,
            "grid_gap": null,
            "max_width": null,
            "order": null,
            "_view_module_version": "1.2.0",
            "grid_template_areas": null,
            "object_position": null,
            "object_fit": null,
            "grid_auto_columns": null,
            "margin": null,
            "display": null,
            "left": null
          }
        },
        "10f189bc6aa34266a833159768c0ebe5": {
          "model_module": "@jupyter-widgets/controls",
          "model_name": "ProgressStyleModel",
          "model_module_version": "1.5.0",
          "state": {
            "_view_name": "StyleView",
            "_model_name": "ProgressStyleModel",
            "description_width": "",
            "_view_module": "@jupyter-widgets/base",
            "_model_module_version": "1.5.0",
            "_view_count": null,
            "_view_module_version": "1.2.0",
            "bar_color": null,
            "_model_module": "@jupyter-widgets/controls"
          }
        },
        "ea89fa42b21d4b89a2fa61e058e679c6": {
          "model_module": "@jupyter-widgets/base",
          "model_name": "LayoutModel",
          "model_module_version": "1.2.0",
          "state": {
            "_view_name": "LayoutView",
            "grid_template_rows": null,
            "right": null,
            "justify_content": null,
            "_view_module": "@jupyter-widgets/base",
            "overflow": null,
            "_model_module_version": "1.2.0",
            "_view_count": null,
            "flex_flow": null,
            "width": null,
            "min_width": null,
            "border": null,
            "align_items": null,
            "bottom": null,
            "_model_module": "@jupyter-widgets/base",
            "top": null,
            "grid_column": null,
            "overflow_y": null,
            "overflow_x": null,
            "grid_auto_flow": null,
            "grid_area": null,
            "grid_template_columns": null,
            "flex": null,
            "_model_name": "LayoutModel",
            "justify_items": null,
            "grid_row": null,
            "max_height": null,
            "align_content": null,
            "visibility": null,
            "align_self": null,
            "height": null,
            "min_height": null,
            "padding": null,
            "grid_auto_rows": null,
            "grid_gap": null,
            "max_width": null,
            "order": null,
            "_view_module_version": "1.2.0",
            "grid_template_areas": null,
            "object_position": null,
            "object_fit": null,
            "grid_auto_columns": null,
            "margin": null,
            "display": null,
            "left": null
          }
        },
        "7578e19133444520b39ed32e2c805d8e": {
          "model_module": "@jupyter-widgets/controls",
          "model_name": "DescriptionStyleModel",
          "model_module_version": "1.5.0",
          "state": {
            "_view_name": "StyleView",
            "_model_name": "DescriptionStyleModel",
            "description_width": "",
            "_view_module": "@jupyter-widgets/base",
            "_model_module_version": "1.5.0",
            "_view_count": null,
            "_view_module_version": "1.2.0",
            "_model_module": "@jupyter-widgets/controls"
          }
        },
        "e340a22ebda244209cfb8bf07ebcec53": {
          "model_module": "@jupyter-widgets/base",
          "model_name": "LayoutModel",
          "model_module_version": "1.2.0",
          "state": {
            "_view_name": "LayoutView",
            "grid_template_rows": null,
            "right": null,
            "justify_content": null,
            "_view_module": "@jupyter-widgets/base",
            "overflow": null,
            "_model_module_version": "1.2.0",
            "_view_count": null,
            "flex_flow": null,
            "width": null,
            "min_width": null,
            "border": null,
            "align_items": null,
            "bottom": null,
            "_model_module": "@jupyter-widgets/base",
            "top": null,
            "grid_column": null,
            "overflow_y": null,
            "overflow_x": null,
            "grid_auto_flow": null,
            "grid_area": null,
            "grid_template_columns": null,
            "flex": null,
            "_model_name": "LayoutModel",
            "justify_items": null,
            "grid_row": null,
            "max_height": null,
            "align_content": null,
            "visibility": null,
            "align_self": null,
            "height": null,
            "min_height": null,
            "padding": null,
            "grid_auto_rows": null,
            "grid_gap": null,
            "max_width": null,
            "order": null,
            "_view_module_version": "1.2.0",
            "grid_template_areas": null,
            "object_position": null,
            "object_fit": null,
            "grid_auto_columns": null,
            "margin": null,
            "display": null,
            "left": null
          }
        },
        "cf04c6a17ef84a69a35efa79e30cf04a": {
          "model_module": "@jupyter-widgets/controls",
          "model_name": "HBoxModel",
          "model_module_version": "1.5.0",
          "state": {
            "_view_name": "HBoxView",
            "_dom_classes": [],
            "_model_name": "HBoxModel",
            "_view_module": "@jupyter-widgets/controls",
            "_model_module_version": "1.5.0",
            "_view_count": null,
            "_view_module_version": "1.5.0",
            "box_style": "",
            "layout": "IPY_MODEL_92237ee8430245f198eeede427917d44",
            "_model_module": "@jupyter-widgets/controls",
            "children": [
              "IPY_MODEL_a47e9d0fd1684616968580757febc22b",
              "IPY_MODEL_5479cc1bf3c14ffcaddfe1c193022eeb",
              "IPY_MODEL_34e3b36101434fdfab0661090cc84667"
            ]
          }
        },
        "92237ee8430245f198eeede427917d44": {
          "model_module": "@jupyter-widgets/base",
          "model_name": "LayoutModel",
          "model_module_version": "1.2.0",
          "state": {
            "_view_name": "LayoutView",
            "grid_template_rows": null,
            "right": null,
            "justify_content": null,
            "_view_module": "@jupyter-widgets/base",
            "overflow": null,
            "_model_module_version": "1.2.0",
            "_view_count": null,
            "flex_flow": null,
            "width": null,
            "min_width": null,
            "border": null,
            "align_items": null,
            "bottom": null,
            "_model_module": "@jupyter-widgets/base",
            "top": null,
            "grid_column": null,
            "overflow_y": null,
            "overflow_x": null,
            "grid_auto_flow": null,
            "grid_area": null,
            "grid_template_columns": null,
            "flex": null,
            "_model_name": "LayoutModel",
            "justify_items": null,
            "grid_row": null,
            "max_height": null,
            "align_content": null,
            "visibility": null,
            "align_self": null,
            "height": null,
            "min_height": null,
            "padding": null,
            "grid_auto_rows": null,
            "grid_gap": null,
            "max_width": null,
            "order": null,
            "_view_module_version": "1.2.0",
            "grid_template_areas": null,
            "object_position": null,
            "object_fit": null,
            "grid_auto_columns": null,
            "margin": null,
            "display": null,
            "left": null
          }
        },
        "a47e9d0fd1684616968580757febc22b": {
          "model_module": "@jupyter-widgets/controls",
          "model_name": "HTMLModel",
          "model_module_version": "1.5.0",
          "state": {
            "_view_name": "HTMLView",
            "style": "IPY_MODEL_de4e7278b3ca47bda325cabe66a148b6",
            "_dom_classes": [],
            "description": "",
            "_model_name": "HTMLModel",
            "placeholder": "​",
            "_view_module": "@jupyter-widgets/controls",
            "_model_module_version": "1.5.0",
            "value": "Downloading: 100%",
            "_view_count": null,
            "_view_module_version": "1.5.0",
            "description_tooltip": null,
            "_model_module": "@jupyter-widgets/controls",
            "layout": "IPY_MODEL_105f66dd395e4223b350a527f2835c07"
          }
        },
        "5479cc1bf3c14ffcaddfe1c193022eeb": {
          "model_module": "@jupyter-widgets/controls",
          "model_name": "FloatProgressModel",
          "model_module_version": "1.5.0",
          "state": {
            "_view_name": "ProgressView",
            "style": "IPY_MODEL_50b72807a06542bb8be65faf8bca0eb1",
            "_dom_classes": [],
            "description": "",
            "_model_name": "FloatProgressModel",
            "bar_style": "success",
            "max": 44,
            "_view_module": "@jupyter-widgets/controls",
            "_model_module_version": "1.5.0",
            "value": 44,
            "_view_count": null,
            "_view_module_version": "1.5.0",
            "orientation": "horizontal",
            "min": 0,
            "description_tooltip": null,
            "_model_module": "@jupyter-widgets/controls",
            "layout": "IPY_MODEL_1401a5a0f8e04663b0917c84c638a9f8"
          }
        },
        "34e3b36101434fdfab0661090cc84667": {
          "model_module": "@jupyter-widgets/controls",
          "model_name": "HTMLModel",
          "model_module_version": "1.5.0",
          "state": {
            "_view_name": "HTMLView",
            "style": "IPY_MODEL_4f4ca27b975e47ee841d3f27b1886114",
            "_dom_classes": [],
            "description": "",
            "_model_name": "HTMLModel",
            "placeholder": "​",
            "_view_module": "@jupyter-widgets/controls",
            "_model_module_version": "1.5.0",
            "value": " 44.0/44.0 [00:00&lt;00:00, 1.33kB/s]",
            "_view_count": null,
            "_view_module_version": "1.5.0",
            "description_tooltip": null,
            "_model_module": "@jupyter-widgets/controls",
            "layout": "IPY_MODEL_2f4322bcc46e47f7ac194989bee89dae"
          }
        },
        "de4e7278b3ca47bda325cabe66a148b6": {
          "model_module": "@jupyter-widgets/controls",
          "model_name": "DescriptionStyleModel",
          "model_module_version": "1.5.0",
          "state": {
            "_view_name": "StyleView",
            "_model_name": "DescriptionStyleModel",
            "description_width": "",
            "_view_module": "@jupyter-widgets/base",
            "_model_module_version": "1.5.0",
            "_view_count": null,
            "_view_module_version": "1.2.0",
            "_model_module": "@jupyter-widgets/controls"
          }
        },
        "105f66dd395e4223b350a527f2835c07": {
          "model_module": "@jupyter-widgets/base",
          "model_name": "LayoutModel",
          "model_module_version": "1.2.0",
          "state": {
            "_view_name": "LayoutView",
            "grid_template_rows": null,
            "right": null,
            "justify_content": null,
            "_view_module": "@jupyter-widgets/base",
            "overflow": null,
            "_model_module_version": "1.2.0",
            "_view_count": null,
            "flex_flow": null,
            "width": null,
            "min_width": null,
            "border": null,
            "align_items": null,
            "bottom": null,
            "_model_module": "@jupyter-widgets/base",
            "top": null,
            "grid_column": null,
            "overflow_y": null,
            "overflow_x": null,
            "grid_auto_flow": null,
            "grid_area": null,
            "grid_template_columns": null,
            "flex": null,
            "_model_name": "LayoutModel",
            "justify_items": null,
            "grid_row": null,
            "max_height": null,
            "align_content": null,
            "visibility": null,
            "align_self": null,
            "height": null,
            "min_height": null,
            "padding": null,
            "grid_auto_rows": null,
            "grid_gap": null,
            "max_width": null,
            "order": null,
            "_view_module_version": "1.2.0",
            "grid_template_areas": null,
            "object_position": null,
            "object_fit": null,
            "grid_auto_columns": null,
            "margin": null,
            "display": null,
            "left": null
          }
        },
        "50b72807a06542bb8be65faf8bca0eb1": {
          "model_module": "@jupyter-widgets/controls",
          "model_name": "ProgressStyleModel",
          "model_module_version": "1.5.0",
          "state": {
            "_view_name": "StyleView",
            "_model_name": "ProgressStyleModel",
            "description_width": "",
            "_view_module": "@jupyter-widgets/base",
            "_model_module_version": "1.5.0",
            "_view_count": null,
            "_view_module_version": "1.2.0",
            "bar_color": null,
            "_model_module": "@jupyter-widgets/controls"
          }
        },
        "1401a5a0f8e04663b0917c84c638a9f8": {
          "model_module": "@jupyter-widgets/base",
          "model_name": "LayoutModel",
          "model_module_version": "1.2.0",
          "state": {
            "_view_name": "LayoutView",
            "grid_template_rows": null,
            "right": null,
            "justify_content": null,
            "_view_module": "@jupyter-widgets/base",
            "overflow": null,
            "_model_module_version": "1.2.0",
            "_view_count": null,
            "flex_flow": null,
            "width": null,
            "min_width": null,
            "border": null,
            "align_items": null,
            "bottom": null,
            "_model_module": "@jupyter-widgets/base",
            "top": null,
            "grid_column": null,
            "overflow_y": null,
            "overflow_x": null,
            "grid_auto_flow": null,
            "grid_area": null,
            "grid_template_columns": null,
            "flex": null,
            "_model_name": "LayoutModel",
            "justify_items": null,
            "grid_row": null,
            "max_height": null,
            "align_content": null,
            "visibility": null,
            "align_self": null,
            "height": null,
            "min_height": null,
            "padding": null,
            "grid_auto_rows": null,
            "grid_gap": null,
            "max_width": null,
            "order": null,
            "_view_module_version": "1.2.0",
            "grid_template_areas": null,
            "object_position": null,
            "object_fit": null,
            "grid_auto_columns": null,
            "margin": null,
            "display": null,
            "left": null
          }
        },
        "4f4ca27b975e47ee841d3f27b1886114": {
          "model_module": "@jupyter-widgets/controls",
          "model_name": "DescriptionStyleModel",
          "model_module_version": "1.5.0",
          "state": {
            "_view_name": "StyleView",
            "_model_name": "DescriptionStyleModel",
            "description_width": "",
            "_view_module": "@jupyter-widgets/base",
            "_model_module_version": "1.5.0",
            "_view_count": null,
            "_view_module_version": "1.2.0",
            "_model_module": "@jupyter-widgets/controls"
          }
        },
        "2f4322bcc46e47f7ac194989bee89dae": {
          "model_module": "@jupyter-widgets/base",
          "model_name": "LayoutModel",
          "model_module_version": "1.2.0",
          "state": {
            "_view_name": "LayoutView",
            "grid_template_rows": null,
            "right": null,
            "justify_content": null,
            "_view_module": "@jupyter-widgets/base",
            "overflow": null,
            "_model_module_version": "1.2.0",
            "_view_count": null,
            "flex_flow": null,
            "width": null,
            "min_width": null,
            "border": null,
            "align_items": null,
            "bottom": null,
            "_model_module": "@jupyter-widgets/base",
            "top": null,
            "grid_column": null,
            "overflow_y": null,
            "overflow_x": null,
            "grid_auto_flow": null,
            "grid_area": null,
            "grid_template_columns": null,
            "flex": null,
            "_model_name": "LayoutModel",
            "justify_items": null,
            "grid_row": null,
            "max_height": null,
            "align_content": null,
            "visibility": null,
            "align_self": null,
            "height": null,
            "min_height": null,
            "padding": null,
            "grid_auto_rows": null,
            "grid_gap": null,
            "max_width": null,
            "order": null,
            "_view_module_version": "1.2.0",
            "grid_template_areas": null,
            "object_position": null,
            "object_fit": null,
            "grid_auto_columns": null,
            "margin": null,
            "display": null,
            "left": null
          }
        },
        "e664ff4d95224eabbc4aa607eba2a80c": {
          "model_module": "@jupyter-widgets/controls",
          "model_name": "HBoxModel",
          "model_module_version": "1.5.0",
          "state": {
            "_view_name": "HBoxView",
            "_dom_classes": [],
            "_model_name": "HBoxModel",
            "_view_module": "@jupyter-widgets/controls",
            "_model_module_version": "1.5.0",
            "_view_count": null,
            "_view_module_version": "1.5.0",
            "box_style": "",
            "layout": "IPY_MODEL_394879d71d174e1cabeebc287052c94b",
            "_model_module": "@jupyter-widgets/controls",
            "children": [
              "IPY_MODEL_8dac55d20a4e426d9eff1aebb3f49185",
              "IPY_MODEL_b5017364be364de292efc6f1ec79126c",
              "IPY_MODEL_0e396769210b4f5497ff6469aaa3ec54"
            ]
          }
        },
        "394879d71d174e1cabeebc287052c94b": {
          "model_module": "@jupyter-widgets/base",
          "model_name": "LayoutModel",
          "model_module_version": "1.2.0",
          "state": {
            "_view_name": "LayoutView",
            "grid_template_rows": null,
            "right": null,
            "justify_content": null,
            "_view_module": "@jupyter-widgets/base",
            "overflow": null,
            "_model_module_version": "1.2.0",
            "_view_count": null,
            "flex_flow": null,
            "width": null,
            "min_width": null,
            "border": null,
            "align_items": null,
            "bottom": null,
            "_model_module": "@jupyter-widgets/base",
            "top": null,
            "grid_column": null,
            "overflow_y": null,
            "overflow_x": null,
            "grid_auto_flow": null,
            "grid_area": null,
            "grid_template_columns": null,
            "flex": null,
            "_model_name": "LayoutModel",
            "justify_items": null,
            "grid_row": null,
            "max_height": null,
            "align_content": null,
            "visibility": null,
            "align_self": null,
            "height": null,
            "min_height": null,
            "padding": null,
            "grid_auto_rows": null,
            "grid_gap": null,
            "max_width": null,
            "order": null,
            "_view_module_version": "1.2.0",
            "grid_template_areas": null,
            "object_position": null,
            "object_fit": null,
            "grid_auto_columns": null,
            "margin": null,
            "display": null,
            "left": null
          }
        },
        "8dac55d20a4e426d9eff1aebb3f49185": {
          "model_module": "@jupyter-widgets/controls",
          "model_name": "HTMLModel",
          "model_module_version": "1.5.0",
          "state": {
            "_view_name": "HTMLView",
            "style": "IPY_MODEL_6dd85c762e9f4e7aaf755a40431eeb68",
            "_dom_classes": [],
            "description": "",
            "_model_name": "HTMLModel",
            "placeholder": "​",
            "_view_module": "@jupyter-widgets/controls",
            "_model_module_version": "1.5.0",
            "value": "Downloading: 100%",
            "_view_count": null,
            "_view_module_version": "1.5.0",
            "description_tooltip": null,
            "_model_module": "@jupyter-widgets/controls",
            "layout": "IPY_MODEL_4b8e4fa0b1a347d2a5c3139b5f57e2ef"
          }
        },
        "b5017364be364de292efc6f1ec79126c": {
          "model_module": "@jupyter-widgets/controls",
          "model_name": "FloatProgressModel",
          "model_module_version": "1.5.0",
          "state": {
            "_view_name": "ProgressView",
            "style": "IPY_MODEL_7f17bc1d2e5f45e5b5a726335298b4df",
            "_dom_classes": [],
            "description": "",
            "_model_name": "FloatProgressModel",
            "bar_style": "success",
            "max": 804677,
            "_view_module": "@jupyter-widgets/controls",
            "_model_module_version": "1.5.0",
            "value": 804677,
            "_view_count": null,
            "_view_module_version": "1.5.0",
            "orientation": "horizontal",
            "min": 0,
            "description_tooltip": null,
            "_model_module": "@jupyter-widgets/controls",
            "layout": "IPY_MODEL_ed70424dc28841aaaa3a1826edd7dd88"
          }
        },
        "0e396769210b4f5497ff6469aaa3ec54": {
          "model_module": "@jupyter-widgets/controls",
          "model_name": "HTMLModel",
          "model_module_version": "1.5.0",
          "state": {
            "_view_name": "HTMLView",
            "style": "IPY_MODEL_35d1029505484224aca5536742867a7f",
            "_dom_classes": [],
            "description": "",
            "_model_name": "HTMLModel",
            "placeholder": "​",
            "_view_module": "@jupyter-widgets/controls",
            "_model_module_version": "1.5.0",
            "value": " 786k/786k [00:00&lt;00:00, 910kB/s]",
            "_view_count": null,
            "_view_module_version": "1.5.0",
            "description_tooltip": null,
            "_model_module": "@jupyter-widgets/controls",
            "layout": "IPY_MODEL_d47ba2666f434017bb3e66ecdc971977"
          }
        },
        "6dd85c762e9f4e7aaf755a40431eeb68": {
          "model_module": "@jupyter-widgets/controls",
          "model_name": "DescriptionStyleModel",
          "model_module_version": "1.5.0",
          "state": {
            "_view_name": "StyleView",
            "_model_name": "DescriptionStyleModel",
            "description_width": "",
            "_view_module": "@jupyter-widgets/base",
            "_model_module_version": "1.5.0",
            "_view_count": null,
            "_view_module_version": "1.2.0",
            "_model_module": "@jupyter-widgets/controls"
          }
        },
        "4b8e4fa0b1a347d2a5c3139b5f57e2ef": {
          "model_module": "@jupyter-widgets/base",
          "model_name": "LayoutModel",
          "model_module_version": "1.2.0",
          "state": {
            "_view_name": "LayoutView",
            "grid_template_rows": null,
            "right": null,
            "justify_content": null,
            "_view_module": "@jupyter-widgets/base",
            "overflow": null,
            "_model_module_version": "1.2.0",
            "_view_count": null,
            "flex_flow": null,
            "width": null,
            "min_width": null,
            "border": null,
            "align_items": null,
            "bottom": null,
            "_model_module": "@jupyter-widgets/base",
            "top": null,
            "grid_column": null,
            "overflow_y": null,
            "overflow_x": null,
            "grid_auto_flow": null,
            "grid_area": null,
            "grid_template_columns": null,
            "flex": null,
            "_model_name": "LayoutModel",
            "justify_items": null,
            "grid_row": null,
            "max_height": null,
            "align_content": null,
            "visibility": null,
            "align_self": null,
            "height": null,
            "min_height": null,
            "padding": null,
            "grid_auto_rows": null,
            "grid_gap": null,
            "max_width": null,
            "order": null,
            "_view_module_version": "1.2.0",
            "grid_template_areas": null,
            "object_position": null,
            "object_fit": null,
            "grid_auto_columns": null,
            "margin": null,
            "display": null,
            "left": null
          }
        },
        "7f17bc1d2e5f45e5b5a726335298b4df": {
          "model_module": "@jupyter-widgets/controls",
          "model_name": "ProgressStyleModel",
          "model_module_version": "1.5.0",
          "state": {
            "_view_name": "StyleView",
            "_model_name": "ProgressStyleModel",
            "description_width": "",
            "_view_module": "@jupyter-widgets/base",
            "_model_module_version": "1.5.0",
            "_view_count": null,
            "_view_module_version": "1.2.0",
            "bar_color": null,
            "_model_module": "@jupyter-widgets/controls"
          }
        },
        "ed70424dc28841aaaa3a1826edd7dd88": {
          "model_module": "@jupyter-widgets/base",
          "model_name": "LayoutModel",
          "model_module_version": "1.2.0",
          "state": {
            "_view_name": "LayoutView",
            "grid_template_rows": null,
            "right": null,
            "justify_content": null,
            "_view_module": "@jupyter-widgets/base",
            "overflow": null,
            "_model_module_version": "1.2.0",
            "_view_count": null,
            "flex_flow": null,
            "width": null,
            "min_width": null,
            "border": null,
            "align_items": null,
            "bottom": null,
            "_model_module": "@jupyter-widgets/base",
            "top": null,
            "grid_column": null,
            "overflow_y": null,
            "overflow_x": null,
            "grid_auto_flow": null,
            "grid_area": null,
            "grid_template_columns": null,
            "flex": null,
            "_model_name": "LayoutModel",
            "justify_items": null,
            "grid_row": null,
            "max_height": null,
            "align_content": null,
            "visibility": null,
            "align_self": null,
            "height": null,
            "min_height": null,
            "padding": null,
            "grid_auto_rows": null,
            "grid_gap": null,
            "max_width": null,
            "order": null,
            "_view_module_version": "1.2.0",
            "grid_template_areas": null,
            "object_position": null,
            "object_fit": null,
            "grid_auto_columns": null,
            "margin": null,
            "display": null,
            "left": null
          }
        },
        "35d1029505484224aca5536742867a7f": {
          "model_module": "@jupyter-widgets/controls",
          "model_name": "DescriptionStyleModel",
          "model_module_version": "1.5.0",
          "state": {
            "_view_name": "StyleView",
            "_model_name": "DescriptionStyleModel",
            "description_width": "",
            "_view_module": "@jupyter-widgets/base",
            "_model_module_version": "1.5.0",
            "_view_count": null,
            "_view_module_version": "1.2.0",
            "_model_module": "@jupyter-widgets/controls"
          }
        },
        "d47ba2666f434017bb3e66ecdc971977": {
          "model_module": "@jupyter-widgets/base",
          "model_name": "LayoutModel",
          "model_module_version": "1.2.0",
          "state": {
            "_view_name": "LayoutView",
            "grid_template_rows": null,
            "right": null,
            "justify_content": null,
            "_view_module": "@jupyter-widgets/base",
            "overflow": null,
            "_model_module_version": "1.2.0",
            "_view_count": null,
            "flex_flow": null,
            "width": null,
            "min_width": null,
            "border": null,
            "align_items": null,
            "bottom": null,
            "_model_module": "@jupyter-widgets/base",
            "top": null,
            "grid_column": null,
            "overflow_y": null,
            "overflow_x": null,
            "grid_auto_flow": null,
            "grid_area": null,
            "grid_template_columns": null,
            "flex": null,
            "_model_name": "LayoutModel",
            "justify_items": null,
            "grid_row": null,
            "max_height": null,
            "align_content": null,
            "visibility": null,
            "align_self": null,
            "height": null,
            "min_height": null,
            "padding": null,
            "grid_auto_rows": null,
            "grid_gap": null,
            "max_width": null,
            "order": null,
            "_view_module_version": "1.2.0",
            "grid_template_areas": null,
            "object_position": null,
            "object_fit": null,
            "grid_auto_columns": null,
            "margin": null,
            "display": null,
            "left": null
          }
        },
        "4bf259f691424ed6800942ca54c6e75f": {
          "model_module": "@jupyter-widgets/controls",
          "model_name": "HBoxModel",
          "model_module_version": "1.5.0",
          "state": {
            "_view_name": "HBoxView",
            "_dom_classes": [],
            "_model_name": "HBoxModel",
            "_view_module": "@jupyter-widgets/controls",
            "_model_module_version": "1.5.0",
            "_view_count": null,
            "_view_module_version": "1.5.0",
            "box_style": "",
            "layout": "IPY_MODEL_50c6e2ea69684631891cf9d5431cefc1",
            "_model_module": "@jupyter-widgets/controls",
            "children": [
              "IPY_MODEL_1504bc8cbc384f4d95ce4d30cef73dc6",
              "IPY_MODEL_99bb2abc1f0b4385a0dcd72dbd02798a",
              "IPY_MODEL_f4a05a334513409aae649dfa0b209e91"
            ]
          }
        },
        "50c6e2ea69684631891cf9d5431cefc1": {
          "model_module": "@jupyter-widgets/base",
          "model_name": "LayoutModel",
          "model_module_version": "1.2.0",
          "state": {
            "_view_name": "LayoutView",
            "grid_template_rows": null,
            "right": null,
            "justify_content": null,
            "_view_module": "@jupyter-widgets/base",
            "overflow": null,
            "_model_module_version": "1.2.0",
            "_view_count": null,
            "flex_flow": null,
            "width": null,
            "min_width": null,
            "border": null,
            "align_items": null,
            "bottom": null,
            "_model_module": "@jupyter-widgets/base",
            "top": null,
            "grid_column": null,
            "overflow_y": null,
            "overflow_x": null,
            "grid_auto_flow": null,
            "grid_area": null,
            "grid_template_columns": null,
            "flex": null,
            "_model_name": "LayoutModel",
            "justify_items": null,
            "grid_row": null,
            "max_height": null,
            "align_content": null,
            "visibility": null,
            "align_self": null,
            "height": null,
            "min_height": null,
            "padding": null,
            "grid_auto_rows": null,
            "grid_gap": null,
            "max_width": null,
            "order": null,
            "_view_module_version": "1.2.0",
            "grid_template_areas": null,
            "object_position": null,
            "object_fit": null,
            "grid_auto_columns": null,
            "margin": null,
            "display": null,
            "left": null
          }
        },
        "1504bc8cbc384f4d95ce4d30cef73dc6": {
          "model_module": "@jupyter-widgets/controls",
          "model_name": "HTMLModel",
          "model_module_version": "1.5.0",
          "state": {
            "_view_name": "HTMLView",
            "style": "IPY_MODEL_8c492b94e8b74d6dba518b2bbb982866",
            "_dom_classes": [],
            "description": "",
            "_model_name": "HTMLModel",
            "placeholder": "​",
            "_view_module": "@jupyter-widgets/controls",
            "_model_module_version": "1.5.0",
            "value": "Downloading: 100%",
            "_view_count": null,
            "_view_module_version": "1.5.0",
            "description_tooltip": null,
            "_model_module": "@jupyter-widgets/controls",
            "layout": "IPY_MODEL_00b58ee7b3e64c9aa9af04511f30cf17"
          }
        },
        "99bb2abc1f0b4385a0dcd72dbd02798a": {
          "model_module": "@jupyter-widgets/controls",
          "model_name": "FloatProgressModel",
          "model_module_version": "1.5.0",
          "state": {
            "_view_name": "ProgressView",
            "style": "IPY_MODEL_56e1f2f00cc84807944a6e4b83b97ee8",
            "_dom_classes": [],
            "description": "",
            "_model_name": "FloatProgressModel",
            "bar_style": "success",
            "max": 806530,
            "_view_module": "@jupyter-widgets/controls",
            "_model_module_version": "1.5.0",
            "value": 806530,
            "_view_count": null,
            "_view_module_version": "1.5.0",
            "orientation": "horizontal",
            "min": 0,
            "description_tooltip": null,
            "_model_module": "@jupyter-widgets/controls",
            "layout": "IPY_MODEL_e0e703306c3e47ebbfcb0cbaf41b29da"
          }
        },
        "f4a05a334513409aae649dfa0b209e91": {
          "model_module": "@jupyter-widgets/controls",
          "model_name": "HTMLModel",
          "model_module_version": "1.5.0",
          "state": {
            "_view_name": "HTMLView",
            "style": "IPY_MODEL_264a6bdb80404874bddcc2b6700b8926",
            "_dom_classes": [],
            "description": "",
            "_model_name": "HTMLModel",
            "placeholder": "​",
            "_view_module": "@jupyter-widgets/controls",
            "_model_module_version": "1.5.0",
            "value": " 788k/788k [00:00&lt;00:00, 888kB/s]",
            "_view_count": null,
            "_view_module_version": "1.5.0",
            "description_tooltip": null,
            "_model_module": "@jupyter-widgets/controls",
            "layout": "IPY_MODEL_cd595554597f4f56942d139fcd1b5a49"
          }
        },
        "8c492b94e8b74d6dba518b2bbb982866": {
          "model_module": "@jupyter-widgets/controls",
          "model_name": "DescriptionStyleModel",
          "model_module_version": "1.5.0",
          "state": {
            "_view_name": "StyleView",
            "_model_name": "DescriptionStyleModel",
            "description_width": "",
            "_view_module": "@jupyter-widgets/base",
            "_model_module_version": "1.5.0",
            "_view_count": null,
            "_view_module_version": "1.2.0",
            "_model_module": "@jupyter-widgets/controls"
          }
        },
        "00b58ee7b3e64c9aa9af04511f30cf17": {
          "model_module": "@jupyter-widgets/base",
          "model_name": "LayoutModel",
          "model_module_version": "1.2.0",
          "state": {
            "_view_name": "LayoutView",
            "grid_template_rows": null,
            "right": null,
            "justify_content": null,
            "_view_module": "@jupyter-widgets/base",
            "overflow": null,
            "_model_module_version": "1.2.0",
            "_view_count": null,
            "flex_flow": null,
            "width": null,
            "min_width": null,
            "border": null,
            "align_items": null,
            "bottom": null,
            "_model_module": "@jupyter-widgets/base",
            "top": null,
            "grid_column": null,
            "overflow_y": null,
            "overflow_x": null,
            "grid_auto_flow": null,
            "grid_area": null,
            "grid_template_columns": null,
            "flex": null,
            "_model_name": "LayoutModel",
            "justify_items": null,
            "grid_row": null,
            "max_height": null,
            "align_content": null,
            "visibility": null,
            "align_self": null,
            "height": null,
            "min_height": null,
            "padding": null,
            "grid_auto_rows": null,
            "grid_gap": null,
            "max_width": null,
            "order": null,
            "_view_module_version": "1.2.0",
            "grid_template_areas": null,
            "object_position": null,
            "object_fit": null,
            "grid_auto_columns": null,
            "margin": null,
            "display": null,
            "left": null
          }
        },
        "56e1f2f00cc84807944a6e4b83b97ee8": {
          "model_module": "@jupyter-widgets/controls",
          "model_name": "ProgressStyleModel",
          "model_module_version": "1.5.0",
          "state": {
            "_view_name": "StyleView",
            "_model_name": "ProgressStyleModel",
            "description_width": "",
            "_view_module": "@jupyter-widgets/base",
            "_model_module_version": "1.5.0",
            "_view_count": null,
            "_view_module_version": "1.2.0",
            "bar_color": null,
            "_model_module": "@jupyter-widgets/controls"
          }
        },
        "e0e703306c3e47ebbfcb0cbaf41b29da": {
          "model_module": "@jupyter-widgets/base",
          "model_name": "LayoutModel",
          "model_module_version": "1.2.0",
          "state": {
            "_view_name": "LayoutView",
            "grid_template_rows": null,
            "right": null,
            "justify_content": null,
            "_view_module": "@jupyter-widgets/base",
            "overflow": null,
            "_model_module_version": "1.2.0",
            "_view_count": null,
            "flex_flow": null,
            "width": null,
            "min_width": null,
            "border": null,
            "align_items": null,
            "bottom": null,
            "_model_module": "@jupyter-widgets/base",
            "top": null,
            "grid_column": null,
            "overflow_y": null,
            "overflow_x": null,
            "grid_auto_flow": null,
            "grid_area": null,
            "grid_template_columns": null,
            "flex": null,
            "_model_name": "LayoutModel",
            "justify_items": null,
            "grid_row": null,
            "max_height": null,
            "align_content": null,
            "visibility": null,
            "align_self": null,
            "height": null,
            "min_height": null,
            "padding": null,
            "grid_auto_rows": null,
            "grid_gap": null,
            "max_width": null,
            "order": null,
            "_view_module_version": "1.2.0",
            "grid_template_areas": null,
            "object_position": null,
            "object_fit": null,
            "grid_auto_columns": null,
            "margin": null,
            "display": null,
            "left": null
          }
        },
        "264a6bdb80404874bddcc2b6700b8926": {
          "model_module": "@jupyter-widgets/controls",
          "model_name": "DescriptionStyleModel",
          "model_module_version": "1.5.0",
          "state": {
            "_view_name": "StyleView",
            "_model_name": "DescriptionStyleModel",
            "description_width": "",
            "_view_module": "@jupyter-widgets/base",
            "_model_module_version": "1.5.0",
            "_view_count": null,
            "_view_module_version": "1.2.0",
            "_model_module": "@jupyter-widgets/controls"
          }
        },
        "cd595554597f4f56942d139fcd1b5a49": {
          "model_module": "@jupyter-widgets/base",
          "model_name": "LayoutModel",
          "model_module_version": "1.2.0",
          "state": {
            "_view_name": "LayoutView",
            "grid_template_rows": null,
            "right": null,
            "justify_content": null,
            "_view_module": "@jupyter-widgets/base",
            "overflow": null,
            "_model_module_version": "1.2.0",
            "_view_count": null,
            "flex_flow": null,
            "width": null,
            "min_width": null,
            "border": null,
            "align_items": null,
            "bottom": null,
            "_model_module": "@jupyter-widgets/base",
            "top": null,
            "grid_column": null,
            "overflow_y": null,
            "overflow_x": null,
            "grid_auto_flow": null,
            "grid_area": null,
            "grid_template_columns": null,
            "flex": null,
            "_model_name": "LayoutModel",
            "justify_items": null,
            "grid_row": null,
            "max_height": null,
            "align_content": null,
            "visibility": null,
            "align_self": null,
            "height": null,
            "min_height": null,
            "padding": null,
            "grid_auto_rows": null,
            "grid_gap": null,
            "max_width": null,
            "order": null,
            "_view_module_version": "1.2.0",
            "grid_template_areas": null,
            "object_position": null,
            "object_fit": null,
            "grid_auto_columns": null,
            "margin": null,
            "display": null,
            "left": null
          }
        },
        "d2c0e2a0e1d043fcb6b4749567af0c65": {
          "model_module": "@jupyter-widgets/controls",
          "model_name": "HBoxModel",
          "model_module_version": "1.5.0",
          "state": {
            "_view_name": "HBoxView",
            "_dom_classes": [],
            "_model_name": "HBoxModel",
            "_view_module": "@jupyter-widgets/controls",
            "_model_module_version": "1.5.0",
            "_view_count": null,
            "_view_module_version": "1.5.0",
            "box_style": "",
            "layout": "IPY_MODEL_c693c080bb9d48db8b7ad24869e953fb",
            "_model_module": "@jupyter-widgets/controls",
            "children": [
              "IPY_MODEL_106819f32b7d4681978e4fc711dc7d26",
              "IPY_MODEL_f7f656c83ed447e3950d639ca3f63805",
              "IPY_MODEL_842f2918e7764f398d2d6f96f9b4a17c"
            ]
          }
        },
        "c693c080bb9d48db8b7ad24869e953fb": {
          "model_module": "@jupyter-widgets/base",
          "model_name": "LayoutModel",
          "model_module_version": "1.2.0",
          "state": {
            "_view_name": "LayoutView",
            "grid_template_rows": null,
            "right": null,
            "justify_content": null,
            "_view_module": "@jupyter-widgets/base",
            "overflow": null,
            "_model_module_version": "1.2.0",
            "_view_count": null,
            "flex_flow": null,
            "width": null,
            "min_width": null,
            "border": null,
            "align_items": null,
            "bottom": null,
            "_model_module": "@jupyter-widgets/base",
            "top": null,
            "grid_column": null,
            "overflow_y": null,
            "overflow_x": null,
            "grid_auto_flow": null,
            "grid_area": null,
            "grid_template_columns": null,
            "flex": null,
            "_model_name": "LayoutModel",
            "justify_items": null,
            "grid_row": null,
            "max_height": null,
            "align_content": null,
            "visibility": null,
            "align_self": null,
            "height": null,
            "min_height": null,
            "padding": null,
            "grid_auto_rows": null,
            "grid_gap": null,
            "max_width": null,
            "order": null,
            "_view_module_version": "1.2.0",
            "grid_template_areas": null,
            "object_position": null,
            "object_fit": null,
            "grid_auto_columns": null,
            "margin": null,
            "display": null,
            "left": null
          }
        },
        "106819f32b7d4681978e4fc711dc7d26": {
          "model_module": "@jupyter-widgets/controls",
          "model_name": "HTMLModel",
          "model_module_version": "1.5.0",
          "state": {
            "_view_name": "HTMLView",
            "style": "IPY_MODEL_c4f4b8cf9cf941baaf5930b98c9c92eb",
            "_dom_classes": [],
            "description": "",
            "_model_name": "HTMLModel",
            "placeholder": "​",
            "_view_module": "@jupyter-widgets/controls",
            "_model_module_version": "1.5.0",
            "value": "Downloading: 100%",
            "_view_count": null,
            "_view_module_version": "1.5.0",
            "description_tooltip": null,
            "_model_module": "@jupyter-widgets/controls",
            "layout": "IPY_MODEL_20f52e3784d94a1b892c8a3cf98cf05b"
          }
        },
        "f7f656c83ed447e3950d639ca3f63805": {
          "model_module": "@jupyter-widgets/controls",
          "model_name": "FloatProgressModel",
          "model_module_version": "1.5.0",
          "state": {
            "_view_name": "ProgressView",
            "style": "IPY_MODEL_7c0b6af3392543cfb10ce3bcfaf88eaa",
            "_dom_classes": [],
            "description": "",
            "_model_name": "FloatProgressModel",
            "bar_style": "success",
            "max": 1617902,
            "_view_module": "@jupyter-widgets/controls",
            "_model_module_version": "1.5.0",
            "value": 1617902,
            "_view_count": null,
            "_view_module_version": "1.5.0",
            "orientation": "horizontal",
            "min": 0,
            "description_tooltip": null,
            "_model_module": "@jupyter-widgets/controls",
            "layout": "IPY_MODEL_f48c4d873c344a2090ad51de74a6733a"
          }
        },
        "842f2918e7764f398d2d6f96f9b4a17c": {
          "model_module": "@jupyter-widgets/controls",
          "model_name": "HTMLModel",
          "model_module_version": "1.5.0",
          "state": {
            "_view_name": "HTMLView",
            "style": "IPY_MODEL_2c6deacb75f34e1a961193c40f4f0cdd",
            "_dom_classes": [],
            "description": "",
            "_model_name": "HTMLModel",
            "placeholder": "​",
            "_view_module": "@jupyter-widgets/controls",
            "_model_module_version": "1.5.0",
            "value": " 1.54M/1.54M [00:00&lt;00:00, 3.01MB/s]",
            "_view_count": null,
            "_view_module_version": "1.5.0",
            "description_tooltip": null,
            "_model_module": "@jupyter-widgets/controls",
            "layout": "IPY_MODEL_40d15284d6a84376b1e6ebe7de843e12"
          }
        },
        "c4f4b8cf9cf941baaf5930b98c9c92eb": {
          "model_module": "@jupyter-widgets/controls",
          "model_name": "DescriptionStyleModel",
          "model_module_version": "1.5.0",
          "state": {
            "_view_name": "StyleView",
            "_model_name": "DescriptionStyleModel",
            "description_width": "",
            "_view_module": "@jupyter-widgets/base",
            "_model_module_version": "1.5.0",
            "_view_count": null,
            "_view_module_version": "1.2.0",
            "_model_module": "@jupyter-widgets/controls"
          }
        },
        "20f52e3784d94a1b892c8a3cf98cf05b": {
          "model_module": "@jupyter-widgets/base",
          "model_name": "LayoutModel",
          "model_module_version": "1.2.0",
          "state": {
            "_view_name": "LayoutView",
            "grid_template_rows": null,
            "right": null,
            "justify_content": null,
            "_view_module": "@jupyter-widgets/base",
            "overflow": null,
            "_model_module_version": "1.2.0",
            "_view_count": null,
            "flex_flow": null,
            "width": null,
            "min_width": null,
            "border": null,
            "align_items": null,
            "bottom": null,
            "_model_module": "@jupyter-widgets/base",
            "top": null,
            "grid_column": null,
            "overflow_y": null,
            "overflow_x": null,
            "grid_auto_flow": null,
            "grid_area": null,
            "grid_template_columns": null,
            "flex": null,
            "_model_name": "LayoutModel",
            "justify_items": null,
            "grid_row": null,
            "max_height": null,
            "align_content": null,
            "visibility": null,
            "align_self": null,
            "height": null,
            "min_height": null,
            "padding": null,
            "grid_auto_rows": null,
            "grid_gap": null,
            "max_width": null,
            "order": null,
            "_view_module_version": "1.2.0",
            "grid_template_areas": null,
            "object_position": null,
            "object_fit": null,
            "grid_auto_columns": null,
            "margin": null,
            "display": null,
            "left": null
          }
        },
        "7c0b6af3392543cfb10ce3bcfaf88eaa": {
          "model_module": "@jupyter-widgets/controls",
          "model_name": "ProgressStyleModel",
          "model_module_version": "1.5.0",
          "state": {
            "_view_name": "StyleView",
            "_model_name": "ProgressStyleModel",
            "description_width": "",
            "_view_module": "@jupyter-widgets/base",
            "_model_module_version": "1.5.0",
            "_view_count": null,
            "_view_module_version": "1.2.0",
            "bar_color": null,
            "_model_module": "@jupyter-widgets/controls"
          }
        },
        "f48c4d873c344a2090ad51de74a6733a": {
          "model_module": "@jupyter-widgets/base",
          "model_name": "LayoutModel",
          "model_module_version": "1.2.0",
          "state": {
            "_view_name": "LayoutView",
            "grid_template_rows": null,
            "right": null,
            "justify_content": null,
            "_view_module": "@jupyter-widgets/base",
            "overflow": null,
            "_model_module_version": "1.2.0",
            "_view_count": null,
            "flex_flow": null,
            "width": null,
            "min_width": null,
            "border": null,
            "align_items": null,
            "bottom": null,
            "_model_module": "@jupyter-widgets/base",
            "top": null,
            "grid_column": null,
            "overflow_y": null,
            "overflow_x": null,
            "grid_auto_flow": null,
            "grid_area": null,
            "grid_template_columns": null,
            "flex": null,
            "_model_name": "LayoutModel",
            "justify_items": null,
            "grid_row": null,
            "max_height": null,
            "align_content": null,
            "visibility": null,
            "align_self": null,
            "height": null,
            "min_height": null,
            "padding": null,
            "grid_auto_rows": null,
            "grid_gap": null,
            "max_width": null,
            "order": null,
            "_view_module_version": "1.2.0",
            "grid_template_areas": null,
            "object_position": null,
            "object_fit": null,
            "grid_auto_columns": null,
            "margin": null,
            "display": null,
            "left": null
          }
        },
        "2c6deacb75f34e1a961193c40f4f0cdd": {
          "model_module": "@jupyter-widgets/controls",
          "model_name": "DescriptionStyleModel",
          "model_module_version": "1.5.0",
          "state": {
            "_view_name": "StyleView",
            "_model_name": "DescriptionStyleModel",
            "description_width": "",
            "_view_module": "@jupyter-widgets/base",
            "_model_module_version": "1.5.0",
            "_view_count": null,
            "_view_module_version": "1.2.0",
            "_model_module": "@jupyter-widgets/controls"
          }
        },
        "40d15284d6a84376b1e6ebe7de843e12": {
          "model_module": "@jupyter-widgets/base",
          "model_name": "LayoutModel",
          "model_module_version": "1.2.0",
          "state": {
            "_view_name": "LayoutView",
            "grid_template_rows": null,
            "right": null,
            "justify_content": null,
            "_view_module": "@jupyter-widgets/base",
            "overflow": null,
            "_model_module_version": "1.2.0",
            "_view_count": null,
            "flex_flow": null,
            "width": null,
            "min_width": null,
            "border": null,
            "align_items": null,
            "bottom": null,
            "_model_module": "@jupyter-widgets/base",
            "top": null,
            "grid_column": null,
            "overflow_y": null,
            "overflow_x": null,
            "grid_auto_flow": null,
            "grid_area": null,
            "grid_template_columns": null,
            "flex": null,
            "_model_name": "LayoutModel",
            "justify_items": null,
            "grid_row": null,
            "max_height": null,
            "align_content": null,
            "visibility": null,
            "align_self": null,
            "height": null,
            "min_height": null,
            "padding": null,
            "grid_auto_rows": null,
            "grid_gap": null,
            "max_width": null,
            "order": null,
            "_view_module_version": "1.2.0",
            "grid_template_areas": null,
            "object_position": null,
            "object_fit": null,
            "grid_auto_columns": null,
            "margin": null,
            "display": null,
            "left": null
          }
        }
      }
    }
  },
  "cells": [
    {
      "cell_type": "code",
      "metadata": {
        "colab": {
          "base_uri": "https://localhost:8080/"
        },
        "id": "be4zOZ047Nz2",
        "outputId": "cdae2785-896f-40aa-d21f-609b4a2dc1ee"
      },
      "source": [
        "# Colab Pro \n",
        "gpu_info = !nvidia-smi\n",
        "gpu_info = '\\n'.join(gpu_info)\n",
        "if gpu_info.find('failed') >= 0:\n",
        "  print('Not connected to a GPU')\n",
        "else:\n",
        "  print(gpu_info)"
      ],
      "execution_count": null,
      "outputs": [
        {
          "output_type": "stream",
          "name": "stdout",
          "text": [
            "Sun Nov 21 11:20:46 2021       \n",
            "+-----------------------------------------------------------------------------+\n",
            "| NVIDIA-SMI 495.44       Driver Version: 460.32.03    CUDA Version: 11.2     |\n",
            "|-------------------------------+----------------------+----------------------+\n",
            "| GPU  Name        Persistence-M| Bus-Id        Disp.A | Volatile Uncorr. ECC |\n",
            "| Fan  Temp  Perf  Pwr:Usage/Cap|         Memory-Usage | GPU-Util  Compute M. |\n",
            "|                               |                      |               MIG M. |\n",
            "|===============================+======================+======================|\n",
            "|   0  Tesla P100-PCIE...  Off  | 00000000:00:04.0 Off |                    0 |\n",
            "| N/A   34C    P0    26W / 250W |      0MiB / 16280MiB |      0%      Default |\n",
            "|                               |                      |                  N/A |\n",
            "+-------------------------------+----------------------+----------------------+\n",
            "                                                                               \n",
            "+-----------------------------------------------------------------------------+\n",
            "| Processes:                                                                  |\n",
            "|  GPU   GI   CI        PID   Type   Process name                  GPU Memory |\n",
            "|        ID   ID                                                   Usage      |\n",
            "|=============================================================================|\n",
            "|  No running processes found                                                 |\n",
            "+-----------------------------------------------------------------------------+\n"
          ]
        }
      ]
    },
    {
      "cell_type": "code",
      "metadata": {
        "colab": {
          "base_uri": "https://localhost:8080/"
        },
        "id": "WgpFr4wv7O1Y",
        "outputId": "fa09bde8-aef6-4958-ab4c-5262c70c0da4"
      },
      "source": [
        "from psutil import virtual_memory\n",
        "ram_gb = virtual_memory().total / 1e9\n",
        "print('Your runtime has {:.1f} gigabytes of available RAM\\n'.format(ram_gb))\n",
        "\n",
        "if ram_gb < 20:\n",
        "  print('Not using a high-RAM runtime')\n",
        "else:\n",
        "  print('You are using a high-RAM runtime!')"
      ],
      "execution_count": null,
      "outputs": [
        {
          "output_type": "stream",
          "name": "stdout",
          "text": [
            "Your runtime has 27.3 gigabytes of available RAM\n",
            "\n",
            "You are using a high-RAM runtime!\n"
          ]
        }
      ]
    },
    {
      "cell_type": "markdown",
      "metadata": {
        "id": "97sjLaFgMFI9"
      },
      "source": [
        "##**0. RTT Data Augmentation**"
      ]
    },
    {
      "cell_type": "code",
      "metadata": {
        "id": "PRhVLY4RMI9E"
      },
      "source": [
        "# Reading the file\n",
        "#<Train Data> f_train: file formal, i_train: file informal \n",
        "f_train = open(\"/content/drive/MyDrive/KU/2021-2학기/자연어처리/GYFAC_Corpus/Family_Relationships/train_formal\", \"r\", encoding = 'utf-8')\n",
        "i_train = open(\"/content/drive/MyDrive/KU/2021-2학기/자연어처리/GYFAC_Corpus/Family_Relationships/train_informal\", \"r\", encoding = 'utf-8')\n",
        "f_text = f_train.read()\n",
        "i_text = i_train.read()\n",
        "\n",
        "#<Validate Data> f_val: file formal, i_val: file informal\n",
        "f_val = open(\"/content/drive/MyDrive/KU/2021-2학기/자연어처리/GYFAC_Corpus/Family_Relationships/validation_formal\", \"r\", encoding = 'utf-8')\n",
        "i_val = open(\"/content/drive/MyDrive/KU/2021-2학기/자연어처리/GYFAC_Corpus/Family_Relationships/validation_informal\", \"r\", encoding = 'utf-8')\n",
        "fv_text = f_val.read()\n",
        "iv_text = i_val.read()\n",
        "\n",
        "#<Test Data> f_test: file formal, i_test: file informal \n",
        "f_test = open(\"/content/drive/MyDrive/KU/2021-2학기/자연어처리/GYFAC_Corpus/Family_Relationships/test_formal\", \"r\", encoding = 'utf-8')\n",
        "i_test = open(\"/content/drive/MyDrive/KU/2021-2학기/자연어처리/GYFAC_Corpus/Family_Relationships/test_informal\", \"r\", encoding = 'utf-8')\n",
        "ft_text = f_test.read()\n",
        "it_text = i_test.read()\n",
        "\n",
        "# Removing last instance after splitting as it is empty string\n",
        "f_text = f_text.split('\\n')[:-1]\n",
        "i_text = i_text.split('\\n')[:-1]\n",
        "fv_text = fv_text.split('\\n')[:-1]\n",
        "iv_text = iv_text.split('\\n')[:-1]\n",
        "ft_text = ft_text.split('\\n')[:-1]\n",
        "it_text = it_text.split('\\n')[:-1]\n",
        "\n",
        "\n",
        "#Entertainment & Family\n",
        "#<Train Data> sf_train: file formal, si_train: file informal \n",
        "sf_train = open(\"/content/drive/MyDrive/KU/2021-2학기/자연어처리/GYFAC_Corpus/Entertainment_Music/train_formal\", \"r\", encoding = 'utf-8')\n",
        "si_train = open(\"/content/drive/MyDrive/KU/2021-2학기/자연어처리/GYFAC_Corpus/Entertainment_Music/train_informal\", \"r\", encoding = 'utf-8')\n",
        "sf_text = sf_train.read()\n",
        "si_text = si_train.read()\n",
        "\n",
        "#<Validate Data> sf_val: file formal, si_val: file informal\n",
        "sf_val = open(\"/content/drive/MyDrive/KU/2021-2학기/자연어처리/GYFAC_Corpus/Entertainment_Music/validation_formal\", \"r\", encoding = 'utf-8')\n",
        "si_val = open(\"/content/drive/MyDrive/KU/2021-2학기/자연어처리/GYFAC_Corpus/Entertainment_Music/validation_informal\", \"r\", encoding = 'utf-8')\n",
        "sfv_text = sf_val.read()\n",
        "siv_text = si_val.read()\n",
        "\n",
        "#<Test Data> sf_test: file formal, si_test: file informal \n",
        "sf_test = open(\"/content/drive/MyDrive/KU/2021-2학기/자연어처리/GYFAC_Corpus/Entertainment_Music/test_formal\", \"r\", encoding = 'utf-8')\n",
        "si_test = open(\"/content/drive/MyDrive/KU/2021-2학기/자연어처리/GYFAC_Corpus/Entertainment_Music/test_informal\", \"r\", encoding = 'utf-8')\n",
        "sft_text = sf_test.read()\n",
        "sit_text = si_test.read()\n",
        "\n",
        "# Removing last instance after splitting as it is empty string\n",
        "f_text.extend(sf_text.split('\\n')[:-1])\n",
        "i_text.extend(si_text.split('\\n')[:-1])\n",
        "fv_text.extend(sfv_text.split('\\n')[:-1])\n",
        "iv_text.extend(siv_text.split('\\n')[:-1])\n",
        "ft_text.extend(sft_text.split('\\n')[:-1])\n",
        "it_text.extend(sit_text.split('\\n')[:-1])\n",
        "\n",
        "\n",
        "# Creating the pandas dataframe\n",
        "data_train = [[f_text[i], i_text[i]] for i in list(range(0, len(f_text)))]\n",
        "data_val = [[fv_text[i], iv_text[i]] for i in list(range(0, len(fv_text)))]\n",
        "data_test = [[ft_text[i], it_text[i]] for i in list(range(0, len(ft_text)))]\n",
        "\n",
        "#Close file\n",
        "f_train.close()\n",
        "i_train.close()\n",
        "f_val.close()\n",
        "i_val.close()\n",
        "f_test.close()\n",
        "i_test.close()\n",
        "\n",
        "sf_train.close()\n",
        "si_train.close()\n",
        "sf_val.close()\n",
        "si_val.close()\n",
        "sf_test.close()\n",
        "si_test.close()\n",
        "\n",
        "\n",
        "#Create dataframe\n",
        "df = pd.DataFrame(data_train, columns = ['Formal text', 'Informal text'])\n",
        "df_v = pd.DataFrame(data_val, columns = ['Formal text', 'Informal text'])\n",
        "df_t = pd.DataFrame(data_test, columns = ['Formal text', 'Informal text'])"
      ],
      "execution_count": null,
      "outputs": []
    },
    {
      "cell_type": "code",
      "metadata": {
        "id": "-Cwa1SKpOm5H",
        "colab": {
          "base_uri": "https://localhost:8080/"
        },
        "outputId": "14096ad4-286c-4c54-9091-8eb0d8701abd"
      },
      "source": [
        "!pip install sentencepiece"
      ],
      "execution_count": null,
      "outputs": [
        {
          "output_type": "stream",
          "name": "stdout",
          "text": [
            "Collecting sentencepiece\n",
            "  Downloading sentencepiece-0.1.96-cp37-cp37m-manylinux_2_17_x86_64.manylinux2014_x86_64.whl (1.2 MB)\n",
            "\u001b[K     |████████████████████████████████| 1.2 MB 8.1 MB/s \n",
            "\u001b[?25hInstalling collected packages: sentencepiece\n",
            "Successfully installed sentencepiece-0.1.96\n"
          ]
        }
      ]
    },
    {
      "cell_type": "code",
      "metadata": {
        "id": "RrYcMlJaOMBj",
        "colab": {
          "base_uri": "https://localhost:8080/"
        },
        "outputId": "7678edd1-b658-4596-c6e6-fa835b927c2a"
      },
      "source": [
        "!pip install transformers"
      ],
      "execution_count": null,
      "outputs": [
        {
          "output_type": "stream",
          "name": "stdout",
          "text": [
            "Collecting transformers\n",
            "  Downloading transformers-4.12.5-py3-none-any.whl (3.1 MB)\n",
            "\u001b[K     |████████████████████████████████| 3.1 MB 8.2 MB/s \n",
            "\u001b[?25hRequirement already satisfied: packaging>=20.0 in /usr/local/lib/python3.7/dist-packages (from transformers) (21.2)\n",
            "Collecting tokenizers<0.11,>=0.10.1\n",
            "  Downloading tokenizers-0.10.3-cp37-cp37m-manylinux_2_5_x86_64.manylinux1_x86_64.manylinux_2_12_x86_64.manylinux2010_x86_64.whl (3.3 MB)\n",
            "\u001b[K     |████████████████████████████████| 3.3 MB 50.4 MB/s \n",
            "\u001b[?25hRequirement already satisfied: filelock in /usr/local/lib/python3.7/dist-packages (from transformers) (3.3.2)\n",
            "Collecting pyyaml>=5.1\n",
            "  Downloading PyYAML-6.0-cp37-cp37m-manylinux_2_5_x86_64.manylinux1_x86_64.manylinux_2_12_x86_64.manylinux2010_x86_64.whl (596 kB)\n",
            "\u001b[K     |████████████████████████████████| 596 kB 43.8 MB/s \n",
            "\u001b[?25hRequirement already satisfied: regex!=2019.12.17 in /usr/local/lib/python3.7/dist-packages (from transformers) (2019.12.20)\n",
            "Requirement already satisfied: requests in /usr/local/lib/python3.7/dist-packages (from transformers) (2.23.0)\n",
            "Requirement already satisfied: importlib-metadata in /usr/local/lib/python3.7/dist-packages (from transformers) (4.8.2)\n",
            "Requirement already satisfied: tqdm>=4.27 in /usr/local/lib/python3.7/dist-packages (from transformers) (4.62.3)\n",
            "Collecting sacremoses\n",
            "  Downloading sacremoses-0.0.46-py3-none-any.whl (895 kB)\n",
            "\u001b[K     |████████████████████████████████| 895 kB 57.4 MB/s \n",
            "\u001b[?25hCollecting huggingface-hub<1.0,>=0.1.0\n",
            "  Downloading huggingface_hub-0.1.2-py3-none-any.whl (59 kB)\n",
            "\u001b[K     |████████████████████████████████| 59 kB 6.5 MB/s \n",
            "\u001b[?25hRequirement already satisfied: numpy>=1.17 in /usr/local/lib/python3.7/dist-packages (from transformers) (1.19.5)\n",
            "Requirement already satisfied: typing-extensions>=3.7.4.3 in /usr/local/lib/python3.7/dist-packages (from huggingface-hub<1.0,>=0.1.0->transformers) (3.10.0.2)\n",
            "Requirement already satisfied: pyparsing<3,>=2.0.2 in /usr/local/lib/python3.7/dist-packages (from packaging>=20.0->transformers) (2.4.7)\n",
            "Requirement already satisfied: zipp>=0.5 in /usr/local/lib/python3.7/dist-packages (from importlib-metadata->transformers) (3.6.0)\n",
            "Requirement already satisfied: certifi>=2017.4.17 in /usr/local/lib/python3.7/dist-packages (from requests->transformers) (2021.10.8)\n",
            "Requirement already satisfied: chardet<4,>=3.0.2 in /usr/local/lib/python3.7/dist-packages (from requests->transformers) (3.0.4)\n",
            "Requirement already satisfied: urllib3!=1.25.0,!=1.25.1,<1.26,>=1.21.1 in /usr/local/lib/python3.7/dist-packages (from requests->transformers) (1.24.3)\n",
            "Requirement already satisfied: idna<3,>=2.5 in /usr/local/lib/python3.7/dist-packages (from requests->transformers) (2.10)\n",
            "Requirement already satisfied: joblib in /usr/local/lib/python3.7/dist-packages (from sacremoses->transformers) (1.1.0)\n",
            "Requirement already satisfied: click in /usr/local/lib/python3.7/dist-packages (from sacremoses->transformers) (7.1.2)\n",
            "Requirement already satisfied: six in /usr/local/lib/python3.7/dist-packages (from sacremoses->transformers) (1.15.0)\n",
            "Installing collected packages: pyyaml, tokenizers, sacremoses, huggingface-hub, transformers\n",
            "  Attempting uninstall: pyyaml\n",
            "    Found existing installation: PyYAML 3.13\n",
            "    Uninstalling PyYAML-3.13:\n",
            "      Successfully uninstalled PyYAML-3.13\n",
            "Successfully installed huggingface-hub-0.1.2 pyyaml-6.0 sacremoses-0.0.46 tokenizers-0.10.3 transformers-4.12.5\n"
          ]
        }
      ]
    },
    {
      "cell_type": "code",
      "metadata": {
        "colab": {
          "base_uri": "https://localhost:8080/",
          "height": 212,
          "referenced_widgets": [
            "27347456588742cb96120b8b62b8865b",
            "9ca9df4e9519414fa7ab02909125d269",
            "70c9951cac5e41549aa7472bbff5af17",
            "362c50c9df1e4484be3f5b57fabbc420",
            "c9df99f8fa8644b6ab7de1713c89af32",
            "c9cf2898c7be46f29cfd63a2589b5b23",
            "72c3cd56483d4f57aaa18b93c3a11a82",
            "2d12310028014faca48d1522b1d11391",
            "845852646ff24d51930674b44dd9fbb7",
            "8fd42aac0c42409c898504ec6c57ae7e",
            "30389dbd86494e55942f3ac4e69152b1",
            "32792161211f4eb1b96b6c6791df5af9",
            "b368f6dfb43a4b6aa8c2d19f0a13c4f6",
            "7de52221b06c4fa29c20dff2ea34fce5",
            "dad3301a4ad34933b88a27bc86a26b7b",
            "b4b854ebbe7548d2b179b60b5ed615aa",
            "2b7df01fcfa14822b566f10fbd5072c6",
            "160a01d7d0c04443b82fa18dd1970118",
            "13882b9e850c484696fce510a9212e0a",
            "e6aac6eebe594fc0836fb753167afa0d",
            "069926b08162457eba136de6848b25c2",
            "36870708f49b48aabcce6ad376298cfc",
            "1807a1769a98444eb3dfdd868ec5b150",
            "4fb32e15159a4ebdbde3e2c501a26df0",
            "6a2a49637de0499cb239c9cc6b27f7bd",
            "2f259c904856456e94fec17bdd5fc392",
            "25487c8e005845ce9011267f0ffd7437",
            "d9821931b0f44e3c9baa20ce2b66ef48",
            "52babc9115614390a08d982d1cbf60bd",
            "d6ccce907ad24cf1b2983293719ac5d0",
            "f635d2ebf68746c9824c44f0d0645294",
            "03b6accae3204e4b8917278fe971c6a6",
            "63bb70d2190a43dc8788e4134469f489",
            "2c3c47ae77854ee7a977a64e7a8fcaad",
            "68e40a9c430c4072bf820de72e4abeec",
            "ae8b6630d98b44d6bbf2266bff169b94",
            "ebffdd96abf0400fbec48f0ba6916da6",
            "90dc5e4047fc4ffeb9d1a11b32ad919d",
            "42bd2e15ace848569d912ea7f13f7365",
            "e73cc0438de14f0d95488b185b97ea8f",
            "27a9ad98af19443daa0ced07288bad61",
            "9917a546865240a283b5aa4158bc3218",
            "d51ac841004a450db9344b8562f628ff",
            "ac14873d354247bb8631fa72888eb472",
            "214b9309d479466d87a012bd28f93e44",
            "09b56565381f49009ef10f0a8c41160f",
            "8bc43ba8603146148d458600ef0c3e5e",
            "a17490674911405ca71ecb7f0a618fb2",
            "f787eb16c6f242af8ff5c509de7c40a3",
            "9631b4b5896b4da29022a81c6b08761a",
            "eb4a2d0b550b42fa9ec5e12c710e09b3",
            "9874cd51e42f48e880a4eebc8d883597",
            "9aaf99efc611420e879444feec797ed8",
            "3a17e409a14642d0b38fd92e3a7a5776",
            "f5a6eca9fe524d478c043635f2998612"
          ]
        },
        "id": "JEoIg1QcRJz9",
        "outputId": "776b39cc-070e-4e68-e2e0-600f2f8b1ae4"
      },
      "source": [
        "import sentencepiece\n",
        "from transformers import AutoTokenizer\n",
        "AutoTokenizer.from_pretrained(\"Helsinki-NLP/opus-mt-en-zh\")"
      ],
      "execution_count": null,
      "outputs": [
        {
          "output_type": "display_data",
          "data": {
            "application/vnd.jupyter.widget-view+json": {
              "model_id": "27347456588742cb96120b8b62b8865b",
              "version_minor": 0,
              "version_major": 2
            },
            "text/plain": [
              "Downloading:   0%|          | 0.00/44.0 [00:00<?, ?B/s]"
            ]
          },
          "metadata": {}
        },
        {
          "output_type": "display_data",
          "data": {
            "application/vnd.jupyter.widget-view+json": {
              "model_id": "32792161211f4eb1b96b6c6791df5af9",
              "version_minor": 0,
              "version_major": 2
            },
            "text/plain": [
              "Downloading:   0%|          | 0.00/1.37k [00:00<?, ?B/s]"
            ]
          },
          "metadata": {}
        },
        {
          "output_type": "display_data",
          "data": {
            "application/vnd.jupyter.widget-view+json": {
              "model_id": "1807a1769a98444eb3dfdd868ec5b150",
              "version_minor": 0,
              "version_major": 2
            },
            "text/plain": [
              "Downloading:   0%|          | 0.00/788k [00:00<?, ?B/s]"
            ]
          },
          "metadata": {}
        },
        {
          "output_type": "display_data",
          "data": {
            "application/vnd.jupyter.widget-view+json": {
              "model_id": "2c3c47ae77854ee7a977a64e7a8fcaad",
              "version_minor": 0,
              "version_major": 2
            },
            "text/plain": [
              "Downloading:   0%|          | 0.00/786k [00:00<?, ?B/s]"
            ]
          },
          "metadata": {}
        },
        {
          "output_type": "display_data",
          "data": {
            "application/vnd.jupyter.widget-view+json": {
              "model_id": "214b9309d479466d87a012bd28f93e44",
              "version_minor": 0,
              "version_major": 2
            },
            "text/plain": [
              "Downloading:   0%|          | 0.00/1.54M [00:00<?, ?B/s]"
            ]
          },
          "metadata": {}
        },
        {
          "output_type": "execute_result",
          "data": {
            "text/plain": [
              "PreTrainedTokenizer(name_or_path='Helsinki-NLP/opus-mt-en-zh', vocab_size=65001, model_max_len=512, is_fast=False, padding_side='right', special_tokens={'eos_token': '</s>', 'unk_token': '<unk>', 'pad_token': '<pad>'})"
            ]
          },
          "metadata": {},
          "execution_count": 8
        }
      ]
    },
    {
      "cell_type": "code",
      "metadata": {
        "id": "i123yb6bOA72",
        "colab": {
          "base_uri": "https://localhost:8080/",
          "height": 495
        },
        "outputId": "b42f05dd-970c-4921-bf94-e62bc458590b"
      },
      "source": [
        "!pip install nlpaug\n",
        "# pandas 1.1.5 재설치"
      ],
      "execution_count": null,
      "outputs": [
        {
          "output_type": "stream",
          "name": "stdout",
          "text": [
            "Collecting nlpaug\n",
            "  Downloading nlpaug-1.1.8-py3-none-any.whl (409 kB)\n",
            "\u001b[?25l\r\u001b[K     |▉                               | 10 kB 29.9 MB/s eta 0:00:01\r\u001b[K     |█▋                              | 20 kB 26.3 MB/s eta 0:00:01\r\u001b[K     |██▍                             | 30 kB 19.5 MB/s eta 0:00:01\r\u001b[K     |███▏                            | 40 kB 15.6 MB/s eta 0:00:01\r\u001b[K     |████                            | 51 kB 9.6 MB/s eta 0:00:01\r\u001b[K     |████▉                           | 61 kB 10.0 MB/s eta 0:00:01\r\u001b[K     |█████▋                          | 71 kB 9.4 MB/s eta 0:00:01\r\u001b[K     |██████▍                         | 81 kB 10.4 MB/s eta 0:00:01\r\u001b[K     |███████▏                        | 92 kB 8.4 MB/s eta 0:00:01\r\u001b[K     |████████                        | 102 kB 9.0 MB/s eta 0:00:01\r\u001b[K     |████████▉                       | 112 kB 9.0 MB/s eta 0:00:01\r\u001b[K     |█████████▋                      | 122 kB 9.0 MB/s eta 0:00:01\r\u001b[K     |██████████▍                     | 133 kB 9.0 MB/s eta 0:00:01\r\u001b[K     |███████████▏                    | 143 kB 9.0 MB/s eta 0:00:01\r\u001b[K     |████████████                    | 153 kB 9.0 MB/s eta 0:00:01\r\u001b[K     |████████████▉                   | 163 kB 9.0 MB/s eta 0:00:01\r\u001b[K     |█████████████▋                  | 174 kB 9.0 MB/s eta 0:00:01\r\u001b[K     |██████████████▍                 | 184 kB 9.0 MB/s eta 0:00:01\r\u001b[K     |███████████████▏                | 194 kB 9.0 MB/s eta 0:00:01\r\u001b[K     |████████████████                | 204 kB 9.0 MB/s eta 0:00:01\r\u001b[K     |████████████████▉               | 215 kB 9.0 MB/s eta 0:00:01\r\u001b[K     |█████████████████▋              | 225 kB 9.0 MB/s eta 0:00:01\r\u001b[K     |██████████████████▍             | 235 kB 9.0 MB/s eta 0:00:01\r\u001b[K     |███████████████████▏            | 245 kB 9.0 MB/s eta 0:00:01\r\u001b[K     |████████████████████            | 256 kB 9.0 MB/s eta 0:00:01\r\u001b[K     |████████████████████▉           | 266 kB 9.0 MB/s eta 0:00:01\r\u001b[K     |█████████████████████▋          | 276 kB 9.0 MB/s eta 0:00:01\r\u001b[K     |██████████████████████▍         | 286 kB 9.0 MB/s eta 0:00:01\r\u001b[K     |███████████████████████▏        | 296 kB 9.0 MB/s eta 0:00:01\r\u001b[K     |████████████████████████        | 307 kB 9.0 MB/s eta 0:00:01\r\u001b[K     |████████████████████████▊       | 317 kB 9.0 MB/s eta 0:00:01\r\u001b[K     |█████████████████████████▋      | 327 kB 9.0 MB/s eta 0:00:01\r\u001b[K     |██████████████████████████▍     | 337 kB 9.0 MB/s eta 0:00:01\r\u001b[K     |███████████████████████████▏    | 348 kB 9.0 MB/s eta 0:00:01\r\u001b[K     |████████████████████████████    | 358 kB 9.0 MB/s eta 0:00:01\r\u001b[K     |████████████████████████████▊   | 368 kB 9.0 MB/s eta 0:00:01\r\u001b[K     |█████████████████████████████▋  | 378 kB 9.0 MB/s eta 0:00:01\r\u001b[K     |██████████████████████████████▍ | 389 kB 9.0 MB/s eta 0:00:01\r\u001b[K     |███████████████████████████████▏| 399 kB 9.0 MB/s eta 0:00:01\r\u001b[K     |████████████████████████████████| 409 kB 9.0 MB/s eta 0:00:01\r\u001b[K     |████████████████████████████████| 409 kB 9.0 MB/s \n",
            "\u001b[?25hRequirement already satisfied: numpy>=1.16.2 in /usr/local/lib/python3.7/dist-packages (from nlpaug) (1.19.5)\n",
            "Requirement already satisfied: requests>=2.22.0 in /usr/local/lib/python3.7/dist-packages (from nlpaug) (2.23.0)\n",
            "Collecting pandas>=1.2.0\n",
            "  Downloading pandas-1.3.4-cp37-cp37m-manylinux_2_17_x86_64.manylinux2014_x86_64.whl (11.3 MB)\n",
            "\u001b[K     |████████████████████████████████| 11.3 MB 43.2 MB/s \n",
            "\u001b[?25hRequirement already satisfied: python-dateutil>=2.7.3 in /usr/local/lib/python3.7/dist-packages (from pandas>=1.2.0->nlpaug) (2.8.2)\n",
            "Requirement already satisfied: pytz>=2017.3 in /usr/local/lib/python3.7/dist-packages (from pandas>=1.2.0->nlpaug) (2018.9)\n",
            "Requirement already satisfied: six>=1.5 in /usr/local/lib/python3.7/dist-packages (from python-dateutil>=2.7.3->pandas>=1.2.0->nlpaug) (1.15.0)\n",
            "Requirement already satisfied: idna<3,>=2.5 in /usr/local/lib/python3.7/dist-packages (from requests>=2.22.0->nlpaug) (2.10)\n",
            "Requirement already satisfied: urllib3!=1.25.0,!=1.25.1,<1.26,>=1.21.1 in /usr/local/lib/python3.7/dist-packages (from requests>=2.22.0->nlpaug) (1.24.3)\n",
            "Requirement already satisfied: chardet<4,>=3.0.2 in /usr/local/lib/python3.7/dist-packages (from requests>=2.22.0->nlpaug) (3.0.4)\n",
            "Requirement already satisfied: certifi>=2017.4.17 in /usr/local/lib/python3.7/dist-packages (from requests>=2.22.0->nlpaug) (2021.10.8)\n",
            "Installing collected packages: pandas, nlpaug\n",
            "  Attempting uninstall: pandas\n",
            "    Found existing installation: pandas 1.1.5\n",
            "    Uninstalling pandas-1.1.5:\n",
            "      Successfully uninstalled pandas-1.1.5\n",
            "\u001b[31mERROR: pip's dependency resolver does not currently take into account all the packages that are installed. This behaviour is the source of the following dependency conflicts.\n",
            "google-colab 1.0.0 requires pandas~=1.1.0; python_version >= \"3.0\", but you have pandas 1.3.4 which is incompatible.\u001b[0m\n",
            "Successfully installed nlpaug-1.1.8 pandas-1.3.4\n"
          ]
        },
        {
          "output_type": "display_data",
          "data": {
            "application/vnd.colab-display-data+json": {
              "pip_warning": {
                "packages": [
                  "pandas"
                ]
              }
            }
          },
          "metadata": {}
        }
      ]
    },
    {
      "cell_type": "code",
      "metadata": {
        "colab": {
          "base_uri": "https://localhost:8080/",
          "height": 241,
          "referenced_widgets": [
            "a10f04834f1e43dc99b82cef4583f2d4",
            "b5ca6479105f499e8a34d84c1e24dac4",
            "9f33aadf6c36493c9fe3a0d806b548d6",
            "9c678cdb478a41a3ad8c3d9ac150f92b",
            "2f03cbed51164f778ea66f61adb16056",
            "baae4d1331b64faf9d6cafcc74c0bfc1",
            "b9a2474206ae47caaa8f3aaaaca12101",
            "6a9479a416814a73ba5826c57e4bfd4d",
            "baa48f58ad2d480da4668a92c4bacfdd",
            "449c34c3d9194eea8a474d80ba18a087",
            "1a296cf8682d4c4aa4a37c840d5bbf40",
            "9bf0c9cf86744a22bb484e7d15a759eb",
            "726835aea16b45ae8d75daa0a6e3463f",
            "6718c6faceaa405badafc6704a55bc3f",
            "186bbbd833be4a689801b5e375d24153",
            "f32d16ca8c30450a95b54cc0e168ee6f",
            "f43f64050a434b71a19782d60558c7b3",
            "42d7cc2a6ee5498b8a499d1ec5d68908",
            "1649746230d1478da2706f6e23f332b5",
            "06a85a36b27c47ec835fae6c776627fe",
            "b17df96f428b4ba1a444d00edb47e286",
            "27c58497d778472992a5558733b08332",
            "d3d56576fd0f446d982b6f3a045f9139",
            "7cd16df8a67947c2a238cc99c123e151",
            "d0d12841ccfc4a50bd7131f5771d6bdc",
            "97eb46d219e84ff99dc5cc4f9ba17f45",
            "ae55fec50a5841a89961015d1ad99a6d",
            "8b156c007a1f4442af1639cc827c7672",
            "fb77856a52d04031b2b2de01d93ff0cc",
            "10f189bc6aa34266a833159768c0ebe5",
            "ea89fa42b21d4b89a2fa61e058e679c6",
            "7578e19133444520b39ed32e2c805d8e",
            "e340a22ebda244209cfb8bf07ebcec53",
            "cf04c6a17ef84a69a35efa79e30cf04a",
            "92237ee8430245f198eeede427917d44",
            "a47e9d0fd1684616968580757febc22b",
            "5479cc1bf3c14ffcaddfe1c193022eeb",
            "34e3b36101434fdfab0661090cc84667",
            "de4e7278b3ca47bda325cabe66a148b6",
            "105f66dd395e4223b350a527f2835c07",
            "50b72807a06542bb8be65faf8bca0eb1",
            "1401a5a0f8e04663b0917c84c638a9f8",
            "4f4ca27b975e47ee841d3f27b1886114",
            "2f4322bcc46e47f7ac194989bee89dae",
            "e664ff4d95224eabbc4aa607eba2a80c",
            "394879d71d174e1cabeebc287052c94b",
            "8dac55d20a4e426d9eff1aebb3f49185",
            "b5017364be364de292efc6f1ec79126c",
            "0e396769210b4f5497ff6469aaa3ec54",
            "6dd85c762e9f4e7aaf755a40431eeb68",
            "4b8e4fa0b1a347d2a5c3139b5f57e2ef",
            "7f17bc1d2e5f45e5b5a726335298b4df",
            "ed70424dc28841aaaa3a1826edd7dd88",
            "35d1029505484224aca5536742867a7f",
            "d47ba2666f434017bb3e66ecdc971977",
            "4bf259f691424ed6800942ca54c6e75f",
            "50c6e2ea69684631891cf9d5431cefc1",
            "1504bc8cbc384f4d95ce4d30cef73dc6",
            "99bb2abc1f0b4385a0dcd72dbd02798a",
            "f4a05a334513409aae649dfa0b209e91",
            "8c492b94e8b74d6dba518b2bbb982866",
            "00b58ee7b3e64c9aa9af04511f30cf17",
            "56e1f2f00cc84807944a6e4b83b97ee8",
            "e0e703306c3e47ebbfcb0cbaf41b29da",
            "264a6bdb80404874bddcc2b6700b8926",
            "cd595554597f4f56942d139fcd1b5a49",
            "d2c0e2a0e1d043fcb6b4749567af0c65",
            "c693c080bb9d48db8b7ad24869e953fb",
            "106819f32b7d4681978e4fc711dc7d26",
            "f7f656c83ed447e3950d639ca3f63805",
            "842f2918e7764f398d2d6f96f9b4a17c",
            "c4f4b8cf9cf941baaf5930b98c9c92eb",
            "20f52e3784d94a1b892c8a3cf98cf05b",
            "7c0b6af3392543cfb10ce3bcfaf88eaa",
            "f48c4d873c344a2090ad51de74a6733a",
            "2c6deacb75f34e1a961193c40f4f0cdd",
            "40d15284d6a84376b1e6ebe7de843e12"
          ]
        },
        "id": "ftYciUZcNlCI",
        "outputId": "167f61fd-d20f-49fa-e8a7-3a41a7fa954b"
      },
      "source": [
        "# NLP augmentation\n",
        "import nlpaug.augmenter.word as naw\n",
        "import sentencepiece\n",
        "aug = naw.BackTranslationAug(from_model_name='Helsinki-NLP/opus-mt-en-zh', \n",
        "                             to_model_name='Helsinki-NLP/opus-mt-zh-en', \n",
        "                             name='BackTranslationAug', \n",
        "                             device='cuda', \n",
        "                             batch_size=32,\n",
        "                             force_reload=False,\n",
        "                             verbose=0)"
      ],
      "execution_count": null,
      "outputs": [
        {
          "output_type": "display_data",
          "data": {
            "application/vnd.jupyter.widget-view+json": {
              "model_id": "a10f04834f1e43dc99b82cef4583f2d4",
              "version_minor": 0,
              "version_major": 2
            },
            "text/plain": [
              "Downloading:   0%|          | 0.00/298M [00:00<?, ?B/s]"
            ]
          },
          "metadata": {}
        },
        {
          "output_type": "display_data",
          "data": {
            "application/vnd.jupyter.widget-view+json": {
              "model_id": "9bf0c9cf86744a22bb484e7d15a759eb",
              "version_minor": 0,
              "version_major": 2
            },
            "text/plain": [
              "Downloading:   0%|          | 0.00/1.12k [00:00<?, ?B/s]"
            ]
          },
          "metadata": {}
        },
        {
          "output_type": "display_data",
          "data": {
            "application/vnd.jupyter.widget-view+json": {
              "model_id": "d3d56576fd0f446d982b6f3a045f9139",
              "version_minor": 0,
              "version_major": 2
            },
            "text/plain": [
              "Downloading:   0%|          | 0.00/298M [00:00<?, ?B/s]"
            ]
          },
          "metadata": {}
        },
        {
          "output_type": "display_data",
          "data": {
            "application/vnd.jupyter.widget-view+json": {
              "model_id": "cf04c6a17ef84a69a35efa79e30cf04a",
              "version_minor": 0,
              "version_major": 2
            },
            "text/plain": [
              "Downloading:   0%|          | 0.00/44.0 [00:00<?, ?B/s]"
            ]
          },
          "metadata": {}
        },
        {
          "output_type": "display_data",
          "data": {
            "application/vnd.jupyter.widget-view+json": {
              "model_id": "e664ff4d95224eabbc4aa607eba2a80c",
              "version_minor": 0,
              "version_major": 2
            },
            "text/plain": [
              "Downloading:   0%|          | 0.00/786k [00:00<?, ?B/s]"
            ]
          },
          "metadata": {}
        },
        {
          "output_type": "display_data",
          "data": {
            "application/vnd.jupyter.widget-view+json": {
              "model_id": "4bf259f691424ed6800942ca54c6e75f",
              "version_minor": 0,
              "version_major": 2
            },
            "text/plain": [
              "Downloading:   0%|          | 0.00/788k [00:00<?, ?B/s]"
            ]
          },
          "metadata": {}
        },
        {
          "output_type": "display_data",
          "data": {
            "application/vnd.jupyter.widget-view+json": {
              "model_id": "d2c0e2a0e1d043fcb6b4749567af0c65",
              "version_minor": 0,
              "version_major": 2
            },
            "text/plain": [
              "Downloading:   0%|          | 0.00/1.54M [00:00<?, ?B/s]"
            ]
          },
          "metadata": {}
        }
      ]
    },
    {
      "cell_type": "code",
      "metadata": {
        "id": "87jtpSVdORhr"
      },
      "source": [
        "# Train formal augmenation\n",
        "train_formal_aug = []\n",
        "for i in range(len(df['Formal text'])):\n",
        "  tmp = aug.augment(df['Formal text'][i])\n",
        "  train_formal_aug.append(tmp)"
      ],
      "execution_count": null,
      "outputs": []
    },
    {
      "cell_type": "code",
      "metadata": {
        "id": "6fpnGWGPCW5J",
        "colab": {
          "base_uri": "https://localhost:8080/"
        },
        "outputId": "8bdcd04e-2f44-42d9-b2f1-3c81eb00fd16"
      },
      "source": [
        "train_formal_aug"
      ],
      "execution_count": null,
      "outputs": [
        {
          "output_type": "execute_result",
          "data": {
            "text/plain": [
              "[\"I'd rather have that guy ask me.\",\n",
              " 'I was insulted by my wife.',\n",
              " \"You'll have more friends than you want.\",\n",
              " \"It's good to see your picture of who you're talking to.\",\n",
              " 'I need to know what to do.',\n",
              " 'Love me, love me, dear God love me!',\n",
              " \"It won't be a word, it'll be an opera.\",\n",
              " 'I like my life, except for her screaming in dirty language.',\n",
              " 'I know how it is.',\n",
              " 'Does he have a favorite sports team?',\n",
              " \"When you're gone, he'll do it over and over and over again.\",\n",
              " 'I suggest, \"Look, this doesn\\'t work for me anymore.\"',\n",
              " \"No, sister, I don't think so.\",\n",
              " 'Then kiss her, brother. Every time.',\n",
              " 'Women mature faster than men, and some men never mature.',\n",
              " \"I'll never buy her a present again.\",\n",
              " 'You can go to class with her, if you want.',\n",
              " 'When you choose to be rich and strong, it happens.',\n",
              " \"Please don't ask for love, money or respect.\",\n",
              " \"You'll know when you're in love.\",\n",
              " \"Don't build your relationship on money or material.\",\n",
              " 'If someone asks, \"How can I get my boyfriend to notice me?\"',\n",
              " \"I can't sign in the chat room.\",\n",
              " \"If you live with a friend, I'll call you a friend with rights.\",\n",
              " \"It's hard to say, but you seem to be trying to change yourself, which is a bad idea.\",\n",
              " \"I don't know what he's thinking. Sometimes we just sit and watch.\",\n",
              " 'Go to France and see for yourself.',\n",
              " \"She knows I've dated a married man before.\",\n",
              " \"You shouldn't let what others say bother you.\",\n",
              " 'Good luck, no matter which way you go.',\n",
              " 'The warning is that you and I are not married, which is acceptable to me.',\n",
              " 'I advise secondary school students not to go out with any students who are still in secondary school.',\n",
              " \"If one's strategy doesn't work, then keep trying with the others.\",\n",
              " \"You might want to tell this guy that if he calls you again, he'll lose his job.\",\n",
              " 'After that, a gentleman was involved who changed everything!',\n",
              " \"As long as the four of you do, I'll do it!\",\n",
              " 'Contrary to what others have said, they are not born like that.',\n",
              " 'I think you should try another woman.',\n",
              " \"Sometimes she's in trouble.\",\n",
              " 'If you love him, you should promise him.',\n",
              " 'It would be wise to leave him as soon as possible.',\n",
              " \"I learned to love myself, and I couldn't do it in the past.\",\n",
              " \"It's hard to meet girls because I only go to school with boys.\",\n",
              " \"Please speak. Don't rush.\",\n",
              " 'You should play and play and play and play and play and play and play and play and play and play and play and play and play and play and play and play and play and play and play and play and play and play and play and play and play and play and play and play and play and play and play and play and play and play and play and play and play and play and play and play and play and play and play and play',\n",
              " 'Do you talk to that guy often?',\n",
              " 'No degree of commitment, is this a folding double date?',\n",
              " 'The size of the breasts is not attractive, but how is the size of the chest.',\n",
              " 'All you have to do is do something to make her happy.',\n",
              " 'Yes, but I think it depends on the oath.',\n",
              " 'Maybe you should ask Kay where the sexually transmitted disease is.',\n",
              " \"That means you don't have to fight her anymore.\",\n",
              " 'In that case, ask her to dance with you at the next school or watch a movie.',\n",
              " 'Your friend, or her friend?',\n",
              " \"But don't get me wrong, don't give in, don't give in. Find compromise.\",\n",
              " \"If you're really weak, it may not succeed, so become more afraid than a woman.\",\n",
              " 'I believe that the wound depends on whether she and her husband are publicly married.',\n",
              " \"She wants to enjoy her life, so she's having an affair with you, so don't take this relationship too seriously.\",\n",
              " 'For the time being, you just want to be friends.',\n",
              " \"It's because they just don't do their job!\",\n",
              " \"It'd be better to get out of there before it's too late.\",\n",
              " \"Yes, if they're sexually addicted, it's true, but that means they need to see sex therapists.\",\n",
              " \"Personally, I think young men are sexy, as long as they're over 25.\",\n",
              " 'This is because boys are immature and do not know what they want or have.',\n",
              " 'Five feet tall, 135 pounds. Sounds good.',\n",
              " 'Please seek moral help from professionals.',\n",
              " \"If that were the case, I wouldn't be surprised if he was disloyal again.\",\n",
              " \"If he goes after another woman, he obviously doesn't care, it's not all her fault.\",\n",
              " 'If she has not come up with it, then there is no need to talk about it.',\n",
              " 'Maybe you could check it out first.',\n",
              " \"If you want your own people, you should try Yahoo's personal magazine. Do you agree?\",\n",
              " 'First of all, you need to stay friendly and wait for them.',\n",
              " \"Go. Talk to him. Don't hide anything.\",\n",
              " 'The same quality as a gentleman.',\n",
              " 'Young women are 10 times more successful than girls who do not have success rates if they ask young men to go out.',\n",
              " 'So a simple man fell in love with his wife once, claiming it was true love.',\n",
              " \"Don't retaliate, you shouldn't be demeaning yourself to her level.\",\n",
              " \"Cafés, cafes, shopping malls are places where you can find girls, depending on the type of interest you're interested in.\",\n",
              " \"If he loves you, he'll be grateful for everything you've given him.\",\n",
              " \"Since I'm a prude, I said get married.\",\n",
              " \"Me, as far as I'm concerned, it's not like that.\",\n",
              " 'You should love them like they do.',\n",
              " \"I've been married a million times for love, and now it depends on how much we're talking about!\",\n",
              " \"Well done. I know she'll love it.\",\n",
              " 'Meanwhile, his father was obsessed with his new love interests.',\n",
              " \"First of all, it's not a friend.\",\n",
              " \"I hope you'll answer me.\",\n",
              " 'My friends agree with me.',\n",
              " \"I said who you love, who you love, race shouldn't be a problem.\",\n",
              " \"You shouldn't go any further with this guy, okay?\",\n",
              " 'A term that reminds him of a better time in the past.',\n",
              " 'Do you know where I should meet them?',\n",
              " 'If you really like her, start going as a group.',\n",
              " 'The \"Closer\" performed by nine-inch needles is the most sex-related song ever.',\n",
              " \"They're taking their actions against you.\",\n",
              " 'In addition to the above suggestions, we will proceed only as you normally do.',\n",
              " 'Be happy. Be a little cocky.',\n",
              " \"Just tell him you don't like the way he likes him, and tell him not to reopen the subject.\",\n",
              " 'Look like this, forget about him/her.',\n",
              " \"Women want a man who'll never lie to them.\",\n",
              " \"There's something you can see or play.\",\n",
              " 'My dress is a long, wise, 15-foot train!',\n",
              " \"You'll be happy when you talk and be yourself.\",\n",
              " 'Even if you think you have the right answer, you got the wrong answer.',\n",
              " 'Last time I got hurt, it was just me this time.',\n",
              " 'Call him and talk to him about this.',\n",
              " \"Most likely, you'll never find a man like you who likes your personality or even if you like him.\",\n",
              " 'Tell them you love them very much.',\n",
              " 'It has to be someone I know.',\n",
              " \"Do you know her? She doesn't feel the same for you. You should talk to her.\",\n",
              " \"Now, don't let anyone read it.\",\n",
              " \"Obviously, you should make sure your best friend doesn't have any problems with it.\",\n",
              " \"I hear it doesn't matter, but what matters is how you use it.\",\n",
              " 'You should date someone you find attractive, because beautiful women are in the eyes of a soothsayer.',\n",
              " \"It's not as bad as everyone says.\",\n",
              " \"You'll like each other better when you sleep together.\",\n",
              " \"And you probably shouldn't have a girlfriend.\",\n",
              " \"Both, I guess it's important, because the comfort of a man, maybe for psychological reasons.\",\n",
              " 'Maybe you can relive it and make it better.',\n",
              " \"It doesn't hurt to fall in love, but it hurts to lose love.\",\n",
              " \"My best friend has a lot of reasons. She doesn't approve of my boyfriend.\",\n",
              " \"If I were you, I'd buy him something he likes, like a sweatshirt or something.\",\n",
              " 'Have fun with your friends!',\n",
              " \"Yes, the reason you're suggesting this is because she's worth a new thought.\",\n",
              " 'If you need help, ask him.',\n",
              " 'The best way to deal with this kind of thing is to be honest.',\n",
              " 'We need someone who can take care of us for a long time.',\n",
              " 'Girls like it when you praise their breasts.',\n",
              " \"The man just didn't notice the girl had intestinal exercise.\",\n",
              " \"I don't like non-traditional ideas, but of course, it's okay.\",\n",
              " 'I can only speak for myself, a funny guy.',\n",
              " 'Think about what you want from your wife.',\n",
              " 'Maybe you should try.',\n",
              " 'You can find people online or where you live.',\n",
              " 'Open it!',\n",
              " 'Seattle has a lot of chat rooms on Craigslist.com.',\n",
              " \"She's probably more shy than you know, because it's not threatening.\",\n",
              " \"I love Jesse, too, even if he's dating Katie Cassidy.\",\n",
              " 'You can buy a nice blanket to keep you warm.',\n",
              " \"A good friend will be a good listener. He won't hurt your feelings.\",\n",
              " \"If he's a great man, his skin should have nothing to do with it.\",\n",
              " \"On the other hand, there's a chance of finding a new best friend out there.\",\n",
              " \"I don't know, if that's possible.\",\n",
              " 'If intelligence is similar, there are no differences between ages.',\n",
              " 'Please help me, girls.',\n",
              " 'I hope you like what I think!',\n",
              " \"Give me a call. If you can't reach me, try number 5.\",\n",
              " \"If you're attracted to him, I think the best action plan is to ask him out, and try to spend some time with him.\",\n",
              " 'Ultimately, we must trust ourselves and plan our actions accordingly.',\n",
              " 'You might want to go to her house and explain that you still have things to discuss with her.',\n",
              " 'A husband can have an erection as fast as a man.',\n",
              " 'God has all the power. Why not love him?',\n",
              " 'Age is not a problem. We come from different races.',\n",
              " 'Action is better than words.',\n",
              " 'I have to follow my instincts.',\n",
              " 'You give me reason and strength. Will you love me?',\n",
              " 'In addition to differences in skin colour, we have an age issue.',\n",
              " 'Love doesn\\'t just say \"I love you.\"',\n",
              " 'What would you do if you fell in love with a girl online?',\n",
              " \"That's my personal opinion.\",\n",
              " \"If she's happy, you shouldn't have made you jealous to get in the way.\",\n",
              " \"I'm always hanging out with someone who looks like a lumberjack!\",\n",
              " 'They do it because they love each other.',\n",
              " \"Too bad you don't know how he ended his relationship with his daughter and mother.\",\n",
              " \"You can go see another girl because there's so many people to go!\",\n",
              " 'Do you think I should trust this man or leave him?',\n",
              " 'If milk itself is free, why do you buy cows?',\n",
              " \"However, given the seriousness of the game, don't get pregnant.\",\n",
              " \"Still, you're a good person around.\",\n",
              " 'For the first time and for the 100th time, please use your protection.',\n",
              " 'As I said before, the discovery of that special person happened only by chance; you cannot plan.',\n",
              " \"If someone thinks girls like it, it's a man who smells good.\",\n",
              " 'Look at my problem. I texted that I needed help.',\n",
              " \"Adult men don't care if their girlfriend is a virgin.\",\n",
              " 'It could be a trust thing because my mom was like this when my stepfather left.',\n",
              " 'He had a family, so allowed him to reconcile with his woman.',\n",
              " \"Everything's fine. God has found someone for you.\",\n",
              " \"I haven't made up my mind yet.\",\n",
              " \"Some people don't care about women.\",\n",
              " \"He's got kids. Let him talk to his girlfriend.\",\n",
              " \"You're in good shape, you're waiting for the right person, or you don't want to trust people.\",\n",
              " 'First, please explain why he has no choice.',\n",
              " \"I'm kind of stuck in the middle.\",\n",
              " \"It's because someone lies, cheats, steals, puts you to bed.\",\n",
              " 'If you still care about me.',\n",
              " 'I really like Gotham.',\n",
              " 'I wonder if I should get rid of the girl from my life.',\n",
              " \"You don't love me, you just need friends at that time.\",\n",
              " 'If she told you, you should know, she did it and then ignored her statement.',\n",
              " 'He has an outward personality, and I have an inward personality.',\n",
              " 'You have nothing to lose, because planning has ensured your doom.',\n",
              " 'The man who suits you is outside.',\n",
              " \"You're in the right place right now.\",\n",
              " 'I like leather, so please use your heart!',\n",
              " \"He's gone. I'm quiet.\",\n",
              " 'As long as you breathe, you still have a chance to avenge God.',\n",
              " 'And if Allah wills, He will bring you your souls.',\n",
              " \"You're in a good position right now.\",\n",
              " \"I know I'm crazy, but I have to leave you.\",\n",
              " 'I guess you mean \"American.\"',\n",
              " 'Maybe he/she just wants something.',\n",
              " 'His tears came out of his eyes when he said that.',\n",
              " 'I guess women are creative, but I think men are more creative.',\n",
              " 'Ask him that question.',\n",
              " 'Just ask him if he likes you.',\n",
              " \"She doesn't like normal people. We can't keep her at home.\",\n",
              " \"You won't be hurt for so long.\",\n",
              " 'Open your eyes, but love him anyway.',\n",
              " 'What do the girls think is irresistible?',\n",
              " 'I like your questions. Please answer a few more questions.',\n",
              " 'Does she feel the same way?',\n",
              " 'And then your underpants will crack up and suck.',\n",
              " \"Because they might come back. It doesn't mean anything. It's just words.\",\n",
              " \"I'm not sure I want to date someone else. Am I supposed to be patient?\",\n",
              " \"Any sign of it? You should ask him. It's the best way.\",\n",
              " \"I don't believe in talking lines. Just be yourself.\",\n",
              " 'Listen to track 10 on the \"30\" track.',\n",
              " \"Why can't he just listen to me?\",\n",
              " 'If you fail, ask until you succeed.',\n",
              " 'He needs to love it and want to study it.',\n",
              " 'Are you looking for a bad girl or a good girl?',\n",
              " 'Because the fate of mankind demands it until death!',\n",
              " 'Consultancy may be a wise choice.',\n",
              " \"If you kiss him, he'll be happy.\",\n",
              " \"You don't look so good.\",\n",
              " \"She's probably using you... to end the relationship.\",\n",
              " \"You'll make someone happy, even for a short time.\",\n",
              " \"You don't even like it. You might get upset about it.\",\n",
              " 'Tell her if you find anything pretty or pretty, or anything that upsets you.',\n",
              " 'You hesitated to speak to them.',\n",
              " \"You always want something you can't have.\",\n",
              " 'I still love him.',\n",
              " 'Let her relax and see what happens.',\n",
              " 'I made strange appearances of the girls I like to throw them away.',\n",
              " 'Balancing and getting paid rent is sexy.',\n",
              " 'Started at the time of the caves.',\n",
              " \"It's a stupid investigation, what's the possible reason Jesse wants to date you?\",\n",
              " 'Will blinking and flirting help?',\n",
              " \"It'll be cut off forever, so it'll disappear from the horizon and the mind.\",\n",
              " \"I met my husband on the internet, and as far as I know, he's not a serial killer.\",\n",
              " 'Spend time with her.',\n",
              " \"I'm telling you, it's true.\",\n",
              " 'Cherich will always love them.',\n",
              " 'I met my boyfriend Ted Carter, and now I know what happiness means.',\n",
              " \"I hate to say that, but I can't believe she's loyal to you.\",\n",
              " \"I don't understand why the house is so messy.\",\n",
              " \"If a girl doesn't like you so much, she won't even think about letting you kiss her goodbye.\",\n",
              " 'This could take a few weeks to a few months.',\n",
              " \"When your partner starts complaining you're always worried about spending a lot of money, you know you have a problem.\",\n",
              " 'Go to the strip club and do me a favor.',\n",
              " \"Of course, but a woman doesn't say it's a big problem like a man.\",\n",
              " \"It's either a proposal or a ring.\",\n",
              " 'I hope everything goes well. Good luck!',\n",
              " 'I wonder what kind of man women would find irresistible appeal.',\n",
              " 'Stop criticizing your mother and make her have fun.',\n",
              " 'Compared to rich men, he could not choose which women he wanted to have relationships with.',\n",
              " \"Maybe she's not ready to make such a big marriage promise.\",\n",
              " 'With girls of the same age.',\n",
              " 'You should have asked her how she was today.',\n",
              " \"Just keep searching, it'll happen.\",\n",
              " \"I don't understand why there's such a commotion.\",\n",
              " 'Self-love is more important than money, not at any cost.',\n",
              " 'Don\\'t you know what \"full-body woman\" means?',\n",
              " 'Sex may not be good. You can ask them.',\n",
              " 'That sounds like domestic violence.',\n",
              " 'I was wondering what you thought of it.',\n",
              " \"Thank you, but I don't want to hurt their feelings.\",\n",
              " 'It says Merry Christmas on the Christmas card.',\n",
              " 'He needs your trust and respect.',\n",
              " 'My last choice is to wear a thick pyjamas.',\n",
              " 'People grow up at different ages, and some never do.',\n",
              " \"Don't just get a simple chick.\",\n",
              " \"If he's interested in you too, no problem!\",\n",
              " 'Call her later in the day and kiss her.',\n",
              " \"Do you understand? Don't call me again.\",\n",
              " \"Who's gonna arrest you, who's gonna arrest you, who's gonna arrest you, who's gonna arrest you?\",\n",
              " \"Don't talk about your work or anything that can be considered boring.\",\n",
              " \"Sometimes you feel depressed and you feel like there's nothing you can do.\",\n",
              " 'You should take her to a delicious dinner or something natural.',\n",
              " 'You know what I mean. Watch, learn, apply.',\n",
              " \"Doesn't it feel like it's worth it?\",\n",
              " \"Could it be that you're looking for someone to help you make it happen?\",\n",
              " \"But, I don't know, in my opinion, you sound desperate as if you need physical intimacy.\",\n",
              " \"I'm not sure I'm there.\",\n",
              " \"Yeah, there's an end, but you have to go through a few bad things first.\",\n",
              " 'You never listen to them.',\n",
              " 'You have a chance once in a lifetime, so you should enjoy it.',\n",
              " \"Good luck if you haven't found love when you're looking for love.\",\n",
              " 'You should spend more time with the girls.',\n",
              " \"If things don't work out between you two, come to an understanding.\",\n",
              " \"Don't worry. His sister's going too.\",\n",
              " \"Please don't turn it into a cage.\",\n",
              " \"It's like a man walking a toy dog, not a big dog.\",\n",
              " \"I'd say no if he really wanted one.\",\n",
              " \"The man who suits you won't refuse you, so keep looking for him.\",\n",
              " \"Don't ever let her feel guilty about her answers.\",\n",
              " \"When you talk to her, you really care what she's saying.\",\n",
              " 'There is no reason to be angry, because it does not solve any problems.',\n",
              " \"It's like a Russian roulette and you always lose!\",\n",
              " \"If that's the case, don't curse her for the same thing.\",\n",
              " 'Why is he so angry?',\n",
              " 'Do priests also engage in inappropriate activities with altar boys?',\n",
              " 'The point is not to go too far and ruin your life.',\n",
              " \"If he really felt the same way about you, he wouldn't ignore you, he wouldn't destroy friendship.\",\n",
              " 'I like being with friends every chance I get.',\n",
              " 'What is a physical disability, like a wheelchair user?',\n",
              " 'What are the rules?',\n",
              " \"You'll have to read my other questions and then you'll know how to answer this, okay?\",\n",
              " 'Can he find a girl in time?',\n",
              " \"It's not true. People are people, so they often make mistakes, whether they love each other or not.\",\n",
              " 'Of course. Then we do the chores.',\n",
              " 'As long as you love the child and love him, everything will be fine.',\n",
              " 'Maybe he\\'s not ready to say, \"I love you.\"',\n",
              " \"What if he doesn't understand, what if he does?\",\n",
              " \"We men don't care about lesbians.\",\n",
              " \"I'll share my ex-husband's story with me.\",\n",
              " \"If he's not smiling, he's just staring at you!\",\n",
              " 'Just for him in a short suit.',\n",
              " \"It's okay, because a lot of girls ask me out.\",\n",
              " 'If you cannot spend time with her and cannot communicate with her, there is no reason to pursue it.',\n",
              " 'In most cases, that does not mean anything.',\n",
              " 'Marrying your best friend will be the best decision of your life.',\n",
              " 'If you are, then you like marrying men and women.',\n",
              " \"Unfortunately, women tend to think irrationally, which is a shame in men's lives, but it is inevitable.\",\n",
              " 'I think you might be too stubborn.',\n",
              " \"It's not bothering me.\",\n",
              " \"You're probably sorry you missed a lot of opportunities.\",\n",
              " 'Have you ever had sex in a car before?',\n",
              " \"I support anyone's ability to marry.\",\n",
              " \"No, I'm not suggesting anything.\",\n",
              " 'Older men are nice, too.',\n",
              " \"He started smoking, I didn't like it.\",\n",
              " 'You should make sure he uses protection.',\n",
              " 'You should stop him from blocking all pornographic sites.',\n",
              " \"Maybe you're not the only one using it.\",\n",
              " \"You're a very interesting woman.\",\n",
              " \"If both things show up, I'd be happy to accept.\",\n",
              " 'Men kneel for sex. Women like it.',\n",
              " \"Not only the door, but every door, we're everywhere!\",\n",
              " \"I've seen this in the movies.\",\n",
              " \"But if you don't love her, you don't want to waste your life on a girl.\",\n",
              " \"There's no reason not to get a job, sir.\",\n",
              " 'Who wants someone who treats them like garbage?',\n",
              " \"Because some people want kids, some don't.\",\n",
              " \"But love is the ability to feel it, to know that you're in love with someone.\",\n",
              " \"Try this site. It's a great search engine. It might be useful.\",\n",
              " 'My wife has a big glass of salt water.',\n",
              " \"Hello. I'm Iranian. I want to marry a great man who loves me.\",\n",
              " \"Don't flirt, don't talk, don't dance with that guy.\",\n",
              " \"If she doesn't do what she says, let her do it.\",\n",
              " 'So far, work has proceeded very well.',\n",
              " 'Women explain everything a lot. They repeat it 10,000 times.',\n",
              " \"It doesn't make any sense.\",\n",
              " \"These people aren't fun around!\",\n",
              " \"I'm not gonna let the night fuck ruin my home and my family.\",\n",
              " 'Please list something you want as a late Christmas present.',\n",
              " 'Your husband gave you the ring.',\n",
              " \"Come on, let's ask her to be your girlfriend.\",\n",
              " \"Only if you want, but deep down you can't forget.\",\n",
              " \"Of course, if your mother finds out, she'll be very upset.\",\n",
              " \"There's a lot of suspicious stalkers out there.\",\n",
              " \"You can find her at home. It's your right as a parent.\",\n",
              " \"Ethan Hawk, beauty isn't his best taste.\",\n",
              " 'Your best friend will be happy to help you.',\n",
              " 'Americans are bigger than the rest of the world.',\n",
              " \"Congratulations. Don't give up!\",\n",
              " 'If anything happens, be careful.',\n",
              " \"I'm sorry, but I don't think she likes you.\",\n",
              " 'When they say dirty words, it sounds naughty.',\n",
              " \"Maybe angels aren't for you.\",\n",
              " \"Don't listen to young people.\",\n",
              " 'What do men like when they make love?',\n",
              " 'Depends on what you like.',\n",
              " 'Love is not a shame.',\n",
              " \"Okay, so I'm really this guy at school a lot from three years ago.\",\n",
              " \"But don't give her or her family any reason not to like you.\",\n",
              " \"Rose Christina, don't you know what I mean?\",\n",
              " 'First the forehead, down to my cheek, then the lips.',\n",
              " 'Do not pick up lines to start talking to them.',\n",
              " 'I want to do something like this.',\n",
              " \"Do you masturbate in each other's faces?\",\n",
              " 'If you really love him, give him another chance to change.',\n",
              " \"I don't even remember how our friendship started.\",\n",
              " 'No, because this is the beginning.',\n",
              " \"I'm a 20-year-old liberal high school graduate.\",\n",
              " \"Because you know he's having a good time, and you're not.\",\n",
              " \"They're just ignorant!\",\n",
              " 'I suggest you relax if you think he still loves you.',\n",
              " \"It's okay; he may be with his family.\",\n",
              " \"As I said before, if you believed him, I wouldn't worry.\",\n",
              " \"They don't even want to talk to you.\",\n",
              " 'I will always love you XBOX360.',\n",
              " 'They think they want to own something like this.',\n",
              " 'Romance is absolutely great: candles, rose petals, etc.',\n",
              " \"Why don't you look at the comet, it won't happen.\",\n",
              " \"She's not satisfied because I work too hard.\",\n",
              " 'Buy the right presents, think about her favorite things, places and people.',\n",
              " \"They're a love card with a sticker sticker.\",\n",
              " \"My daughter's 10 years old. She thinks it's disgusting. She doesn't like the idea at all.\",\n",
              " 'My choice is: Usher\\'s music, R Kelly\\'s \"Wine,\" and any soft research and development and good rhythm.',\n",
              " 'The most important thing is love, because love makes romance grow.',\n",
              " 'Stop it before you try to start something serious.',\n",
              " 'Obviously, my friend, rejection would be the worst thing that could happen.',\n",
              " 'Like his favorite band CD.',\n",
              " 'They have yet to find out that girls are humans and not toys.',\n",
              " 'He said he had to cheat?',\n",
              " \"She probably thinks you're weak right now.\",\n",
              " \"I really like him, but we're very good friends, and I don't want to spoil that.\",\n",
              " 'Look, look what she said.',\n",
              " \"For me, there's no argument that love is the whole process.\",\n",
              " 'Tell her everything you love about her, wherever you are, whatever you do.',\n",
              " \"If that doesn't work, it means line one.\",\n",
              " \"They make vibrations, it's time for you to join the fun!\",\n",
              " 'Are you looking for your booty boyfriend?',\n",
              " 'If you want to get interested in her together, do it.',\n",
              " \"There's always a hidden place to find.\",\n",
              " 'If you feel unsafe, then you may not be safe.',\n",
              " 'I want it to work for you!',\n",
              " \"It's romantic. She'll love it.\",\n",
              " \"You act like you're comfortable with him.\",\n",
              " 'You should talk to them or your boss is definitely not me!',\n",
              " 'Sit on the couch and watch with him.',\n",
              " \"I'm under a lot of pressure.\",\n",
              " 'I fear the wisdom of the monkey and worship it at the same time.',\n",
              " 'No, of course, I would never do that so soon at the end of their relationship.',\n",
              " 'But he made a mistake and lied to me many times.',\n",
              " 'Give her a hug, tell her you love her, take her for a walk.',\n",
              " '\"I can do it again. I\\'m a master of sex.\" That\\'s what I\\'m talking about.',\n",
              " \"I'm one of them. What do you want?\",\n",
              " \"If it's normal, it's more normal than sure.\",\n",
              " 'Can you call a friend?',\n",
              " \"If we don't get love, we feel like we don't want and we don't love people we want from.\",\n",
              " \"Does your heart tell you it's the right thing to do?\",\n",
              " \"Ladies love self-confidence, and the dog's eyes can get their attention!\",\n",
              " \"A lot of people forget it's none of my business.\",\n",
              " 'Ladies, please answer one negative score, ten yes.',\n",
              " \"I think it's driving her crazy because she doesn't know how I feel about her.\",\n",
              " 'The better question today is, where did you get this?',\n",
              " 'Did you make love to him?',\n",
              " \"Tell her because if you choose not to do so then you'll always regret it and if so, you'll want to know what happened.\",\n",
              " 'I said yes, I said no, I mean yes, I said no, I said no.',\n",
              " \"Since he begged me to stay, he said he'd do anything to keep me.\",\n",
              " 'What if you live with your parents?',\n",
              " \"When you were with him, you asked him how he felt. If that's the case, did he tell you?\",\n",
              " \"I don't like men who are embarrassed when they ask for a date.\",\n",
              " \"If you'd like to talk to me about it.\",\n",
              " \"Tell him you don't want to talk to him anymore, and you don't want to have any contact with him.\",\n",
              " \"If you look interested, you'll have to look at your best at any time.\",\n",
              " 'If you do, you can get rich.',\n",
              " \"Think about buying her a necklace. She'll love it.\",\n",
              " \"Keep looking. Maybe someday you'll find him.\",\n",
              " \"Friends will watch, but they don't want to interfere.\",\n",
              " 'When you interact with others, you treat them the way you want to be treated.',\n",
              " 'He wants to get married and have children.',\n",
              " 'I love you so much, honey.',\n",
              " \"Don't worry, this pain feels really good.\",\n",
              " 'I want love and love in return.',\n",
              " \"I'm thinking about her personal needs and feelings.\",\n",
              " \"It's hard to imagine the idea of losing another person important to me.\",\n",
              " \"As you know, I'm a woman, but I'm leaving now.\",\n",
              " 'If you are interested in exploring potential love interests in the science and technology sector, please visit the mountain of Caltrain Stop in the north at 5:20 p.m.',\n",
              " 'I don\\'t think \"fat\" means fat.',\n",
              " \"My feeling is, you don't want a romantic relationship, just want a man to participate in your life.\",\n",
              " 'What am I supposed to do to win her trust again?',\n",
              " 'Many young men spend a lot of time deciding whether they want to have children.',\n",
              " 'Besides, our budget is quite limited!',\n",
              " \"Because he's rude, and by the way, he doesn't seem to be around you or your baby.\",\n",
              " 'I really hope that this is not a serious issue.',\n",
              " 'I had to ask my husband out a few times before I agreed.',\n",
              " 'Most, but not all, women are attracted to sensitive men.',\n",
              " 'You should be busy joining a sports team and keep busy!',\n",
              " \"Are you sure you're not interested in her?\",\n",
              " 'Sounds like two or three jobs.',\n",
              " 'Love is just the interaction between any two people.',\n",
              " 'You can only meet an honest man in your dreams.',\n",
              " 'Women are not control freaks. They just want to do what they want.',\n",
              " \"If you like having a girl fuck your ass, that's not gay.\",\n",
              " \"I love foreigners' appearances and accents.\",\n",
              " \"She probably didn't mean to think that, but the subconscious survival of the fittest.\",\n",
              " \"But if he's not, you can threaten or help him.\",\n",
              " \"Since I'm a newlywed, I know I sometimes do it three or four times.\",\n",
              " 'You can be with her in the bedroom and be good, but evil.',\n",
              " \"You should still buy her a special gift to remind her that you're still loyal to her.\",\n",
              " 'It must be noted that he has not exacerbated the problem negatively.',\n",
              " 'His economic situation was stable and he remained focused on the goals of life.',\n",
              " 'What do you think of gay marriage?',\n",
              " \"When their relationship starts to have problems, you should let him know that you're interested and that you want to have a chance with him.\",\n",
              " 'If you were, you might want to ask if they mind.',\n",
              " \"No, I don't think so -- I still think love is great, but I look at domestic violence.\",\n",
              " 'There can be no romance without love.',\n",
              " \"You've never seen a porno?\",\n",
              " 'Try not to argue with him.',\n",
              " 'I know him. Call him.',\n",
              " 'Should I forgive him?',\n",
              " \"I'm the first person who admits he needs help.\",\n",
              " \"I don't have time to enter all the reasons.\",\n",
              " \"Sometimes it's hard to just ask.\",\n",
              " 'Is this the New Age freak?',\n",
              " \"I'm not sure. Soon you'll start talking to each other.\",\n",
              " 'Even if sometimes they cause us extra problems?',\n",
              " 'Do you remember the promise you made?',\n",
              " \"I'm looking for the number of my ex-girlfriend.\",\n",
              " 'If you need to ask that kind of question, maybe you should ask.',\n",
              " 'Can a boy and a girl just be friends?',\n",
              " 'It depends on how fast you stop.',\n",
              " 'Take a minute to stop and think about it.',\n",
              " 'Keep an eye on the little detail that will help you reach your goal.',\n",
              " \"I don't think it was intentional.\",\n",
              " 'I know a girl who grew up in church. We dated.',\n",
              " \"Find that special person, honey, you'll have a custodian.\",\n",
              " \"I'm sorry, photo, I just thought it would be fun.\",\n",
              " \"I find a lot of women interested in me, but I don't think they're interested in me.\",\n",
              " \"It's hard to do that without knowing your wife, but it's just a general suggestion.\",\n",
              " \"She may have another man there, but she can't answer.\",\n",
              " 'Yes, if you really love her.',\n",
              " 'I know I love her more than this guy.',\n",
              " 'Did she go through a bad breakup?',\n",
              " \"Congratulations. It's a wonderful gift.\",\n",
              " \"I'd like to find somewhere to enjoy the appetizers, to drink somewhere else, to have six class dinners, to have dessert at home.\",\n",
              " \"This guy's too dramatic.\",\n",
              " \"Pretending he's straight. Maybe she's locked up. Everything's gonna go back to normal.\",\n",
              " 'When you get married, two become one!',\n",
              " \"Don't think about it. Go out and find someone real.\",\n",
              " 'When you ask her out for a walk you should be careful to mention her age.',\n",
              " 'You can get him to play gay in the game.',\n",
              " \"Don't wait for them to get close to you.\",\n",
              " \"It's wonderful if you can provide and good home.\",\n",
              " \"I don't mind her boyfriend sleeping here every night.\",\n",
              " \"Of course you can come back, but you can only come back when you're not smart.\",\n",
              " \"Don't make a mistake in inventing a fake boyfriend because he'll think you're empty.\",\n",
              " 'Then we dream of sex.',\n",
              " 'Then you and your husband will have plenty of time to play.',\n",
              " 'What did their mother think of that?',\n",
              " \"I don't think she's sexually attractive anymore.\",\n",
              " 'You can expect me to mention it.',\n",
              " \"Cheating is not an option when you're in love. But if you have feelings for someone, you may still be attracted.\",\n",
              " \"I can only make sure it's half.\",\n",
              " 'Just out of curiosity, let your best friend seduce him and see how he reacts.',\n",
              " \"It is unacceptable to marry your brother's wife unless she is a widow.\",\n",
              " \"Romance is a good thing, but don't exaggerate, but it is also important to give her time to think for herself.\",\n",
              " \"That's why some men cheat their wives.\",\n",
              " 'You have to care very much about her.',\n",
              " \"I've had an extremely difficult breakup.\",\n",
              " 'Depends on how old you are.',\n",
              " \"What if we have kids and he doesn't want to talk about it now?\",\n",
              " 'You should consider consulting.',\n",
              " 'Stay with him. Listen.',\n",
              " \"Good luck. You'll need it.\",\n",
              " 'My ex-girlfriend is very popular.',\n",
              " \"A lot of men watching porn think it's normal to have a lot of talent.\",\n",
              " 'Men are attracted to young women and are easily submissive to them.',\n",
              " \"They're supposed to be just friends.\",\n",
              " 'In short, they do not have to do so.',\n",
              " 'All you need is a small group of people.',\n",
              " 'A few months ago, he told me I had his heart!',\n",
              " \"I was afraid I'd get fat.\",\n",
              " 'The most romantic part of the first kiss is in the rain, like in the movie Notebook.',\n",
              " 'I wish I could stay home and cook, not just bake cookies.',\n",
              " 'Her children should be placed first, not the man in her life.',\n",
              " 'Maybe try to kiss him. You might know if he loves you.',\n",
              " \"If I were you, I wouldn't come back.\",\n",
              " \"If he doesn't like you, it's not worth it.\",\n",
              " \"Don't answer in those personal computer languages.\",\n",
              " \"But don't think this guy can never replace you in her heart.\",\n",
              " \"It's not easy to forgive him.\",\n",
              " \"But you don't know who you have feelings for, if you can feel them again.\",\n",
              " \"Ask him if they only feel friendship for you, or it's not just friendship.\",\n",
              " 'With someone she said she loved.',\n",
              " 'I asked him in the parking lot after work. The rest are history.',\n",
              " \"He's my best friend, he bought me some fancy stuff, but we're not dating or anything.\",\n",
              " 'Just like my girlfriend is now.',\n",
              " 'If you have a long distance relationship, you should slow down.',\n",
              " 'That guy could get in trouble.',\n",
              " 'Yeah, a girl can get pregnant at her first sex.',\n",
              " 'The Internet and Danette are fine.',\n",
              " \"Most of the time, that's what they want.\",\n",
              " 'The most important characteristic of females is not breasts.',\n",
              " \"You shouldn't have sex with anyone you like.\",\n",
              " 'Girls are more appropriate and actually care about their wisdom and beauty.',\n",
              " 'Good guys finalize and often lose girls.',\n",
              " \"If that's his first problem with you, he's not worth it.\",\n",
              " \"It's painful, it feels like someone threw ice water at your face.\",\n",
              " 'Think about it. Give yourself some time.',\n",
              " \"It's been five years since my last date.\",\n",
              " \"Yeah, I'm the one you're talking about. Why are men so cruel?\",\n",
              " 'You have someone who can join you in what you like.',\n",
              " 'I suggest you go play with him.',\n",
              " 'He should be looking for a talented woman.',\n",
              " \"It's because ancient times, people are judged for the survival of the fittest.\",\n",
              " 'You can always consider paying for it.',\n",
              " 'I suggest we take a photo first and talk to you on the phone.',\n",
              " \"The men I've attracted have never been attracted to me, and I'm not interested in those who are interested in me.\",\n",
              " 'But she also claims to love me.',\n",
              " 'Sometimes, when women recognize their feelings, men avoid women.',\n",
              " 'Just because men are angry and hungry.',\n",
              " 'And do not talk about it too much.',\n",
              " \"I don't think you should have sex.\",\n",
              " 'This proposal will be considered at a later stage.',\n",
              " 'You can make her candles, but you have to buy something to do.',\n",
              " \"She's supposed to feed you in other ways.\",\n",
              " \"A woman can control herself, go to bed and get up. It's sexy.\",\n",
              " 'A card made by her own hand with a ton of love.',\n",
              " \"There's nothing more sexy to me than a leg!\",\n",
              " 'I like little girls compared to curly girls.',\n",
              " 'And not being distorted or anything, but usually people do that at night, during the day, or after marriage!',\n",
              " \"If she's in, then just take it and let a man or a girl come over.\",\n",
              " 'Instead of criticizing their appearances, etc.',\n",
              " \"Respect her privacy and don't say anything bad to her friend.\",\n",
              " 'That is how the world works.',\n",
              " 'How can I make my new boyfriend happy?',\n",
              " 'In my opinion, the dress should be long.',\n",
              " 'You mean straight with gays at the same time?',\n",
              " \"If she likes it, it doesn't bother you, don't judge her, just make her happy and pull away.\",\n",
              " \"If you're married, he should pay them, too.\",\n",
              " 'There are many ways.',\n",
              " \"He likes me, but he won't tell me.\",\n",
              " \"To be honest, I think you're going to fall and fall in love with them.\",\n",
              " \"Life is too short to be wasted on people who don't want you.\",\n",
              " \"If this doesn't work, don't worry about it, because it's just your genetics.\",\n",
              " \"I can't let her out of my mind because I need her so much right now.\",\n",
              " 'It depends on how you feel.',\n",
              " 'There are as many great men out there as there are great women.',\n",
              " \"Then don't wait too long.\",\n",
              " \"Don't keep your girlfriend under control. I hope everything goes well.\",\n",
              " 'That means no communications, if you can help it, no e-mails, no phones, no letters, nothing.',\n",
              " \"I'm sorry, but you have to do what your mother or father told you to do.\",\n",
              " \"I'm sure you'll just have to wait for him to make some more money.\",\n",
              " 'People would like to know why it took so long.',\n",
              " \"To be honest, I don't think it's right to let a man pay. I never let a man pay.\",\n",
              " \"I think if you were thinking about it, you wouldn't feel it.\",\n",
              " \"If I want a woman like a 12-year-old boy, that's what I'm after.\",\n",
              " \"You don't have to like this woman, but you have to be polite because of your daughter.\",\n",
              " \"It's a good combination of Northern New York, South and New England garbage.\",\n",
              " \"They're all here for you.\",\n",
              " 'Wherever you meet someone, you should be careful.',\n",
              " \"You can have romance, but if you don't love this man, then you won't have romance.\",\n",
              " \"I've been in a similar situation before.\",\n",
              " 'I found this guy interesting around here.',\n",
              " \"No, she doesn't think I'm attracted to her.\",\n",
              " \"Maybe it's because you're under 18.\",\n",
              " 'I want you to have a happy New Year.',\n",
              " 'My child is 5 years and 3 years old.',\n",
              " \"You shouldn't force or manipulate her to do something if she wants to.\",\n",
              " \"There is not much social life outside our home because my husband doesn't care about meeting people.\",\n",
              " 'If you want, you can find it.',\n",
              " 'Paris Hilton said I liked it.',\n",
              " \"That's your priority.\",\n",
              " \"I don't blame you.\",\n",
              " 'You have to go outside and look.',\n",
              " 'Like Paris Hilton would say, \"It\\'s too hot!\"',\n",
              " \"It's something you have to experience.\",\n",
              " 'Or you can find a good lesbian who wants to have kids and work from there.',\n",
              " \"I'm not saying you are, but those I've had experience with are.\",\n",
              " \"Tell her it's over.\",\n",
              " 'If he cheats, you know nothing.',\n",
              " \"They don't want you to leave.\",\n",
              " \"I can't get this woman out of my head!\",\n",
              " \"Why don't you ask her for coffee?\",\n",
              " \"I don't want to end my marriage because I have a daughter.\",\n",
              " \"I'll work at home.\",\n",
              " \"A girl whose parents don't agree with you.\",\n",
              " \"She told me how much she liked me, but I still don't know what she was thinking.\",\n",
              " \"Stop dating people who don't like you.\",\n",
              " \"It's the problem you love him.\",\n",
              " \"It's a stupid question.\",\n",
              " 'Did you try hitting him on the head?',\n",
              " 'Tell yourself you have nothing to worry about.',\n",
              " \"I'm not gay!\",\n",
              " \"It's in the middle. If we give it, you give it.\",\n",
              " 'Very funny. Very handsome.',\n",
              " \"One day, your heart will let you know it's the best thing you've ever done.\",\n",
              " 'Look at my picture. Do you think I look smart?',\n",
              " \"It's just hard for them to see.\",\n",
              " 'If he were there, it would be a success.',\n",
              " 'Some men want more than just sex.',\n",
              " 'Remember, Christian girls are attracted to Christian men.',\n",
              " 'I think you should ask him.',\n",
              " \"If he's not there, it won't work.\",\n",
              " 'You have to improve your terrible grammar before you think more about kissing.',\n",
              " \"I'm sure some men have no strong sexual desire for a variety of reasons.\",\n",
              " 'Remember, smart women prefer smart men.',\n",
              " \"Every time I do it, I can't do it. I'm sorry.\",\n",
              " \"Don't ignore the two of you or close the door. I wish I could help.\",\n",
              " \"Once you meet a second, you'll overcome the first problem.\",\n",
              " 'My family went to the public library or town hall to ask where the people went.',\n",
              " \"It's like taking her to a movie.\",\n",
              " \"In this case, it's not bananas in his pocket.\",\n",
              " 'I understand your point, because you want people to pay attention to your point of view, not to be extremely glorified.',\n",
              " \"Besides, if you're still not sure what to give him, you should stop living.\",\n",
              " 'Whatever you want.',\n",
              " 'You can discuss anything.',\n",
              " \"Follow your original instincts. That's why instincts exist.\",\n",
              " \"For whatever reason, when they're done, they're always cute. I can't understand why.\",\n",
              " 'In my experience, they just want to have sex.',\n",
              " \"It turns out I'm 21, but I haven't got a boyfriend.\",\n",
              " \"It's very clear, my friend. He just wants you to get pregnant and leave you, okay?\",\n",
              " \"I'm looking for something like you, too.\",\n",
              " \"I'm sorry, but he'll repeat the act.\",\n",
              " 'Do I feel different?',\n",
              " \"Don't bother. Let him come after us.\",\n",
              " 'That is, if you can treat the cause of depression.',\n",
              " 'Maybe you need to repeat it to him.',\n",
              " 'He said you made him better.',\n",
              " 'May God bless you, your family and your friends.',\n",
              " \"She doesn't want to get hurt again.\",\n",
              " 'Most people care about their weight.',\n",
              " \"Maybe he didn't hear you, so please say it again.\",\n",
              " 'You might want to stay in this relationship because he wants to improve himself for you.',\n",
              " 'She did not seem interested in improving the situation.',\n",
              " 'And if you do not give, then you will not be helped.',\n",
              " 'I agree that equality has never been true equality.',\n",
              " 'Listen, Indiana Lottery will be on TV in the near future.',\n",
              " 'Good luck to you and your family in your future endeavours.',\n",
              " 'My limited free time caused a disharmony between my boyfriend and my best friend.',\n",
              " 'I can\\'t say the word \"Hell no\" out here.',\n",
              " \"He could've forgotten.\",\n",
              " 'Once you get this through a chat, you can get anything from them.',\n",
              " \"It's a strange question, but I wonder if you like to get kicked in the ass.\",\n",
              " \"There may be a question of trust, but to be honest, he's with a friend now, not with you.\",\n",
              " 'I agree with my two previous answers.',\n",
              " \"I mean, if you're happy when you do it, why not?\",\n",
              " 'This will eventually be your wake-up call.',\n",
              " \"Sometimes there's something that brings you or someone else around.\",\n",
              " \"Unless you're really drunk.\",\n",
              " 'If it bothers you, forget it and ask him a date.',\n",
              " 'Just find the result of the search that was marked by X.',\n",
              " 'If so, please purchase items for him with the team logo.',\n",
              " \"Women like us don't talk about it like men.\",\n",
              " 'At first, you need to be flexible and control it later.',\n",
              " 'What am I supposed to do?',\n",
              " 'I have a best friend who happens to be bisexual.',\n",
              " 'Sometimes during the debate, we talk and do things that we do not mean.',\n",
              " \"It doesn't matter where you are.\",\n",
              " \"That's the nature of men and women.\",\n",
              " 'Whatever happens, the consequences will follow.',\n",
              " 'Three years after that, they returned, and we remain very close friends.',\n",
              " 'More than any gift expected of any gift you might give her.',\n",
              " \"It's probably in the bedroom on the top of the bed.\",\n",
              " \"Naturally, it's harder.\",\n",
              " \"Don't let him have sex with you.\",\n",
              " 'An honest and creative man.',\n",
              " \"I don't care what your colleague said to your friend without knowing.\",\n",
              " 'If you want to make a call, make a call.',\n",
              " 'But for others, I said that if both sides were happy in their relations, they would be fine.',\n",
              " \"It's a difficult question I can't answer.\",\n",
              " \"Why don't you go out with a girl friend who's more positive, like wanting to share it with someone else?\",\n",
              " 'I admire you as a man, and I wait patiently for someone to accept our love.',\n",
              " 'You may not believe it, but there are a lot of people who have a lot in common with you.',\n",
              " \"She's fast. I'm not in a hurry.\",\n",
              " 'Can you clarify that you mean fun?',\n",
              " \"As long as you're a couple, it's not gonna happen.\",\n",
              " 'Sorry, but hope does not exist.',\n",
              " \"I don't think you need a man.\",\n",
              " \"Beyoncé is nice, but I don't want to just leave her appearance.\",\n",
              " 'Four years later, he should be prepared to return what was said.',\n",
              " \"However, if you're just trying to fix it, your only loss is the time spent.\",\n",
              " 'He was overreacted when he asked questions in a suspicious tone.',\n",
              " \"I wish people were comfortable here, but you're beautiful.\",\n",
              " \"I don't like being too quiet or too funny.\",\n",
              " 'Your actions reflect your strength and courage.',\n",
              " 'I cannot understand all of this, nor can I provide an answer.',\n",
              " 'The task was difficult and it would be better not to bother.',\n",
              " 'If you are politely asked to stop writing, it is better to stop writing.',\n",
              " 'Are they manipulating you or controlling you?',\n",
              " \"If you're a good man, keep reading.\",\n",
              " 'Are you a man or a woman?',\n",
              " \"You probably shouldn't talk to him because he's probably only interested in sex.\",\n",
              " \"I can't believe how sexy that is!\",\n",
              " 'Andy, you need to wait until you grow up on a date.',\n",
              " 'The last time I slept with my wife was two months ago.',\n",
              " 'If he refuses to give me a blow job,',\n",
              " 'But I really care about him.',\n",
              " \"Don't you like his kids?\",\n",
              " 'Do you want to make things exciting?',\n",
              " 'It makes flowers or roses more special.',\n",
              " 'I understand your pain.',\n",
              " 'When the fins disappear, love comes with it.',\n",
              " 'You can do these movements of little girls doing, like low-key hints and secret flirting.',\n",
              " 'Think about it. What do you know about her?',\n",
              " 'Secondly, why did women argue with other women over a man?',\n",
              " \"Let's see what their inside minister looks like.\",\n",
              " 'Honey, where do I start?',\n",
              " \"Don't be lazy. Go to work.\",\n",
              " \"You can't find it. It can't find you!\",\n",
              " \"Enjoy it, it's anything floating on a ship.\",\n",
              " 'Time only knows, time only knows.',\n",
              " 'When do you have to ask?',\n",
              " 'Yeah, like everyone else said.',\n",
              " 'Besides, it really depends on the girl, so good luck, sir.',\n",
              " 'When did you meet the new girl?',\n",
              " 'Most gentlemen enjoy it when you start having sex, get loud and talk dirty.',\n",
              " 'Maybe you should let him ask you.',\n",
              " 'Usually, when I get to the next grade, the problem is solved.',\n",
              " 'Maybe another important person of yours is a little overprotective.',\n",
              " \"What am I supposed to do if I don't get a chance online?\",\n",
              " 'Although I cannot speak on behalf of others, I personally like big things.',\n",
              " \"I suggest you don't do this because your girlfriend is too shy to be alone with you.\",\n",
              " \"Out of that, he's a good husband.\",\n",
              " 'There are two reasons why he started to reject the date and lose his desire to kiss you.',\n",
              " 'However, he remains unaccepted.',\n",
              " 'I suggest he get a Ferrari and an I-Pod.',\n",
              " \"I don't understand why people cheat.\",\n",
              " 'Grandma always said, \"Why buy cows, when can you get free milk?\"',\n",
              " 'It is highly likely that she will receive similar items on a regular basis.',\n",
              " \"You should let him go. It doesn't sound like it meant it.\",\n",
              " 'When you find someone you love, think about marriage.',\n",
              " 'If you were closer to me, it would be helpful.',\n",
              " 'Ask her out on a date like a man.',\n",
              " 'While there are some difficulties, it is possible.',\n",
              " 'He was disappointed when I bought him something valuable or very good.',\n",
              " 'A lot of women think they love special men.',\n",
              " 'This man has always been in my mind.',\n",
              " \"I wasn't worried when my husband did it.\",\n",
              " 'There is no proof of ignorance. There is always danger, so be reasonable.',\n",
              " \"If she's attractive, try it, though it's special.\",\n",
              " 'As you said, the ring is not a problem.',\n",
              " \"It's like your heart's on a frying pan.\",\n",
              " \"We've been friends since we were kids.\",\n",
              " 'Is that your problem?',\n",
              " \"Don't talk to my daughter!\",\n",
              " \"I haven't found it yet!\",\n",
              " \"You'd better choose an older gentleman, because men at your age tend to prefer young women.\",\n",
              " \"I know it's painful. Please contact me by e-mail.\",\n",
              " \"I don't know, but it drives me crazy not to know.\",\n",
              " \"I've been married happily for years. If you listen to me, you should wait.\",\n",
              " \"You may be a freak or a cripple, but there's someone out there who likes it.\",\n",
              " \"When he's a girlfriend, it's bad for him to flirt with you.\",\n",
              " 'I can talk to her.',\n",
              " \"I'm sure she's trying to hide the truth.\",\n",
              " 'I am willing to accept other options.',\n",
              " \"I have a friend who's going through something like that.\",\n",
              " 'Her happiness is important, but we do not seem to agree.',\n",
              " \"Even if you find that, you don't want to see it.\",\n",
              " 'Why not investigate the adoption of gay couples?',\n",
              " \"I'm an asshole anyway.\",\n",
              " 'I see it this way.',\n",
              " 'Most men are assholes, but good luck.',\n",
              " 'If you do not like it, then do not participate in it again.',\n",
              " \"I've just been out of love for two years. Most of my friends are men.\",\n",
              " 'You should try to make things work with her.',\n",
              " 'Why do they care?',\n",
              " \"You should get some insight from sleeping with other men's wives.\",\n",
              " \"Make him breakfast, play with his toys, don't talk too much.\",\n",
              " \"I agree, but that doesn't mean I don't take my education seriously.\",\n",
              " 'But I still love this guy.',\n",
              " 'First base is French kiss, second base is under shirt, third base is heavy pet, and home run means sex.',\n",
              " \"Don't forget the red bow around your waist.\",\n",
              " \"Be yourself. Don't look back.\",\n",
              " 'Send him a card, write him a letter about what and why.',\n",
              " 'Your love and heart and soul are the best gifts.',\n",
              " \"I really think he likes it, but I'm not sure.\",\n",
              " \"If I'm having an affair with someone else, it's cheating, because I'm not happy with my husband.\",\n",
              " 'All we can do is stick with it. Keep trying.',\n",
              " 'Even if they look good, they could sound low-level or idiotic.',\n",
              " \"If you don't like them, why do you want a boy to notice you?\",\n",
              " 'However, gay men do, but straight men do not.',\n",
              " \"Take this opportunity. It's summer, friends of South Brazil.\",\n",
              " 'Always remember, the past is past.',\n",
              " 'Do you still have a girlfriend, or are you still looking?',\n",
              " 'He needs to choose what he wants, and you need to give him time to do it.',\n",
              " 'The old \"no, you, me\" line.',\n",
              " 'Listen to him about your relationship.',\n",
              " 'What he might have done to you, what he did to her.',\n",
              " 'Because friendship is very important. You can think about not changing it.',\n",
              " \"How do you know there's only one chance?\",\n",
              " 'Do you think about the future a lot?',\n",
              " \"You might miss him because you're happy he was there.\",\n",
              " 'If she lies, she has to accept the consequences.',\n",
              " \"It's decided whether he's honest or not.\",\n",
              " 'Lying and breaking promises are not just wives.',\n",
              " \"I haven't learned to do this yet.\",\n",
              " \"Don't listen to anyone.\",\n",
              " 'Keep going, there are more options.',\n",
              " 'When she cheated, she promised not to do it again.',\n",
              " 'I used to get shot and it turned me into a psycho!',\n",
              " \"If not, it could be a bad idea, and you're just making drama.\",\n",
              " \"Don't take the bill.\",\n",
              " 'They want a partner to spend the rest of their lives with them.',\n",
              " 'I mean, did he see you naked?',\n",
              " 'Ten hours by car or plane?',\n",
              " 'All the other kids did it.',\n",
              " 'The hardest thing is to tell her in person.',\n",
              " 'It is clear that if either of them is in trouble, you should not do so.',\n",
              " 'And do not follow her,',\n",
              " 'Contrary to commitments is not honest.',\n",
              " 'You look fine. Maybe you should come closer.',\n",
              " \"You're younger than him. You two are interested in each other.\",\n",
              " 'Just say you love him and grab his nose.',\n",
              " \"It's probably the same. The needle was injured, the nails were broken, the rusty nails.\",\n",
              " \"Hi, I'm from Minnesota, anyway, and you can try to do Yahoo search.\",\n",
              " \"Honey, I'm busy right now. I'll talk to you when I get home.\",\n",
              " \"I don't know if she's humble.\",\n",
              " 'I suggest you talk to her and find out what happened.',\n",
              " \"I don't think it's safe to do that either.\",\n",
              " \"Looks like you're the kind of girl in a rebound relationship.\",\n",
              " \"I can't understand that.\",\n",
              " 'When a relationship is firmly based and begins for the right reasons, age and appearance, it becomes irrelevant.',\n",
              " \"If she's angry, maybe she's not as good a friend as you think she is.\",\n",
              " 'If you can lie about small things, then you can lie more about big things.',\n",
              " \"Now I'm invited to move to Texas with some friends.\",\n",
              " \"I said my boyfriend's name or just one of them.\",\n",
              " \"If she's sweet, then she doesn't have to be so sexy.\",\n",
              " \"You're supposed to be yourself because the line's not working anymore.\",\n",
              " 'Sometimes people are more willing to take violent action than to insist on the right attitude.',\n",
              " \"No, I can't doubt something's wrong.\",\n",
              " 'If you believe in God, you should pray that he sends you the right man.',\n",
              " 'I disagree: women enjoy less sexual intercourse than men.',\n",
              " 'Even when a person believes that he or she is fully aware of the behaviour of others, he or she may be surprised by the behaviour of others.',\n",
              " 'This is simple because when a partner cheats, suspicion of partner cheats is most likely to occur.',\n",
              " 'Has anyone prepared a special item for her wife to make her laugh?',\n",
              " 'I would very much like to find any place \"happy\" with anyone.',\n",
              " 'Try to make him a nice romantic dinner.',\n",
              " \"If you have questions, then you're not ready to get married.\",\n",
              " 'Intoxication should not be used as an excuse to communicate with an ex-partner.',\n",
              " \"Don't be afraid to be alone or even find another partner until the two of you are reunited.\",\n",
              " 'Money and material should not be a top priority.',\n",
              " 'Finally, yes, that makes sense.',\n",
              " \"Try this e-mail address: 68_668@yahoo.com. I'm a happy person.\",\n",
              " 'Ask the 14-year-old girl she should know.',\n",
              " \"You went to the movies, but you didn't watch the sequels with your ex-partner.\",\n",
              " \"He won't have all the luggage.\",\n",
              " 'Bad girls are easy. Good girls are hard to find.',\n",
              " 'Stand up and tell her how you feel.',\n",
              " \"Go ahead. Don't slow down.\",\n",
              " \"If you love him, you won't cheat.\",\n",
              " \"What's the name of the person you love besides honey?\",\n",
              " 'I gave her my trust, my faith in her loyalty.',\n",
              " 'I want to do some research for my sister.',\n",
              " \"I'm planning my wedding right now.\",\n",
              " 'You will no longer be attractive before you know it, and be content with those who are good to you.',\n",
              " \"I'd say it depends on whether a person has sex.\",\n",
              " \"Is it appropriate to marry your brother's wife's sister?\",\n",
              " \"How can I give him the time he needs when I don't have much time to think for myself?\",\n",
              " 'First of all, you need to calm down.',\n",
              " \"No, if you want a random relationship, please find someone new, not someone you've had history with.\",\n",
              " \"Because you can't blow.\",\n",
              " \"If a strong, independent woman could socialize with me, I'd prefer the strongest woman.\",\n",
              " 'Men and women fall in love after they fall in love.',\n",
              " \"If not, it's time to find another way in your life.\",\n",
              " \"Without the temptation of the penis, most heterosexual men don't know the answer.\",\n",
              " \"If you don't get involved, go out with someone else.\",\n",
              " 'Bring her here tonight. The doctor will call you tomorrow morning.',\n",
              " 'Take every chance to make love.',\n",
              " \"He's ready to come when.\",\n",
              " 'Ask her, try to add something, like entertainment or dinner or something.',\n",
              " \"Because I couldn't sleep thinking about her.\",\n",
              " \"I just don't attract white girls, that's all right.\",\n",
              " \"I'll turn over and it hurts!\",\n",
              " \"I know I'm not your age, I'm 23.\",\n",
              " \"I'm not going out with a girl who's older than me.\",\n",
              " \"I just don't know what to do.\",\n",
              " 'Losing love will crush you painfully.',\n",
              " 'Love is picking up his dirty panties, day after day.',\n",
              " \"I may be prejudiced because I'm a man.\",\n",
              " \"When I don't go out with people, I'm with someone.\",\n",
              " \"Don't think about it.\",\n",
              " 'There was a fierce argument because she started throwing things around, and I asked her to stop.',\n",
              " \"Try the alphabet. It'll make your kid a genius when your friend's born.\",\n",
              " 'Have you ever made a mistake?',\n",
              " \"The kids are asleep. There's nothing else to do.\",\n",
              " \"Everyone else is in a relationship. If you weren't long-term, you wouldn't be lying to them.\",\n",
              " \"If it's too big, it's very uncomfortable.\",\n",
              " \"I'm flying out.\",\n",
              " 'If anything bothers you, it could always bother you.',\n",
              " 'Does the size of a woman matter when it comes to men?',\n",
              " \"He visited his children's house last night when they were at their mother's house and he did not return.\",\n",
              " \"You'd rather get back together, wouldn't you?\",\n",
              " \"Besides, it's funny.\",\n",
              " \"Sounds like she doesn't agree.\",\n",
              " 'How do you feel about him? Did you tell him?',\n",
              " \"I've given you three connections to get you out of here with the girls.\",\n",
              " 'Pick one of your favorites.',\n",
              " 'Ask a friend of hers what happened.',\n",
              " 'Kisses, kisses, oral sex, then sex.',\n",
              " 'That is life, and we must accept all its rules.',\n",
              " 'Go over there and talk to them!',\n",
              " 'Perverts everywhere.',\n",
              " \"She wasn't overweight when I found her.\",\n",
              " \"Taxi's waiting, he's blowing the horn.\",\n",
              " 'Well, I also have a little trouble with this.',\n",
              " \"Tell him you're tired of this relationship.\",\n",
              " \"If she's 25 and you're 40, it's a different story.\",\n",
              " \"If he thinks you're weak, hit something and see what happens.\",\n",
              " 'You can ask him how he feels about you.',\n",
              " 'Men are afraid of strong, independent women because they believe we will control them.',\n",
              " 'That will love me and enjoy me!',\n",
              " 'Generally, the retention of men tends to favour the first action by women.',\n",
              " \"Don't ever let yourself get hurt again.\",\n",
              " \"I'm not just thinking.\",\n",
              " 'First of all, I told my dear friend that I had a romantic desire for someone.',\n",
              " 'He told me that since he had had a child, he did not think that he needed to make a commitment to only one woman.',\n",
              " 'This is the best way to develop friendship.',\n",
              " 'He is said to have claimed no sexual relations with his friends.',\n",
              " \"That kind of man's behavior makes me extremely different from him.\",\n",
              " \"But I don't think you should give him up.\",\n",
              " \"You should go ahead and find someone you can trust again because the chance is that he'll hurt you again.\",\n",
              " 'Tell him how you feel and how you feel about the situation.',\n",
              " \"Can you ask these people if they're married?\",\n",
              " 'If two men or two women are happy together, let them marry.',\n",
              " \"You have to fight for them because it's a dog-eating world where girls fight for men.\",\n",
              " ...]"
            ]
          },
          "metadata": {},
          "execution_count": 12
        }
      ]
    },
    {
      "cell_type": "code",
      "metadata": {
        "id": "WG6uxdqgBmwu"
      },
      "source": [
        "df_aug = pd.DataFrame({\"Formal text\" : train_formal_aug,\n",
        "                       \"Informal text\" : df['Informal text']})"
      ],
      "execution_count": null,
      "outputs": []
    },
    {
      "cell_type": "code",
      "metadata": {
        "id": "IGM-izGhCLcK",
        "colab": {
          "base_uri": "https://localhost:8080/"
        },
        "outputId": "d863b65d-585b-41e3-ec52-763a2ec130a7"
      },
      "source": [
        "print(df_aug)"
      ],
      "execution_count": null,
      "outputs": [
        {
          "output_type": "stream",
          "name": "stdout",
          "text": [
            "                                              Formal text                                      Informal text\n",
            "0                        I'd rather have that guy ask me.  Sure, it's ok, but I always have let the guy a...\n",
            "1                              I was insulted by my wife.  Hmmm, I'm a guy suffering from verbal abuse fr...\n",
            "2                 You'll have more friends than you want.     You will have more friends that you want... ;)\n",
            "3       It's good to see your picture of who you're ta...  It's nice, you get to see pictures of who you ...\n",
            "4                              I need to know what to do.                           I NEED TO KNOW WHAT 2 DO\n",
            "...                                                   ...                                                ...\n",
            "104557  Please send your ID to my messenger. My ID is ...  Amzing,Hilarouus plz sendur id so i can add u ...\n",
            "104558  Visit yahoo. com and click on music. From ther...  Go to yahoo.com then click on music and type i...\n",
            "104559                          Please shave or try nair.    hell yea shave that shit please     or try nair\n",
            "104560  She grew up to be a bad guy, raping innocent b...  she grew up to become an evil old person who r...\n",
            "104561  Send me a message, please. I'll send you a mes...  I have it if you would like it... message me a...\n",
            "\n",
            "[104562 rows x 2 columns]\n"
          ]
        }
      ]
    },
    {
      "cell_type": "code",
      "metadata": {
        "id": "MePCk0kF7K-H"
      },
      "source": [
        "!pip install pandas==1.1.5"
      ],
      "execution_count": null,
      "outputs": []
    },
    {
      "cell_type": "code",
      "metadata": {
        "id": "567b6txuCkQL"
      },
      "source": [
        "df_aug.to_csv(r'/content/drive/MyDrive/KU/2021-2학기/자연어처리/Preprocessed/train_augmented_chinese', index=False, encoding = 'utf-8')"
      ],
      "execution_count": null,
      "outputs": []
    },
    {
      "cell_type": "code",
      "metadata": {
        "id": "RWErORjeDtoN"
      },
      "source": [
        "# df_aug와 original 합치기\n",
        "df_aug = pd.read_csv(r'/content/drive/MyDrive/KU/2021-2학기/자연어처리/Preprocessed/train_augmented_chinese')\n",
        "df = df.append(df_aug)"
      ],
      "execution_count": null,
      "outputs": []
    },
    {
      "cell_type": "code",
      "metadata": {
        "id": "4cxEz-d4Dtwg"
      },
      "source": [
        "df.reset_index(inplace=True)"
      ],
      "execution_count": null,
      "outputs": []
    },
    {
      "cell_type": "code",
      "metadata": {
        "id": "gx-AWHAuEkh8",
        "colab": {
          "base_uri": "https://localhost:8080/"
        },
        "outputId": "d458ba53-d3eb-459e-f650-6ce763718fda"
      },
      "source": [
        "len(df)"
      ],
      "execution_count": null,
      "outputs": [
        {
          "output_type": "execute_result",
          "data": {
            "text/plain": [
              "209124"
            ]
          },
          "metadata": {},
          "execution_count": 9
        }
      ]
    },
    {
      "cell_type": "code",
      "metadata": {
        "id": "yDfhIlqKEret",
        "colab": {
          "base_uri": "https://localhost:8080/",
          "height": 200
        },
        "outputId": "77f6cd6b-49d8-4b5c-e507-cc776ede396b"
      },
      "source": [
        "del df['index']\n",
        "df.tail()"
      ],
      "execution_count": null,
      "outputs": [
        {
          "output_type": "execute_result",
          "data": {
            "text/html": [
              "<div>\n",
              "<style scoped>\n",
              "    .dataframe tbody tr th:only-of-type {\n",
              "        vertical-align: middle;\n",
              "    }\n",
              "\n",
              "    .dataframe tbody tr th {\n",
              "        vertical-align: top;\n",
              "    }\n",
              "\n",
              "    .dataframe thead th {\n",
              "        text-align: right;\n",
              "    }\n",
              "</style>\n",
              "<table border=\"1\" class=\"dataframe\">\n",
              "  <thead>\n",
              "    <tr style=\"text-align: right;\">\n",
              "      <th></th>\n",
              "      <th>Formal text</th>\n",
              "      <th>Informal text</th>\n",
              "    </tr>\n",
              "  </thead>\n",
              "  <tbody>\n",
              "    <tr>\n",
              "      <th>209119</th>\n",
              "      <td>Please send your ID to my messenger. My ID is ...</td>\n",
              "      <td>Amzing,Hilarouus plz sendur id so i can add u ...</td>\n",
              "    </tr>\n",
              "    <tr>\n",
              "      <th>209120</th>\n",
              "      <td>Visit yahoo. com and click on music. From ther...</td>\n",
              "      <td>Go to yahoo.com then click on music and type i...</td>\n",
              "    </tr>\n",
              "    <tr>\n",
              "      <th>209121</th>\n",
              "      <td>Please shave or try nair.</td>\n",
              "      <td>hell yea shave that shit please     or try nair</td>\n",
              "    </tr>\n",
              "    <tr>\n",
              "      <th>209122</th>\n",
              "      <td>She grew up to be a bad guy, raping innocent b...</td>\n",
              "      <td>she grew up to become an evil old person who r...</td>\n",
              "    </tr>\n",
              "    <tr>\n",
              "      <th>209123</th>\n",
              "      <td>Send me a message, please. I'll send you a mes...</td>\n",
              "      <td>I have it if you would like it... message me a...</td>\n",
              "    </tr>\n",
              "  </tbody>\n",
              "</table>\n",
              "</div>"
            ],
            "text/plain": [
              "                                              Formal text                                      Informal text\n",
              "209119  Please send your ID to my messenger. My ID is ...  Amzing,Hilarouus plz sendur id so i can add u ...\n",
              "209120  Visit yahoo. com and click on music. From ther...  Go to yahoo.com then click on music and type i...\n",
              "209121                          Please shave or try nair.    hell yea shave that shit please     or try nair\n",
              "209122  She grew up to be a bad guy, raping innocent b...  she grew up to become an evil old person who r...\n",
              "209123  Send me a message, please. I'll send you a mes...  I have it if you would like it... message me a..."
            ]
          },
          "metadata": {},
          "execution_count": 10
        }
      ]
    },
    {
      "cell_type": "code",
      "metadata": {
        "id": "K_WJG5kWEvu0"
      },
      "source": [
        "df.to_csv(r'/content/drive/MyDrive/KU/2021-2학기/자연어처리/Preprocessed/train_rtt_chinese', index=False, encoding = 'utf-8')"
      ],
      "execution_count": null,
      "outputs": []
    },
    {
      "cell_type": "code",
      "metadata": {
        "id": "ELyowmubMlaI"
      },
      "source": [
        "# RTT dataset 병합 (다연/지수 나눠서 진행한 경우)\n",
        "rtt_1 = pd.read_csv(r'/content/drive/MyDrive/KU/2021-2학기/자연어처리/Preprocessed/train_rtt_1')\n",
        "rtt_2 = pd.read_csv(r'/content/drive/MyDrive/KU/2021-2학기/자연어처리/Preprocessed/train_rtt_2')\n",
        "df = rtt_1.append(rtt_2, ignore_index=True)\n",
        "\n",
        "encoder_inp = '<' + df['Formal text'].astype(str) + '>'\n",
        "decoder_inp = '<' + df['Informal text'].astype(str)\n",
        "decoder_out = df['Informal text'].astype(str) + '>'\n",
        "\n",
        "preprocessed_data = pd.DataFrame()\n",
        "preprocessed_data['encoder_inp'] = encoder_inp\n",
        "preprocessed_data['decoder_inp'] = decoder_inp\n",
        "preprocessed_data['decoder_out'] = decoder_out\n",
        "\n",
        "preprocessed_data = preprocessed_data[preprocessed_data['encoder_inp'].apply(len) <= 150]\n",
        "preprocessed_data = preprocessed_data[preprocessed_data['decoder_inp'].apply(len) <= 150]\n",
        "preprocessed_data = preprocessed_data[preprocessed_data['decoder_out'].apply(len) <= 150]\n",
        "\n",
        "train = preprocessed_data\n",
        "train.to_csv(r'/content/drive/MyDrive/KU/2021-2학기/자연어처리/Preprocessed/train_rtt', index=False, encoding = 'utf-8')"
      ],
      "execution_count": null,
      "outputs": []
    },
    {
      "cell_type": "markdown",
      "metadata": {
        "id": "0okMOH21-lSf"
      },
      "source": [
        "##**1. Data processing**"
      ]
    },
    {
      "cell_type": "code",
      "metadata": {
        "id": "a1eB5WXF-hBa"
      },
      "source": [
        "import numpy as np, pandas as pd, matplotlib.pyplot as plt, seaborn as sns, tensorflow as tf\n",
        "import joblib, re, os\n",
        "from sklearn.model_selection import train_test_split\n",
        "from tensorflow import keras\n",
        "from tensorflow.keras.layers import Embedding, LSTM, Dense, Dropout\n",
        "from tensorflow.keras.models import Model\n",
        "from tensorflow.keras.preprocessing.text import Tokenizer\n",
        "from tensorflow.keras.preprocessing.sequence import pad_sequences\n",
        "from nltk.translate.bleu_score import sentence_bleu\n",
        "\n",
        "# NLP augmentation package\n",
        "# import nlpaug.augmenter.word as naw\n",
        "# import nlpaug.augmenter.sentence as nas\n",
        "import warnings\n",
        "warnings.filterwarnings(\"ignore\")\n",
        "%matplotlib inline"
      ],
      "execution_count": null,
      "outputs": []
    },
    {
      "cell_type": "code",
      "metadata": {
        "colab": {
          "base_uri": "https://localhost:8080/"
        },
        "id": "fAbWCAbB2RAo",
        "outputId": "7c1a08ba-de77-47b6-e908-980dcde36a75"
      },
      "source": [
        "from google.colab import drive\n",
        "drive.mount('/content/drive/')"
      ],
      "execution_count": null,
      "outputs": [
        {
          "output_type": "stream",
          "name": "stdout",
          "text": [
            "Mounted at /content/drive/\n"
          ]
        }
      ]
    },
    {
      "cell_type": "markdown",
      "metadata": {
        "id": "qUVxuRC6-4Es"
      },
      "source": [
        "##**2. Loading and Preprocessing Data**"
      ]
    },
    {
      "cell_type": "markdown",
      "metadata": {
        "id": "qa0l_U9J-7lz"
      },
      "source": [
        "###**2.1 Loading data**"
      ]
    },
    {
      "cell_type": "code",
      "metadata": {
        "id": "LQYsKgjY-3ct"
      },
      "source": [
        "# Reading the file\n",
        "#<Train Data> f_train: file formal, i_train: file informal \n",
        "f_train = open(\"/content/drive/MyDrive/KU/2021-2학기/자연어처리/GYFAC_Corpus/Family_Relationships/train_formal\", \"r\", encoding = 'utf-8')\n",
        "i_train = open(\"/content/drive/MyDrive/KU/2021-2학기/자연어처리/GYFAC_Corpus/Family_Relationships/train_informal\", \"r\", encoding = 'utf-8')\n",
        "f_text = f_train.read()\n",
        "i_text = i_train.read()\n",
        "\n",
        "#<Validate Data> f_val: file formal, i_val: file informal\n",
        "f_val = open(\"/content/drive/MyDrive/KU/2021-2학기/자연어처리/GYFAC_Corpus/Family_Relationships/validation_formal\", \"r\", encoding = 'utf-8')\n",
        "i_val = open(\"/content/drive/MyDrive/KU/2021-2학기/자연어처리/GYFAC_Corpus/Family_Relationships/validation_informal\", \"r\", encoding = 'utf-8')\n",
        "fv_text = f_val.read()\n",
        "iv_text = i_val.read()\n",
        "\n",
        "#<Test Data> f_test: file formal, i_test: file informal \n",
        "f_test = open(\"/content/drive/MyDrive/KU/2021-2학기/자연어처리/GYFAC_Corpus/Family_Relationships/test_formal\", \"r\", encoding = 'utf-8')\n",
        "i_test = open(\"/content/drive/MyDrive/KU/2021-2학기/자연어처리/GYFAC_Corpus/Family_Relationships/test_informal\", \"r\", encoding = 'utf-8')\n",
        "ft_text = f_test.read()\n",
        "it_text = i_test.read()\n",
        "\n",
        "# Removing last instance after splitting as it is empty string\n",
        "f_text = f_text.split('\\n')[:-1]\n",
        "i_text = i_text.split('\\n')[:-1]\n",
        "fv_text = fv_text.split('\\n')[:-1]\n",
        "iv_text = iv_text.split('\\n')[:-1]\n",
        "ft_text = ft_text.split('\\n')[:-1]\n",
        "it_text = it_text.split('\\n')[:-1]\n",
        "\n",
        "\n",
        "#Entertainment & Family\n",
        "#<Train Data> sf_train: file formal, si_train: file informal \n",
        "sf_train = open(\"/content/drive/MyDrive/KU/2021-2학기/자연어처리/GYFAC_Corpus/Entertainment_Music/train_formal\", \"r\", encoding = 'utf-8')\n",
        "si_train = open(\"/content/drive/MyDrive/KU/2021-2학기/자연어처리/GYFAC_Corpus/Entertainment_Music/train_informal\", \"r\", encoding = 'utf-8')\n",
        "sf_text = sf_train.read()\n",
        "si_text = si_train.read()\n",
        "\n",
        "#<Validate Data> sf_val: file formal, si_val: file informal\n",
        "sf_val = open(\"/content/drive/MyDrive/KU/2021-2학기/자연어처리/GYFAC_Corpus/Entertainment_Music/validation_formal\", \"r\", encoding = 'utf-8')\n",
        "si_val = open(\"/content/drive/MyDrive/KU/2021-2학기/자연어처리/GYFAC_Corpus/Entertainment_Music/validation_informal\", \"r\", encoding = 'utf-8')\n",
        "sfv_text = sf_val.read()\n",
        "siv_text = si_val.read()\n",
        "\n",
        "#<Test Data> sf_test: file formal, si_test: file informal \n",
        "sf_test = open(\"/content/drive/MyDrive/KU/2021-2학기/자연어처리/GYFAC_Corpus/Entertainment_Music/test_formal\", \"r\", encoding = 'utf-8')\n",
        "si_test = open(\"/content/drive/MyDrive/KU/2021-2학기/자연어처리/GYFAC_Corpus/Entertainment_Music/test_informal\", \"r\", encoding = 'utf-8')\n",
        "sft_text = sf_test.read()\n",
        "sit_text = si_test.read()\n",
        "\n",
        "# Removing last instance after splitting as it is empty string\n",
        "f_text.extend(sf_text.split('\\n')[:-1])\n",
        "i_text.extend(si_text.split('\\n')[:-1])\n",
        "fv_text.extend(sfv_text.split('\\n')[:-1])\n",
        "iv_text.extend(siv_text.split('\\n')[:-1])\n",
        "ft_text.extend(sft_text.split('\\n')[:-1])\n",
        "it_text.extend(sit_text.split('\\n')[:-1])\n",
        "\n",
        "\n",
        "# Creating the pandas dataframe\n",
        "data_train = [[f_text[i], i_text[i]] for i in list(range(0, len(f_text)))]\n",
        "data_val = [[fv_text[i], iv_text[i]] for i in list(range(0, len(fv_text)))]\n",
        "data_test = [[ft_text[i], it_text[i]] for i in list(range(0, len(ft_text)))]\n",
        "\n",
        "#Close file\n",
        "f_train.close()\n",
        "i_train.close()\n",
        "f_val.close()\n",
        "i_val.close()\n",
        "f_test.close()\n",
        "i_test.close()\n",
        "\n",
        "sf_train.close()\n",
        "si_train.close()\n",
        "sf_val.close()\n",
        "si_val.close()\n",
        "sf_test.close()\n",
        "si_test.close()\n",
        "\n",
        "\n",
        "#Create dataframe\n",
        "df = pd.DataFrame(data_train, columns = ['Formal text', 'Informal text'])\n",
        "df_v = pd.DataFrame(data_val, columns = ['Formal text', 'Informal text'])\n",
        "df_t = pd.DataFrame(data_test, columns = ['Formal text', 'Informal text'])"
      ],
      "execution_count": null,
      "outputs": []
    },
    {
      "cell_type": "code",
      "metadata": {
        "colab": {
          "base_uri": "https://localhost:8080/",
          "height": 202
        },
        "id": "ynytIyevKMXK",
        "outputId": "c36b2af5-0341-40e1-b824-f710dceb6f2c"
      },
      "source": [
        "df.head() # Train data dataframe"
      ],
      "execution_count": null,
      "outputs": [
        {
          "data": {
            "text/html": [
              "<div>\n",
              "<style scoped>\n",
              "    .dataframe tbody tr th:only-of-type {\n",
              "        vertical-align: middle;\n",
              "    }\n",
              "\n",
              "    .dataframe tbody tr th {\n",
              "        vertical-align: top;\n",
              "    }\n",
              "\n",
              "    .dataframe thead th {\n",
              "        text-align: right;\n",
              "    }\n",
              "</style>\n",
              "<table border=\"1\" class=\"dataframe\">\n",
              "  <thead>\n",
              "    <tr style=\"text-align: right;\">\n",
              "      <th></th>\n",
              "      <th>Formal text</th>\n",
              "      <th>Informal text</th>\n",
              "    </tr>\n",
              "  </thead>\n",
              "  <tbody>\n",
              "    <tr>\n",
              "      <th>0</th>\n",
              "      <td>I prefer to let the guy ask me.</td>\n",
              "      <td>Sure, it's ok, but I always have let the guy a...</td>\n",
              "    </tr>\n",
              "    <tr>\n",
              "      <th>1</th>\n",
              "      <td>I suffer through verbal abuse from my wife.</td>\n",
              "      <td>Hmmm, I'm a guy suffering from verbal abuse fr...</td>\n",
              "    </tr>\n",
              "    <tr>\n",
              "      <th>2</th>\n",
              "      <td>You will have more friends than you want.</td>\n",
              "      <td>You will have more friends that you want... ;)</td>\n",
              "    </tr>\n",
              "    <tr>\n",
              "      <th>3</th>\n",
              "      <td>It's nice that you get to see pictures of who ...</td>\n",
              "      <td>It's nice, you get to see pictures of who you ...</td>\n",
              "    </tr>\n",
              "    <tr>\n",
              "      <th>4</th>\n",
              "      <td>I need to know what to do.</td>\n",
              "      <td>I NEED TO KNOW WHAT 2 DO</td>\n",
              "    </tr>\n",
              "  </tbody>\n",
              "</table>\n",
              "</div>"
            ],
            "text/plain": [
              "                                         Formal text                                      Informal text\n",
              "0                    I prefer to let the guy ask me.  Sure, it's ok, but I always have let the guy a...\n",
              "1        I suffer through verbal abuse from my wife.  Hmmm, I'm a guy suffering from verbal abuse fr...\n",
              "2          You will have more friends than you want.     You will have more friends that you want... ;)\n",
              "3  It's nice that you get to see pictures of who ...  It's nice, you get to see pictures of who you ...\n",
              "4                         I need to know what to do.                           I NEED TO KNOW WHAT 2 DO"
            ]
          },
          "execution_count": 4,
          "metadata": {},
          "output_type": "execute_result"
        }
      ]
    },
    {
      "cell_type": "code",
      "metadata": {
        "colab": {
          "base_uri": "https://localhost:8080/"
        },
        "id": "bdZLmEti23wV",
        "outputId": "553b06bd-338e-43b8-f44c-c8731c27cdd9"
      },
      "source": [
        "df.shape"
      ],
      "execution_count": null,
      "outputs": [
        {
          "data": {
            "text/plain": [
              "(104562, 2)"
            ]
          },
          "execution_count": 5,
          "metadata": {},
          "output_type": "execute_result"
        }
      ]
    },
    {
      "cell_type": "code",
      "metadata": {
        "colab": {
          "base_uri": "https://localhost:8080/",
          "height": 204
        },
        "id": "QZ-xXjeBKN6J",
        "outputId": "2be1afe8-aafa-4ae3-95fa-f9c13791723e"
      },
      "source": [
        "df_v.head() # Validate data dataframe"
      ],
      "execution_count": null,
      "outputs": [
        {
          "data": {
            "text/html": [
              "<div>\n",
              "<style scoped>\n",
              "    .dataframe tbody tr th:only-of-type {\n",
              "        vertical-align: middle;\n",
              "    }\n",
              "\n",
              "    .dataframe tbody tr th {\n",
              "        vertical-align: top;\n",
              "    }\n",
              "\n",
              "    .dataframe thead th {\n",
              "        text-align: right;\n",
              "    }\n",
              "</style>\n",
              "<table border=\"1\" class=\"dataframe\">\n",
              "  <thead>\n",
              "    <tr style=\"text-align: right;\">\n",
              "      <th></th>\n",
              "      <th>Formal text</th>\n",
              "      <th>Informal text</th>\n",
              "    </tr>\n",
              "  </thead>\n",
              "  <tbody>\n",
              "    <tr>\n",
              "      <th>0</th>\n",
              "      <td>Someone is tracking his every step.</td>\n",
              "      <td>Now the devils hell hounds are tracking his ev...</td>\n",
              "    </tr>\n",
              "    <tr>\n",
              "      <th>1</th>\n",
              "      <td>Tell her to find something to do with her life.</td>\n",
              "      <td>Tell her to get a life</td>\n",
              "    </tr>\n",
              "    <tr>\n",
              "      <th>2</th>\n",
              "      <td>You'll be unable to do what your speaking about.</td>\n",
              "      <td>You can't do what you are asking.</td>\n",
              "    </tr>\n",
              "    <tr>\n",
              "      <th>3</th>\n",
              "      <td>In the event he actually is unfamiliar with th...</td>\n",
              "      <td>As long as he really doesnt know the chicks it...</td>\n",
              "    </tr>\n",
              "    <tr>\n",
              "      <th>4</th>\n",
              "      <td>He will love you more.</td>\n",
              "      <td>he will love you so much more ...</td>\n",
              "    </tr>\n",
              "  </tbody>\n",
              "</table>\n",
              "</div>"
            ],
            "text/plain": [
              "                                         Formal text                                      Informal text\n",
              "0                Someone is tracking his every step.  Now the devils hell hounds are tracking his ev...\n",
              "1    Tell her to find something to do with her life.                             Tell her to get a life\n",
              "2   You'll be unable to do what your speaking about.                  You can't do what you are asking.\n",
              "3  In the event he actually is unfamiliar with th...  As long as he really doesnt know the chicks it...\n",
              "4                             He will love you more.                  he will love you so much more ..."
            ]
          },
          "execution_count": 6,
          "metadata": {},
          "output_type": "execute_result"
        }
      ]
    },
    {
      "cell_type": "code",
      "metadata": {
        "colab": {
          "base_uri": "https://localhost:8080/"
        },
        "id": "m-aEOcRM259y",
        "outputId": "e7cc1bae-de7b-40f7-9d9f-15e4ff63c111"
      },
      "source": [
        "df_v.shape"
      ],
      "execution_count": null,
      "outputs": [
        {
          "data": {
            "text/plain": [
              "(4603, 2)"
            ]
          },
          "execution_count": 7,
          "metadata": {},
          "output_type": "execute_result"
        }
      ]
    },
    {
      "cell_type": "code",
      "metadata": {
        "colab": {
          "base_uri": "https://localhost:8080/",
          "height": 204
        },
        "id": "Vj91ICKhKPAk",
        "outputId": "990dfa0d-e5d6-414a-d851-1161932cadab"
      },
      "source": [
        "df_t.head() # Test data dataframe"
      ],
      "execution_count": null,
      "outputs": [
        {
          "data": {
            "text/html": [
              "<div>\n",
              "<style scoped>\n",
              "    .dataframe tbody tr th:only-of-type {\n",
              "        vertical-align: middle;\n",
              "    }\n",
              "\n",
              "    .dataframe tbody tr th {\n",
              "        vertical-align: top;\n",
              "    }\n",
              "\n",
              "    .dataframe thead th {\n",
              "        text-align: right;\n",
              "    }\n",
              "</style>\n",
              "<table border=\"1\" class=\"dataframe\">\n",
              "  <thead>\n",
              "    <tr style=\"text-align: right;\">\n",
              "      <th></th>\n",
              "      <th>Formal text</th>\n",
              "      <th>Informal text</th>\n",
              "    </tr>\n",
              "  </thead>\n",
              "  <tbody>\n",
              "    <tr>\n",
              "      <th>0</th>\n",
              "      <td>I mean that you have to really be her friend.</td>\n",
              "      <td>and i mean Really be her friend.</td>\n",
              "    </tr>\n",
              "    <tr>\n",
              "      <th>1</th>\n",
              "      <td>Are you posing a rhetorical question?</td>\n",
              "      <td>Sounds like a rhetorical question :)</td>\n",
              "    </tr>\n",
              "    <tr>\n",
              "      <th>2</th>\n",
              "      <td>Men pretend to love in order to have intercour...</td>\n",
              "      <td>Men play at love to get sex, women play at sex...</td>\n",
              "    </tr>\n",
              "    <tr>\n",
              "      <th>3</th>\n",
              "      <td>I do not intend to be mean.</td>\n",
              "      <td>I don't want to be mean.</td>\n",
              "    </tr>\n",
              "    <tr>\n",
              "      <th>4</th>\n",
              "      <td>I would estimate an average of 45% initially b...</td>\n",
              "      <td>on average id say about 45% at first but than ...</td>\n",
              "    </tr>\n",
              "  </tbody>\n",
              "</table>\n",
              "</div>"
            ],
            "text/plain": [
              "                                         Formal text                                      Informal text\n",
              "0      I mean that you have to really be her friend.                   and i mean Really be her friend.\n",
              "1              Are you posing a rhetorical question?               Sounds like a rhetorical question :)\n",
              "2  Men pretend to love in order to have intercour...  Men play at love to get sex, women play at sex...\n",
              "3                        I do not intend to be mean.                           I don't want to be mean.\n",
              "4  I would estimate an average of 45% initially b...  on average id say about 45% at first but than ..."
            ]
          },
          "execution_count": 8,
          "metadata": {},
          "output_type": "execute_result"
        }
      ]
    },
    {
      "cell_type": "code",
      "metadata": {
        "colab": {
          "base_uri": "https://localhost:8080/"
        },
        "id": "sfn_beCx26_G",
        "outputId": "ce298343-a44e-4bfc-d4e4-c786b900bafb"
      },
      "source": [
        "df_t.shape"
      ],
      "execution_count": null,
      "outputs": [
        {
          "data": {
            "text/plain": [
              "(2101, 2)"
            ]
          },
          "execution_count": 9,
          "metadata": {},
          "output_type": "execute_result"
        }
      ]
    },
    {
      "cell_type": "markdown",
      "metadata": {
        "id": "1arkLmio29T_"
      },
      "source": [
        "- train 데이터: 104,562\n",
        "- validation 데이터: 4,603\n",
        "- test 데이터: 2,101"
      ]
    },
    {
      "cell_type": "markdown",
      "metadata": {
        "id": "1OH6sfetDMNG"
      },
      "source": [
        "###**2.2 Preprocessing the Dataset**"
      ]
    },
    {
      "cell_type": "code",
      "metadata": {
        "id": "d3lOTcN1DQ_h"
      },
      "source": [
        "# Creating encoder inp, decoder inp and decoder_out \n",
        "\n",
        "#(1) Train data\n",
        "encoder_inp = '<' + df['Formal text'].astype(str) + '>'\n",
        "decoder_inp = '<' + df['Informal text'].astype(str)\n",
        "decoder_out = df['Informal text'].astype(str) + '>'\n",
        "\n",
        "#(2) Validate data\n",
        "encoder_inp_v = '<' + df_v['Formal text'].astype(str) + '>'\n",
        "decoder_inp_v = '<' + df_v['Informal text'].astype(str)\n",
        "decoder_out_v = df_v['Informal text'].astype(str) + '>'\n",
        "\n",
        "#(3) Test data\n",
        "encoder_inp_t = '<' + df_t['Formal text'].astype(str) + '>'\n",
        "decoder_inp_t = '<' + df_t['Informal text'].astype(str)\n",
        "decoder_out_t = df_t['Informal text'].astype(str) + '>'\n",
        "\n",
        "# Creating the dataframe\n",
        "#(1) Train data dataframe\n",
        "preprocessed_data = pd.DataFrame()\n",
        "preprocessed_data['encoder_inp'] = encoder_inp\n",
        "preprocessed_data['decoder_inp'] = decoder_inp\n",
        "preprocessed_data['decoder_out'] = decoder_out\n",
        "\n",
        "#(2) Validate data dataframe\n",
        "preprocessed_data_v = pd.DataFrame()\n",
        "preprocessed_data_v['encoder_inp'] = encoder_inp_v\n",
        "preprocessed_data_v['decoder_inp'] = decoder_inp_v\n",
        "preprocessed_data_v['decoder_out'] = decoder_out_v\n",
        "\n",
        "#(3) Test data dataframe\n",
        "preprocessed_data_t = pd.DataFrame()\n",
        "preprocessed_data_t['encoder_inp'] = encoder_inp_t\n",
        "preprocessed_data_t['decoder_inp'] = decoder_inp_t\n",
        "preprocessed_data_t['decoder_out'] = decoder_out_t"
      ],
      "execution_count": null,
      "outputs": []
    },
    {
      "cell_type": "code",
      "metadata": {
        "id": "8XygHvtiLM6t",
        "colab": {
          "base_uri": "https://localhost:8080/",
          "height": 200
        },
        "outputId": "80216b1a-2844-4540-981e-ae2410e144e6"
      },
      "source": [
        "preprocessed_data.head() # Train data dataframe"
      ],
      "execution_count": null,
      "outputs": [
        {
          "output_type": "execute_result",
          "data": {
            "text/html": [
              "<div>\n",
              "<style scoped>\n",
              "    .dataframe tbody tr th:only-of-type {\n",
              "        vertical-align: middle;\n",
              "    }\n",
              "\n",
              "    .dataframe tbody tr th {\n",
              "        vertical-align: top;\n",
              "    }\n",
              "\n",
              "    .dataframe thead th {\n",
              "        text-align: right;\n",
              "    }\n",
              "</style>\n",
              "<table border=\"1\" class=\"dataframe\">\n",
              "  <thead>\n",
              "    <tr style=\"text-align: right;\">\n",
              "      <th></th>\n",
              "      <th>encoder_inp</th>\n",
              "      <th>decoder_inp</th>\n",
              "      <th>decoder_out</th>\n",
              "    </tr>\n",
              "  </thead>\n",
              "  <tbody>\n",
              "    <tr>\n",
              "      <th>0</th>\n",
              "      <td>&lt;I prefer to let the guy ask me.&gt;</td>\n",
              "      <td>&lt;Sure, it's ok, but I always have let the guy ...</td>\n",
              "      <td>Sure, it's ok, but I always have let the guy a...</td>\n",
              "    </tr>\n",
              "    <tr>\n",
              "      <th>1</th>\n",
              "      <td>&lt;I suffer through verbal abuse from my wife.&gt;</td>\n",
              "      <td>&lt;Hmmm, I'm a guy suffering from verbal abuse f...</td>\n",
              "      <td>Hmmm, I'm a guy suffering from verbal abuse fr...</td>\n",
              "    </tr>\n",
              "    <tr>\n",
              "      <th>2</th>\n",
              "      <td>&lt;You will have more friends than you want.&gt;</td>\n",
              "      <td>&lt;You will have more friends that you want... ;)</td>\n",
              "      <td>You will have more friends that you want... ;)&gt;</td>\n",
              "    </tr>\n",
              "    <tr>\n",
              "      <th>3</th>\n",
              "      <td>&lt;It's nice that you get to see pictures of who...</td>\n",
              "      <td>&lt;It's nice, you get to see pictures of who you...</td>\n",
              "      <td>It's nice, you get to see pictures of who you ...</td>\n",
              "    </tr>\n",
              "    <tr>\n",
              "      <th>4</th>\n",
              "      <td>&lt;I need to know what to do.&gt;</td>\n",
              "      <td>&lt;I NEED TO KNOW WHAT 2 DO</td>\n",
              "      <td>I NEED TO KNOW WHAT 2 DO&gt;</td>\n",
              "    </tr>\n",
              "  </tbody>\n",
              "</table>\n",
              "</div>"
            ],
            "text/plain": [
              "                                         encoder_inp  ...                                        decoder_out\n",
              "0                  <I prefer to let the guy ask me.>  ...  Sure, it's ok, but I always have let the guy a...\n",
              "1      <I suffer through verbal abuse from my wife.>  ...  Hmmm, I'm a guy suffering from verbal abuse fr...\n",
              "2        <You will have more friends than you want.>  ...    You will have more friends that you want... ;)>\n",
              "3  <It's nice that you get to see pictures of who...  ...  It's nice, you get to see pictures of who you ...\n",
              "4                       <I need to know what to do.>  ...                          I NEED TO KNOW WHAT 2 DO>\n",
              "\n",
              "[5 rows x 3 columns]"
            ]
          },
          "metadata": {},
          "execution_count": 13
        }
      ]
    },
    {
      "cell_type": "code",
      "metadata": {
        "id": "bsX-8icbLNoZ",
        "colab": {
          "base_uri": "https://localhost:8080/",
          "height": 200
        },
        "outputId": "22d3b0a6-0f8e-4f39-e673-96b769028091"
      },
      "source": [
        "preprocessed_data_v.head() # Validate data dataframe"
      ],
      "execution_count": null,
      "outputs": [
        {
          "output_type": "execute_result",
          "data": {
            "text/html": [
              "<div>\n",
              "<style scoped>\n",
              "    .dataframe tbody tr th:only-of-type {\n",
              "        vertical-align: middle;\n",
              "    }\n",
              "\n",
              "    .dataframe tbody tr th {\n",
              "        vertical-align: top;\n",
              "    }\n",
              "\n",
              "    .dataframe thead th {\n",
              "        text-align: right;\n",
              "    }\n",
              "</style>\n",
              "<table border=\"1\" class=\"dataframe\">\n",
              "  <thead>\n",
              "    <tr style=\"text-align: right;\">\n",
              "      <th></th>\n",
              "      <th>encoder_inp</th>\n",
              "      <th>decoder_inp</th>\n",
              "      <th>decoder_out</th>\n",
              "    </tr>\n",
              "  </thead>\n",
              "  <tbody>\n",
              "    <tr>\n",
              "      <th>0</th>\n",
              "      <td>&lt;Someone is tracking his every step.&gt;</td>\n",
              "      <td>&lt;Now the devils hell hounds are tracking his e...</td>\n",
              "      <td>Now the devils hell hounds are tracking his ev...</td>\n",
              "    </tr>\n",
              "    <tr>\n",
              "      <th>1</th>\n",
              "      <td>&lt;Tell her to find something to do with her life.&gt;</td>\n",
              "      <td>&lt;Tell her to get a life</td>\n",
              "      <td>Tell her to get a life&gt;</td>\n",
              "    </tr>\n",
              "    <tr>\n",
              "      <th>2</th>\n",
              "      <td>&lt;You'll be unable to do what your speaking abo...</td>\n",
              "      <td>&lt;You can't do what you are asking.</td>\n",
              "      <td>You can't do what you are asking.&gt;</td>\n",
              "    </tr>\n",
              "    <tr>\n",
              "      <th>3</th>\n",
              "      <td>&lt;In the event he actually is unfamiliar with t...</td>\n",
              "      <td>&lt;As long as he really doesnt know the chicks i...</td>\n",
              "      <td>As long as he really doesnt know the chicks it...</td>\n",
              "    </tr>\n",
              "    <tr>\n",
              "      <th>4</th>\n",
              "      <td>&lt;He will love you more.&gt;</td>\n",
              "      <td>&lt;he will love you so much more ...</td>\n",
              "      <td>he will love you so much more ...&gt;</td>\n",
              "    </tr>\n",
              "  </tbody>\n",
              "</table>\n",
              "</div>"
            ],
            "text/plain": [
              "                                         encoder_inp  ...                                        decoder_out\n",
              "0              <Someone is tracking his every step.>  ...  Now the devils hell hounds are tracking his ev...\n",
              "1  <Tell her to find something to do with her life.>  ...                            Tell her to get a life>\n",
              "2  <You'll be unable to do what your speaking abo...  ...                 You can't do what you are asking.>\n",
              "3  <In the event he actually is unfamiliar with t...  ...  As long as he really doesnt know the chicks it...\n",
              "4                           <He will love you more.>  ...                 he will love you so much more ...>\n",
              "\n",
              "[5 rows x 3 columns]"
            ]
          },
          "metadata": {},
          "execution_count": 14
        }
      ]
    },
    {
      "cell_type": "code",
      "metadata": {
        "id": "8hZx0ie-LOps",
        "colab": {
          "base_uri": "https://localhost:8080/",
          "height": 200
        },
        "outputId": "0f458645-6b17-4707-a408-69fe60ec2e38"
      },
      "source": [
        "preprocessed_data_t.head() # Test data dataframe"
      ],
      "execution_count": null,
      "outputs": [
        {
          "output_type": "execute_result",
          "data": {
            "text/html": [
              "<div>\n",
              "<style scoped>\n",
              "    .dataframe tbody tr th:only-of-type {\n",
              "        vertical-align: middle;\n",
              "    }\n",
              "\n",
              "    .dataframe tbody tr th {\n",
              "        vertical-align: top;\n",
              "    }\n",
              "\n",
              "    .dataframe thead th {\n",
              "        text-align: right;\n",
              "    }\n",
              "</style>\n",
              "<table border=\"1\" class=\"dataframe\">\n",
              "  <thead>\n",
              "    <tr style=\"text-align: right;\">\n",
              "      <th></th>\n",
              "      <th>encoder_inp</th>\n",
              "      <th>decoder_inp</th>\n",
              "      <th>decoder_out</th>\n",
              "    </tr>\n",
              "  </thead>\n",
              "  <tbody>\n",
              "    <tr>\n",
              "      <th>0</th>\n",
              "      <td>&lt;I mean that you have to really be her friend.&gt;</td>\n",
              "      <td>&lt;and i mean Really be her friend.</td>\n",
              "      <td>and i mean Really be her friend.&gt;</td>\n",
              "    </tr>\n",
              "    <tr>\n",
              "      <th>1</th>\n",
              "      <td>&lt;Are you posing a rhetorical question?&gt;</td>\n",
              "      <td>&lt;Sounds like a rhetorical question :)</td>\n",
              "      <td>Sounds like a rhetorical question :)&gt;</td>\n",
              "    </tr>\n",
              "    <tr>\n",
              "      <th>2</th>\n",
              "      <td>&lt;Men pretend to love in order to have intercou...</td>\n",
              "      <td>&lt;Men play at love to get sex, women play at se...</td>\n",
              "      <td>Men play at love to get sex, women play at sex...</td>\n",
              "    </tr>\n",
              "    <tr>\n",
              "      <th>3</th>\n",
              "      <td>&lt;I do not intend to be mean.&gt;</td>\n",
              "      <td>&lt;I don't want to be mean.</td>\n",
              "      <td>I don't want to be mean.&gt;</td>\n",
              "    </tr>\n",
              "    <tr>\n",
              "      <th>4</th>\n",
              "      <td>&lt;I would estimate an average of 45% initially ...</td>\n",
              "      <td>&lt;on average id say about 45% at first but than...</td>\n",
              "      <td>on average id say about 45% at first but than ...</td>\n",
              "    </tr>\n",
              "  </tbody>\n",
              "</table>\n",
              "</div>"
            ],
            "text/plain": [
              "                                         encoder_inp  ...                                        decoder_out\n",
              "0    <I mean that you have to really be her friend.>  ...                  and i mean Really be her friend.>\n",
              "1            <Are you posing a rhetorical question?>  ...              Sounds like a rhetorical question :)>\n",
              "2  <Men pretend to love in order to have intercou...  ...  Men play at love to get sex, women play at sex...\n",
              "3                      <I do not intend to be mean.>  ...                          I don't want to be mean.>\n",
              "4  <I would estimate an average of 45% initially ...  ...  on average id say about 45% at first but than ...\n",
              "\n",
              "[5 rows x 3 columns]"
            ]
          },
          "metadata": {},
          "execution_count": 15
        }
      ]
    },
    {
      "cell_type": "markdown",
      "metadata": {
        "id": "onrLQgeoEKiN"
      },
      "source": [
        "###**2.3 Data shape check with length**"
      ]
    },
    {
      "cell_type": "code",
      "metadata": {
        "id": "ko-NtCvEeNG5"
      },
      "source": [
        "title_font = {'family': 'Dejavu Sans', 'color': 'black', 'weight': 'bold', 'size': 15}\n",
        "label_font = {'family': 'Dejavu Sans', 'weight': 'normal', 'size': 11}"
      ],
      "execution_count": null,
      "outputs": []
    },
    {
      "cell_type": "markdown",
      "metadata": {
        "id": "j19RJ8D1ML_l"
      },
      "source": [
        "#### Check for Train data"
      ]
    },
    {
      "cell_type": "code",
      "metadata": {
        "colab": {
          "base_uri": "https://localhost:8080/",
          "height": 352
        },
        "id": "qt5wR382ER6U",
        "outputId": "bd6a9395-2578-4403-e0db-f1b959af88d2"
      },
      "source": [
        "# creating axes to draw plots\n",
        "fig, ax = plt.subplots(1, 3)\n",
        "\n",
        "# plotting the distributions\n",
        "sns.distplot(preprocessed_data['encoder_inp'].apply(len).values, hist = False, kde = True, kde_kws = {'shade': True, 'linewidth': 2}, color = \"green\", ax = ax[0])\n",
        "sns.distplot(preprocessed_data['decoder_inp'].apply(len).values, hist = False, kde = True, kde_kws = {'shade': True, 'linewidth': 2}, color = \"indigo\", ax = ax[1])\n",
        "sns.distplot(preprocessed_data['decoder_out'].apply(len).values, hist = False, kde = True, kde_kws = {'shade': True, 'linewidth': 2}, color = \"orange\", ax = ax[2])\n",
        "\n",
        "# adding titles to the subplots\n",
        "ax[0].set_xlim(1, 250)\n",
        "ax[1].set_xlim(1, 250)\n",
        "ax[2].set_xlim(1, 250)\n",
        "ax[0].set_title(\"Lengths of Encoder Input\", fontdict = title_font, pad = 20.0)\n",
        "ax[1].set_title(\"Lengths of Decoder Input\", fontdict = title_font, pad = 20.0)\n",
        "ax[2].set_title(\"Lengths of Decoder Output\", fontdict = title_font, pad = 20.0)\n",
        "\n",
        "# rescaling the figure\n",
        "fig.set_figheight(5)\n",
        "fig.set_figwidth(15)"
      ],
      "execution_count": null,
      "outputs": [
        {
          "data": {
            "image/png": "[encoded data removed]",
            "text/plain": [
              "<Figure size 1080x360 with 3 Axes>"
            ]
          },
          "metadata": {},
          "output_type": "display_data"
        }
      ]
    },
    {
      "cell_type": "markdown",
      "metadata": {
        "id": "0roARazUMQBp"
      },
      "source": [
        "####Check for validate data"
      ]
    },
    {
      "cell_type": "code",
      "metadata": {
        "colab": {
          "base_uri": "https://localhost:8080/",
          "height": 352
        },
        "id": "TjRTXxARLzgc",
        "outputId": "2e14b4a7-62c9-4d03-cada-627fdbc2ad94"
      },
      "source": [
        "# creating axes to draw plots\n",
        "fig, ax = plt.subplots(1, 3)\n",
        "\n",
        "# plotting the distributions\n",
        "sns.distplot(preprocessed_data_v['encoder_inp'].apply(len).values, hist = False, kde = True, kde_kws = {'shade': True, 'linewidth': 2}, color = \"green\", ax = ax[0])\n",
        "sns.distplot(preprocessed_data_v['decoder_inp'].apply(len).values, hist = False, kde = True, kde_kws = {'shade': True, 'linewidth': 2}, color = \"indigo\", ax = ax[1])\n",
        "sns.distplot(preprocessed_data_v['decoder_out'].apply(len).values, hist = False, kde = True, kde_kws = {'shade': True, 'linewidth': 2}, color = \"orange\", ax = ax[2])\n",
        "\n",
        "# adding titles to the subplots\n",
        "ax[0].set_xlim(1, 250)\n",
        "ax[1].set_xlim(1, 250)\n",
        "ax[2].set_xlim(1, 250)\n",
        "ax[0].set_title(\"Lengths of Encoder Input\", fontdict = title_font, pad = 20.0)\n",
        "ax[1].set_title(\"Lengths of Decoder Input\", fontdict = title_font, pad = 20.0)\n",
        "ax[2].set_title(\"Lengths of Decoder Output\", fontdict = title_font, pad = 20.0)\n",
        "\n",
        "# rescaling the figure\n",
        "fig.set_figheight(5)\n",
        "fig.set_figwidth(15)"
      ],
      "execution_count": null,
      "outputs": [
        {
          "data": {
            "image/png": "[encoded data removed]",
            "text/plain": [
              "<Figure size 1080x360 with 3 Axes>"
            ]
          },
          "metadata": {},
          "output_type": "display_data"
        }
      ]
    },
    {
      "cell_type": "markdown",
      "metadata": {
        "id": "FkqyveNwMV3S"
      },
      "source": [
        "####Check for test data"
      ]
    },
    {
      "cell_type": "code",
      "metadata": {
        "colab": {
          "base_uri": "https://localhost:8080/",
          "height": 352
        },
        "id": "2YHoak3RMdlM",
        "outputId": "00563eb9-ae1d-480e-d14e-284a77b7dc00"
      },
      "source": [
        "# creating axes to draw plots\n",
        "fig, ax = plt.subplots(1, 3)\n",
        "\n",
        "# plotting the distributions\n",
        "sns.distplot(preprocessed_data_t['encoder_inp'].apply(len).values, hist = False, kde = True, kde_kws = {'shade': True, 'linewidth': 2}, color = \"green\", ax = ax[0])\n",
        "sns.distplot(preprocessed_data_t['decoder_inp'].apply(len).values, hist = False, kde = True, kde_kws = {'shade': True, 'linewidth': 2}, color = \"indigo\", ax = ax[1])\n",
        "sns.distplot(preprocessed_data_t['decoder_out'].apply(len).values, hist = False, kde = True, kde_kws = {'shade': True, 'linewidth': 2}, color = \"orange\", ax = ax[2])\n",
        "\n",
        "# adding titles to the subplots\n",
        "ax[0].set_xlim(1, 250)\n",
        "ax[1].set_xlim(1, 250)\n",
        "ax[2].set_xlim(1, 250)\n",
        "ax[0].set_title(\"Lengths of Encoder Input\", fontdict = title_font, pad = 20.0)\n",
        "ax[1].set_title(\"Lengths of Decoder Input\", fontdict = title_font, pad = 20.0)\n",
        "ax[2].set_title(\"Lengths of Decoder Output\", fontdict = title_font, pad = 20.0)\n",
        "\n",
        "# rescaling the figure\n",
        "fig.set_figheight(5)\n",
        "fig.set_figwidth(15)"
      ],
      "execution_count": null,
      "outputs": [
        {
          "data": {
            "image/png": "[encoded data removed]",
            "text/plain": [
              "<Figure size 1080x360 with 3 Axes>"
            ]
          },
          "metadata": {},
          "output_type": "display_data"
        }
      ]
    },
    {
      "cell_type": "markdown",
      "metadata": {
        "id": "JWNkFzUlMmMt"
      },
      "source": [
        "####Drop sentences below length 150"
      ]
    },
    {
      "cell_type": "code",
      "metadata": {
        "id": "WIfGePUJFrVG"
      },
      "source": [
        "# Filtering out sentences of length more than 150\n",
        "preprocessed_data = preprocessed_data[preprocessed_data['encoder_inp'].apply(len) <= 150]\n",
        "preprocessed_data = preprocessed_data[preprocessed_data['decoder_inp'].apply(len) <= 150]\n",
        "preprocessed_data = preprocessed_data[preprocessed_data['decoder_out'].apply(len) <= 150]\n",
        "\n",
        "preprocessed_data_v = preprocessed_data_v[preprocessed_data_v['encoder_inp'].apply(len) <= 150]\n",
        "preprocessed_data_v = preprocessed_data_v[preprocessed_data_v['decoder_inp'].apply(len) <= 150]\n",
        "preprocessed_data_v = preprocessed_data_v[preprocessed_data_v['decoder_out'].apply(len) <= 150]\n",
        "\n",
        "preprocessed_data_t = preprocessed_data_t[preprocessed_data_t['encoder_inp'].apply(len) <= 150]\n",
        "preprocessed_data_t = preprocessed_data_t[preprocessed_data_t['decoder_inp'].apply(len) <= 150]\n",
        "preprocessed_data_t = preprocessed_data_t[preprocessed_data_t['decoder_out'].apply(len) <= 150]"
      ],
      "execution_count": null,
      "outputs": []
    },
    {
      "cell_type": "code",
      "metadata": {
        "id": "u_e4FLhNMzPF",
        "colab": {
          "base_uri": "https://localhost:8080/",
          "height": 200
        },
        "outputId": "6d573952-5a6c-460e-e79d-a5c0d296f9ba"
      },
      "source": [
        "# Rename to train data\n",
        "train = preprocessed_data\n",
        "train.head()"
      ],
      "execution_count": null,
      "outputs": [
        {
          "output_type": "execute_result",
          "data": {
            "text/html": [
              "<div>\n",
              "<style scoped>\n",
              "    .dataframe tbody tr th:only-of-type {\n",
              "        vertical-align: middle;\n",
              "    }\n",
              "\n",
              "    .dataframe tbody tr th {\n",
              "        vertical-align: top;\n",
              "    }\n",
              "\n",
              "    .dataframe thead th {\n",
              "        text-align: right;\n",
              "    }\n",
              "</style>\n",
              "<table border=\"1\" class=\"dataframe\">\n",
              "  <thead>\n",
              "    <tr style=\"text-align: right;\">\n",
              "      <th></th>\n",
              "      <th>encoder_inp</th>\n",
              "      <th>decoder_inp</th>\n",
              "      <th>decoder_out</th>\n",
              "    </tr>\n",
              "  </thead>\n",
              "  <tbody>\n",
              "    <tr>\n",
              "      <th>0</th>\n",
              "      <td>&lt;I prefer to let the guy ask me.&gt;</td>\n",
              "      <td>&lt;Sure, it's ok, but I always have let the guy ...</td>\n",
              "      <td>Sure, it's ok, but I always have let the guy a...</td>\n",
              "    </tr>\n",
              "    <tr>\n",
              "      <th>1</th>\n",
              "      <td>&lt;I suffer through verbal abuse from my wife.&gt;</td>\n",
              "      <td>&lt;Hmmm, I'm a guy suffering from verbal abuse f...</td>\n",
              "      <td>Hmmm, I'm a guy suffering from verbal abuse fr...</td>\n",
              "    </tr>\n",
              "    <tr>\n",
              "      <th>2</th>\n",
              "      <td>&lt;You will have more friends than you want.&gt;</td>\n",
              "      <td>&lt;You will have more friends that you want... ;)</td>\n",
              "      <td>You will have more friends that you want... ;)&gt;</td>\n",
              "    </tr>\n",
              "    <tr>\n",
              "      <th>3</th>\n",
              "      <td>&lt;It's nice that you get to see pictures of who...</td>\n",
              "      <td>&lt;It's nice, you get to see pictures of who you...</td>\n",
              "      <td>It's nice, you get to see pictures of who you ...</td>\n",
              "    </tr>\n",
              "    <tr>\n",
              "      <th>4</th>\n",
              "      <td>&lt;I need to know what to do.&gt;</td>\n",
              "      <td>&lt;I NEED TO KNOW WHAT 2 DO</td>\n",
              "      <td>I NEED TO KNOW WHAT 2 DO&gt;</td>\n",
              "    </tr>\n",
              "  </tbody>\n",
              "</table>\n",
              "</div>"
            ],
            "text/plain": [
              "                                         encoder_inp  ...                                        decoder_out\n",
              "0                  <I prefer to let the guy ask me.>  ...  Sure, it's ok, but I always have let the guy a...\n",
              "1      <I suffer through verbal abuse from my wife.>  ...  Hmmm, I'm a guy suffering from verbal abuse fr...\n",
              "2        <You will have more friends than you want.>  ...    You will have more friends that you want... ;)>\n",
              "3  <It's nice that you get to see pictures of who...  ...  It's nice, you get to see pictures of who you ...\n",
              "4                       <I need to know what to do.>  ...                          I NEED TO KNOW WHAT 2 DO>\n",
              "\n",
              "[5 rows x 3 columns]"
            ]
          },
          "metadata": {},
          "execution_count": 19
        }
      ]
    },
    {
      "cell_type": "code",
      "metadata": {
        "id": "KX_bN-sBM1r_",
        "colab": {
          "base_uri": "https://localhost:8080/",
          "height": 200
        },
        "outputId": "9e4a1153-43e3-4af8-bb9b-1ecf59bbc283"
      },
      "source": [
        "# Rename to validation \n",
        "validation = preprocessed_data_v\n",
        "validation.head()"
      ],
      "execution_count": null,
      "outputs": [
        {
          "output_type": "execute_result",
          "data": {
            "text/html": [
              "<div>\n",
              "<style scoped>\n",
              "    .dataframe tbody tr th:only-of-type {\n",
              "        vertical-align: middle;\n",
              "    }\n",
              "\n",
              "    .dataframe tbody tr th {\n",
              "        vertical-align: top;\n",
              "    }\n",
              "\n",
              "    .dataframe thead th {\n",
              "        text-align: right;\n",
              "    }\n",
              "</style>\n",
              "<table border=\"1\" class=\"dataframe\">\n",
              "  <thead>\n",
              "    <tr style=\"text-align: right;\">\n",
              "      <th></th>\n",
              "      <th>encoder_inp</th>\n",
              "      <th>decoder_inp</th>\n",
              "      <th>decoder_out</th>\n",
              "    </tr>\n",
              "  </thead>\n",
              "  <tbody>\n",
              "    <tr>\n",
              "      <th>0</th>\n",
              "      <td>&lt;Someone is tracking his every step.&gt;</td>\n",
              "      <td>&lt;Now the devils hell hounds are tracking his e...</td>\n",
              "      <td>Now the devils hell hounds are tracking his ev...</td>\n",
              "    </tr>\n",
              "    <tr>\n",
              "      <th>1</th>\n",
              "      <td>&lt;Tell her to find something to do with her life.&gt;</td>\n",
              "      <td>&lt;Tell her to get a life</td>\n",
              "      <td>Tell her to get a life&gt;</td>\n",
              "    </tr>\n",
              "    <tr>\n",
              "      <th>2</th>\n",
              "      <td>&lt;You'll be unable to do what your speaking abo...</td>\n",
              "      <td>&lt;You can't do what you are asking.</td>\n",
              "      <td>You can't do what you are asking.&gt;</td>\n",
              "    </tr>\n",
              "    <tr>\n",
              "      <th>3</th>\n",
              "      <td>&lt;In the event he actually is unfamiliar with t...</td>\n",
              "      <td>&lt;As long as he really doesnt know the chicks i...</td>\n",
              "      <td>As long as he really doesnt know the chicks it...</td>\n",
              "    </tr>\n",
              "    <tr>\n",
              "      <th>4</th>\n",
              "      <td>&lt;He will love you more.&gt;</td>\n",
              "      <td>&lt;he will love you so much more ...</td>\n",
              "      <td>he will love you so much more ...&gt;</td>\n",
              "    </tr>\n",
              "  </tbody>\n",
              "</table>\n",
              "</div>"
            ],
            "text/plain": [
              "                                         encoder_inp  ...                                        decoder_out\n",
              "0              <Someone is tracking his every step.>  ...  Now the devils hell hounds are tracking his ev...\n",
              "1  <Tell her to find something to do with her life.>  ...                            Tell her to get a life>\n",
              "2  <You'll be unable to do what your speaking abo...  ...                 You can't do what you are asking.>\n",
              "3  <In the event he actually is unfamiliar with t...  ...  As long as he really doesnt know the chicks it...\n",
              "4                           <He will love you more.>  ...                 he will love you so much more ...>\n",
              "\n",
              "[5 rows x 3 columns]"
            ]
          },
          "metadata": {},
          "execution_count": 20
        }
      ]
    },
    {
      "cell_type": "code",
      "metadata": {
        "id": "tazlcgneM3w0",
        "colab": {
          "base_uri": "https://localhost:8080/",
          "height": 200
        },
        "outputId": "fd3f4ade-fd0c-4c8f-da6a-ed38b08104f0"
      },
      "source": [
        "# Rename to test\n",
        "test = preprocessed_data_t\n",
        "test.head()"
      ],
      "execution_count": null,
      "outputs": [
        {
          "output_type": "execute_result",
          "data": {
            "text/html": [
              "<div>\n",
              "<style scoped>\n",
              "    .dataframe tbody tr th:only-of-type {\n",
              "        vertical-align: middle;\n",
              "    }\n",
              "\n",
              "    .dataframe tbody tr th {\n",
              "        vertical-align: top;\n",
              "    }\n",
              "\n",
              "    .dataframe thead th {\n",
              "        text-align: right;\n",
              "    }\n",
              "</style>\n",
              "<table border=\"1\" class=\"dataframe\">\n",
              "  <thead>\n",
              "    <tr style=\"text-align: right;\">\n",
              "      <th></th>\n",
              "      <th>encoder_inp</th>\n",
              "      <th>decoder_inp</th>\n",
              "      <th>decoder_out</th>\n",
              "    </tr>\n",
              "  </thead>\n",
              "  <tbody>\n",
              "    <tr>\n",
              "      <th>0</th>\n",
              "      <td>&lt;I mean that you have to really be her friend.&gt;</td>\n",
              "      <td>&lt;and i mean Really be her friend.</td>\n",
              "      <td>and i mean Really be her friend.&gt;</td>\n",
              "    </tr>\n",
              "    <tr>\n",
              "      <th>1</th>\n",
              "      <td>&lt;Are you posing a rhetorical question?&gt;</td>\n",
              "      <td>&lt;Sounds like a rhetorical question :)</td>\n",
              "      <td>Sounds like a rhetorical question :)&gt;</td>\n",
              "    </tr>\n",
              "    <tr>\n",
              "      <th>2</th>\n",
              "      <td>&lt;Men pretend to love in order to have intercou...</td>\n",
              "      <td>&lt;Men play at love to get sex, women play at se...</td>\n",
              "      <td>Men play at love to get sex, women play at sex...</td>\n",
              "    </tr>\n",
              "    <tr>\n",
              "      <th>3</th>\n",
              "      <td>&lt;I do not intend to be mean.&gt;</td>\n",
              "      <td>&lt;I don't want to be mean.</td>\n",
              "      <td>I don't want to be mean.&gt;</td>\n",
              "    </tr>\n",
              "    <tr>\n",
              "      <th>4</th>\n",
              "      <td>&lt;I would estimate an average of 45% initially ...</td>\n",
              "      <td>&lt;on average id say about 45% at first but than...</td>\n",
              "      <td>on average id say about 45% at first but than ...</td>\n",
              "    </tr>\n",
              "  </tbody>\n",
              "</table>\n",
              "</div>"
            ],
            "text/plain": [
              "                                         encoder_inp  ...                                        decoder_out\n",
              "0    <I mean that you have to really be her friend.>  ...                  and i mean Really be her friend.>\n",
              "1            <Are you posing a rhetorical question?>  ...              Sounds like a rhetorical question :)>\n",
              "2  <Men pretend to love in order to have intercou...  ...  Men play at love to get sex, women play at sex...\n",
              "3                      <I do not intend to be mean.>  ...                          I don't want to be mean.>\n",
              "4  <I would estimate an average of 45% initially ...  ...  on average id say about 45% at first but than ...\n",
              "\n",
              "[5 rows x 3 columns]"
            ]
          },
          "metadata": {},
          "execution_count": 21
        }
      ]
    },
    {
      "cell_type": "code",
      "metadata": {
        "id": "FGLK6-O1GD-e",
        "colab": {
          "base_uri": "https://localhost:8080/"
        },
        "outputId": "10388680-fa00-4aa4-9cb7-e6dcfd80b790"
      },
      "source": [
        "print(\"Final shape of preprocessed training data: \", train.shape)\n",
        "print(\"Final shape of preprocessed validating data: \", validation.shape)\n",
        "print(\"Final shape of preprocessed testing data: \", test.shape)"
      ],
      "execution_count": null,
      "outputs": [
        {
          "output_type": "stream",
          "name": "stdout",
          "text": [
            "Final shape of preprocessed training data:  (208630, 3)\n",
            "Final shape of preprocessed validating data:  (4597, 3)\n",
            "Final shape of preprocessed testing data:  (2097, 3)\n"
          ]
        }
      ]
    },
    {
      "cell_type": "code",
      "metadata": {
        "id": "kq3y7ghv3ls8"
      },
      "source": [
        "# Save dataframe to excel\n",
        "train.to_csv(r'/content/drive/MyDrive/KU/2021-2학기/자연어처리/Preprocessed/train_rtt_chinese', index=False, encoding = 'utf-8')\n",
        "validation.to_csv(r'/content/drive/MyDrive/KU/2021-2학기/자연어처리/Preprocessed/validation_data', index=False, encoding = 'utf-8')\n",
        "test.to_csv(r'/content/drive/MyDrive/KU/2021-2학기/자연어처리/Preprocessed/test_data', index=False, encoding = 'utf-8')"
      ],
      "execution_count": null,
      "outputs": []
    },
    {
      "cell_type": "code",
      "metadata": {
        "id": "zfRDi-oG3lvx"
      },
      "source": [
        "# Call baseline dataset\n",
        "train = pd.read_csv(r'/content/drive/MyDrive/KU/2021-2학기/자연어처리/Preprocessed/train_data')\n",
        "validation = pd.read_csv(r'/content/drive/MyDrive/KU/2021-2학기/자연어처리/Preprocessed/validation_data')\n",
        "test = pd.read_csv(r'/content/drive/MyDrive/KU/2021-2학기/자연어처리/Preprocessed/test_data')"
      ],
      "execution_count": null,
      "outputs": []
    },
    {
      "cell_type": "code",
      "metadata": {
        "id": "eEGruatWHmh_"
      },
      "source": [
        "# Call augmented dataset\n",
        "train = pd.read_csv(r'/content/drive/MyDrive/KU/2021-2학기/자연어처리/Preprocessed/train_rtt_chinese')\n",
        "validation = pd.read_csv(r'/content/drive/MyDrive/KU/2021-2학기/자연어처리/Preprocessed/validation_data')\n",
        "test = pd.read_csv(r'/content/drive/MyDrive/KU/2021-2학기/자연어처리/Preprocessed/test_data')"
      ],
      "execution_count": null,
      "outputs": []
    },
    {
      "cell_type": "markdown",
      "metadata": {
        "id": "OcNGxOSoN1x7"
      },
      "source": [
        "\n",
        "\n",
        "###**2.4 Tokenizing data**"
      ]
    },
    {
      "cell_type": "code",
      "metadata": {
        "colab": {
          "base_uri": "https://localhost:8080/"
        },
        "id": "-lkAnL7yPGZn",
        "outputId": "041722ae-59bc-42ed-9c6e-7eba37c61b28"
      },
      "source": [
        "# Tokenizing data and remove common punctuations\n",
        "tknizer_formal = Tokenizer(filters = '\"#$%&()*+-/=@[\\\\]^_`{|}~\\t\\n', lower = False, char_level = True)\n",
        "tknizer_informal = Tokenizer(filters = '\"#$%&()*+-/=@[\\\\]^_`{|}~\\t\\n', lower = False, char_level = True)\n",
        "\n",
        "#Learn the '>' token\n",
        "train.iloc[0]['encoder_inp']= str(train.iloc[0]['encoder_inp']) + '>'\n",
        "train['decoder_inp'].iloc[0] = train['decoder_inp'].iloc[0] + '>'\n",
        "tknizer_formal.fit_on_texts(train['encoder_inp'].values)\n",
        "tknizer_informal.fit_on_texts(train['decoder_inp'].values)\n",
        "\n",
        "joblib.dump(tknizer_formal, '/content/drive/MyDrive/KU/2021-2학기/자연어처리/tknizer_formal_aug.pkl')\n",
        "joblib.dump(tknizer_informal, '/content/drive/MyDrive/KU/2021-2학기/자연어처리/tknizer_informal_aug.pkl')"
      ],
      "execution_count": null,
      "outputs": [
        {
          "output_type": "execute_result",
          "data": {
            "text/plain": [
              "['/content/drive/MyDrive/KU/2021-2학기/자연어처리/tknizer_informal_aug.pkl']"
            ]
          },
          "metadata": {},
          "execution_count": 4
        }
      ]
    },
    {
      "cell_type": "code",
      "metadata": {
        "colab": {
          "base_uri": "https://localhost:8080/"
        },
        "id": "-cfZw01Re8Bb",
        "outputId": "362719eb-abea-4e4b-dd5f-b58d598cd702"
      },
      "source": [
        "# Printing sizes of vocabularies (check)\n",
        "vocab_size_formal = len(tknizer_formal.word_index.keys())\n",
        "vocab_size_informal = len(tknizer_informal.word_index.keys())\n",
        "print(f\"Vocab size of Formal text: {vocab_size_formal} \\nVocab size of Informal text: {vocab_size_informal}\")"
      ],
      "execution_count": null,
      "outputs": [
        {
          "output_type": "stream",
          "name": "stdout",
          "text": [
            "Vocab size of Formal text: 135 \n",
            "Vocab size of Informal text: 161\n"
          ]
        }
      ]
    },
    {
      "cell_type": "markdown",
      "metadata": {
        "id": "6McEqDI0PzXF"
      },
      "source": [
        "###**2.5 Padding data**"
      ]
    },
    {
      "cell_type": "code",
      "metadata": {
        "id": "USsUf5wwP2h7"
      },
      "source": [
        "# Encoding the sentences by numerical ids in place of words\n",
        "encoder_seq = tknizer_formal.texts_to_sequences(train['encoder_inp'].values)\n",
        "decoder_inp_seq = tknizer_informal.texts_to_sequences(train['decoder_inp'].values)\n",
        "decoder_out_seq = tknizer_informal.texts_to_sequences(train['decoder_out'].values)\n",
        "\n",
        "# Padding the sentences to make all the sentences of same length\n",
        "encoder_seq = pad_sequences(encoder_seq, maxlen = 150, dtype='int32', padding='post')\n",
        "decoder_inp_seq = pad_sequences(decoder_inp_seq, maxlen = 150, dtype='int32', padding='post')\n",
        "decoder_out_seq = pad_sequences(decoder_out_seq, maxlen = 150, dtype='int32', padding='post')"
      ],
      "execution_count": null,
      "outputs": []
    },
    {
      "cell_type": "code",
      "metadata": {
        "colab": {
          "base_uri": "https://localhost:8080/"
        },
        "id": "6Pm0_Mg0STRU",
        "outputId": "34f8c519-60a9-436f-ea98-1c63a8557da4"
      },
      "source": [
        "print(f\"First Encoder sequence: \\n{encoder_seq[0]}\")\n",
        "print(f\"First Decoder input sequence: \\n{decoder_inp_seq[0]}\")\n",
        "print(f\"First Decoder output sequence: \\n{decoder_out_seq[0]}\")"
      ],
      "execution_count": null,
      "outputs": [
        {
          "output_type": "stream",
          "name": "stdout",
          "text": [
            "First Encoder sequence: \n",
            "[17 24  1 25 10  2 22  2 10  1  4  3  1 11  2  4  1  4  9  2  1 21 12 14\n",
            "  1  5  8 27  1 15  2 18 16 16  0  0  0  0  0  0  0  0  0  0  0  0  0  0\n",
            "  0  0  0  0  0  0  0  0  0  0  0  0  0  0  0  0  0  0  0  0  0  0  0  0\n",
            "  0  0  0  0  0  0  0  0  0  0  0  0  0  0  0  0  0  0  0  0  0  0  0  0\n",
            "  0  0  0  0  0  0  0  0  0  0  0  0  0  0  0  0  0  0  0  0  0  0  0  0\n",
            "  0  0  0  0  0  0  0  0  0  0  0  0  0  0  0  0  0  0  0  0  0  0  0  0\n",
            "  0  0  0  0  0  0]\n",
            "First Decoder input sequence: \n",
            "[16 34 12 10  2 27  1  6  3 29  8  1  4 23 27  1 22 12  3  1 26  1  5 11\n",
            " 18  5 14  8  1  9  5 25  2  1 11  2  3  1  3  9  2  1 19 12 14  1  5  8\n",
            " 23  1 17  2 15 83  0  0  0  0  0  0  0  0  0  0  0  0  0  0  0  0  0  0\n",
            "  0  0  0  0  0  0  0  0  0  0  0  0  0  0  0  0  0  0  0  0  0  0  0  0\n",
            "  0  0  0  0  0  0  0  0  0  0  0  0  0  0  0  0  0  0  0  0  0  0  0  0\n",
            "  0  0  0  0  0  0  0  0  0  0  0  0  0  0  0  0  0  0  0  0  0  0  0  0\n",
            "  0  0  0  0  0  0]\n",
            "First Decoder output sequence: \n",
            "[34 12 10  2 27  1  6  3 29  8  1  4 23 27  1 22 12  3  1 26  1  5 11 18\n",
            "  5 14  8  1  9  5 25  2  1 11  2  3  1  3  9  2  1 19 12 14  1  5  8 23\n",
            "  1 17  2 15 83  0  0  0  0  0  0  0  0  0  0  0  0  0  0  0  0  0  0  0\n",
            "  0  0  0  0  0  0  0  0  0  0  0  0  0  0  0  0  0  0  0  0  0  0  0  0\n",
            "  0  0  0  0  0  0  0  0  0  0  0  0  0  0  0  0  0  0  0  0  0  0  0  0\n",
            "  0  0  0  0  0  0  0  0  0  0  0  0  0  0  0  0  0  0  0  0  0  0  0  0\n",
            "  0  0  0  0  0  0]\n"
          ]
        }
      ]
    },
    {
      "cell_type": "markdown",
      "metadata": {
        "id": "Ktx54BNPVdNg"
      },
      "source": [
        "##**3. Data Pipeline**"
      ]
    },
    {
      "cell_type": "markdown",
      "metadata": {
        "id": "uuGK0GckVj-S"
      },
      "source": [
        "###3.1 Preprocessing the Data"
      ]
    },
    {
      "cell_type": "code",
      "metadata": {
        "id": "mw1jH5CUVcbS"
      },
      "source": [
        "class PreprocessData():\n",
        "    def __init__(self, data, tknizer_formal, tknizer_informal, max_len):\n",
        "        self.encoder_inps = data['encoder_inp'].values\n",
        "        self.decoder_inps = data['decoder_inp'].values\n",
        "        self.decoder_outs = data['decoder_out'].values\n",
        "        self.tknizer_informal = tknizer_informal\n",
        "        self.tknizer_formal = tknizer_formal\n",
        "        self.max_len = max_len\n",
        "\n",
        "    def __getitem__(self, i):\n",
        "        '''\n",
        "        Tokenize data, zero-pad to make all sequences of same length.\n",
        "        '''\n",
        "        # Tokenizing the sequences by passing them in lists as required by tokenizer\n",
        "        self.encoder_inp_seq = self.tknizer_formal.texts_to_sequences([self.encoder_inps[i]])\n",
        "        self.decoder_inp_seq = self.tknizer_informal.texts_to_sequences([self.decoder_inps[i]])\n",
        "        self.decoder_out_seq = self.tknizer_informal.texts_to_sequences([self.decoder_outs[i]])\n",
        "        # Padding the sequences with zeros\n",
        "        self.encoder_inp_seq = pad_sequences(self.encoder_inp_seq, maxlen = self.max_len, dtype = 'int32', padding = 'post')\n",
        "        self.decoder_inp_seq = pad_sequences(self.decoder_inp_seq, maxlen = self.max_len, dtype = 'int32', padding = 'post')\n",
        "        self.decoder_out_seq = pad_sequences(self.decoder_out_seq, maxlen = self.max_len, dtype = 'int32', padding = 'post')\n",
        "        return self.encoder_inp_seq, self.decoder_inp_seq, self.decoder_out_seq\n",
        "\n",
        "    def __len__(self):\n",
        "        '''\n",
        "        Required for model.fit method to keep logs.\n",
        "        '''\n",
        "        return len(self.encoder_inps)"
      ],
      "execution_count": null,
      "outputs": []
    },
    {
      "cell_type": "markdown",
      "metadata": {
        "id": "oRPo5AjiVxZM"
      },
      "source": [
        "###**3.2 Dataloader**###"
      ]
    },
    {
      "cell_type": "code",
      "metadata": {
        "id": "OnTF1fAqV1jX"
      },
      "source": [
        "class Dataloader(tf.keras.utils.Sequence):    \n",
        "\n",
        "    def __init__(self, dataset, batch_size = 1):\n",
        "        self.dataset = dataset\n",
        "        self.batch_size = batch_size\n",
        "        self.indexes = np.arange(len(self.dataset.encoder_inps))\n",
        "\n",
        "    def __getitem__(self, i):\n",
        "        '''\n",
        "        Pack the input data in tuple format: ([[encoder_inp], [decoder_inp]], decoder_out)\n",
        "        '''\n",
        "        # Tracking indices of start and stop\n",
        "        start = i * self.batch_size\n",
        "        stop = (i + 1) * self.batch_size\n",
        "        data = []\n",
        "        for j in range(start, stop):\n",
        "            data.append(self.dataset[j])\n",
        "        \n",
        "        # Creating data in tuple form\n",
        "        batch = [np.squeeze(np.stack(samples, axis = 1), axis = 0) for samples in zip(*data)]\n",
        "        return tuple([[batch[0],batch[1]],batch[2]])\n",
        "\n",
        "    def __len__(self):\n",
        "        '''\n",
        "        Required for model.fit method to keep logs.\n",
        "        '''\n",
        "        return len(self.indexes) // self.batch_size\n",
        "\n",
        "    def on_epoch_end(self):\n",
        "        '''\n",
        "        Callback to shuffle the indices of data on each epoch.\n",
        "        '''\n",
        "        self.indexes = np.random.permutation(self.indexes)"
      ],
      "execution_count": null,
      "outputs": []
    },
    {
      "cell_type": "code",
      "metadata": {
        "id": "T07FhK8gV-pY"
      },
      "source": [
        "# Defining parameters\n",
        "BATCH_SIZE = 128\n",
        "MAX_LEN = 150\n",
        "\n",
        "# Preprocessing data\n",
        "train_dataset = PreprocessData(train, tknizer_formal, tknizer_informal, MAX_LEN)\n",
        "validation_dataset  = PreprocessData(validation, tknizer_formal, tknizer_informal, MAX_LEN)\n",
        "\n",
        "# Creating Dataloader\n",
        "train_dataloader = Dataloader(train_dataset, batch_size = BATCH_SIZE)\n",
        "validation_dataloader = Dataloader(validation_dataset, batch_size = BATCH_SIZE)"
      ],
      "execution_count": null,
      "outputs": []
    },
    {
      "cell_type": "code",
      "metadata": {
        "colab": {
          "base_uri": "https://localhost:8080/"
        },
        "id": "qvm4rCWkWLHC",
        "outputId": "c6e0a4a2-d3c4-416b-d233-390f964db451"
      },
      "source": [
        "# Checking the dimensions (Train_dataloader)\n",
        "print(train_dataloader[0][0][0].shape, train_dataloader[0][0][1].shape, train_dataloader[0][1].shape)"
      ],
      "execution_count": null,
      "outputs": [
        {
          "output_type": "stream",
          "name": "stdout",
          "text": [
            "(128, 150) (128, 150) (128, 150)\n"
          ]
        }
      ]
    },
    {
      "cell_type": "code",
      "metadata": {
        "colab": {
          "base_uri": "https://localhost:8080/"
        },
        "id": "I068-TrDWd3D",
        "outputId": "f1aeed6b-7ee4-48e6-ed60-e6c0c4842909"
      },
      "source": [
        "# Checking the dimensions  (Validation_dataloader)\n",
        "print(validation_dataloader[0][0][0].shape, validation_dataloader[0][0][1].shape, validation_dataloader[0][1].shape)"
      ],
      "execution_count": null,
      "outputs": [
        {
          "output_type": "stream",
          "name": "stdout",
          "text": [
            "(128, 150) (128, 150) (128, 150)\n"
          ]
        }
      ]
    },
    {
      "cell_type": "markdown",
      "metadata": {
        "id": "0PPiAXIw4tn_"
      },
      "source": [
        "## **4. Encoder-Decoder with Attention**"
      ]
    },
    {
      "cell_type": "markdown",
      "metadata": {
        "id": "YpQtbKAs4-ys"
      },
      "source": [
        "### **4.1 Encoder**"
      ]
    },
    {
      "cell_type": "code",
      "metadata": {
        "id": "57aCpl0w-eK9"
      },
      "source": [
        "class Encoder(tf.keras.Model):\n",
        "    '''\n",
        "    Encoder Model\n",
        "    - Input: input sequence\n",
        "    - Ouput: encoder_final_hidden_state, encoder_final_current_state\n",
        "    '''\n",
        "    def __init__(self, inp_vocab_size, embedding_dim, lstm_size, input_length):\n",
        "        super().__init__()\n",
        "        \n",
        "        seed = 42\n",
        "        # Initializing the parameters\n",
        "        '''\n",
        "        @param input_dim (int): input dimensionality\n",
        "        @param embed_size (int): embedding size (dimensionality)\n",
        "        @param hidden_size (int): hidden state LSTM size (dimensionality)\n",
        "        @param inp_length (int): input length size\n",
        "        '''\n",
        "        self.inp_vocab_size = inp_vocab_size\n",
        "        self.embedding_dim = embedding_dim\n",
        "        self.lstm_size = lstm_size\n",
        "        self.input_length = input_length\n",
        "        \n",
        "        # Initializing Embedding layer (use RandomNormal initialization)\n",
        "        self.embedding = Embedding(input_dim = self.inp_vocab_size, \n",
        "                                   output_dim = self.embedding_dim,\n",
        "                                   embeddings_initializer = tf.keras.initializers.RandomNormal(mean = 0, stddev = 1, seed = seed),\n",
        "                                   input_length = self.input_length, \n",
        "                                   mask_zero = True, \n",
        "                                   name = \"Encoder_Embedding\")\n",
        "        \n",
        "        #Intializing Encoder LSTM layer (2 layers of LSTM)\n",
        "        self.lstm1 = LSTM(self.lstm_size, \n",
        "                          return_state = True, \n",
        "                          return_sequences = True,\n",
        "                          kernel_initializer = tf.keras.initializers.glorot_uniform(seed = seed),\n",
        "                          recurrent_initializer = tf.keras.initializers.orthogonal(seed = seed), \n",
        "                          name = \"Encoder_LSTM1\")\n",
        "        self.lstm2 = LSTM(self.lstm_size, \n",
        "                          return_state = True, \n",
        "                          return_sequences = True,\n",
        "                          kernel_initializer = tf.keras.initializers.glorot_uniform(seed = seed),\n",
        "                          recurrent_initializer = tf.keras.initializers.orthogonal(seed = seed),\n",
        "                          name = \"Encoder_LSTM2\")\n",
        "\n",
        "    def call(self, input):\n",
        "        '''\n",
        "          - Input: sequence, initial states of Encoder\n",
        "          1. Passed to Embedding layer\n",
        "          2. (initial states( Passed to LSTM layer\n",
        "          - Output: last time step's hidden, current state\n",
        "        '''\n",
        "        input_sequence, states = input[0], input[1]\n",
        "        # Passing input sequence to embedding layer\n",
        "        input_embedded = self.embedding(input_sequence)\n",
        "\n",
        "        # Passing embedding layer output to LSTM layer\n",
        "        self.enc_output, self.last_hidden_state, self.last_current_state = self.lstm1(input_embedded, initial_state = states)\n",
        "        self.enc_output, self.last_hidden_state, self.last_current_state = self.lstm2(self.enc_output, [self.last_hidden_state, self.last_current_state])\n",
        "        \n",
        "        return self.enc_output, self.last_hidden_state, self.last_current_state\n",
        "      \n",
        "    def initialize_states(self, batch_size):\n",
        "      '''\n",
        "        - Input: batch size\n",
        "        - Output: initial hidden, current state\n",
        "        \n",
        "        If batch_size = n,\n",
        "        Hidden state size = [n, lstm_units]\n",
        "        Current state size = [n, lstm_units]\n",
        "      '''\n",
        "      # Initialized with tf.zeros\n",
        "      self.first_hidden_state, self.first_current_state = tf.zeros([batch_size, self.lstm_size]), tf.zeros([batch_size, self.lstm_size])\n",
        "      return self.first_hidden_state, self.first_current_state"
      ],
      "execution_count": null,
      "outputs": []
    },
    {
      "cell_type": "markdown",
      "metadata": {
        "id": "Y7GrhhOp6dfR"
      },
      "source": [
        "### **4.2 Attention**"
      ]
    },
    {
      "cell_type": "code",
      "metadata": {
        "id": "FR6-6YesxP7G"
      },
      "source": [
        "class Attention(tf.keras.Model):\n",
        "    '''\n",
        "    Attention model\n",
        "    - Input: 2 (Decoder_hidden_state, Encoder_output)\n",
        "    - Output: 2 (Context vector, Attention weights(softmax-scores))\n",
        "    '''\n",
        "    def __init__(self, lstm_size, scoring_function):\n",
        "        super(Attention, self).__init__()\n",
        "\n",
        "        # Initializing the parameters\n",
        "        '''\n",
        "        @param hidden_size (int): hidden state LSTM size (dimensionality)\n",
        "        @param scoring_function (string): (1)dot (2)general (3)concat\n",
        "        '''\n",
        "        self.lstm_size = lstm_size\n",
        "        self.scoring_function = scoring_function\n",
        "        \n",
        "        # Initializing weights for 'dot' scoring function\n",
        "        if self.scoring_function=='dot': self.V = tf.keras.layers.Dense(1)\n",
        "        \n",
        "        # Initializing weights for 'general' scoring function\n",
        "        if scoring_function == 'general': self.W = tf.keras.layers.Dense(lstm_size)\n",
        "        \n",
        "        # Initializing weights for 'concat' scoring function\n",
        "        if scoring_function == 'concat':\n",
        "            self.W1 = tf.keras.layers.Dense(lstm_size)\n",
        "            self.W2 = tf.keras.layers.Dense(lstm_size)\n",
        "            self.V = tf.keras.layers.Dense(1)\n",
        "        \n",
        "    def call(self, input):\n",
        "        '''\n",
        "        1. Based on the scoring function(dot, general, concat),\n",
        "           we will find the score/similarity between decoder_hidden_state and encoder_output.\n",
        "        2. Multiply score function with encoder_outputs to get context vector.\n",
        "        '''\n",
        "        decoder_hidden_state, encoder_output = input[0], input[1]\n",
        "        if self.scoring_function == 'dot':\n",
        "            query_with_time_axis = tf.expand_dims(decoder_hidden_state, 1)\n",
        "            score = self.V(tf.linalg.matmul(encoder_output, query_with_time_axis, transpose_a=False, transpose_b=True))\n",
        "            \n",
        "        elif self.scoring_function == 'general':\n",
        "            decoder_hidden_state = tf.expand_dims(decoder_hidden_state, axis = 2)\n",
        "            output = self.W(encoder_output)\n",
        "            score = tf.keras.layers.Dot(axes=(2, 1))([output, decoder_hidden_state])\n",
        "        \n",
        "        elif self.scoring_function == 'concat':\n",
        "            decoder_hidden_state = tf.expand_dims(decoder_hidden_state, 1)      \n",
        "            score = self.V(tf.nn.tanh(self.W1(decoder_hidden_state) + self.W2(encoder_output)))\n",
        "        \n",
        "        # Calculating context vector and attention weights\n",
        "        attention_weights = tf.nn.softmax(score, axis=1)\n",
        "        context_vector = tf.reduce_sum(attention_weights * encoder_output, axis=1)\n",
        "        return context_vector, attention_weights"
      ],
      "execution_count": null,
      "outputs": []
    },
    {
      "cell_type": "markdown",
      "metadata": {
        "id": "sxg69NNk6Yfk"
      },
      "source": [
        "### **4.3 Time-Step Decoder**\n",
        ": For each time step, Timestep decoder implement concatenation operation on output of previous timestep of decoder and attention weights computed by attention model. (각 시점마다 Timestep_Decoder은 이전 시점의 출력과 Attention 가중치의 합(concatenation)을 실행시킨다.)"
      ]
    },
    {
      "cell_type": "code",
      "metadata": {
        "id": "9M2Zi3e8xP43"
      },
      "source": [
        "class Timestep_Decoder(tf.keras.Model):\n",
        "    '''\n",
        "    Timestep_Decoder Model\n",
        "    - Input: one input token at each time\n",
        "    - Output: final hidden state of LSTM unit\n",
        "    '''\n",
        "    def __init__(self, out_vocab_size, embedding_dim, input_length, lstm_size, scoring_function, embedding_matrix = None):\n",
        "        super().__init__()\n",
        "        \n",
        "        # Initialize the parameters\n",
        "        '''\n",
        "        @param out_vocab_size (int) : output vocab size\n",
        "        @param embedding_dim(int): dimensionality of embedding\n",
        "        @param input_length(int): input length\n",
        "        @param hidden_size(int): hidden state LSTM dimensionality\n",
        "        @param scoring_function (string): score function (dot, general, concatenate)\n",
        "        @param embedding_matrix (string): embbedding matrix from embedding layer\n",
        "        '''\n",
        "        seed = 42\n",
        "        self.out_vocab_size = out_vocab_size\n",
        "        self.embedding_dim = embedding_dim\n",
        "        self.input_length = input_length\n",
        "        self.lstm_size = lstm_size\n",
        "        self.scoring_function = scoring_function\n",
        "        self.attention = Attention(self.lstm_size, self.scoring_function)\n",
        "        self.embedding_matrix = embedding_matrix\n",
        "        \n",
        "        # Initialize Embedding layer based on the availability of Embedding matrix\n",
        "        if self.embedding_matrix is None:\n",
        "            self.embedding = Embedding(input_dim = self.out_vocab_size, \n",
        "                                       output_dim = self.embedding_dim,\n",
        "                                       embeddings_initializer = tf.keras.initializers.RandomNormal(mean = 0, stddev = 1, seed = seed),\n",
        "                                       input_length = self.input_length, \n",
        "                                       mask_zero = True, \n",
        "                                       name = \"embedding_layer_decoder\")\n",
        "        else:\n",
        "            self.embedding = Embedding(input_dim = self.out_vocab_size, \n",
        "                                       output_dim = self.embedding_dim,\n",
        "                                       embeddings_initializer = tf.keras.initializers.Constant(self.embedding_matrix), trainable = False,\n",
        "                                       input_length = self.input_length, \n",
        "                                       mask_zero = True, \n",
        "                                       name = \"embedding_layer_decoder\")\n",
        "        \n",
        "        # Intialize Decoder LSTM layer (2 LSTM layers)\n",
        "        self.lstm1 = LSTM(self.lstm_size, \n",
        "                          return_state = True, \n",
        "                          return_sequences = True,\n",
        "                          kernel_initializer = tf.keras.initializers.glorot_uniform(seed = seed),\n",
        "                          recurrent_initializer = tf.keras.initializers.orthogonal(seed = seed), \n",
        "                          name = \"Timestep_Decoder_LSTM1\")\n",
        "        self.lstm2 = LSTM(self.lstm_size, \n",
        "                          return_state = True, \n",
        "                          return_sequences = True,\n",
        "                          kernel_initializer = tf.keras.initializers.glorot_uniform(seed = seed),\n",
        "                          recurrent_initializer = tf.keras.initializers.orthogonal(seed = seed), \n",
        "                          name = \"Timestep_Decoder_LSTM2\")\n",
        "        \n",
        "        # Intialize Dense layer(tar_vocab_size) without activation='softmax'\n",
        "        self.dense = Dense(out_vocab_size)\n",
        "\n",
        "\n",
        "    def call(self, input):\n",
        "        # Unpacking the input\n",
        "        input_token, encoder_output, encoder_hidden, encoder_current = input[0], input[1], input[2], input[3]\n",
        "        \n",
        "        # Passing the decoder_input to the embedding layer\n",
        "        embedded_token = self.embedding(input_token)\n",
        "        \n",
        "        # Passing encoder hidden and encoder output to attention model to get context vector\n",
        "        context_vector, attention_weights = self.attention([encoder_hidden, encoder_output])\n",
        "        \n",
        "        # Reshaping context vector for concatenation\n",
        "        query_with_time_axis = tf.expand_dims(context_vector, 1)\n",
        "        \n",
        "        # Concatenating context vector and embedded token\n",
        "        out_concat = tf.concat([query_with_time_axis, embedded_token], axis = -1)\n",
        "        \n",
        "        # Getting final lstm hidden state\n",
        "        dec_output, encoder_hidden, encoder_current = self.lstm1(out_concat, [encoder_hidden, encoder_current])\n",
        "        dec_output, encoder_hidden, encoder_current = self.lstm2(dec_output, [encoder_hidden, encoder_current])\n",
        "        \n",
        "        # Weighing decoder output by output vocabulary size\n",
        "        out = self.dense(tf.reshape(dec_output, (-1, dec_output.shape[2])))\n",
        "        return out, encoder_hidden, encoder_current"
      ],
      "execution_count": null,
      "outputs": []
    },
    {
      "cell_type": "markdown",
      "metadata": {
        "id": "DZkIqirY9sH3"
      },
      "source": [
        "### **4.4 Decoder**\n",
        ": Calls timestep decoder at each timestep and generates the final output tokens.\n",
        "\n"
      ]
    },
    {
      "cell_type": "code",
      "metadata": {
        "id": "q_ses_QgAsDY"
      },
      "source": [
        "class Decoder(tf.keras.Model):\n",
        "    '''\n",
        "    Decoder Model with beam search\n",
        "    - Input: Encoder_states, Decoder_input_sequence\n",
        "    - Output: final output tokens\n",
        "    '''\n",
        "    def __init__(self, out_vocab_size, embedding_dim, input_length, lstm_size, scoring_function, embedding_matrix = None):\n",
        "        super().__init__()\n",
        "\n",
        "        # Intializing the parameters\n",
        "        '''\n",
        "        @param out_vocab_size (int) : output vocab size\n",
        "        @param embedding_dim(int): dimensionality of embedding\n",
        "        @param input_length(int): input length\n",
        "        @param hidden_size(int): hidden state LSTM dimensionality\n",
        "        @param scoring_function (string): score function (dot, general, concatenate)\n",
        "        @param embedding_matrix (string): embbedding matrix from embedding layer\n",
        "        '''\n",
        "        self.out_vocab_size = out_vocab_size\n",
        "        self.embedding_dim = embedding_dim\n",
        "        self.input_length = input_length\n",
        "        self.lstm_size = lstm_size\n",
        "        self.scoring_function = scoring_function\n",
        "        self.embedding_matrix = embedding_matrix\n",
        "        \n",
        "        # Initializing Timestep decoder instance\n",
        "        self.timestepdecoder = Timestep_Decoder(self.out_vocab_size, \n",
        "                                                self.embedding_dim, \n",
        "                                                self.input_length,\n",
        "                                                self.lstm_size, \n",
        "                                                self.scoring_function, \n",
        "                                                self.embedding_matrix)\n",
        "    \n",
        "    @tf.function\n",
        "    def call(self, input):\n",
        "        # Unpacking the input\n",
        "        decoder_input, encoder_output, encoder_hidden, encoder_current = input[0], input[1], input[2], input[3]\n",
        "        \n",
        "        # Initializing an empty Tensor array, that will store the outputs at each and every time step\n",
        "        all_outputs = tf.TensorArray(tf.float32, size = tf.shape(decoder_input)[1], name = \"output_array\")\n",
        "        \n",
        "        # Iterating till the length of the decoder input\n",
        "        loop = tf.shape(decoder_input)[1]\n",
        "        for timestep in range(loop):\n",
        "            output, encoder_hidden, encoder_current = self.timestepdecoder([decoder_input[:, timestep:timestep+1], encoder_output, encoder_hidden, encoder_current])\n",
        "            all_outputs = all_outputs.write(timestep, output)  # store output in tensor_array\n",
        "        \n",
        "        # Reshape\n",
        "        all_outputs = tf.transpose(all_outputs.stack(), [1,0,2])\n",
        "        return all_outputs"
      ],
      "execution_count": null,
      "outputs": []
    },
    {
      "cell_type": "markdown",
      "metadata": {
        "id": "UfDD2lxv9Jbj"
      },
      "source": [
        "### **4.5 Model Altogether**"
      ]
    },
    {
      "cell_type": "code",
      "metadata": {
        "id": "IRl8nG2zxP9H"
      },
      "source": [
        "class Attention_Based_Encoder_Decoder(tf.keras.Model):\n",
        "    '''\n",
        "    Attention_Based_Encoder_Decoder Model\n",
        "    - Initialize both Encoder/Decoder (with TimeStep Decoder) model\n",
        "    - Ouput: Normalized probabilities of tokens in target vocabulary\n",
        "    '''\n",
        "    def __init__(self, input_length, inp_vocab_size, out_vocab_size, lstm_size, scoring_function, batch_size, embedding_dim, embedding_matrix = None):\n",
        "        super().__init__()\n",
        "\n",
        "        # Initializing the parameters\n",
        "        self.input_length = input_length\n",
        "        self.inp_vocab_size = inp_vocab_size + 1\n",
        "        self.out_vocab_size = out_vocab_size + 1\n",
        "        self.lstm_size = lstm_size\n",
        "        self.scoring_function = scoring_function\n",
        "        self.batch_size = batch_size\n",
        "        self.embedding_dim = embedding_dim\n",
        "        self.embedding_matrix = embedding_matrix\n",
        "        \n",
        "        # Encoder Model \n",
        "        self.encoder = Encoder(inp_vocab_size = self.inp_vocab_size, \n",
        "                               embedding_dim = self.embedding_dim, \n",
        "                               lstm_size = self.lstm_size, \n",
        "                               input_length = self.input_length)\n",
        "        \n",
        "        # Decoder Model\n",
        "        self.decoder = Decoder(out_vocab_size = self.out_vocab_size, \n",
        "                               embedding_dim = self.embedding_dim, \n",
        "                               lstm_size = self.lstm_size,\n",
        "                               scoring_function = self.scoring_function, \n",
        "                               input_length = self.input_length, \n",
        "                               embedding_matrix = self.embedding_matrix)\n",
        "    \n",
        "    def call(self, data):\n",
        "        '''\n",
        "        1. Encoder\n",
        "           : fed with Encoder_input from tuple[0] generated at 3. Data Pipeline\n",
        "        2. Decoder\n",
        "           : fed with Decoder_input from tuple[1] generated at 3. Data Pipeline\n",
        "        '''\n",
        "        enc_inp, dec_inp = data[0], data[1]\n",
        "        initial_state = self.encoder.initialize_states(self.batch_size)  # Initialized Encoder state\n",
        "        encoder_output, encoder_hidden, encoder_current = self.encoder([enc_inp, initial_state]) # Encoder\n",
        "        final_output = self.decoder([dec_inp, encoder_output, encoder_hidden, encoder_current])  # Decoder\n",
        "        return final_output"
      ],
      "execution_count": null,
      "outputs": []
    },
    {
      "cell_type": "markdown",
      "metadata": {
        "id": "PBFm3to8CEab"
      },
      "source": [
        "## **5. Model Pipeline**"
      ]
    },
    {
      "cell_type": "markdown",
      "metadata": {
        "id": "t7otlrBoCG7x"
      },
      "source": [
        "### **5.1 Loss function**\n",
        ": loss function that mask padded zeros"
      ]
    },
    {
      "cell_type": "code",
      "metadata": {
        "id": "NcrThEAPxP_I"
      },
      "source": [
        "loss_object = tf.keras.losses.SparseCategoricalCrossentropy(from_logits = True, reduction = 'none')\n",
        "\n",
        "@tf.function\n",
        "def loss_function(real, pred):\n",
        "    # Custom loss function doesn't consider loss of padded zeors\n",
        "    # optimizer = tf.keras.optimizers.Adam()\n",
        "    mask = tf.math.logical_not(tf.math.equal(real, 0))\n",
        "    loss_ = loss_object(real, pred)\n",
        "    mask = tf.cast(mask, dtype=loss_.dtype)\n",
        "    loss_ *= mask\n",
        "    return tf.reduce_mean(loss_)"
      ],
      "execution_count": null,
      "outputs": []
    },
    {
      "cell_type": "markdown",
      "metadata": {
        "id": "25_s1_neJRRL"
      },
      "source": [
        "### **5.2 Tensorboard Callback**"
      ]
    },
    {
      "cell_type": "code",
      "metadata": {
        "id": "J2KxhPovJVg8"
      },
      "source": [
        "def create_tensorboard_cb(model):\n",
        "    '''\n",
        "    Tensorboard Callback\n",
        "    : provide log directory to keep track of loss while training.\n",
        "    '''\n",
        "    import time\n",
        "    root_logdir = os.path.join(os.curdir, model)\n",
        "    run_id = time.strftime(\"run_%Y_%m_%d-%H_%M_%S\")\n",
        "    logdir = os.path.join(root_logdir, run_id)\n",
        "    return tf.keras.callbacks.TensorBoard(logdir, histogram_freq = 1)"
      ],
      "execution_count": null,
      "outputs": []
    },
    {
      "cell_type": "markdown",
      "metadata": {
        "id": "MEhQXy1kJeth"
      },
      "source": [
        "### **5.3 Predict function**\n",
        ": predict informal sentence from formal input sentence"
      ]
    },
    {
      "cell_type": "code",
      "metadata": {
        "id": "A08D-eO9JVjU"
      },
      "source": [
        "def predict_fn(input_sentence, model):\n",
        "    '''\n",
        "    - Input: input sentence(formal), model instance\n",
        "    - Output: output sentence(informal)\n",
        "\n",
        "    Step A. Given input sentence, preprocess the punctuations, convert the sentence into integers using tokenizer used earlier.\n",
        "    Step B. Pass the input_sequence to encoder. we get encoder_outputs, last time step hidden and cell state\n",
        "    Step C. Initialize index of '<' as input to decoder. and encoder final states as input_states to decoder\n",
        "    Step D. Till we reach max_length of decoder or till the model predicted word '>':\n",
        "            pass the inputs to timestep decoder at each timestep, update the hidden states and get the output token\n",
        "    Step E. Return the predicted sentence.\n",
        "    '''\n",
        "    # Tokenizing and Padding the sentence\n",
        "    inputs = [tknizer_formal.word_index.get(i, 0) for i in input_sentence]\n",
        "    inputs = tf.keras.preprocessing.sequence.pad_sequences([inputs], maxlen = MAX_LEN, padding = 'post')\n",
        "    inputs = tf.convert_to_tensor(inputs)\n",
        "\n",
        "    # Initializing result string and hidden states\n",
        "    result = ''\n",
        "    hidden = tf.zeros([1, UNITS]), tf.zeros([1, UNITS])\n",
        "    \n",
        "    # Getting Encoder outputs\n",
        "    enc_out, state_h, state_c = model.encoder([inputs, hidden])\n",
        "    dec_hidden = [state_h, state_c]\n",
        "    dec_input = tf.expand_dims([tknizer_informal.word_index['<']], 0)\n",
        "    \n",
        "    # Running loop until max length or the prediction is '>' token\n",
        "    for t in range(MAX_LEN):\n",
        "        # Getting Decoder outputs fot timestep t\n",
        "        output, state_h, state_c = model.decoder.timestepdecoder([dec_input, enc_out, state_h, state_c])\n",
        "        # Getting token index having highest probability\n",
        "        predicted_id = tf.argmax(output[0]).numpy()\n",
        "        # Getting output token\n",
        "        if tknizer_informal.index_word.get(predicted_id, '') == '>':\n",
        "            break\n",
        "        else:\n",
        "            result += tknizer_informal.index_word.get(predicted_id, '')\n",
        "            dec_input = tf.expand_dims([predicted_id], 0)\n",
        "    return result"
      ],
      "execution_count": null,
      "outputs": []
    },
    {
      "cell_type": "markdown",
      "metadata": {
        "id": "hqX-jWE-J0bj"
      },
      "source": [
        "## **6. Train Model**"
      ]
    },
    {
      "cell_type": "markdown",
      "metadata": {
        "id": "xPtTp9M8J4Bb"
      },
      "source": [
        "### **6.1 Dot scoring function**"
      ]
    },
    {
      "cell_type": "code",
      "metadata": {
        "colab": {
          "base_uri": "https://localhost:8080/"
        },
        "id": "v6j-V2KbmvVg",
        "outputId": "1605eefd-dff3-4b55-ac30-3b957108c89e"
      },
      "source": [
        "# Checking out the GPU we have access to\n",
        "!nvidia-smi"
      ],
      "execution_count": null,
      "outputs": [
        {
          "output_type": "stream",
          "name": "stdout",
          "text": [
            "Mon Nov 22 00:29:06 2021       \n",
            "+-----------------------------------------------------------------------------+\n",
            "| NVIDIA-SMI 495.44       Driver Version: 460.32.03    CUDA Version: 11.2     |\n",
            "|-------------------------------+----------------------+----------------------+\n",
            "| GPU  Name        Persistence-M| Bus-Id        Disp.A | Volatile Uncorr. ECC |\n",
            "| Fan  Temp  Perf  Pwr:Usage/Cap|         Memory-Usage | GPU-Util  Compute M. |\n",
            "|                               |                      |               MIG M. |\n",
            "|===============================+======================+======================|\n",
            "|   0  Tesla P100-PCIE...  Off  | 00000000:00:04.0 Off |                    0 |\n",
            "| N/A   38C    P0    26W / 250W |      0MiB / 16280MiB |      0%      Default |\n",
            "|                               |                      |                  N/A |\n",
            "+-------------------------------+----------------------+----------------------+\n",
            "                                                                               \n",
            "+-----------------------------------------------------------------------------+\n",
            "| Processes:                                                                  |\n",
            "|  GPU   GI   CI        PID   Type   Process name                  GPU Memory |\n",
            "|        ID   ID                                                   Usage      |\n",
            "|=============================================================================|\n",
            "|  No running processes found                                                 |\n",
            "+-----------------------------------------------------------------------------+\n"
          ]
        }
      ]
    },
    {
      "cell_type": "code",
      "metadata": {
        "colab": {
          "base_uri": "https://localhost:8080/"
        },
        "id": "PyqSM_G1oI6G",
        "outputId": "2f7adb74-cd24-4018-8976-8663107786e6"
      },
      "source": [
        "# Check available GPU version\n",
        "%tensorflow_version 2.x\n",
        "import tensorflow as tf\n",
        "import torch\n",
        "\n",
        "device_name = tf.test.gpu_device_name()\n",
        "if device_name != '/device:GPU:0':\n",
        "  raise SystemError('GPU device not found')\n",
        "print('Found GPU at: {}'.format(device_name))"
      ],
      "execution_count": null,
      "outputs": [
        {
          "output_type": "stream",
          "name": "stdout",
          "text": [
            "Found GPU at: /device:GPU:0\n"
          ]
        }
      ]
    },
    {
      "cell_type": "code",
      "metadata": {
        "id": "vkIEnkWQJoc_"
      },
      "source": [
        "tf.random.set_seed(42)\n",
        "# Defining model parameters\n",
        "UNITS = 200\n",
        "# INITIAL_EPOCH = 7\n",
        "EPOCHS = 12\n",
        "TRAIN_STEPS = train.shape[0]//BATCH_SIZE\n",
        "VALID_STEPS = validation.shape[0]//BATCH_SIZE\n",
        "\n",
        "# Creating callbacks to control model training\n",
        "learning_rate_cb = tf.keras.callbacks.ReduceLROnPlateau(monitor='val_loss', \n",
        "                                                        factor=0.5, \n",
        "                                                        verbose=1, \n",
        "                                                        patience=1, \n",
        "                                                        min_lr=0.0001)\n",
        "tensorboard_cb = create_tensorboard_cb(\"Model_Dot_logs\")\n",
        "stopper_cb = tf.keras.callbacks.EarlyStopping(monitor='val_loss',\n",
        "                                              patience=3,\n",
        "                                              verbose=1, \n",
        "                                              restore_best_weights=True)\n",
        "checkpoint_cb = tf.keras.callbacks.ModelCheckpoint(\"Model_Dot\",\n",
        "                                                   save_best_only=True, \n",
        "                                                   save_weights_only=False)"
      ],
      "execution_count": null,
      "outputs": []
    },
    {
      "cell_type": "code",
      "metadata": {
        "colab": {
          "base_uri": "https://localhost:8080/"
        },
        "id": "suY648PiJ2wI",
        "outputId": "a5352b8d-9b58-4a9c-ce5d-25ea19e362db"
      },
      "source": [
        "# Defining model instance with 'dot' scoring function\n",
        "model_dot  = Attention_Based_Encoder_Decoder(input_length = MAX_LEN, \n",
        "                                             inp_vocab_size = vocab_size_formal,\n",
        "                                             out_vocab_size = vocab_size_informal, \n",
        "                                             lstm_size = UNITS,\n",
        "                                             scoring_function = 'dot', \n",
        "                                             batch_size = BATCH_SIZE,\n",
        "                                             embedding_dim = vocab_size_informal, \n",
        "                                             embedding_matrix = None)\n",
        "\n",
        "# Compiling the model using 'adam' optimizer and custom loss function\n",
        "optimizer = tf.keras.optimizers.Adam(0.01)\n",
        "model_dot.compile(optimizer = optimizer, loss = loss_function)\n",
        "\n",
        "# Fitting the model on training data\n",
        "with tf.device('/device:GPU:0'):  # use GPU for training model\n",
        "  model_dot.fit(train_dataloader, \n",
        "                steps_per_epoch = TRAIN_STEPS, \n",
        "                # initial_epoch = INITIAL_EPOCH\n",
        "                epochs = EPOCHS,\n",
        "                callbacks = [learning_rate_cb, tensorboard_cb, stopper_cb, checkpoint_cb],\n",
        "                validation_data = validation_dataloader, \n",
        "                validation_steps = VALID_STEPS)\n",
        "  model_dot.summary()"
      ],
      "execution_count": null,
      "outputs": [
        {
          "output_type": "stream",
          "name": "stdout",
          "text": [
            "Epoch 1/12\n",
            "1629/1629 [==============================] - ETA: 0s - loss: 0.5754"
          ]
        },
        {
          "output_type": "stream",
          "name": "stderr",
          "text": [
            "WARNING:absl:Found untraced functions such as lstm_cell_layer_call_fn, lstm_cell_layer_call_and_return_conditional_losses, lstm_cell_1_layer_call_fn, lstm_cell_1_layer_call_and_return_conditional_losses, lstm_cell_layer_call_fn while saving (showing 5 of 20). These functions will not be directly callable after loading.\n"
          ]
        },
        {
          "output_type": "stream",
          "name": "stdout",
          "text": [
            "INFO:tensorflow:Assets written to: Model_Dot/assets\n"
          ]
        },
        {
          "output_type": "stream",
          "name": "stderr",
          "text": [
            "INFO:tensorflow:Assets written to: Model_Dot/assets\n",
            "WARNING:absl:<keras.layers.recurrent.LSTMCell object at 0x7fb652eab290> has the same name 'LSTMCell' as a built-in Keras object. Consider renaming <class 'keras.layers.recurrent.LSTMCell'> to avoid naming conflicts when loading with `tf.keras.models.load_model`. If renaming is not possible, pass the object in the `custom_objects` parameter of the load function.\n",
            "WARNING:absl:<keras.layers.recurrent.LSTMCell object at 0x7fb652de8050> has the same name 'LSTMCell' as a built-in Keras object. Consider renaming <class 'keras.layers.recurrent.LSTMCell'> to avoid naming conflicts when loading with `tf.keras.models.load_model`. If renaming is not possible, pass the object in the `custom_objects` parameter of the load function.\n",
            "WARNING:absl:<__main__.Attention object at 0x7fb652d852d0> has the same name 'Attention' as a built-in Keras object. Consider renaming <class '__main__.Attention'> to avoid naming conflicts when loading with `tf.keras.models.load_model`. If renaming is not possible, pass the object in the `custom_objects` parameter of the load function.\n",
            "WARNING:absl:<keras.layers.recurrent.LSTMCell object at 0x7fb652d88750> has the same name 'LSTMCell' as a built-in Keras object. Consider renaming <class 'keras.layers.recurrent.LSTMCell'> to avoid naming conflicts when loading with `tf.keras.models.load_model`. If renaming is not possible, pass the object in the `custom_objects` parameter of the load function.\n",
            "WARNING:absl:<keras.layers.recurrent.LSTMCell object at 0x7fb652e9e390> has the same name 'LSTMCell' as a built-in Keras object. Consider renaming <class 'keras.layers.recurrent.LSTMCell'> to avoid naming conflicts when loading with `tf.keras.models.load_model`. If renaming is not possible, pass the object in the `custom_objects` parameter of the load function.\n"
          ]
        },
        {
          "output_type": "stream",
          "name": "stdout",
          "text": [
            "\b\b\b\b\b\b\b\b\b\b\b\b\b\b\b\b\b\b\b\b\b\b\b\b\b\b\b\b\b\b\b\b\b\b\b\b\b\b\b\b\b\b\b\b\b\b\b\b\b\b\b\b\b\b\b\b\b\b\b\b\b\b\b\b\b\b\b\r1629/1629 [==============================] - 2217s 1s/step - loss: 0.5754 - val_loss: 0.4877 - lr: 0.0100\n",
            "Epoch 2/12\n",
            "1629/1629 [==============================] - ETA: 0s - loss: 0.4716"
          ]
        },
        {
          "output_type": "stream",
          "name": "stderr",
          "text": [
            "WARNING:absl:Found untraced functions such as lstm_cell_layer_call_fn, lstm_cell_layer_call_and_return_conditional_losses, lstm_cell_1_layer_call_fn, lstm_cell_1_layer_call_and_return_conditional_losses, lstm_cell_layer_call_fn while saving (showing 5 of 20). These functions will not be directly callable after loading.\n"
          ]
        },
        {
          "output_type": "stream",
          "name": "stdout",
          "text": [
            "INFO:tensorflow:Assets written to: Model_Dot/assets\n"
          ]
        },
        {
          "output_type": "stream",
          "name": "stderr",
          "text": [
            "INFO:tensorflow:Assets written to: Model_Dot/assets\n",
            "WARNING:absl:<keras.layers.recurrent.LSTMCell object at 0x7fb652eab290> has the same name 'LSTMCell' as a built-in Keras object. Consider renaming <class 'keras.layers.recurrent.LSTMCell'> to avoid naming conflicts when loading with `tf.keras.models.load_model`. If renaming is not possible, pass the object in the `custom_objects` parameter of the load function.\n",
            "WARNING:absl:<keras.layers.recurrent.LSTMCell object at 0x7fb652de8050> has the same name 'LSTMCell' as a built-in Keras object. Consider renaming <class 'keras.layers.recurrent.LSTMCell'> to avoid naming conflicts when loading with `tf.keras.models.load_model`. If renaming is not possible, pass the object in the `custom_objects` parameter of the load function.\n",
            "WARNING:absl:<__main__.Attention object at 0x7fb652d852d0> has the same name 'Attention' as a built-in Keras object. Consider renaming <class '__main__.Attention'> to avoid naming conflicts when loading with `tf.keras.models.load_model`. If renaming is not possible, pass the object in the `custom_objects` parameter of the load function.\n",
            "WARNING:absl:<keras.layers.recurrent.LSTMCell object at 0x7fb652d88750> has the same name 'LSTMCell' as a built-in Keras object. Consider renaming <class 'keras.layers.recurrent.LSTMCell'> to avoid naming conflicts when loading with `tf.keras.models.load_model`. If renaming is not possible, pass the object in the `custom_objects` parameter of the load function.\n",
            "WARNING:absl:<keras.layers.recurrent.LSTMCell object at 0x7fb652e9e390> has the same name 'LSTMCell' as a built-in Keras object. Consider renaming <class 'keras.layers.recurrent.LSTMCell'> to avoid naming conflicts when loading with `tf.keras.models.load_model`. If renaming is not possible, pass the object in the `custom_objects` parameter of the load function.\n"
          ]
        },
        {
          "output_type": "stream",
          "name": "stdout",
          "text": [
            "\b\b\b\b\b\b\b\b\b\b\b\b\b\b\b\b\b\b\b\b\b\b\b\b\b\b\b\b\b\b\b\b\b\b\b\b\b\b\b\b\b\b\b\b\b\b\b\b\b\b\b\b\b\b\b\b\b\b\b\b\b\b\b\b\b\b\b\r1629/1629 [==============================] - 2225s 1s/step - loss: 0.4716 - val_loss: 0.4051 - lr: 0.0100\n",
            "Epoch 3/12\n",
            "1629/1629 [==============================] - ETA: 0s - loss: 0.4146"
          ]
        },
        {
          "output_type": "stream",
          "name": "stderr",
          "text": [
            "WARNING:absl:Found untraced functions such as lstm_cell_layer_call_fn, lstm_cell_layer_call_and_return_conditional_losses, lstm_cell_1_layer_call_fn, lstm_cell_1_layer_call_and_return_conditional_losses, lstm_cell_layer_call_fn while saving (showing 5 of 20). These functions will not be directly callable after loading.\n"
          ]
        },
        {
          "output_type": "stream",
          "name": "stdout",
          "text": [
            "INFO:tensorflow:Assets written to: Model_Dot/assets\n"
          ]
        },
        {
          "output_type": "stream",
          "name": "stderr",
          "text": [
            "INFO:tensorflow:Assets written to: Model_Dot/assets\n",
            "WARNING:absl:<keras.layers.recurrent.LSTMCell object at 0x7fb652eab290> has the same name 'LSTMCell' as a built-in Keras object. Consider renaming <class 'keras.layers.recurrent.LSTMCell'> to avoid naming conflicts when loading with `tf.keras.models.load_model`. If renaming is not possible, pass the object in the `custom_objects` parameter of the load function.\n",
            "WARNING:absl:<keras.layers.recurrent.LSTMCell object at 0x7fb652de8050> has the same name 'LSTMCell' as a built-in Keras object. Consider renaming <class 'keras.layers.recurrent.LSTMCell'> to avoid naming conflicts when loading with `tf.keras.models.load_model`. If renaming is not possible, pass the object in the `custom_objects` parameter of the load function.\n",
            "WARNING:absl:<__main__.Attention object at 0x7fb652d852d0> has the same name 'Attention' as a built-in Keras object. Consider renaming <class '__main__.Attention'> to avoid naming conflicts when loading with `tf.keras.models.load_model`. If renaming is not possible, pass the object in the `custom_objects` parameter of the load function.\n",
            "WARNING:absl:<keras.layers.recurrent.LSTMCell object at 0x7fb652d88750> has the same name 'LSTMCell' as a built-in Keras object. Consider renaming <class 'keras.layers.recurrent.LSTMCell'> to avoid naming conflicts when loading with `tf.keras.models.load_model`. If renaming is not possible, pass the object in the `custom_objects` parameter of the load function.\n",
            "WARNING:absl:<keras.layers.recurrent.LSTMCell object at 0x7fb652e9e390> has the same name 'LSTMCell' as a built-in Keras object. Consider renaming <class 'keras.layers.recurrent.LSTMCell'> to avoid naming conflicts when loading with `tf.keras.models.load_model`. If renaming is not possible, pass the object in the `custom_objects` parameter of the load function.\n"
          ]
        },
        {
          "output_type": "stream",
          "name": "stdout",
          "text": [
            "\b\b\b\b\b\b\b\b\b\b\b\b\b\b\b\b\b\b\b\b\b\b\b\b\b\b\b\b\b\b\b\b\b\b\b\b\b\b\b\b\b\b\b\b\b\b\b\b\b\b\b\b\b\b\b\b\b\b\b\b\b\b\b\b\b\b\b\r1629/1629 [==============================] - 2234s 1s/step - loss: 0.4146 - val_loss: 0.3861 - lr: 0.0100\n",
            "Epoch 4/12\n",
            "1629/1629 [==============================] - ETA: 0s - loss: 0.4087"
          ]
        },
        {
          "output_type": "stream",
          "name": "stderr",
          "text": [
            "WARNING:absl:Found untraced functions such as lstm_cell_layer_call_fn, lstm_cell_layer_call_and_return_conditional_losses, lstm_cell_1_layer_call_fn, lstm_cell_1_layer_call_and_return_conditional_losses, lstm_cell_layer_call_fn while saving (showing 5 of 20). These functions will not be directly callable after loading.\n"
          ]
        },
        {
          "output_type": "stream",
          "name": "stdout",
          "text": [
            "INFO:tensorflow:Assets written to: Model_Dot/assets\n"
          ]
        },
        {
          "output_type": "stream",
          "name": "stderr",
          "text": [
            "INFO:tensorflow:Assets written to: Model_Dot/assets\n",
            "WARNING:absl:<keras.layers.recurrent.LSTMCell object at 0x7fb652eab290> has the same name 'LSTMCell' as a built-in Keras object. Consider renaming <class 'keras.layers.recurrent.LSTMCell'> to avoid naming conflicts when loading with `tf.keras.models.load_model`. If renaming is not possible, pass the object in the `custom_objects` parameter of the load function.\n",
            "WARNING:absl:<keras.layers.recurrent.LSTMCell object at 0x7fb652de8050> has the same name 'LSTMCell' as a built-in Keras object. Consider renaming <class 'keras.layers.recurrent.LSTMCell'> to avoid naming conflicts when loading with `tf.keras.models.load_model`. If renaming is not possible, pass the object in the `custom_objects` parameter of the load function.\n",
            "WARNING:absl:<__main__.Attention object at 0x7fb652d852d0> has the same name 'Attention' as a built-in Keras object. Consider renaming <class '__main__.Attention'> to avoid naming conflicts when loading with `tf.keras.models.load_model`. If renaming is not possible, pass the object in the `custom_objects` parameter of the load function.\n",
            "WARNING:absl:<keras.layers.recurrent.LSTMCell object at 0x7fb652d88750> has the same name 'LSTMCell' as a built-in Keras object. Consider renaming <class 'keras.layers.recurrent.LSTMCell'> to avoid naming conflicts when loading with `tf.keras.models.load_model`. If renaming is not possible, pass the object in the `custom_objects` parameter of the load function.\n",
            "WARNING:absl:<keras.layers.recurrent.LSTMCell object at 0x7fb652e9e390> has the same name 'LSTMCell' as a built-in Keras object. Consider renaming <class 'keras.layers.recurrent.LSTMCell'> to avoid naming conflicts when loading with `tf.keras.models.load_model`. If renaming is not possible, pass the object in the `custom_objects` parameter of the load function.\n"
          ]
        },
        {
          "output_type": "stream",
          "name": "stdout",
          "text": [
            "\b\b\b\b\b\b\b\b\b\b\b\b\b\b\b\b\b\b\b\b\b\b\b\b\b\b\b\b\b\b\b\b\b\b\b\b\b\b\b\b\b\b\b\b\b\b\b\b\b\b\b\b\b\b\b\b\b\b\b\b\b\b\b\b\b\b\b\r1629/1629 [==============================] - 2222s 1s/step - loss: 0.4087 - val_loss: 0.3854 - lr: 0.0100\n",
            "Epoch 5/12\n",
            "1629/1629 [==============================] - ETA: 0s - loss: 0.5174\n",
            "Epoch 00005: ReduceLROnPlateau reducing learning rate to 0.004999999888241291.\n",
            "1629/1629 [==============================] - 2173s 1s/step - loss: 0.5174 - val_loss: 0.4828 - lr: 0.0100\n",
            "Epoch 6/12\n",
            "1629/1629 [==============================] - ETA: 0s - loss: 0.4623\n",
            "Epoch 00006: ReduceLROnPlateau reducing learning rate to 0.0024999999441206455.\n",
            "1629/1629 [==============================] - 2183s 1s/step - loss: 0.4623 - val_loss: 0.4193 - lr: 0.0050\n",
            "Epoch 7/12\n",
            "1629/1629 [==============================] - ETA: 0s - loss: 0.4189\n",
            "Epoch 00007: ReduceLROnPlateau reducing learning rate to 0.0012499999720603228.\n",
            "Restoring model weights from the end of the best epoch: 4.\n",
            "1629/1629 [==============================] - 2186s 1s/step - loss: 0.4189 - val_loss: 0.3976 - lr: 0.0025\n",
            "Epoch 00007: early stopping\n",
            "Model: \"attention__based__encoder__decoder\"\n",
            "_________________________________________________________________\n",
            " Layer (type)                Output Shape              Param #   \n",
            "=================================================================\n",
            " encoder (Encoder)           multiple                  632296    \n",
            "                                                                 \n",
            " decoder (Decoder)           multiple                  829046    \n",
            "                                                                 \n",
            "=================================================================\n",
            "Total params: 1,461,342\n",
            "Trainable params: 1,461,342\n",
            "Non-trainable params: 0\n",
            "_________________________________________________________________\n"
          ]
        }
      ]
    },
    {
      "cell_type": "code",
      "metadata": {
        "colab": {
          "base_uri": "https://localhost:8080/"
        },
        "id": "qSaDfnIOLuEc",
        "outputId": "cd0b4d2a-efc1-4223-f849-d618a1fbe4ac"
      },
      "source": [
        "# Save model \n",
        "model_dot.save('/content/drive/MyDrive/KU/2021-2학기/자연어처리/models/model_dot_chinese', save_format='tf')"
      ],
      "execution_count": null,
      "outputs": [
        {
          "output_type": "stream",
          "name": "stderr",
          "text": [
            "WARNING:absl:Found untraced functions such as lstm_cell_layer_call_fn, lstm_cell_layer_call_and_return_conditional_losses, lstm_cell_1_layer_call_fn, lstm_cell_1_layer_call_and_return_conditional_losses, lstm_cell_layer_call_fn while saving (showing 5 of 20). These functions will not be directly callable after loading.\n"
          ]
        },
        {
          "output_type": "stream",
          "name": "stdout",
          "text": [
            "INFO:tensorflow:Assets written to: /content/drive/MyDrive/KU/2021-2학기/자연어처리/models/model_dot_chinese/assets\n"
          ]
        },
        {
          "output_type": "stream",
          "name": "stderr",
          "text": [
            "INFO:tensorflow:Assets written to: /content/drive/MyDrive/KU/2021-2학기/자연어처리/models/model_dot_chinese/assets\n",
            "WARNING:absl:<keras.layers.recurrent.LSTMCell object at 0x7fb652eab290> has the same name 'LSTMCell' as a built-in Keras object. Consider renaming <class 'keras.layers.recurrent.LSTMCell'> to avoid naming conflicts when loading with `tf.keras.models.load_model`. If renaming is not possible, pass the object in the `custom_objects` parameter of the load function.\n",
            "WARNING:absl:<keras.layers.recurrent.LSTMCell object at 0x7fb652de8050> has the same name 'LSTMCell' as a built-in Keras object. Consider renaming <class 'keras.layers.recurrent.LSTMCell'> to avoid naming conflicts when loading with `tf.keras.models.load_model`. If renaming is not possible, pass the object in the `custom_objects` parameter of the load function.\n",
            "WARNING:absl:<__main__.Attention object at 0x7fb652d852d0> has the same name 'Attention' as a built-in Keras object. Consider renaming <class '__main__.Attention'> to avoid naming conflicts when loading with `tf.keras.models.load_model`. If renaming is not possible, pass the object in the `custom_objects` parameter of the load function.\n",
            "WARNING:absl:<keras.layers.recurrent.LSTMCell object at 0x7fb652d88750> has the same name 'LSTMCell' as a built-in Keras object. Consider renaming <class 'keras.layers.recurrent.LSTMCell'> to avoid naming conflicts when loading with `tf.keras.models.load_model`. If renaming is not possible, pass the object in the `custom_objects` parameter of the load function.\n",
            "WARNING:absl:<keras.layers.recurrent.LSTMCell object at 0x7fb652e9e390> has the same name 'LSTMCell' as a built-in Keras object. Consider renaming <class 'keras.layers.recurrent.LSTMCell'> to avoid naming conflicts when loading with `tf.keras.models.load_model`. If renaming is not possible, pass the object in the `custom_objects` parameter of the load function.\n"
          ]
        }
      ]
    },
    {
      "cell_type": "code",
      "metadata": {
        "id": "JYVaGwRcAwPc"
      },
      "source": [
        "# Open saved model\n",
        "import tensorflow as tf\n",
        "model_path = '/content/drive/MyDrive/KU/2021-2학기/자연어처리/models/model_dot_chinese'\n",
        "model_dot = tf.saved_model.load(model_path)"
      ],
      "execution_count": null,
      "outputs": []
    },
    {
      "cell_type": "markdown",
      "metadata": {
        "id": "3FXJRZcgJ9z5"
      },
      "source": [
        "### **6.2. BLEU Score**"
      ]
    },
    {
      "cell_type": "code",
      "metadata": {
        "colab": {
          "base_uri": "https://localhost:8080/"
        },
        "id": "POX5NGECJ2yH",
        "outputId": "786ce494-1200-4689-de19-fbe579cf19a0"
      },
      "source": [
        "# Removing '<' and '>' tokens and postprocessing punctuations to make plain texts\n",
        "def rem(s):\n",
        "    if s.startswith('<'):\n",
        "        s = s[1:]\n",
        "    if s.endswith('>'):\n",
        "        s = s[:-1]\n",
        "    return s\n",
        "test['formal_pred'] = test['encoder_inp'].apply(rem)\n",
        "test['informal_pred'] = test['decoder_inp'].apply(rem)\n",
        "\n",
        "def predictor(s):\n",
        "    # Modifing predictor using dot scoring function\n",
        "    result = predict_fn(s, model_dot)\n",
        "    return result\n",
        "test['prediction'] = test['formal_pred'].apply(predictor)\n",
        "\n",
        "# Process inputs for BLEU score\n",
        "def convert_formals(s):\n",
        "    return [s.split()]\n",
        "def convert_predictions(s):\n",
        "    return s.split()\n",
        "\n",
        "test['informal_pred'] = test['informal_pred'].apply(convert_formals)\n",
        "test['prediction'] = test['prediction'].apply(convert_predictions)\n",
        "bleu_scores_dot = [sentence_bleu(test['informal_pred'].iloc[i], test['prediction'].iloc[i]) for i in range(len(test))]\n",
        "print(f\"Mean BLEU score of prediction(Dot): {np.mean(bleu_scores_dot)}\")"
      ],
      "execution_count": null,
      "outputs": [
        {
          "output_type": "stream",
          "name": "stdout",
          "text": [
            "Mean BLEU score of prediction(Dot): 0.3155640646141883\n"
          ]
        }
      ]
    },
    {
      "cell_type": "code",
      "metadata": {
        "colab": {
          "base_uri": "https://localhost:8080/"
        },
        "id": "q2VJeHwOJ20E",
        "outputId": "abcb6703-e65c-40c2-a8b2-53e023a1ffdf"
      },
      "source": [
        "# Predict with model trained with dot scoring function\n",
        "print(\"Formal Sentence: The study examined the health effects of passive smoking.\")\n",
        "print(f\"Informal Prediction: {predict_fn('The study examined the health effects of passive smoking.', model_dot)}\")"
      ],
      "execution_count": null,
      "outputs": [
        {
          "output_type": "stream",
          "name": "stdout",
          "text": [
            "Formal Sentence: The study examined the health effects of passive smoking.\n",
            "Informal Prediction: i think the study effects of passive smoking.\n"
          ]
        }
      ]
    },
    {
      "cell_type": "code",
      "metadata": {
        "colab": {
          "base_uri": "https://localhost:8080/"
        },
        "id": "secJH0a3whQf",
        "outputId": "4ac180dd-b602-4d5c-b3dc-09bcaeb3da10"
      },
      "source": [
        "# Sorting the indices by blue scores\n",
        "scores = np.array(bleu_scores_dot)\n",
        "indices = np.argsort(scores)\n",
        "\n",
        "# Getting worst score indices\n",
        "worst = indices[:5]\n",
        "\n",
        "# Getting best score indices\n",
        "best = indices[-5:][::-1]\n",
        "\n",
        "print('Best Predictions:')\n",
        "print(\"-\"*50)\n",
        "for i in best:\n",
        "    print(f\"Formal Input : {test['formal_pred'].iloc[i]}\")\n",
        "    print(f\"Expected Output : {' '.join(test['informal_pred'].iloc[i][0])}\")\n",
        "    print(f\"Predicted Output : {' '.join(test['prediction'].iloc[i])}\")\n",
        "    print(f\"Bleu Score of Prediction : {scores[i]}\")\n",
        "    print(\"\\n\")\n",
        "print('='*100)\n",
        "\n",
        "print('Worst Predictions:')\n",
        "print(\"-\"*50)\n",
        "for i in worst:\n",
        "    print(f\"Formal Input : {test['formal_pred'].iloc[i]}\")\n",
        "    print(f\"Expected Output : {' '.join(test['informal_pred'].iloc[i][0])}\")\n",
        "    print(f\"Predicted Output : {' '.join(test['prediction'].iloc[i])}\")\n",
        "    print(f\"Bleu Score of Prediction : {scores[i]}\")\n",
        "    print(\"\\n\")"
      ],
      "execution_count": null,
      "outputs": [
        {
          "output_type": "stream",
          "name": "stdout",
          "text": [
            "Best Predictions:\n",
            "--------------------------------------------------\n",
            "Formal Input : I traveled there and he was present.\n",
            "Expected Output : i went and there he was.\n",
            "Predicted Output : i traveled there and he was present.\n",
            "Bleu Score of Prediction : 0.8694417438899827\n",
            "\n",
            "\n",
            "Formal Input : Don't use that to guide your life.\n",
            "Expected Output : don't use it to live by.\n",
            "Predicted Output : it use to guide your life.\n",
            "Bleu Score of Prediction : 0.8408964152537145\n",
            "\n",
            "\n",
            "Formal Input : If you want children, then be a homemaker.\n",
            "Expected Output : If you want kids, then homemaker.\n",
            "Predicted Output : I want children, then be a homemaker.\n",
            "Bleu Score of Prediction : 0.8091067115702212\n",
            "\n",
            "\n",
            "Formal Input : The man I am attracted to is angry with me.\n",
            "Expected Output : the guy i like is mad at me.\n",
            "Predicted Output : the man i am attracted to is any much me.\n",
            "Bleu Score of Prediction : 0.7952707287670506\n",
            "\n",
            "\n",
            "Formal Input : Do not worry about what others say.\n",
            "Expected Output : Don't worry what people will say.\n",
            "Predicted Output : i think it worry about what others say.\n",
            "Bleu Score of Prediction : 0.7825422900366437\n",
            "\n",
            "\n",
            "====================================================================================================\n",
            "Worst Predictions:\n",
            "--------------------------------------------------\n",
            "Formal Input : Perhaps you should attempt to pursue young women, given the tendency by men to be offensive.\n",
            "Expected Output : Maybe you should try dating girls if guys offend you so.\n",
            "Predicted Output : it want to pursuit to pursuit to pursure young women to pursure to be offen to be offen to be offen to be offen to be offen to be offen to be offen to\n",
            "Bleu Score of Prediction : 0.0\n",
            "\n",
            "\n",
            "Formal Input : It is because it is buy one, take one.\n",
            "Expected Output : cause it's buy one take one.\n",
            "Predicted Output : its because is because it is belle is belle is belle is belle is belle is belle is belle is belle is belle is belle is belle is belle is belle is bell\n",
            "Bleu Score of Prediction : 0.0\n",
            "\n",
            "\n",
            "Formal Input : I must more closely examine pictures from Disney.\n",
            "Expected Output : my gosh...i'm gonna take a closer look to my disney's pictures...\n",
            "Predicted Output : i must muchure pictures from disney\n",
            "Bleu Score of Prediction : 0.0\n",
            "\n",
            "\n",
            "Formal Input : That depends, are you an attractive individual with an athletic form?\n",
            "Expected Output : THAT DEPENDS...ARE YOU A HOTTIE W/A BODY?\n",
            "Predicted Output : I don't do that depends and attractic form and attractic form and attractic form and attractic form and attractic form and attractic form and attracti\n",
            "Bleu Score of Prediction : 0.0\n",
            "\n",
            "\n",
            "Formal Input : My cat may eat my bird if it flaps its wings.\n",
            "Expected Output : if my pet bird gets too flappy, my pet kitty cat might eaty\n",
            "Predicted Output : its wings it flaps its wings.\n",
            "Bleu Score of Prediction : 0.0\n",
            "\n",
            "\n"
          ]
        }
      ]
    },
    {
      "cell_type": "code",
      "metadata": {
        "colab": {
          "base_uri": "https://localhost:8080/",
          "height": 327
        },
        "id": "UJzvB-eSwltS",
        "outputId": "711dd71a-b3d9-4a78-a1bd-469caa29cd09"
      },
      "source": [
        "title_font = {'family': 'Dejavu Sans', 'color': 'black', 'weight': 'bold', 'size': 15}\n",
        "label_font = {'family': 'Dejavu Sans', 'weight': 'normal', 'size': 11}\n",
        "fig, ax = plt.subplots(1, 1)\n",
        "\n",
        "# plotting the distributions\n",
        "plot = sns.distplot(bleu_scores_dot, \n",
        "             hist = False, \n",
        "             kde = True, \n",
        "             kde_kws = {'shade': True, 'linewidth': 2}, \n",
        "             color = \"green\")\n",
        "\n",
        "# adding titles to the subplots\n",
        "plot.set_xlim(-0.3, 1)\n",
        "plot.set_title(\"Distribution of BLEU Scores (Dot)\", fontdict = title_font, pad = 20.0)\n",
        "plot.set_xlabel(\"BLEU Score\")\n",
        "plot.set_ylabel(\"Count\")"
      ],
      "execution_count": null,
      "outputs": [
        {
          "output_type": "execute_result",
          "data": {
            "text/plain": [
              "Text(0, 0.5, 'Count')"
            ]
          },
          "metadata": {},
          "execution_count": 30
        },
        {
          "output_type": "display_data",
          "data": {
            "image/png": "[encoded data removed]",
            "text/plain": [
              "<Figure size 432x288 with 1 Axes>"
            ]
          },
          "metadata": {
            "needs_background": "light"
          }
        }
      ]
    },
    {
      "cell_type": "markdown",
      "metadata": {
        "id": "BGuUmA-cKKtl"
      },
      "source": [
        "### **6.3 General scoring function**"
      ]
    },
    {
      "cell_type": "code",
      "metadata": {
        "colab": {
          "base_uri": "https://localhost:8080/"
        },
        "id": "UkcXSYr1KIG8",
        "outputId": "fb06b24b-5ba1-4de5-8fde-7eda2f795959"
      },
      "source": [
        "tf.random.set_seed(42)\n",
        "# Defining model instance with 'general' scoring function\n",
        "model_general  = Attention_Based_Encoder_Decoder(input_length = MAX_LEN, \n",
        "                                                 inp_vocab_size = vocab_size_formal,\n",
        "                                                 out_vocab_size = vocab_size_informal, \n",
        "                                                 lstm_size = UNITS,\n",
        "                                                 scoring_function = 'general', \n",
        "                                                 batch_size = BATCH_SIZE,\n",
        "                                                 embedding_dim = vocab_size_informal, \n",
        "                                                 embedding_matrix = None)\n",
        "\n",
        "# Compiling the model using 'adam' optimizer and custom loss function\n",
        "optimizer = tf.keras.optimizers.Adam(0.01)\n",
        "model_general.compile(optimizer = optimizer, loss = loss_function)\n",
        "\n",
        "# Creating callbacks to control model training\n",
        "tensorboard_cb = create_tensorboard_cb(\"Model_General_logs\")\n",
        "checkpoint_cb = tf.keras.callbacks.ModelCheckpoint(\"Model_General\",\n",
        "                                                    save_best_only = True, \n",
        "                                                   save_weights_only = False)\n",
        "\n",
        "# Fitting the model on training data\n",
        "with tf.device('/device:GPU:0'): \n",
        "  model_general.fit(train_dataloader, steps_per_epoch = TRAIN_STEPS, epochs = EPOCHS,\n",
        "                callbacks = [learning_rate_cb, tensorboard_cb, stopper_cb, checkpoint_cb],\n",
        "                validation_data = validation_dataloader, validation_steps = VALID_STEPS)\n",
        "  model_general.summary()"
      ],
      "execution_count": null,
      "outputs": [
        {
          "output_type": "stream",
          "name": "stdout",
          "text": [
            "Epoch 1/12\n",
            "1629/1629 [==============================] - ETA: 0s - loss: 0.5761"
          ]
        },
        {
          "output_type": "stream",
          "name": "stderr",
          "text": [
            "WARNING:absl:Found untraced functions such as lstm_cell_4_layer_call_fn, lstm_cell_4_layer_call_and_return_conditional_losses, lstm_cell_5_layer_call_fn, lstm_cell_5_layer_call_and_return_conditional_losses, lstm_cell_4_layer_call_fn while saving (showing 5 of 20). These functions will not be directly callable after loading.\n"
          ]
        },
        {
          "output_type": "stream",
          "name": "stdout",
          "text": [
            "INFO:tensorflow:Assets written to: Model_General/assets\n"
          ]
        },
        {
          "output_type": "stream",
          "name": "stderr",
          "text": [
            "INFO:tensorflow:Assets written to: Model_General/assets\n",
            "WARNING:absl:<keras.layers.recurrent.LSTMCell object at 0x7fb44e3d3fd0> has the same name 'LSTMCell' as a built-in Keras object. Consider renaming <class 'keras.layers.recurrent.LSTMCell'> to avoid naming conflicts when loading with `tf.keras.models.load_model`. If renaming is not possible, pass the object in the `custom_objects` parameter of the load function.\n",
            "WARNING:absl:<keras.layers.recurrent.LSTMCell object at 0x7fb44e3c1d50> has the same name 'LSTMCell' as a built-in Keras object. Consider renaming <class 'keras.layers.recurrent.LSTMCell'> to avoid naming conflicts when loading with `tf.keras.models.load_model`. If renaming is not possible, pass the object in the `custom_objects` parameter of the load function.\n",
            "WARNING:absl:<__main__.Attention object at 0x7fb44e3dbfd0> has the same name 'Attention' as a built-in Keras object. Consider renaming <class '__main__.Attention'> to avoid naming conflicts when loading with `tf.keras.models.load_model`. If renaming is not possible, pass the object in the `custom_objects` parameter of the load function.\n",
            "WARNING:absl:<keras.layers.recurrent.LSTMCell object at 0x7fb44df31210> has the same name 'LSTMCell' as a built-in Keras object. Consider renaming <class 'keras.layers.recurrent.LSTMCell'> to avoid naming conflicts when loading with `tf.keras.models.load_model`. If renaming is not possible, pass the object in the `custom_objects` parameter of the load function.\n",
            "WARNING:absl:<keras.layers.recurrent.LSTMCell object at 0x7fb44df31cd0> has the same name 'LSTMCell' as a built-in Keras object. Consider renaming <class 'keras.layers.recurrent.LSTMCell'> to avoid naming conflicts when loading with `tf.keras.models.load_model`. If renaming is not possible, pass the object in the `custom_objects` parameter of the load function.\n"
          ]
        },
        {
          "output_type": "stream",
          "name": "stdout",
          "text": [
            "\b\b\b\b\b\b\b\b\b\b\b\b\b\b\b\b\b\b\b\b\b\b\b\b\b\b\b\b\b\b\b\b\b\b\b\b\b\b\b\b\b\b\b\b\b\b\b\b\b\b\b\b\b\b\b\b\b\b\b\b\b\b\b\b\b\b\b\r1629/1629 [==============================] - 2244s 1s/step - loss: 0.5761 - val_loss: 0.4939 - lr: 0.0100\n",
            "Epoch 2/12\n",
            "1629/1629 [==============================] - ETA: 0s - loss: 0.5191"
          ]
        },
        {
          "output_type": "stream",
          "name": "stderr",
          "text": [
            "WARNING:absl:Found untraced functions such as lstm_cell_4_layer_call_fn, lstm_cell_4_layer_call_and_return_conditional_losses, lstm_cell_5_layer_call_fn, lstm_cell_5_layer_call_and_return_conditional_losses, lstm_cell_4_layer_call_fn while saving (showing 5 of 20). These functions will not be directly callable after loading.\n"
          ]
        },
        {
          "output_type": "stream",
          "name": "stdout",
          "text": [
            "INFO:tensorflow:Assets written to: Model_General/assets\n"
          ]
        },
        {
          "output_type": "stream",
          "name": "stderr",
          "text": [
            "INFO:tensorflow:Assets written to: Model_General/assets\n",
            "WARNING:absl:<keras.layers.recurrent.LSTMCell object at 0x7fb44e3d3fd0> has the same name 'LSTMCell' as a built-in Keras object. Consider renaming <class 'keras.layers.recurrent.LSTMCell'> to avoid naming conflicts when loading with `tf.keras.models.load_model`. If renaming is not possible, pass the object in the `custom_objects` parameter of the load function.\n",
            "WARNING:absl:<keras.layers.recurrent.LSTMCell object at 0x7fb44e3c1d50> has the same name 'LSTMCell' as a built-in Keras object. Consider renaming <class 'keras.layers.recurrent.LSTMCell'> to avoid naming conflicts when loading with `tf.keras.models.load_model`. If renaming is not possible, pass the object in the `custom_objects` parameter of the load function.\n",
            "WARNING:absl:<__main__.Attention object at 0x7fb44e3dbfd0> has the same name 'Attention' as a built-in Keras object. Consider renaming <class '__main__.Attention'> to avoid naming conflicts when loading with `tf.keras.models.load_model`. If renaming is not possible, pass the object in the `custom_objects` parameter of the load function.\n",
            "WARNING:absl:<keras.layers.recurrent.LSTMCell object at 0x7fb44df31210> has the same name 'LSTMCell' as a built-in Keras object. Consider renaming <class 'keras.layers.recurrent.LSTMCell'> to avoid naming conflicts when loading with `tf.keras.models.load_model`. If renaming is not possible, pass the object in the `custom_objects` parameter of the load function.\n",
            "WARNING:absl:<keras.layers.recurrent.LSTMCell object at 0x7fb44df31cd0> has the same name 'LSTMCell' as a built-in Keras object. Consider renaming <class 'keras.layers.recurrent.LSTMCell'> to avoid naming conflicts when loading with `tf.keras.models.load_model`. If renaming is not possible, pass the object in the `custom_objects` parameter of the load function.\n"
          ]
        },
        {
          "output_type": "stream",
          "name": "stdout",
          "text": [
            "\b\b\b\b\b\b\b\b\b\b\b\b\b\b\b\b\b\b\b\b\b\b\b\b\b\b\b\b\b\b\b\b\b\b\b\b\b\b\b\b\b\b\b\b\b\b\b\b\b\b\b\b\b\b\b\b\b\b\b\b\b\b\b\b\b\b\b\r1629/1629 [==============================] - 2256s 1s/step - loss: 0.5191 - val_loss: 0.4866 - lr: 0.0100\n",
            "Epoch 3/12\n",
            "1629/1629 [==============================] - ETA: 0s - loss: 0.5258\n",
            "Epoch 00003: ReduceLROnPlateau reducing learning rate to 0.004999999888241291.\n",
            "1629/1629 [==============================] - 2199s 1s/step - loss: 0.5258 - val_loss: 0.5068 - lr: 0.0100\n",
            "Epoch 4/12\n",
            "1629/1629 [==============================] - ETA: 0s - loss: 0.5083"
          ]
        },
        {
          "output_type": "stream",
          "name": "stderr",
          "text": [
            "WARNING:absl:Found untraced functions such as lstm_cell_4_layer_call_fn, lstm_cell_4_layer_call_and_return_conditional_losses, lstm_cell_5_layer_call_fn, lstm_cell_5_layer_call_and_return_conditional_losses, lstm_cell_4_layer_call_fn while saving (showing 5 of 20). These functions will not be directly callable after loading.\n"
          ]
        },
        {
          "output_type": "stream",
          "name": "stdout",
          "text": [
            "INFO:tensorflow:Assets written to: Model_General/assets\n"
          ]
        },
        {
          "output_type": "stream",
          "name": "stderr",
          "text": [
            "INFO:tensorflow:Assets written to: Model_General/assets\n",
            "WARNING:absl:<keras.layers.recurrent.LSTMCell object at 0x7fb44e3d3fd0> has the same name 'LSTMCell' as a built-in Keras object. Consider renaming <class 'keras.layers.recurrent.LSTMCell'> to avoid naming conflicts when loading with `tf.keras.models.load_model`. If renaming is not possible, pass the object in the `custom_objects` parameter of the load function.\n",
            "WARNING:absl:<keras.layers.recurrent.LSTMCell object at 0x7fb44e3c1d50> has the same name 'LSTMCell' as a built-in Keras object. Consider renaming <class 'keras.layers.recurrent.LSTMCell'> to avoid naming conflicts when loading with `tf.keras.models.load_model`. If renaming is not possible, pass the object in the `custom_objects` parameter of the load function.\n",
            "WARNING:absl:<__main__.Attention object at 0x7fb44e3dbfd0> has the same name 'Attention' as a built-in Keras object. Consider renaming <class '__main__.Attention'> to avoid naming conflicts when loading with `tf.keras.models.load_model`. If renaming is not possible, pass the object in the `custom_objects` parameter of the load function.\n",
            "WARNING:absl:<keras.layers.recurrent.LSTMCell object at 0x7fb44df31210> has the same name 'LSTMCell' as a built-in Keras object. Consider renaming <class 'keras.layers.recurrent.LSTMCell'> to avoid naming conflicts when loading with `tf.keras.models.load_model`. If renaming is not possible, pass the object in the `custom_objects` parameter of the load function.\n",
            "WARNING:absl:<keras.layers.recurrent.LSTMCell object at 0x7fb44df31cd0> has the same name 'LSTMCell' as a built-in Keras object. Consider renaming <class 'keras.layers.recurrent.LSTMCell'> to avoid naming conflicts when loading with `tf.keras.models.load_model`. If renaming is not possible, pass the object in the `custom_objects` parameter of the load function.\n"
          ]
        },
        {
          "output_type": "stream",
          "name": "stdout",
          "text": [
            "\b\b\b\b\b\b\b\b\b\b\b\b\b\b\b\b\b\b\b\b\b\b\b\b\b\b\b\b\b\b\b\b\b\b\b\b\b\b\b\b\b\b\b\b\b\b\b\b\b\b\b\b\b\b\b\b\b\b\b\b\b\b\b\b\b\b\b\r1629/1629 [==============================] - 2251s 1s/step - loss: 0.5083 - val_loss: 0.4741 - lr: 0.0050\n",
            "Epoch 5/12\n",
            "1629/1629 [==============================] - ETA: 0s - loss: 0.5004"
          ]
        },
        {
          "output_type": "stream",
          "name": "stderr",
          "text": [
            "WARNING:absl:Found untraced functions such as lstm_cell_4_layer_call_fn, lstm_cell_4_layer_call_and_return_conditional_losses, lstm_cell_5_layer_call_fn, lstm_cell_5_layer_call_and_return_conditional_losses, lstm_cell_4_layer_call_fn while saving (showing 5 of 20). These functions will not be directly callable after loading.\n"
          ]
        },
        {
          "output_type": "stream",
          "name": "stdout",
          "text": [
            "INFO:tensorflow:Assets written to: Model_General/assets\n"
          ]
        },
        {
          "output_type": "stream",
          "name": "stderr",
          "text": [
            "INFO:tensorflow:Assets written to: Model_General/assets\n",
            "WARNING:absl:<keras.layers.recurrent.LSTMCell object at 0x7fb44e3d3fd0> has the same name 'LSTMCell' as a built-in Keras object. Consider renaming <class 'keras.layers.recurrent.LSTMCell'> to avoid naming conflicts when loading with `tf.keras.models.load_model`. If renaming is not possible, pass the object in the `custom_objects` parameter of the load function.\n",
            "WARNING:absl:<keras.layers.recurrent.LSTMCell object at 0x7fb44e3c1d50> has the same name 'LSTMCell' as a built-in Keras object. Consider renaming <class 'keras.layers.recurrent.LSTMCell'> to avoid naming conflicts when loading with `tf.keras.models.load_model`. If renaming is not possible, pass the object in the `custom_objects` parameter of the load function.\n",
            "WARNING:absl:<__main__.Attention object at 0x7fb44e3dbfd0> has the same name 'Attention' as a built-in Keras object. Consider renaming <class '__main__.Attention'> to avoid naming conflicts when loading with `tf.keras.models.load_model`. If renaming is not possible, pass the object in the `custom_objects` parameter of the load function.\n",
            "WARNING:absl:<keras.layers.recurrent.LSTMCell object at 0x7fb44df31210> has the same name 'LSTMCell' as a built-in Keras object. Consider renaming <class 'keras.layers.recurrent.LSTMCell'> to avoid naming conflicts when loading with `tf.keras.models.load_model`. If renaming is not possible, pass the object in the `custom_objects` parameter of the load function.\n",
            "WARNING:absl:<keras.layers.recurrent.LSTMCell object at 0x7fb44df31cd0> has the same name 'LSTMCell' as a built-in Keras object. Consider renaming <class 'keras.layers.recurrent.LSTMCell'> to avoid naming conflicts when loading with `tf.keras.models.load_model`. If renaming is not possible, pass the object in the `custom_objects` parameter of the load function.\n"
          ]
        },
        {
          "output_type": "stream",
          "name": "stdout",
          "text": [
            "\b\b\b\b\b\b\b\b\b\b\b\b\b\b\b\b\b\b\b\b\b\b\b\b\b\b\b\b\b\b\b\b\b\b\b\b\b\b\b\b\b\b\b\b\b\b\b\b\b\b\b\b\b\b\b\b\b\b\b\b\b\b\b\b\b\b\b\r1629/1629 [==============================] - 2256s 1s/step - loss: 0.5004 - val_loss: 0.4709 - lr: 0.0050\n",
            "Epoch 6/12\n",
            "1629/1629 [==============================] - ETA: 0s - loss: 0.5157\n",
            "Epoch 00006: ReduceLROnPlateau reducing learning rate to 0.0024999999441206455.\n",
            "1629/1629 [==============================] - 2195s 1s/step - loss: 0.5157 - val_loss: 0.5596 - lr: 0.0050\n",
            "Epoch 7/12\n",
            "1629/1629 [==============================] - ETA: 0s - loss: 0.5389\n",
            "Epoch 00007: ReduceLROnPlateau reducing learning rate to 0.0012499999720603228.\n",
            "1629/1629 [==============================] - 2195s 1s/step - loss: 0.5389 - val_loss: 0.4900 - lr: 0.0025\n",
            "Epoch 8/12\n",
            "1629/1629 [==============================] - ETA: 0s - loss: 0.5109\n",
            "Epoch 00008: ReduceLROnPlateau reducing learning rate to 0.0006249999860301614.\n",
            "Restoring model weights from the end of the best epoch: 5.\n",
            "1629/1629 [==============================] - 2200s 1s/step - loss: 0.5109 - val_loss: 0.4799 - lr: 0.0012\n",
            "Epoch 00008: early stopping\n",
            "Model: \"attention__based__encoder__decoder_1\"\n",
            "_________________________________________________________________\n",
            " Layer (type)                Output Shape              Param #   \n",
            "=================================================================\n",
            " encoder_1 (Encoder)         multiple                  632296    \n",
            "                                                                 \n",
            " decoder_1 (Decoder)         multiple                  869244    \n",
            "                                                                 \n",
            "=================================================================\n",
            "Total params: 1,501,540\n",
            "Trainable params: 1,501,540\n",
            "Non-trainable params: 0\n",
            "_________________________________________________________________\n"
          ]
        }
      ]
    },
    {
      "cell_type": "code",
      "metadata": {
        "colab": {
          "base_uri": "https://localhost:8080/"
        },
        "id": "SOZNKqwCVa0t",
        "outputId": "4bd971bf-5367-412b-bdde-e2abb1124a20"
      },
      "source": [
        "# Save model \n",
        "model_general.save('/content/drive/MyDrive/KU/2021-2학기/자연어처리/models/model_general_chinese', save_format='tf')"
      ],
      "execution_count": null,
      "outputs": [
        {
          "output_type": "stream",
          "name": "stderr",
          "text": [
            "WARNING:absl:Found untraced functions such as lstm_cell_4_layer_call_fn, lstm_cell_4_layer_call_and_return_conditional_losses, lstm_cell_5_layer_call_fn, lstm_cell_5_layer_call_and_return_conditional_losses, lstm_cell_4_layer_call_fn while saving (showing 5 of 20). These functions will not be directly callable after loading.\n"
          ]
        },
        {
          "output_type": "stream",
          "name": "stdout",
          "text": [
            "INFO:tensorflow:Assets written to: /content/drive/MyDrive/KU/2021-2학기/자연어처리/models/model_general_chinese/assets\n"
          ]
        },
        {
          "output_type": "stream",
          "name": "stderr",
          "text": [
            "INFO:tensorflow:Assets written to: /content/drive/MyDrive/KU/2021-2학기/자연어처리/models/model_general_chinese/assets\n",
            "WARNING:absl:<keras.layers.recurrent.LSTMCell object at 0x7fb44e3d3fd0> has the same name 'LSTMCell' as a built-in Keras object. Consider renaming <class 'keras.layers.recurrent.LSTMCell'> to avoid naming conflicts when loading with `tf.keras.models.load_model`. If renaming is not possible, pass the object in the `custom_objects` parameter of the load function.\n",
            "WARNING:absl:<keras.layers.recurrent.LSTMCell object at 0x7fb44e3c1d50> has the same name 'LSTMCell' as a built-in Keras object. Consider renaming <class 'keras.layers.recurrent.LSTMCell'> to avoid naming conflicts when loading with `tf.keras.models.load_model`. If renaming is not possible, pass the object in the `custom_objects` parameter of the load function.\n",
            "WARNING:absl:<__main__.Attention object at 0x7fb44e3dbfd0> has the same name 'Attention' as a built-in Keras object. Consider renaming <class '__main__.Attention'> to avoid naming conflicts when loading with `tf.keras.models.load_model`. If renaming is not possible, pass the object in the `custom_objects` parameter of the load function.\n",
            "WARNING:absl:<keras.layers.recurrent.LSTMCell object at 0x7fb44df31210> has the same name 'LSTMCell' as a built-in Keras object. Consider renaming <class 'keras.layers.recurrent.LSTMCell'> to avoid naming conflicts when loading with `tf.keras.models.load_model`. If renaming is not possible, pass the object in the `custom_objects` parameter of the load function.\n",
            "WARNING:absl:<keras.layers.recurrent.LSTMCell object at 0x7fb44df31cd0> has the same name 'LSTMCell' as a built-in Keras object. Consider renaming <class 'keras.layers.recurrent.LSTMCell'> to avoid naming conflicts when loading with `tf.keras.models.load_model`. If renaming is not possible, pass the object in the `custom_objects` parameter of the load function.\n"
          ]
        }
      ]
    },
    {
      "cell_type": "code",
      "metadata": {
        "colab": {
          "base_uri": "https://localhost:8080/"
        },
        "id": "RWooI6xPlCdy",
        "outputId": "ed7cf94c-5307-4730-f014-88e18a86d0e5"
      },
      "source": [
        "# Calculate BLEU Score\n",
        "# Removing '<' and '>' tokens and postprocessing punctuations to make plain texts\n",
        "def rem(s):\n",
        "    if s.startswith('<'):\n",
        "        s = s[1:]\n",
        "    if s.endswith('>'):\n",
        "        s = s[:-1]\n",
        "    return s\n",
        "test['formal_pred'] = test['encoder_inp'].apply(rem)\n",
        "test['informal_pred'] = test['decoder_inp'].apply(rem)\n",
        "\n",
        "def predictor(s):\n",
        "    # Modifing predictor using general scoring function\n",
        "    result = predict_fn(s, model_general)\n",
        "    return result\n",
        "test['prediction'] = test['formal_pred'].apply(predictor)\n",
        "\n",
        "# Process inputs for BLEU score\n",
        "def convert_formals(s):\n",
        "    return [s.split()]\n",
        "def convert_predictions(s):\n",
        "    return s.split()\n",
        "\n",
        "test['informal_pred'] = test['informal_pred'].apply(convert_formals)\n",
        "test['prediction'] = test['prediction'].apply(convert_predictions)\n",
        "bleu_scores_gen = [sentence_bleu(test['informal_pred'].iloc[i], test['prediction'].iloc[i]) for i in range(len(test))]\n",
        "print(f\"Mean BLEU score of prediction(General): {np.mean(bleu_scores_gen)}\")"
      ],
      "execution_count": null,
      "outputs": [
        {
          "output_type": "stream",
          "name": "stdout",
          "text": [
            "Mean BLEU score of prediction(General): 0.30072507777971663\n"
          ]
        }
      ]
    },
    {
      "cell_type": "code",
      "metadata": {
        "colab": {
          "base_uri": "https://localhost:8080/"
        },
        "id": "loMSMgMrlP_0",
        "outputId": "168e3385-52a1-4417-9261-b3fec38cca55"
      },
      "source": [
        "# Prediction\n",
        "print(\"Formal Sentence: The study examined the health effects of passive smoking.\")\n",
        "print(f\"Informal Prediction: {predict_fn('The study examined the health effects of passive smoking.', model_general)}\")"
      ],
      "execution_count": null,
      "outputs": [
        {
          "output_type": "stream",
          "name": "stdout",
          "text": [
            "Formal Sentence: The study examined the health effects of passive smoking.\n",
            "Informal Prediction: they are a good songs and they are a good songs.\n"
          ]
        }
      ]
    },
    {
      "cell_type": "code",
      "metadata": {
        "colab": {
          "base_uri": "https://localhost:8080/"
        },
        "id": "zMyOc9IT4QHW",
        "outputId": "a895c67a-3f9a-48df-823f-c6ba8875b559"
      },
      "source": [
        "# Sorting the indices by blue scores\n",
        "scores = np.array(bleu_scores_gen)\n",
        "indices = np.argsort(scores)\n",
        "\n",
        "# Getting worst score indices\n",
        "worst = indices[:5]\n",
        "\n",
        "# Getting best score indices\n",
        "best = indices[-5:][::-1]\n",
        "\n",
        "print('Best Predictions:')\n",
        "print(\"-\"*50)\n",
        "for i in best:\n",
        "    print(f\"Formal Input : {test['formal_pred'].iloc[i]}\")\n",
        "    print(f\"Expected Output : {' '.join(test['informal_pred'].iloc[i][0])}\")\n",
        "    print(f\"Predicted Output : {' '.join(test['prediction'].iloc[i])}\")\n",
        "    print(f\"Bleu Score of Prediction : {scores[i]}\")\n",
        "    print(\"\\n\")\n",
        "print('='*100)\n",
        "\n",
        "print('Worst Predictions:')\n",
        "print(\"-\"*50)\n",
        "for i in worst:\n",
        "    print(f\"Formal Input : {test['formal_pred'].iloc[i]}\")\n",
        "    print(f\"Expected Output : {' '.join(test['informal_pred'].iloc[i][0])}\")\n",
        "    print(f\"Predicted Output : {' '.join(test['prediction'].iloc[i])}\")\n",
        "    print(f\"Bleu Score of Prediction : {scores[i]}\")\n",
        "    print(\"\\n\")"
      ],
      "execution_count": null,
      "outputs": [
        {
          "output_type": "stream",
          "name": "stdout",
          "text": [
            "Best Predictions:\n",
            "--------------------------------------------------\n",
            "Formal Input : It sounds like you both are comfortable with how things are now.\n",
            "Expected Output : It sounds like you are both comfortable with things just the way they are.\n",
            "Predicted Output : It sure the same things to think that you want to say that they are a good songs.\n",
            "Bleu Score of Prediction : 0.7598356856515925\n",
            "\n",
            "\n",
            "Formal Input : If you are dating the guy you love you need to get rid of your ex.\n",
            "Expected Output : get rid of the x if you are dating the guy you love right now.\n",
            "Predicted Output : If you like the same things to the best of them and they are a good songs.\n",
            "Bleu Score of Prediction : 0.7364279629037999\n",
            "\n",
            "\n",
            "Formal Input : How good of a president do you think he would be?\n",
            "Expected Output : and how good of a president do u think he would be?\n",
            "Predicted Output : he dont have to say the same things and they are a good songs.\n",
            "Bleu Score of Prediction : 0.7311104457090247\n",
            "\n",
            "\n",
            "Formal Input : She saw a blonde on the other side of the street.\n",
            "Expected Output : she saw a blonde on the other side.\n",
            "Predicted Output : she was the same things to they are a good songs.\n",
            "Bleu Score of Prediction : 0.7226568811456053\n",
            "\n",
            "\n",
            "Formal Input : She asked, 'Hey, how do you get to the other side?'.\n",
            "Expected Output : she asked, hey, how do you get to the other side?\n",
            "Predicted Output : she was the same things to they are a good songs.\n",
            "Bleu Score of Prediction : 0.7226568811456053\n",
            "\n",
            "\n",
            "====================================================================================================\n",
            "Worst Predictions:\n",
            "--------------------------------------------------\n",
            "Formal Input : I saw it just last week.\n",
            "Expected Output : I just saw it last week.\n",
            "Predicted Output : they are a good songs.\n",
            "Bleu Score of Prediction : 0.0\n",
            "\n",
            "\n",
            "Formal Input : Paris Hilton is not far behind.\n",
            "Expected Output : but paris hilton isn't far behind.\n",
            "Predicted Output : If you love him and they are a good songs.\n",
            "Bleu Score of Prediction : 0.0\n",
            "\n",
            "\n",
            "Formal Input : Simply discuss the subject with your spouse.\n",
            "Expected Output : Just Talk your spouse about this\n",
            "Predicted Output : the same things to the best of them a lot of things to they are a good songs.\n",
            "Bleu Score of Prediction : 0.0\n",
            "\n",
            "\n",
            "Formal Input : What is the reason for that style?\n",
            "Expected Output : Yeah, what's up with that do?\n",
            "Predicted Output : What is the same things to they are a good songs.\n",
            "Bleu Score of Prediction : 0.0\n",
            "\n",
            "\n",
            "Formal Input : What were you and dad doing there?\n",
            "Expected Output : WHAT WERE YOU AND DAD DOING?\n",
            "Predicted Output : What is the same things to they are a good songs.\n",
            "Bleu Score of Prediction : 0.0\n",
            "\n",
            "\n"
          ]
        }
      ]
    },
    {
      "cell_type": "code",
      "metadata": {
        "colab": {
          "base_uri": "https://localhost:8080/",
          "height": 327
        },
        "id": "iuY4lJx66jph",
        "outputId": "d05b83a5-1ed8-431d-827d-582b8bdac887"
      },
      "source": [
        "title_font = {'family': 'Dejavu Sans', 'color': 'black', 'weight': 'bold', 'size': 15}\n",
        "label_font = {'family': 'Dejavu Sans', 'weight': 'normal', 'size': 11}\n",
        "fig, ax = plt.subplots(1, 1)\n",
        "\n",
        "# plotting the distributions\n",
        "plot = sns.distplot(bleu_scores_gen, \n",
        "             hist = False, \n",
        "             kde = True, \n",
        "             kde_kws = {'shade': True, 'linewidth': 2}, \n",
        "             color = \"green\")\n",
        "\n",
        "# adding titles to the subplots\n",
        "plot.set_xlim(-0.3, 1)\n",
        "plot.set_title(\"Distribution of BLEU Scores (General)\", fontdict = title_font, pad = 20.0)\n",
        "plot.set_xlabel(\"BLEU Score\")\n",
        "plot.set_ylabel(\"Count\")"
      ],
      "execution_count": null,
      "outputs": [
        {
          "output_type": "execute_result",
          "data": {
            "text/plain": [
              "Text(0, 0.5, 'Count')"
            ]
          },
          "metadata": {},
          "execution_count": 36
        },
        {
          "output_type": "display_data",
          "data": {
            "image/png": "[encoded data removed]",
            "text/plain": [
              "<Figure size 432x288 with 1 Axes>"
            ]
          },
          "metadata": {
            "needs_background": "light"
          }
        }
      ]
    },
    {
      "cell_type": "markdown",
      "metadata": {
        "id": "vClLAzhTKOg8"
      },
      "source": [
        "### **6.4 Concatenate scoring function**"
      ]
    },
    {
      "cell_type": "code",
      "metadata": {
        "colab": {
          "base_uri": "https://localhost:8080/"
        },
        "id": "kN9GkPEtJ22T",
        "outputId": "a5085902-5f0a-421c-d6b6-48fa0832c159"
      },
      "source": [
        "# Defining model instance with 'concat' scoring function\n",
        "model_concat  = Attention_Based_Encoder_Decoder(input_length = MAX_LEN, \n",
        "                                             inp_vocab_size = vocab_size_formal,\n",
        "                                             out_vocab_size = vocab_size_informal, \n",
        "                                             lstm_size = UNITS,\n",
        "                                             scoring_function = 'concat', \n",
        "                                             batch_size = BATCH_SIZE,\n",
        "                                             embedding_dim = vocab_size_informal, \n",
        "                                             embedding_matrix = None)\n",
        "\n",
        "# Compiling the model using 'adam' optimizer and custom loss function\n",
        "optimizer = tf.keras.optimizers.Adam(0.01)\n",
        "model_concat.compile(optimizer = optimizer, loss = loss_function)\n",
        "\n",
        "# Creating callbacks to control model training\n",
        "learning_rate_cb = tf.keras.callbacks.ReduceLROnPlateau(monitor = 'val_loss', factor = 0.5, verbose = 1, patience = 1, min_lr = 0.0001)\n",
        "tensorboard_cb = create_tensorboard_cb(\"Model_Concat_logs\")\n",
        "stopper_cb = tf.keras.callbacks.EarlyStopping(monitor = 'val_loss', patience = 3, verbose = 1, restore_best_weights = True)\n",
        "checkpoint_cb = tf.keras.callbacks.ModelCheckpoint(\"Model_Concat\",\n",
        "                                                   save_best_only = True, \n",
        "                                                   save_weights_only = False)\n",
        "\n",
        "# Fitting the model on training data\n",
        "with tf.device('/device:GPU:0'): \n",
        "  model_concat.fit(train_dataloader, steps_per_epoch = TRAIN_STEPS, epochs = EPOCHS,\n",
        "                callbacks = [learning_rate_cb, tensorboard_cb, stopper_cb, checkpoint_cb],\n",
        "                validation_data = validation_dataloader, validation_steps = VALID_STEPS)\n",
        "  model_concat.summary()"
      ],
      "execution_count": null,
      "outputs": [
        {
          "output_type": "stream",
          "name": "stdout",
          "text": [
            "Epoch 1/12\n",
            "1629/1629 [==============================] - ETA: 0s - loss: 0.5796"
          ]
        },
        {
          "output_type": "stream",
          "name": "stderr",
          "text": [
            "WARNING:absl:Found untraced functions such as lstm_cell_layer_call_fn, lstm_cell_layer_call_and_return_conditional_losses, lstm_cell_1_layer_call_fn, lstm_cell_1_layer_call_and_return_conditional_losses, lstm_cell_layer_call_fn while saving (showing 5 of 20). These functions will not be directly callable after loading.\n"
          ]
        },
        {
          "output_type": "stream",
          "name": "stdout",
          "text": [
            "INFO:tensorflow:Assets written to: Model_Concat/assets\n"
          ]
        },
        {
          "output_type": "stream",
          "name": "stderr",
          "text": [
            "INFO:tensorflow:Assets written to: Model_Concat/assets\n",
            "WARNING:absl:<keras.layers.recurrent.LSTMCell object at 0x7fd7aa239dd0> has the same name 'LSTMCell' as a built-in Keras object. Consider renaming <class 'keras.layers.recurrent.LSTMCell'> to avoid naming conflicts when loading with `tf.keras.models.load_model`. If renaming is not possible, pass the object in the `custom_objects` parameter of the load function.\n",
            "WARNING:absl:<keras.layers.recurrent.LSTMCell object at 0x7fd7aa124b10> has the same name 'LSTMCell' as a built-in Keras object. Consider renaming <class 'keras.layers.recurrent.LSTMCell'> to avoid naming conflicts when loading with `tf.keras.models.load_model`. If renaming is not possible, pass the object in the `custom_objects` parameter of the load function.\n",
            "WARNING:absl:<__main__.Attention object at 0x7fd7a8ea9d90> has the same name 'Attention' as a built-in Keras object. Consider renaming <class '__main__.Attention'> to avoid naming conflicts when loading with `tf.keras.models.load_model`. If renaming is not possible, pass the object in the `custom_objects` parameter of the load function.\n",
            "WARNING:absl:<keras.layers.recurrent.LSTMCell object at 0x7fd7a8e56a10> has the same name 'LSTMCell' as a built-in Keras object. Consider renaming <class 'keras.layers.recurrent.LSTMCell'> to avoid naming conflicts when loading with `tf.keras.models.load_model`. If renaming is not possible, pass the object in the `custom_objects` parameter of the load function.\n",
            "WARNING:absl:<keras.layers.recurrent.LSTMCell object at 0x7fd7aa15b650> has the same name 'LSTMCell' as a built-in Keras object. Consider renaming <class 'keras.layers.recurrent.LSTMCell'> to avoid naming conflicts when loading with `tf.keras.models.load_model`. If renaming is not possible, pass the object in the `custom_objects` parameter of the load function.\n"
          ]
        },
        {
          "output_type": "stream",
          "name": "stdout",
          "text": [
            "\b\b\b\b\b\b\b\b\b\b\b\b\b\b\b\b\b\b\b\b\b\b\b\b\b\b\b\b\b\b\b\b\b\b\b\b\b\b\b\b\b\b\b\b\b\b\b\b\b\b\b\b\b\b\b\b\b\b\b\b\b\b\b\b\b\b\b\r1629/1629 [==============================] - 1888s 1s/step - loss: 0.5796 - val_loss: 0.4943 - lr: 0.0100\n",
            "Epoch 2/12\n",
            "1629/1629 [==============================] - ETA: 0s - loss: 0.5118"
          ]
        },
        {
          "output_type": "stream",
          "name": "stderr",
          "text": [
            "WARNING:absl:Found untraced functions such as lstm_cell_layer_call_fn, lstm_cell_layer_call_and_return_conditional_losses, lstm_cell_1_layer_call_fn, lstm_cell_1_layer_call_and_return_conditional_losses, lstm_cell_layer_call_fn while saving (showing 5 of 20). These functions will not be directly callable after loading.\n"
          ]
        },
        {
          "output_type": "stream",
          "name": "stdout",
          "text": [
            "INFO:tensorflow:Assets written to: Model_Concat/assets\n"
          ]
        },
        {
          "output_type": "stream",
          "name": "stderr",
          "text": [
            "INFO:tensorflow:Assets written to: Model_Concat/assets\n",
            "WARNING:absl:<keras.layers.recurrent.LSTMCell object at 0x7fd7aa239dd0> has the same name 'LSTMCell' as a built-in Keras object. Consider renaming <class 'keras.layers.recurrent.LSTMCell'> to avoid naming conflicts when loading with `tf.keras.models.load_model`. If renaming is not possible, pass the object in the `custom_objects` parameter of the load function.\n",
            "WARNING:absl:<keras.layers.recurrent.LSTMCell object at 0x7fd7aa124b10> has the same name 'LSTMCell' as a built-in Keras object. Consider renaming <class 'keras.layers.recurrent.LSTMCell'> to avoid naming conflicts when loading with `tf.keras.models.load_model`. If renaming is not possible, pass the object in the `custom_objects` parameter of the load function.\n",
            "WARNING:absl:<__main__.Attention object at 0x7fd7a8ea9d90> has the same name 'Attention' as a built-in Keras object. Consider renaming <class '__main__.Attention'> to avoid naming conflicts when loading with `tf.keras.models.load_model`. If renaming is not possible, pass the object in the `custom_objects` parameter of the load function.\n",
            "WARNING:absl:<keras.layers.recurrent.LSTMCell object at 0x7fd7a8e56a10> has the same name 'LSTMCell' as a built-in Keras object. Consider renaming <class 'keras.layers.recurrent.LSTMCell'> to avoid naming conflicts when loading with `tf.keras.models.load_model`. If renaming is not possible, pass the object in the `custom_objects` parameter of the load function.\n",
            "WARNING:absl:<keras.layers.recurrent.LSTMCell object at 0x7fd7aa15b650> has the same name 'LSTMCell' as a built-in Keras object. Consider renaming <class 'keras.layers.recurrent.LSTMCell'> to avoid naming conflicts when loading with `tf.keras.models.load_model`. If renaming is not possible, pass the object in the `custom_objects` parameter of the load function.\n"
          ]
        },
        {
          "output_type": "stream",
          "name": "stdout",
          "text": [
            "\b\b\b\b\b\b\b\b\b\b\b\b\b\b\b\b\b\b\b\b\b\b\b\b\b\b\b\b\b\b\b\b\b\b\b\b\b\b\b\b\b\b\b\b\b\b\b\b\b\b\b\b\b\b\b\b\b\b\b\b\b\b\b\b\b\b\b\r1629/1629 [==============================] - 1886s 1s/step - loss: 0.5118 - val_loss: 0.4798 - lr: 0.0100\n",
            "Epoch 3/12\n",
            "1629/1629 [==============================] - ETA: 0s - loss: 0.4847"
          ]
        },
        {
          "output_type": "stream",
          "name": "stderr",
          "text": [
            "WARNING:absl:Found untraced functions such as lstm_cell_layer_call_fn, lstm_cell_layer_call_and_return_conditional_losses, lstm_cell_1_layer_call_fn, lstm_cell_1_layer_call_and_return_conditional_losses, lstm_cell_layer_call_fn while saving (showing 5 of 20). These functions will not be directly callable after loading.\n"
          ]
        },
        {
          "output_type": "stream",
          "name": "stdout",
          "text": [
            "INFO:tensorflow:Assets written to: Model_Concat/assets\n"
          ]
        },
        {
          "output_type": "stream",
          "name": "stderr",
          "text": [
            "INFO:tensorflow:Assets written to: Model_Concat/assets\n",
            "WARNING:absl:<keras.layers.recurrent.LSTMCell object at 0x7fd7aa239dd0> has the same name 'LSTMCell' as a built-in Keras object. Consider renaming <class 'keras.layers.recurrent.LSTMCell'> to avoid naming conflicts when loading with `tf.keras.models.load_model`. If renaming is not possible, pass the object in the `custom_objects` parameter of the load function.\n",
            "WARNING:absl:<keras.layers.recurrent.LSTMCell object at 0x7fd7aa124b10> has the same name 'LSTMCell' as a built-in Keras object. Consider renaming <class 'keras.layers.recurrent.LSTMCell'> to avoid naming conflicts when loading with `tf.keras.models.load_model`. If renaming is not possible, pass the object in the `custom_objects` parameter of the load function.\n",
            "WARNING:absl:<__main__.Attention object at 0x7fd7a8ea9d90> has the same name 'Attention' as a built-in Keras object. Consider renaming <class '__main__.Attention'> to avoid naming conflicts when loading with `tf.keras.models.load_model`. If renaming is not possible, pass the object in the `custom_objects` parameter of the load function.\n",
            "WARNING:absl:<keras.layers.recurrent.LSTMCell object at 0x7fd7a8e56a10> has the same name 'LSTMCell' as a built-in Keras object. Consider renaming <class 'keras.layers.recurrent.LSTMCell'> to avoid naming conflicts when loading with `tf.keras.models.load_model`. If renaming is not possible, pass the object in the `custom_objects` parameter of the load function.\n",
            "WARNING:absl:<keras.layers.recurrent.LSTMCell object at 0x7fd7aa15b650> has the same name 'LSTMCell' as a built-in Keras object. Consider renaming <class 'keras.layers.recurrent.LSTMCell'> to avoid naming conflicts when loading with `tf.keras.models.load_model`. If renaming is not possible, pass the object in the `custom_objects` parameter of the load function.\n"
          ]
        },
        {
          "output_type": "stream",
          "name": "stdout",
          "text": [
            "\b\b\b\b\b\b\b\b\b\b\b\b\b\b\b\b\b\b\b\b\b\b\b\b\b\b\b\b\b\b\b\b\b\b\b\b\b\b\b\b\b\b\b\b\b\b\b\b\b\b\b\b\b\b\b\b\b\b\b\b\b\b\b\b\b\b\b\r1629/1629 [==============================] - 1884s 1s/step - loss: 0.4847 - val_loss: 0.4498 - lr: 0.0100\n",
            "Epoch 4/12\n",
            "1629/1629 [==============================] - ETA: 0s - loss: 0.6304\n",
            "Epoch 00004: ReduceLROnPlateau reducing learning rate to 0.004999999888241291.\n",
            "1629/1629 [==============================] - 1864s 1s/step - loss: 0.6304 - val_loss: 0.8053 - lr: 0.0100\n",
            "Epoch 5/12\n",
            "1629/1629 [==============================] - ETA: 0s - loss: 0.8406\n",
            "Epoch 00005: ReduceLROnPlateau reducing learning rate to 0.0024999999441206455.\n",
            "1629/1629 [==============================] - 1886s 1s/step - loss: 0.8406 - val_loss: 0.7805 - lr: 0.0050\n",
            "Epoch 6/12\n",
            "1629/1629 [==============================] - ETA: 0s - loss: 0.8248\n",
            "Epoch 00006: ReduceLROnPlateau reducing learning rate to 0.0012499999720603228.\n",
            "Restoring model weights from the end of the best epoch: 3.\n",
            "1629/1629 [==============================] - 1922s 1s/step - loss: 0.8248 - val_loss: 0.7725 - lr: 0.0025\n",
            "Epoch 00006: early stopping\n",
            "Model: \"attention__based__encoder__decoder\"\n",
            "_________________________________________________________________\n",
            " Layer (type)                Output Shape              Param #   \n",
            "=================================================================\n",
            " encoder (Encoder)           multiple                  632296    \n",
            "                                                                 \n",
            " decoder (Decoder)           multiple                  909645    \n",
            "                                                                 \n",
            "=================================================================\n",
            "Total params: 1,541,941\n",
            "Trainable params: 1,541,941\n",
            "Non-trainable params: 0\n",
            "_________________________________________________________________\n"
          ]
        }
      ]
    },
    {
      "cell_type": "code",
      "metadata": {
        "colab": {
          "base_uri": "https://localhost:8080/"
        },
        "id": "MgnAv1zZVdfO",
        "outputId": "1395f3ed-3dc7-4c6f-c0cd-6bb436ad3ea0"
      },
      "source": [
        "# Save model \n",
        "model_concat.save('/content/drive/MyDrive/KU/2021-2학기/자연어처리/models/model_concat_chinese', save_format='tf')"
      ],
      "execution_count": null,
      "outputs": [
        {
          "output_type": "stream",
          "name": "stderr",
          "text": [
            "WARNING:absl:Found untraced functions such as lstm_cell_layer_call_fn, lstm_cell_layer_call_and_return_conditional_losses, lstm_cell_1_layer_call_fn, lstm_cell_1_layer_call_and_return_conditional_losses, lstm_cell_layer_call_fn while saving (showing 5 of 20). These functions will not be directly callable after loading.\n"
          ]
        },
        {
          "output_type": "stream",
          "name": "stdout",
          "text": [
            "INFO:tensorflow:Assets written to: /content/drive/MyDrive/KU/2021-2학기/자연어처리/models/model_concat_chinese/assets\n"
          ]
        },
        {
          "output_type": "stream",
          "name": "stderr",
          "text": [
            "INFO:tensorflow:Assets written to: /content/drive/MyDrive/KU/2021-2학기/자연어처리/models/model_concat_chinese/assets\n",
            "WARNING:absl:<keras.layers.recurrent.LSTMCell object at 0x7fd7aa239dd0> has the same name 'LSTMCell' as a built-in Keras object. Consider renaming <class 'keras.layers.recurrent.LSTMCell'> to avoid naming conflicts when loading with `tf.keras.models.load_model`. If renaming is not possible, pass the object in the `custom_objects` parameter of the load function.\n",
            "WARNING:absl:<keras.layers.recurrent.LSTMCell object at 0x7fd7aa124b10> has the same name 'LSTMCell' as a built-in Keras object. Consider renaming <class 'keras.layers.recurrent.LSTMCell'> to avoid naming conflicts when loading with `tf.keras.models.load_model`. If renaming is not possible, pass the object in the `custom_objects` parameter of the load function.\n",
            "WARNING:absl:<__main__.Attention object at 0x7fd7a8ea9d90> has the same name 'Attention' as a built-in Keras object. Consider renaming <class '__main__.Attention'> to avoid naming conflicts when loading with `tf.keras.models.load_model`. If renaming is not possible, pass the object in the `custom_objects` parameter of the load function.\n",
            "WARNING:absl:<keras.layers.recurrent.LSTMCell object at 0x7fd7a8e56a10> has the same name 'LSTMCell' as a built-in Keras object. Consider renaming <class 'keras.layers.recurrent.LSTMCell'> to avoid naming conflicts when loading with `tf.keras.models.load_model`. If renaming is not possible, pass the object in the `custom_objects` parameter of the load function.\n",
            "WARNING:absl:<keras.layers.recurrent.LSTMCell object at 0x7fd7aa15b650> has the same name 'LSTMCell' as a built-in Keras object. Consider renaming <class 'keras.layers.recurrent.LSTMCell'> to avoid naming conflicts when loading with `tf.keras.models.load_model`. If renaming is not possible, pass the object in the `custom_objects` parameter of the load function.\n"
          ]
        }
      ]
    },
    {
      "cell_type": "code",
      "metadata": {
        "colab": {
          "base_uri": "https://localhost:8080/"
        },
        "id": "Ud0jrK1OnXKq",
        "outputId": "c2dc1b17-2bbf-469f-8c1f-53f02e3ca560"
      },
      "source": [
        "# Calculate BLEU Score\n",
        "# Removing '<' and '>' tokens and postprocessing punctuations to make plain texts\n",
        "def rem(s):\n",
        "    if s.startswith('<'):\n",
        "        s = s[1:]\n",
        "    if s.endswith('>'):\n",
        "        s = s[:-1]\n",
        "    return s\n",
        "test['formal_pred'] = test['encoder_inp'].apply(rem)\n",
        "test['informal_pred'] = test['decoder_inp'].apply(rem)\n",
        "\n",
        "def predictor(s):\n",
        "    # Modifing predictor using concat scoring function\n",
        "    result = predict_fn(s, model_concat)\n",
        "    return result\n",
        "test['prediction'] = test['formal_pred'].apply(predictor)\n",
        "\n",
        "# Process inputs for BLEU score\n",
        "def convert_formals(s):\n",
        "    return [s.split()]\n",
        "def convert_predictions(s):\n",
        "    return s.split()\n",
        "\n",
        "test['informal_pred'] = test['informal_pred'].apply(convert_formals)\n",
        "test['prediction'] = test['prediction'].apply(convert_predictions)\n",
        "bleu_scores_con = [sentence_bleu(test['informal_pred'].iloc[i], test['prediction'].iloc[i]) for i in range(len(test))]\n",
        "print(f\"Mean BLEU score of prediction(Concat): {np.mean(bleu_scores_con)}\")"
      ],
      "execution_count": null,
      "outputs": [
        {
          "output_type": "stream",
          "name": "stdout",
          "text": [
            "Mean BLEU score of prediction(Concat): 0.3128193183632838\n"
          ]
        }
      ]
    },
    {
      "cell_type": "code",
      "metadata": {
        "colab": {
          "base_uri": "https://localhost:8080/"
        },
        "id": "e4rYtxIRV-ra",
        "outputId": "8036e61f-750f-46ce-f4ca-0cbfb4fe6b78"
      },
      "source": [
        "# Prediction\n",
        "print(\"Formal Sentence: The study examined the health effects of passive smoking.\")\n",
        "print(f\"Informal Prediction: {predict_fn('The study examined the health effects of passive smoking.', model_concat)}\")"
      ],
      "execution_count": null,
      "outputs": [
        {
          "output_type": "stream",
          "name": "stdout",
          "text": [
            "Formal Sentence: The study examined the health effects of passive smoking.\n",
            "Informal Prediction: The stupid the hot stupid the hot say the hot.\n"
          ]
        }
      ]
    },
    {
      "cell_type": "code",
      "metadata": {
        "colab": {
          "base_uri": "https://localhost:8080/"
        },
        "id": "fYw6r3Wk7krA",
        "outputId": "f6a3ef0f-a254-4a82-e47f-8bfca38e2fac"
      },
      "source": [
        "# Sorting the indices by blue scores\n",
        "scores = np.array(bleu_scores_con)\n",
        "indices = np.argsort(scores)\n",
        "\n",
        "# Getting worst score indices\n",
        "worst = indices[:5]\n",
        "\n",
        "# Getting best score indices\n",
        "best = indices[-5:][::-1]\n",
        "\n",
        "print('Best Predictions:')\n",
        "print(\"-\"*50)\n",
        "for i in best:\n",
        "    print(f\"Formal Input : {test['formal_pred'].iloc[i]}\")\n",
        "    print(f\"Expected Output : {' '.join(test['informal_pred'].iloc[i][0])}\")\n",
        "    print(f\"Predicted Output : {' '.join(test['prediction'].iloc[i])}\")\n",
        "    print(f\"Bleu Score of Prediction : {scores[i]}\")\n",
        "    print(\"\\n\")\n",
        "print('='*100)\n",
        "\n",
        "print('Worst Predictions:')\n",
        "print(\"-\"*50)\n",
        "for i in worst:\n",
        "    print(f\"Formal Input : {test['formal_pred'].iloc[i]}\")\n",
        "    print(f\"Expected Output : {' '.join(test['informal_pred'].iloc[i][0])}\")\n",
        "    print(f\"Predicted Output : {' '.join(test['prediction'].iloc[i])}\")\n",
        "    print(f\"Bleu Score of Prediction : {scores[i]}\")\n",
        "    print(\"\\n\")"
      ],
      "execution_count": null,
      "outputs": [
        {
          "output_type": "stream",
          "name": "stdout",
          "text": [
            "Best Predictions:\n",
            "--------------------------------------------------\n",
            "Formal Input : Try to use your brain and not your manhood, maybe she does not love you.\n",
            "Expected Output : my be she don't love you but try to use your brean not your haerd\n",
            "Predicted Output : yeah your braid to u don't you then not love your boy the possible and not love you.\n",
            "Bleu Score of Prediction : 0.7896895367562644\n",
            "\n",
            "\n",
            "Formal Input : I wonder if it could ever be the same after that.\n",
            "Expected Output : could it ever be the same...\n",
            "Predicted Output : if it could every that way.\n",
            "Bleu Score of Prediction : 0.7598356856515925\n",
            "\n",
            "\n",
            "Formal Input : She calls him often.\n",
            "Expected Output : she calls him all the time.\n",
            "Predicted Output : She called him of the guy.\n",
            "Bleu Score of Prediction : 0.7598356856515925\n",
            "\n",
            "\n",
            "Formal Input : I have never attended it.\n",
            "Expected Output : i have never been to it\n",
            "Predicted Output : i don't never always the person.\n",
            "Bleu Score of Prediction : 0.7598356856515925\n",
            "\n",
            "\n",
            "Formal Input : Ask him if he would like to dance with you.\n",
            "Expected Output : and ask if he wants to dance with you.\n",
            "Predicted Output : yes he wanted to do it with you and love to don't make the way you want you.\n",
            "Bleu Score of Prediction : 0.7259795291154771\n",
            "\n",
            "\n",
            "====================================================================================================\n",
            "Worst Predictions:\n",
            "--------------------------------------------------\n",
            "Formal Input : Kevin...I'm not exactly an 'American Idol' viewer.\n",
            "Expected Output : KEVIN n nfnhfnigbubjbni.....I dunt really watch American Idol..........\n",
            "Predicted Output : the person is in not every person i don't even i would be a good luck\n",
            "Bleu Score of Prediction : 0.0\n",
            "\n",
            "\n",
            "Formal Input : I like the song 'Don't You Cry Tonight' by Guns 'n' Roses.\n",
            "Expected Output : Don't you cry tonight by Guns 'n' Roses\n",
            "Predicted Output : Song in the song the song the song ton the song ton the song ton the song ton the song ton the song ton the song ton the song ton the song ton the son\n",
            "Bleu Score of Prediction : 0.0\n",
            "\n",
            "\n",
            "Formal Input : He wants to continue.\n",
            "Expected Output : Of course HE wants to go on.\n",
            "Predicted Output : then the best person.\n",
            "Bleu Score of Prediction : 0.0\n",
            "\n",
            "\n",
            "Formal Input : Younger men and older women, good idea or not?\n",
            "Expected Output : should i or shouldn't i. younger guy vs older woman\n",
            "Predicted Output : You don't know it women are not the guy.\n",
            "Bleu Score of Prediction : 0.0\n",
            "\n",
            "\n",
            "Formal Input : Your mother sometimes needs things to be explicitly spelled out for her.\n",
            "Expected Output : Yo mama's so stupid, her shoes say TGIF- toes go in front.\n",
            "Predicted Output : it would be mother something things then do it to be a good one everyone else everyone else everyone else everyone else everyone else everyone else ev\n",
            "Bleu Score of Prediction : 0.0\n",
            "\n",
            "\n"
          ]
        }
      ]
    },
    {
      "cell_type": "code",
      "metadata": {
        "id": "GZuql8N6G18N",
        "colab": {
          "base_uri": "https://localhost:8080/",
          "height": 327
        },
        "outputId": "a0c62ccf-b0b1-4947-9214-1f9639006a64"
      },
      "source": [
        "title_font = {'family': 'Dejavu Sans', 'color': 'black', 'weight': 'bold', 'size': 15}\n",
        "label_font = {'family': 'Dejavu Sans', 'weight': 'normal', 'size': 11}\n",
        "fig, ax = plt.subplots(1, 1)\n",
        "\n",
        "# plotting the distributions\n",
        "plot = sns.distplot(bleu_scores_con, \n",
        "             hist = False, \n",
        "             kde = True, \n",
        "             kde_kws = {'shade': True, 'linewidth': 2}, \n",
        "             color = \"green\")\n",
        "\n",
        "# adding titles to the subplots\n",
        "plot.set_xlim(-0.3, 1)\n",
        "plot.set_title(\"Distribution of BLEU Scores (Concat)\", fontdict = title_font, pad = 20.0)\n",
        "plot.set_xlabel(\"BLEU Score\")\n",
        "plot.set_ylabel(\"Count\")"
      ],
      "execution_count": null,
      "outputs": [
        {
          "output_type": "execute_result",
          "data": {
            "text/plain": [
              "Text(0, 0.5, 'Count')"
            ]
          },
          "metadata": {},
          "execution_count": 29
        },
        {
          "output_type": "display_data",
          "data": {
            "image/png": "[encoded data removed]",
            "text/plain": [
              "<Figure size 432x288 with 1 Axes>"
            ]
          },
          "metadata": {
            "needs_background": "light"
          }
        }
      ]
    }
  ]
}